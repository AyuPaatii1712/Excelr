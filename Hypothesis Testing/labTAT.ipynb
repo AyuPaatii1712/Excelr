{
 "cells": [
  {
   "cell_type": "code",
   "execution_count": 1,
   "id": "184a7efa",
   "metadata": {},
   "outputs": [],
   "source": [
    "import pandas as pd\n",
    "import numpy as np\n",
    "from scipy.stats import f_oneway"
   ]
  },
  {
   "cell_type": "markdown",
   "id": "f3932524",
   "metadata": {},
   "source": [
    "## Assumptions"
   ]
  },
  {
   "cell_type": "markdown",
   "id": "0f5184e9",
   "metadata": {},
   "source": [
    "#### Ho = 'TAT is same foe all Laboratories'                                \n",
    "#### Ha = 'TAT is different for one or more Laboratories'"
   ]
  },
  {
   "cell_type": "markdown",
   "id": "6a5b8064",
   "metadata": {},
   "source": [
    "#### alpha-value = 0.05"
   ]
  },
  {
   "cell_type": "code",
   "execution_count": 2,
   "id": "7cc8d7eb",
   "metadata": {},
   "outputs": [],
   "source": [
    "Lab1 = pd.read_csv('labTAT.csv' , usecols = ['Laboratory 1'] , squeeze = True)\n",
    "Lab2 = pd.read_csv('labTAT.csv' , usecols = ['Laboratory 2'] , squeeze = True)\n",
    "Lab3 = pd.read_csv('labTAT.csv' , usecols = ['Laboratory 3'] , squeeze = True)\n",
    "Lab4 = pd.read_csv('labTAT.csv' , usecols = ['Laboratory 4'] , squeeze = True)"
   ]
  },
  {
   "cell_type": "code",
   "execution_count": 3,
   "id": "bdce42cb",
   "metadata": {},
   "outputs": [
    {
     "data": {
      "text/plain": [
       "(0    185.35\n",
       " 1    170.49\n",
       " 2    192.77\n",
       " 3    177.33\n",
       " 4    193.41\n",
       " Name: Laboratory 1, dtype: float64,\n",
       " 0    165.53\n",
       " 1    185.91\n",
       " 2    194.92\n",
       " 3    183.00\n",
       " 4    169.57\n",
       " Name: Laboratory 2, dtype: float64,\n",
       " 0    176.70\n",
       " 1    198.45\n",
       " 2    201.23\n",
       " 3    199.61\n",
       " 4    204.63\n",
       " Name: Laboratory 3, dtype: float64,\n",
       " 0    166.13\n",
       " 1    160.79\n",
       " 2    185.18\n",
       " 3    176.42\n",
       " 4    152.60\n",
       " Name: Laboratory 4, dtype: float64)"
      ]
     },
     "execution_count": 3,
     "metadata": {},
     "output_type": "execute_result"
    }
   ],
   "source": [
    "Lab1.head() , Lab2.head() , Lab3.head() , Lab4.head()"
   ]
  },
  {
   "cell_type": "markdown",
   "id": "ed65f4cc",
   "metadata": {},
   "source": [
    "#### In this example I am performing ANOVA test with two tail test."
   ]
  },
  {
   "cell_type": "code",
   "execution_count": 4,
   "id": "09006eb3",
   "metadata": {},
   "outputs": [],
   "source": [
    "test=f_oneway(Lab1 , Lab2 , Lab3 , Lab4)"
   ]
  },
  {
   "cell_type": "code",
   "execution_count": 5,
   "id": "4e185fb2",
   "metadata": {},
   "outputs": [
    {
     "data": {
      "text/plain": [
       "2.1156708949992414e-57"
      ]
     },
     "execution_count": 5,
     "metadata": {},
     "output_type": "execute_result"
    }
   ],
   "source": [
    "p_value = test[1]\n",
    "p_value"
   ]
  },
  {
   "cell_type": "markdown",
   "id": "3a13fb71",
   "metadata": {},
   "source": [
    "#### As we can see that p-value is less than the alpha-value. Therefore we 'Reject Ho'."
   ]
  },
  {
   "cell_type": "markdown",
   "id": "cf087694",
   "metadata": {},
   "source": [
    "## Conclusion"
   ]
  },
  {
   "cell_type": "markdown",
   "id": "ba641183",
   "metadata": {},
   "source": [
    "#### The Turn Around Time is different for one or more Laboratories"
   ]
  },
  {
   "cell_type": "code",
   "execution_count": null,
   "id": "b4ecc607",
   "metadata": {},
   "outputs": [],
   "source": []
  }
 ],
 "metadata": {
  "kernelspec": {
   "display_name": "Python 3 (ipykernel)",
   "language": "python",
   "name": "python3"
  },
  "language_info": {
   "codemirror_mode": {
    "name": "ipython",
    "version": 3
   },
   "file_extension": ".py",
   "mimetype": "text/x-python",
   "name": "python",
   "nbconvert_exporter": "python",
   "pygments_lexer": "ipython3",
   "version": "3.9.7"
  }
 },
 "nbformat": 4,
 "nbformat_minor": 5
}
