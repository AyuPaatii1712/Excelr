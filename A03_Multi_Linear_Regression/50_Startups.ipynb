{
 "cells": [
  {
   "cell_type": "code",
   "execution_count": 1,
   "id": "f9f603b3",
   "metadata": {},
   "outputs": [],
   "source": [
    "import pandas as pd\n",
    "import numpy as np\n",
    "import matplotlib.pyplot as plt\n",
    "import seaborn as sns"
   ]
  },
  {
   "cell_type": "markdown",
   "id": "1cbfcd23",
   "metadata": {},
   "source": [
    "## Load the Data"
   ]
  },
  {
   "cell_type": "code",
   "execution_count": 2,
   "id": "fd2380e9",
   "metadata": {},
   "outputs": [
    {
     "data": {
      "text/html": [
       "<div>\n",
       "<style scoped>\n",
       "    .dataframe tbody tr th:only-of-type {\n",
       "        vertical-align: middle;\n",
       "    }\n",
       "\n",
       "    .dataframe tbody tr th {\n",
       "        vertical-align: top;\n",
       "    }\n",
       "\n",
       "    .dataframe thead th {\n",
       "        text-align: right;\n",
       "    }\n",
       "</style>\n",
       "<table border=\"1\" class=\"dataframe\">\n",
       "  <thead>\n",
       "    <tr style=\"text-align: right;\">\n",
       "      <th></th>\n",
       "      <th>R&amp;D Spend</th>\n",
       "      <th>Administration</th>\n",
       "      <th>Marketing Spend</th>\n",
       "      <th>State</th>\n",
       "      <th>Profit</th>\n",
       "    </tr>\n",
       "  </thead>\n",
       "  <tbody>\n",
       "    <tr>\n",
       "      <th>0</th>\n",
       "      <td>165349.20</td>\n",
       "      <td>136897.80</td>\n",
       "      <td>471784.10</td>\n",
       "      <td>New York</td>\n",
       "      <td>192261.83</td>\n",
       "    </tr>\n",
       "    <tr>\n",
       "      <th>1</th>\n",
       "      <td>162597.70</td>\n",
       "      <td>151377.59</td>\n",
       "      <td>443898.53</td>\n",
       "      <td>California</td>\n",
       "      <td>191792.06</td>\n",
       "    </tr>\n",
       "    <tr>\n",
       "      <th>2</th>\n",
       "      <td>153441.51</td>\n",
       "      <td>101145.55</td>\n",
       "      <td>407934.54</td>\n",
       "      <td>Florida</td>\n",
       "      <td>191050.39</td>\n",
       "    </tr>\n",
       "    <tr>\n",
       "      <th>3</th>\n",
       "      <td>144372.41</td>\n",
       "      <td>118671.85</td>\n",
       "      <td>383199.62</td>\n",
       "      <td>New York</td>\n",
       "      <td>182901.99</td>\n",
       "    </tr>\n",
       "    <tr>\n",
       "      <th>4</th>\n",
       "      <td>142107.34</td>\n",
       "      <td>91391.77</td>\n",
       "      <td>366168.42</td>\n",
       "      <td>Florida</td>\n",
       "      <td>166187.94</td>\n",
       "    </tr>\n",
       "  </tbody>\n",
       "</table>\n",
       "</div>"
      ],
      "text/plain": [
       "   R&D Spend  Administration  Marketing Spend       State     Profit\n",
       "0  165349.20       136897.80        471784.10    New York  192261.83\n",
       "1  162597.70       151377.59        443898.53  California  191792.06\n",
       "2  153441.51       101145.55        407934.54     Florida  191050.39\n",
       "3  144372.41       118671.85        383199.62    New York  182901.99\n",
       "4  142107.34        91391.77        366168.42     Florida  166187.94"
      ]
     },
     "execution_count": 2,
     "metadata": {},
     "output_type": "execute_result"
    }
   ],
   "source": [
    "data = pd.read_csv('50_Startups.csv')\n",
    "data.head()"
   ]
  },
  {
   "cell_type": "code",
   "execution_count": 3,
   "id": "b209f780",
   "metadata": {},
   "outputs": [],
   "source": [
    "r_square_value = pd.DataFrame(columns = ['Model' , 'R_Square_value' , 'AIC'])"
   ]
  },
  {
   "cell_type": "markdown",
   "id": "42351e53",
   "metadata": {},
   "source": [
    "## EDA"
   ]
  },
  {
   "cell_type": "code",
   "execution_count": 4,
   "id": "535f0baa",
   "metadata": {},
   "outputs": [
    {
     "data": {
      "text/plain": [
       "(50, 5)"
      ]
     },
     "execution_count": 4,
     "metadata": {},
     "output_type": "execute_result"
    }
   ],
   "source": [
    "data.shape"
   ]
  },
  {
   "cell_type": "code",
   "execution_count": 5,
   "id": "807d8b39",
   "metadata": {},
   "outputs": [
    {
     "name": "stdout",
     "output_type": "stream",
     "text": [
      "<class 'pandas.core.frame.DataFrame'>\n",
      "RangeIndex: 50 entries, 0 to 49\n",
      "Data columns (total 5 columns):\n",
      " #   Column           Non-Null Count  Dtype  \n",
      "---  ------           --------------  -----  \n",
      " 0   R&D Spend        50 non-null     float64\n",
      " 1   Administration   50 non-null     float64\n",
      " 2   Marketing Spend  50 non-null     float64\n",
      " 3   State            50 non-null     object \n",
      " 4   Profit           50 non-null     float64\n",
      "dtypes: float64(4), object(1)\n",
      "memory usage: 2.1+ KB\n"
     ]
    }
   ],
   "source": [
    "data.info()"
   ]
  },
  {
   "cell_type": "markdown",
   "id": "45550bc3",
   "metadata": {},
   "source": [
    "+ No Null points are present \n",
    "+ All data types are correct\n",
    "+ There is one column contain Categorical values so we have to convert it first to numeric"
   ]
  },
  {
   "cell_type": "code",
   "execution_count": 6,
   "id": "5f57536d",
   "metadata": {},
   "outputs": [
    {
     "data": {
      "text/html": [
       "<div>\n",
       "<style scoped>\n",
       "    .dataframe tbody tr th:only-of-type {\n",
       "        vertical-align: middle;\n",
       "    }\n",
       "\n",
       "    .dataframe tbody tr th {\n",
       "        vertical-align: top;\n",
       "    }\n",
       "\n",
       "    .dataframe thead th {\n",
       "        text-align: right;\n",
       "    }\n",
       "</style>\n",
       "<table border=\"1\" class=\"dataframe\">\n",
       "  <thead>\n",
       "    <tr style=\"text-align: right;\">\n",
       "      <th></th>\n",
       "      <th>R&amp;D Spend</th>\n",
       "      <th>Administration</th>\n",
       "      <th>Marketing Spend</th>\n",
       "      <th>State</th>\n",
       "      <th>Profit</th>\n",
       "    </tr>\n",
       "  </thead>\n",
       "  <tbody>\n",
       "  </tbody>\n",
       "</table>\n",
       "</div>"
      ],
      "text/plain": [
       "Empty DataFrame\n",
       "Columns: [R&D Spend, Administration, Marketing Spend, State, Profit]\n",
       "Index: []"
      ]
     },
     "execution_count": 6,
     "metadata": {},
     "output_type": "execute_result"
    }
   ],
   "source": [
    "#Checking for duplicate values\n",
    "data[data.duplicated()]"
   ]
  },
  {
   "cell_type": "markdown",
   "id": "a8e29049",
   "metadata": {},
   "source": [
    "+ No Duplicate values are present"
   ]
  },
  {
   "cell_type": "code",
   "execution_count": 7,
   "id": "007c2b35",
   "metadata": {},
   "outputs": [
    {
     "data": {
      "text/html": [
       "<div>\n",
       "<style scoped>\n",
       "    .dataframe tbody tr th:only-of-type {\n",
       "        vertical-align: middle;\n",
       "    }\n",
       "\n",
       "    .dataframe tbody tr th {\n",
       "        vertical-align: top;\n",
       "    }\n",
       "\n",
       "    .dataframe thead th {\n",
       "        text-align: right;\n",
       "    }\n",
       "</style>\n",
       "<table border=\"1\" class=\"dataframe\">\n",
       "  <thead>\n",
       "    <tr style=\"text-align: right;\">\n",
       "      <th></th>\n",
       "      <th>R&amp;D Spend</th>\n",
       "      <th>Administration</th>\n",
       "      <th>Marketing Spend</th>\n",
       "      <th>State</th>\n",
       "      <th>Profit</th>\n",
       "    </tr>\n",
       "  </thead>\n",
       "  <tbody>\n",
       "    <tr>\n",
       "      <th>0</th>\n",
       "      <td>165349.20</td>\n",
       "      <td>136897.80</td>\n",
       "      <td>471784.10</td>\n",
       "      <td>New York</td>\n",
       "      <td>192261.83</td>\n",
       "    </tr>\n",
       "    <tr>\n",
       "      <th>1</th>\n",
       "      <td>162597.70</td>\n",
       "      <td>151377.59</td>\n",
       "      <td>443898.53</td>\n",
       "      <td>California</td>\n",
       "      <td>191792.06</td>\n",
       "    </tr>\n",
       "    <tr>\n",
       "      <th>2</th>\n",
       "      <td>153441.51</td>\n",
       "      <td>101145.55</td>\n",
       "      <td>407934.54</td>\n",
       "      <td>Florida</td>\n",
       "      <td>191050.39</td>\n",
       "    </tr>\n",
       "    <tr>\n",
       "      <th>3</th>\n",
       "      <td>144372.41</td>\n",
       "      <td>118671.85</td>\n",
       "      <td>383199.62</td>\n",
       "      <td>New York</td>\n",
       "      <td>182901.99</td>\n",
       "    </tr>\n",
       "    <tr>\n",
       "      <th>4</th>\n",
       "      <td>142107.34</td>\n",
       "      <td>91391.77</td>\n",
       "      <td>366168.42</td>\n",
       "      <td>Florida</td>\n",
       "      <td>166187.94</td>\n",
       "    </tr>\n",
       "  </tbody>\n",
       "</table>\n",
       "</div>"
      ],
      "text/plain": [
       "   R&D Spend  Administration  Marketing Spend       State     Profit\n",
       "0  165349.20       136897.80        471784.10    New York  192261.83\n",
       "1  162597.70       151377.59        443898.53  California  191792.06\n",
       "2  153441.51       101145.55        407934.54     Florida  191050.39\n",
       "3  144372.41       118671.85        383199.62    New York  182901.99\n",
       "4  142107.34        91391.77        366168.42     Florida  166187.94"
      ]
     },
     "execution_count": 7,
     "metadata": {},
     "output_type": "execute_result"
    }
   ],
   "source": [
    "# Copy the data\n",
    "data1 = data.copy()\n",
    "data1.head()"
   ]
  },
  {
   "cell_type": "code",
   "execution_count": 8,
   "id": "e129886d",
   "metadata": {},
   "outputs": [
    {
     "data": {
      "text/html": [
       "<div>\n",
       "<style scoped>\n",
       "    .dataframe tbody tr th:only-of-type {\n",
       "        vertical-align: middle;\n",
       "    }\n",
       "\n",
       "    .dataframe tbody tr th {\n",
       "        vertical-align: top;\n",
       "    }\n",
       "\n",
       "    .dataframe thead th {\n",
       "        text-align: right;\n",
       "    }\n",
       "</style>\n",
       "<table border=\"1\" class=\"dataframe\">\n",
       "  <thead>\n",
       "    <tr style=\"text-align: right;\">\n",
       "      <th></th>\n",
       "      <th>R&amp;D Spend</th>\n",
       "      <th>Administration</th>\n",
       "      <th>Marketing Spend</th>\n",
       "      <th>State</th>\n",
       "      <th>Profit</th>\n",
       "    </tr>\n",
       "  </thead>\n",
       "  <tbody>\n",
       "    <tr>\n",
       "      <th>0</th>\n",
       "      <td>165349.20</td>\n",
       "      <td>136897.80</td>\n",
       "      <td>471784.10</td>\n",
       "      <td>2</td>\n",
       "      <td>192261.83</td>\n",
       "    </tr>\n",
       "    <tr>\n",
       "      <th>1</th>\n",
       "      <td>162597.70</td>\n",
       "      <td>151377.59</td>\n",
       "      <td>443898.53</td>\n",
       "      <td>0</td>\n",
       "      <td>191792.06</td>\n",
       "    </tr>\n",
       "    <tr>\n",
       "      <th>2</th>\n",
       "      <td>153441.51</td>\n",
       "      <td>101145.55</td>\n",
       "      <td>407934.54</td>\n",
       "      <td>1</td>\n",
       "      <td>191050.39</td>\n",
       "    </tr>\n",
       "    <tr>\n",
       "      <th>3</th>\n",
       "      <td>144372.41</td>\n",
       "      <td>118671.85</td>\n",
       "      <td>383199.62</td>\n",
       "      <td>2</td>\n",
       "      <td>182901.99</td>\n",
       "    </tr>\n",
       "    <tr>\n",
       "      <th>4</th>\n",
       "      <td>142107.34</td>\n",
       "      <td>91391.77</td>\n",
       "      <td>366168.42</td>\n",
       "      <td>1</td>\n",
       "      <td>166187.94</td>\n",
       "    </tr>\n",
       "  </tbody>\n",
       "</table>\n",
       "</div>"
      ],
      "text/plain": [
       "   R&D Spend  Administration  Marketing Spend  State     Profit\n",
       "0  165349.20       136897.80        471784.10      2  192261.83\n",
       "1  162597.70       151377.59        443898.53      0  191792.06\n",
       "2  153441.51       101145.55        407934.54      1  191050.39\n",
       "3  144372.41       118671.85        383199.62      2  182901.99\n",
       "4  142107.34        91391.77        366168.42      1  166187.94"
      ]
     },
     "execution_count": 8,
     "metadata": {},
     "output_type": "execute_result"
    }
   ],
   "source": [
    "#Converting Categorical values to numeric by Label Encoder\n",
    "from sklearn.preprocessing import LabelEncoder\n",
    "le = LabelEncoder()\n",
    "label = le.fit_transform(data['State'])\n",
    "data1['State'] = label\n",
    "data1.head()"
   ]
  },
  {
   "cell_type": "code",
   "execution_count": 9,
   "id": "4de86792",
   "metadata": {},
   "outputs": [
    {
     "data": {
      "text/plain": [
       "array(['California', 'Florida', 'New York'], dtype=object)"
      ]
     },
     "execution_count": 9,
     "metadata": {},
     "output_type": "execute_result"
    }
   ],
   "source": [
    "label_class = le.classes_\n",
    "label_class"
   ]
  },
  {
   "cell_type": "code",
   "execution_count": 10,
   "id": "740ce892",
   "metadata": {},
   "outputs": [
    {
     "data": {
      "text/html": [
       "<div>\n",
       "<style scoped>\n",
       "    .dataframe tbody tr th:only-of-type {\n",
       "        vertical-align: middle;\n",
       "    }\n",
       "\n",
       "    .dataframe tbody tr th {\n",
       "        vertical-align: top;\n",
       "    }\n",
       "\n",
       "    .dataframe thead th {\n",
       "        text-align: right;\n",
       "    }\n",
       "</style>\n",
       "<table border=\"1\" class=\"dataframe\">\n",
       "  <thead>\n",
       "    <tr style=\"text-align: right;\">\n",
       "      <th></th>\n",
       "      <th>R&amp;D Spend</th>\n",
       "      <th>Administration</th>\n",
       "      <th>Marketing Spend</th>\n",
       "      <th>State</th>\n",
       "      <th>Profit</th>\n",
       "    </tr>\n",
       "  </thead>\n",
       "  <tbody>\n",
       "    <tr>\n",
       "      <th>R&amp;D Spend</th>\n",
       "      <td>1.000000</td>\n",
       "      <td>0.241955</td>\n",
       "      <td>0.724248</td>\n",
       "      <td>0.104685</td>\n",
       "      <td>0.972900</td>\n",
       "    </tr>\n",
       "    <tr>\n",
       "      <th>Administration</th>\n",
       "      <td>0.241955</td>\n",
       "      <td>1.000000</td>\n",
       "      <td>-0.032154</td>\n",
       "      <td>0.011847</td>\n",
       "      <td>0.200717</td>\n",
       "    </tr>\n",
       "    <tr>\n",
       "      <th>Marketing Spend</th>\n",
       "      <td>0.724248</td>\n",
       "      <td>-0.032154</td>\n",
       "      <td>1.000000</td>\n",
       "      <td>0.077670</td>\n",
       "      <td>0.747766</td>\n",
       "    </tr>\n",
       "    <tr>\n",
       "      <th>State</th>\n",
       "      <td>0.104685</td>\n",
       "      <td>0.011847</td>\n",
       "      <td>0.077670</td>\n",
       "      <td>1.000000</td>\n",
       "      <td>0.101796</td>\n",
       "    </tr>\n",
       "    <tr>\n",
       "      <th>Profit</th>\n",
       "      <td>0.972900</td>\n",
       "      <td>0.200717</td>\n",
       "      <td>0.747766</td>\n",
       "      <td>0.101796</td>\n",
       "      <td>1.000000</td>\n",
       "    </tr>\n",
       "  </tbody>\n",
       "</table>\n",
       "</div>"
      ],
      "text/plain": [
       "                 R&D Spend  Administration  Marketing Spend     State  \\\n",
       "R&D Spend         1.000000        0.241955         0.724248  0.104685   \n",
       "Administration    0.241955        1.000000        -0.032154  0.011847   \n",
       "Marketing Spend   0.724248       -0.032154         1.000000  0.077670   \n",
       "State             0.104685        0.011847         0.077670  1.000000   \n",
       "Profit            0.972900        0.200717         0.747766  0.101796   \n",
       "\n",
       "                   Profit  \n",
       "R&D Spend        0.972900  \n",
       "Administration   0.200717  \n",
       "Marketing Spend  0.747766  \n",
       "State            0.101796  \n",
       "Profit           1.000000  "
      ]
     },
     "execution_count": 10,
     "metadata": {},
     "output_type": "execute_result"
    }
   ],
   "source": [
    "# Correlation Matrix\n",
    "data1.corr()"
   ]
  },
  {
   "cell_type": "code",
   "execution_count": 11,
   "id": "7b211cab",
   "metadata": {},
   "outputs": [
    {
     "data": {
      "text/plain": [
       "<seaborn.axisgrid.PairGrid at 0x2243eb71fd0>"
      ]
     },
     "execution_count": 11,
     "metadata": {},
     "output_type": "execute_result"
    },
    {
     "data": {
      "image/png": "[encoded data removed]",
      "text/plain": [
       "<Figure size 900x900 with 30 Axes>"
      ]
     },
     "metadata": {},
     "output_type": "display_data"
    }
   ],
   "source": [
    "# Pair plot\n",
    "sns.set_style(style = 'darkgrid')\n",
    "sns.pairplot(data1)"
   ]
  },
  {
   "cell_type": "markdown",
   "id": "5c35b714",
   "metadata": {},
   "source": [
    "+ From the plot and correlation matrix we have observed that there is less correlation between profit and Administration\n",
    "+ And there is good correlation between R&D Spend and Marketing Spend \n",
    "+ The above two correlation is not benificial for our Model So we have to focus on that.\n"
   ]
  },
  {
   "cell_type": "code",
   "execution_count": 12,
   "id": "9dc373b9",
   "metadata": {},
   "outputs": [],
   "source": [
    "#Rename the column\n",
    "data2 = data1.rename({'R&D Spend':'Research_Spend' , 'Marketing Spend':'Market_Spend'} , axis = 1)"
   ]
  },
  {
   "cell_type": "markdown",
   "id": "227ab441",
   "metadata": {},
   "source": [
    "## Build 1st Model"
   ]
  },
  {
   "cell_type": "code",
   "execution_count": 13,
   "id": "36145a75",
   "metadata": {},
   "outputs": [
    {
     "data": {
      "text/html": [
       "<div>\n",
       "<style scoped>\n",
       "    .dataframe tbody tr th:only-of-type {\n",
       "        vertical-align: middle;\n",
       "    }\n",
       "\n",
       "    .dataframe tbody tr th {\n",
       "        vertical-align: top;\n",
       "    }\n",
       "\n",
       "    .dataframe thead th {\n",
       "        text-align: right;\n",
       "    }\n",
       "</style>\n",
       "<table border=\"1\" class=\"dataframe\">\n",
       "  <thead>\n",
       "    <tr style=\"text-align: right;\">\n",
       "      <th></th>\n",
       "      <th>Research_Spend</th>\n",
       "      <th>Administration</th>\n",
       "      <th>Market_Spend</th>\n",
       "      <th>State</th>\n",
       "      <th>Profit</th>\n",
       "    </tr>\n",
       "  </thead>\n",
       "  <tbody>\n",
       "    <tr>\n",
       "      <th>0</th>\n",
       "      <td>165349.20</td>\n",
       "      <td>136897.80</td>\n",
       "      <td>471784.10</td>\n",
       "      <td>2</td>\n",
       "      <td>192261.83</td>\n",
       "    </tr>\n",
       "    <tr>\n",
       "      <th>1</th>\n",
       "      <td>162597.70</td>\n",
       "      <td>151377.59</td>\n",
       "      <td>443898.53</td>\n",
       "      <td>0</td>\n",
       "      <td>191792.06</td>\n",
       "    </tr>\n",
       "    <tr>\n",
       "      <th>2</th>\n",
       "      <td>153441.51</td>\n",
       "      <td>101145.55</td>\n",
       "      <td>407934.54</td>\n",
       "      <td>1</td>\n",
       "      <td>191050.39</td>\n",
       "    </tr>\n",
       "    <tr>\n",
       "      <th>3</th>\n",
       "      <td>144372.41</td>\n",
       "      <td>118671.85</td>\n",
       "      <td>383199.62</td>\n",
       "      <td>2</td>\n",
       "      <td>182901.99</td>\n",
       "    </tr>\n",
       "    <tr>\n",
       "      <th>4</th>\n",
       "      <td>142107.34</td>\n",
       "      <td>91391.77</td>\n",
       "      <td>366168.42</td>\n",
       "      <td>1</td>\n",
       "      <td>166187.94</td>\n",
       "    </tr>\n",
       "  </tbody>\n",
       "</table>\n",
       "</div>"
      ],
      "text/plain": [
       "   Research_Spend  Administration  Market_Spend  State     Profit\n",
       "0       165349.20       136897.80     471784.10      2  192261.83\n",
       "1       162597.70       151377.59     443898.53      0  191792.06\n",
       "2       153441.51       101145.55     407934.54      1  191050.39\n",
       "3       144372.41       118671.85     383199.62      2  182901.99\n",
       "4       142107.34        91391.77     366168.42      1  166187.94"
      ]
     },
     "execution_count": 13,
     "metadata": {},
     "output_type": "execute_result"
    }
   ],
   "source": [
    "data2.head()"
   ]
  },
  {
   "cell_type": "code",
   "execution_count": 14,
   "id": "7adbc6d3",
   "metadata": {},
   "outputs": [],
   "source": [
    "import statsmodels.formula.api as smf\n",
    "\n",
    "model0 = smf.ols('Profit ~ Research_Spend+Administration+Market_Spend+State', data = data2).fit()\n"
   ]
  },
  {
   "cell_type": "code",
   "execution_count": 15,
   "id": "aee4e5ff",
   "metadata": {},
   "outputs": [
    {
     "data": {
      "text/html": [
       "<table class=\"simpletable\">\n",
       "<caption>OLS Regression Results</caption>\n",
       "<tr>\n",
       "  <th>Dep. Variable:</th>         <td>Profit</td>      <th>  R-squared:         </th> <td>   0.951</td>\n",
       "</tr>\n",
       "<tr>\n",
       "  <th>Model:</th>                   <td>OLS</td>       <th>  Adj. R-squared:    </th> <td>   0.946</td>\n",
       "</tr>\n",
       "<tr>\n",
       "  <th>Method:</th>             <td>Least Squares</td>  <th>  F-statistic:       </th> <td>   217.2</td>\n",
       "</tr>\n",
       "<tr>\n",
       "  <th>Date:</th>             <td>Tue, 07 Jun 2022</td> <th>  Prob (F-statistic):</th> <td>8.51e-29</td>\n",
       "</tr>\n",
       "<tr>\n",
       "  <th>Time:</th>                 <td>15:17:44</td>     <th>  Log-Likelihood:    </th> <td> -525.39</td>\n",
       "</tr>\n",
       "<tr>\n",
       "  <th>No. Observations:</th>      <td>    50</td>      <th>  AIC:               </th> <td>   1061.</td>\n",
       "</tr>\n",
       "<tr>\n",
       "  <th>Df Residuals:</th>          <td>    45</td>      <th>  BIC:               </th> <td>   1070.</td>\n",
       "</tr>\n",
       "<tr>\n",
       "  <th>Df Model:</th>              <td>     4</td>      <th>                     </th>     <td> </td>   \n",
       "</tr>\n",
       "<tr>\n",
       "  <th>Covariance Type:</th>      <td>nonrobust</td>    <th>                     </th>     <td> </td>   \n",
       "</tr>\n",
       "</table>\n",
       "<table class=\"simpletable\">\n",
       "<tr>\n",
       "         <td></td>           <th>coef</th>     <th>std err</th>      <th>t</th>      <th>P>|t|</th>  <th>[0.025</th>    <th>0.975]</th>  \n",
       "</tr>\n",
       "<tr>\n",
       "  <th>Intercept</th>      <td> 5.014e+04</td> <td> 6804.555</td> <td>    7.369</td> <td> 0.000</td> <td> 3.64e+04</td> <td> 6.38e+04</td>\n",
       "</tr>\n",
       "<tr>\n",
       "  <th>Research_Spend</th> <td>    0.8058</td> <td>    0.046</td> <td>   17.609</td> <td> 0.000</td> <td>    0.714</td> <td>    0.898</td>\n",
       "</tr>\n",
       "<tr>\n",
       "  <th>Administration</th> <td>   -0.0268</td> <td>    0.052</td> <td>   -0.520</td> <td> 0.606</td> <td>   -0.131</td> <td>    0.077</td>\n",
       "</tr>\n",
       "<tr>\n",
       "  <th>Market_Spend</th>   <td>    0.0272</td> <td>    0.017</td> <td>    1.637</td> <td> 0.109</td> <td>   -0.006</td> <td>    0.061</td>\n",
       "</tr>\n",
       "<tr>\n",
       "  <th>State</th>          <td>  -22.3206</td> <td> 1609.829</td> <td>   -0.014</td> <td> 0.989</td> <td>-3264.682</td> <td> 3220.041</td>\n",
       "</tr>\n",
       "</table>\n",
       "<table class=\"simpletable\">\n",
       "<tr>\n",
       "  <th>Omnibus:</th>       <td>14.864</td> <th>  Durbin-Watson:     </th> <td>   1.282</td>\n",
       "</tr>\n",
       "<tr>\n",
       "  <th>Prob(Omnibus):</th> <td> 0.001</td> <th>  Jarque-Bera (JB):  </th> <td>  21.542</td>\n",
       "</tr>\n",
       "<tr>\n",
       "  <th>Skew:</th>          <td>-0.949</td> <th>  Prob(JB):          </th> <td>2.10e-05</td>\n",
       "</tr>\n",
       "<tr>\n",
       "  <th>Kurtosis:</th>      <td> 5.596</td> <th>  Cond. No.          </th> <td>1.44e+06</td>\n",
       "</tr>\n",
       "</table><br/><br/>Notes:<br/>[1] Standard Errors assume that the covariance matrix of the errors is correctly specified.<br/>[2] The condition number is large, 1.44e+06. This might indicate that there are<br/>strong multicollinearity or other numerical problems."
      ],
      "text/plain": [
       "<class 'statsmodels.iolib.summary.Summary'>\n",
       "\"\"\"\n",
       "                            OLS Regression Results                            \n",
       "==============================================================================\n",
       "Dep. Variable:                 Profit   R-squared:                       0.951\n",
       "Model:                            OLS   Adj. R-squared:                  0.946\n",
       "Method:                 Least Squares   F-statistic:                     217.2\n",
       "Date:                Tue, 07 Jun 2022   Prob (F-statistic):           8.51e-29\n",
       "Time:                        15:17:44   Log-Likelihood:                -525.39\n",
       "No. Observations:                  50   AIC:                             1061.\n",
       "Df Residuals:                      45   BIC:                             1070.\n",
       "Df Model:                           4                                         \n",
       "Covariance Type:            nonrobust                                         \n",
       "==================================================================================\n",
       "                     coef    std err          t      P>|t|      [0.025      0.975]\n",
       "----------------------------------------------------------------------------------\n",
       "Intercept       5.014e+04   6804.555      7.369      0.000    3.64e+04    6.38e+04\n",
       "Research_Spend     0.8058      0.046     17.609      0.000       0.714       0.898\n",
       "Administration    -0.0268      0.052     -0.520      0.606      -0.131       0.077\n",
       "Market_Spend       0.0272      0.017      1.637      0.109      -0.006       0.061\n",
       "State            -22.3206   1609.829     -0.014      0.989   -3264.682    3220.041\n",
       "==============================================================================\n",
       "Omnibus:                       14.864   Durbin-Watson:                   1.282\n",
       "Prob(Omnibus):                  0.001   Jarque-Bera (JB):               21.542\n",
       "Skew:                          -0.949   Prob(JB):                     2.10e-05\n",
       "Kurtosis:                       5.596   Cond. No.                     1.44e+06\n",
       "==============================================================================\n",
       "\n",
       "Notes:\n",
       "[1] Standard Errors assume that the covariance matrix of the errors is correctly specified.\n",
       "[2] The condition number is large, 1.44e+06. This might indicate that there are\n",
       "strong multicollinearity or other numerical problems.\n",
       "\"\"\""
      ]
     },
     "execution_count": 15,
     "metadata": {},
     "output_type": "execute_result"
    }
   ],
   "source": [
    "#Model Summary\n",
    "model0.summary()"
   ]
  },
  {
   "cell_type": "code",
   "execution_count": 16,
   "id": "0f836cf5",
   "metadata": {},
   "outputs": [],
   "source": [
    "dt = {'Model': ['Model0'] , 'R_Square_value':[model0.rsquared] , 'AIC':[model0.aic]}\n",
    "r_square_value = pd.DataFrame(dt)"
   ]
  },
  {
   "cell_type": "code",
   "execution_count": 17,
   "id": "635c040d",
   "metadata": {},
   "outputs": [
    {
     "data": {
      "text/html": [
       "<div>\n",
       "<style scoped>\n",
       "    .dataframe tbody tr th:only-of-type {\n",
       "        vertical-align: middle;\n",
       "    }\n",
       "\n",
       "    .dataframe tbody tr th {\n",
       "        vertical-align: top;\n",
       "    }\n",
       "\n",
       "    .dataframe thead th {\n",
       "        text-align: right;\n",
       "    }\n",
       "</style>\n",
       "<table border=\"1\" class=\"dataframe\">\n",
       "  <thead>\n",
       "    <tr style=\"text-align: right;\">\n",
       "      <th></th>\n",
       "      <th>Model</th>\n",
       "      <th>R_Square_value</th>\n",
       "      <th>AIC</th>\n",
       "    </tr>\n",
       "  </thead>\n",
       "  <tbody>\n",
       "    <tr>\n",
       "      <th>0</th>\n",
       "      <td>Model0</td>\n",
       "      <td>0.950746</td>\n",
       "      <td>1060.771285</td>\n",
       "    </tr>\n",
       "  </tbody>\n",
       "</table>\n",
       "</div>"
      ],
      "text/plain": [
       "    Model  R_Square_value          AIC\n",
       "0  Model0        0.950746  1060.771285"
      ]
     },
     "execution_count": 17,
     "metadata": {},
     "output_type": "execute_result"
    }
   ],
   "source": [
    "r_square_value"
   ]
  },
  {
   "cell_type": "code",
   "execution_count": 18,
   "id": "32852c67",
   "metadata": {},
   "outputs": [],
   "source": [
    "#r_square_value.loc[1] = ['model' , 0.97 , 1000]"
   ]
  },
  {
   "cell_type": "code",
   "execution_count": 19,
   "id": "771105ff",
   "metadata": {},
   "outputs": [
    {
     "data": {
      "text/html": [
       "<div>\n",
       "<style scoped>\n",
       "    .dataframe tbody tr th:only-of-type {\n",
       "        vertical-align: middle;\n",
       "    }\n",
       "\n",
       "    .dataframe tbody tr th {\n",
       "        vertical-align: top;\n",
       "    }\n",
       "\n",
       "    .dataframe thead th {\n",
       "        text-align: right;\n",
       "    }\n",
       "</style>\n",
       "<table border=\"1\" class=\"dataframe\">\n",
       "  <thead>\n",
       "    <tr style=\"text-align: right;\">\n",
       "      <th></th>\n",
       "      <th>Research_Spend</th>\n",
       "      <th>Administration</th>\n",
       "      <th>Market_Spend</th>\n",
       "      <th>State</th>\n",
       "      <th>Profit</th>\n",
       "    </tr>\n",
       "  </thead>\n",
       "  <tbody>\n",
       "    <tr>\n",
       "      <th>0</th>\n",
       "      <td>165349.20</td>\n",
       "      <td>136897.80</td>\n",
       "      <td>471784.10</td>\n",
       "      <td>2</td>\n",
       "      <td>192261.83</td>\n",
       "    </tr>\n",
       "    <tr>\n",
       "      <th>1</th>\n",
       "      <td>162597.70</td>\n",
       "      <td>151377.59</td>\n",
       "      <td>443898.53</td>\n",
       "      <td>0</td>\n",
       "      <td>191792.06</td>\n",
       "    </tr>\n",
       "    <tr>\n",
       "      <th>2</th>\n",
       "      <td>153441.51</td>\n",
       "      <td>101145.55</td>\n",
       "      <td>407934.54</td>\n",
       "      <td>1</td>\n",
       "      <td>191050.39</td>\n",
       "    </tr>\n",
       "    <tr>\n",
       "      <th>3</th>\n",
       "      <td>144372.41</td>\n",
       "      <td>118671.85</td>\n",
       "      <td>383199.62</td>\n",
       "      <td>2</td>\n",
       "      <td>182901.99</td>\n",
       "    </tr>\n",
       "    <tr>\n",
       "      <th>4</th>\n",
       "      <td>142107.34</td>\n",
       "      <td>91391.77</td>\n",
       "      <td>366168.42</td>\n",
       "      <td>1</td>\n",
       "      <td>166187.94</td>\n",
       "    </tr>\n",
       "  </tbody>\n",
       "</table>\n",
       "</div>"
      ],
      "text/plain": [
       "   Research_Spend  Administration  Market_Spend  State     Profit\n",
       "0       165349.20       136897.80     471784.10      2  192261.83\n",
       "1       162597.70       151377.59     443898.53      0  191792.06\n",
       "2       153441.51       101145.55     407934.54      1  191050.39\n",
       "3       144372.41       118671.85     383199.62      2  182901.99\n",
       "4       142107.34        91391.77     366168.42      1  166187.94"
      ]
     },
     "execution_count": 19,
     "metadata": {},
     "output_type": "execute_result"
    }
   ],
   "source": [
    "data2.head()"
   ]
  },
  {
   "cell_type": "markdown",
   "id": "43d72e41",
   "metadata": {},
   "source": [
    "### SLR Model only for State and Administration and checking for Market_Spend"
   ]
  },
  {
   "cell_type": "code",
   "execution_count": 20,
   "id": "27f8edc0",
   "metadata": {},
   "outputs": [
    {
     "data": {
      "text/html": [
       "<table class=\"simpletable\">\n",
       "<caption>OLS Regression Results</caption>\n",
       "<tr>\n",
       "  <th>Dep. Variable:</th>         <td>Profit</td>      <th>  R-squared:         </th> <td>   0.040</td>\n",
       "</tr>\n",
       "<tr>\n",
       "  <th>Model:</th>                   <td>OLS</td>       <th>  Adj. R-squared:    </th> <td>   0.020</td>\n",
       "</tr>\n",
       "<tr>\n",
       "  <th>Method:</th>             <td>Least Squares</td>  <th>  F-statistic:       </th> <td>   2.015</td>\n",
       "</tr>\n",
       "<tr>\n",
       "  <th>Date:</th>             <td>Tue, 07 Jun 2022</td> <th>  Prob (F-statistic):</th>  <td> 0.162</td> \n",
       "</tr>\n",
       "<tr>\n",
       "  <th>Time:</th>                 <td>15:17:44</td>     <th>  Log-Likelihood:    </th> <td> -599.63</td>\n",
       "</tr>\n",
       "<tr>\n",
       "  <th>No. Observations:</th>      <td>    50</td>      <th>  AIC:               </th> <td>   1203.</td>\n",
       "</tr>\n",
       "<tr>\n",
       "  <th>Df Residuals:</th>          <td>    48</td>      <th>  BIC:               </th> <td>   1207.</td>\n",
       "</tr>\n",
       "<tr>\n",
       "  <th>Df Model:</th>              <td>     1</td>      <th>                     </th>     <td> </td>   \n",
       "</tr>\n",
       "<tr>\n",
       "  <th>Covariance Type:</th>      <td>nonrobust</td>    <th>                     </th>     <td> </td>   \n",
       "</tr>\n",
       "</table>\n",
       "<table class=\"simpletable\">\n",
       "<tr>\n",
       "         <td></td>           <th>coef</th>     <th>std err</th>      <th>t</th>      <th>P>|t|</th>  <th>[0.025</th>    <th>0.975]</th>  \n",
       "</tr>\n",
       "<tr>\n",
       "  <th>Intercept</th>      <td> 7.697e+04</td> <td> 2.53e+04</td> <td>    3.040</td> <td> 0.004</td> <td> 2.61e+04</td> <td> 1.28e+05</td>\n",
       "</tr>\n",
       "<tr>\n",
       "  <th>Administration</th> <td>    0.2887</td> <td>    0.203</td> <td>    1.419</td> <td> 0.162</td> <td>   -0.120</td> <td>    0.698</td>\n",
       "</tr>\n",
       "</table>\n",
       "<table class=\"simpletable\">\n",
       "<tr>\n",
       "  <th>Omnibus:</th>       <td> 0.126</td> <th>  Durbin-Watson:     </th> <td>   0.099</td>\n",
       "</tr>\n",
       "<tr>\n",
       "  <th>Prob(Omnibus):</th> <td> 0.939</td> <th>  Jarque-Bera (JB):  </th> <td>   0.110</td>\n",
       "</tr>\n",
       "<tr>\n",
       "  <th>Skew:</th>          <td> 0.093</td> <th>  Prob(JB):          </th> <td>   0.947</td>\n",
       "</tr>\n",
       "<tr>\n",
       "  <th>Kurtosis:</th>      <td> 2.866</td> <th>  Cond. No.          </th> <td>5.59e+05</td>\n",
       "</tr>\n",
       "</table><br/><br/>Notes:<br/>[1] Standard Errors assume that the covariance matrix of the errors is correctly specified.<br/>[2] The condition number is large, 5.59e+05. This might indicate that there are<br/>strong multicollinearity or other numerical problems."
      ],
      "text/plain": [
       "<class 'statsmodels.iolib.summary.Summary'>\n",
       "\"\"\"\n",
       "                            OLS Regression Results                            \n",
       "==============================================================================\n",
       "Dep. Variable:                 Profit   R-squared:                       0.040\n",
       "Model:                            OLS   Adj. R-squared:                  0.020\n",
       "Method:                 Least Squares   F-statistic:                     2.015\n",
       "Date:                Tue, 07 Jun 2022   Prob (F-statistic):              0.162\n",
       "Time:                        15:17:44   Log-Likelihood:                -599.63\n",
       "No. Observations:                  50   AIC:                             1203.\n",
       "Df Residuals:                      48   BIC:                             1207.\n",
       "Df Model:                           1                                         \n",
       "Covariance Type:            nonrobust                                         \n",
       "==================================================================================\n",
       "                     coef    std err          t      P>|t|      [0.025      0.975]\n",
       "----------------------------------------------------------------------------------\n",
       "Intercept       7.697e+04   2.53e+04      3.040      0.004    2.61e+04    1.28e+05\n",
       "Administration     0.2887      0.203      1.419      0.162      -0.120       0.698\n",
       "==============================================================================\n",
       "Omnibus:                        0.126   Durbin-Watson:                   0.099\n",
       "Prob(Omnibus):                  0.939   Jarque-Bera (JB):                0.110\n",
       "Skew:                           0.093   Prob(JB):                        0.947\n",
       "Kurtosis:                       2.866   Cond. No.                     5.59e+05\n",
       "==============================================================================\n",
       "\n",
       "Notes:\n",
       "[1] Standard Errors assume that the covariance matrix of the errors is correctly specified.\n",
       "[2] The condition number is large, 5.59e+05. This might indicate that there are\n",
       "strong multicollinearity or other numerical problems.\n",
       "\"\"\""
      ]
     },
     "execution_count": 20,
     "metadata": {},
     "output_type": "execute_result"
    }
   ],
   "source": [
    "ml_Ad = smf.ols('Profit~Administration' , data = data2).fit()\n",
    "ml_Ad.summary()"
   ]
  },
  {
   "cell_type": "code",
   "execution_count": 21,
   "id": "f5f0bc7e",
   "metadata": {},
   "outputs": [
    {
     "data": {
      "text/html": [
       "<table class=\"simpletable\">\n",
       "<caption>OLS Regression Results</caption>\n",
       "<tr>\n",
       "  <th>Dep. Variable:</th>         <td>Profit</td>      <th>  R-squared:         </th> <td>   0.010</td>\n",
       "</tr>\n",
       "<tr>\n",
       "  <th>Model:</th>                   <td>OLS</td>       <th>  Adj. R-squared:    </th> <td>  -0.010</td>\n",
       "</tr>\n",
       "<tr>\n",
       "  <th>Method:</th>             <td>Least Squares</td>  <th>  F-statistic:       </th> <td>  0.5026</td>\n",
       "</tr>\n",
       "<tr>\n",
       "  <th>Date:</th>             <td>Tue, 07 Jun 2022</td> <th>  Prob (F-statistic):</th>  <td> 0.482</td> \n",
       "</tr>\n",
       "<tr>\n",
       "  <th>Time:</th>                 <td>15:17:44</td>     <th>  Log-Likelihood:    </th> <td> -600.39</td>\n",
       "</tr>\n",
       "<tr>\n",
       "  <th>No. Observations:</th>      <td>    50</td>      <th>  AIC:               </th> <td>   1205.</td>\n",
       "</tr>\n",
       "<tr>\n",
       "  <th>Df Residuals:</th>          <td>    48</td>      <th>  BIC:               </th> <td>   1209.</td>\n",
       "</tr>\n",
       "<tr>\n",
       "  <th>Df Model:</th>              <td>     1</td>      <th>                     </th>     <td> </td>   \n",
       "</tr>\n",
       "<tr>\n",
       "  <th>Covariance Type:</th>      <td>nonrobust</td>    <th>                     </th>     <td> </td>   \n",
       "</tr>\n",
       "</table>\n",
       "<table class=\"simpletable\">\n",
       "<tr>\n",
       "      <td></td>         <th>coef</th>     <th>std err</th>      <th>t</th>      <th>P>|t|</th>  <th>[0.025</th>    <th>0.975]</th>  \n",
       "</tr>\n",
       "<tr>\n",
       "  <th>Intercept</th> <td> 1.071e+05</td> <td> 9005.386</td> <td>   11.891</td> <td> 0.000</td> <td>  8.9e+04</td> <td> 1.25e+05</td>\n",
       "</tr>\n",
       "<tr>\n",
       "  <th>State</th>     <td> 4925.6356</td> <td> 6947.806</td> <td>    0.709</td> <td> 0.482</td> <td>-9043.865</td> <td> 1.89e+04</td>\n",
       "</tr>\n",
       "</table>\n",
       "<table class=\"simpletable\">\n",
       "<tr>\n",
       "  <th>Omnibus:</th>       <td> 0.023</td> <th>  Durbin-Watson:     </th> <td>   0.045</td>\n",
       "</tr>\n",
       "<tr>\n",
       "  <th>Prob(Omnibus):</th> <td> 0.989</td> <th>  Jarque-Bera (JB):  </th> <td>   0.134</td>\n",
       "</tr>\n",
       "<tr>\n",
       "  <th>Skew:</th>          <td> 0.047</td> <th>  Prob(JB):          </th> <td>   0.935</td>\n",
       "</tr>\n",
       "<tr>\n",
       "  <th>Kurtosis:</th>      <td> 2.765</td> <th>  Cond. No.          </th> <td>    2.91</td>\n",
       "</tr>\n",
       "</table><br/><br/>Notes:<br/>[1] Standard Errors assume that the covariance matrix of the errors is correctly specified."
      ],
      "text/plain": [
       "<class 'statsmodels.iolib.summary.Summary'>\n",
       "\"\"\"\n",
       "                            OLS Regression Results                            \n",
       "==============================================================================\n",
       "Dep. Variable:                 Profit   R-squared:                       0.010\n",
       "Model:                            OLS   Adj. R-squared:                 -0.010\n",
       "Method:                 Least Squares   F-statistic:                    0.5026\n",
       "Date:                Tue, 07 Jun 2022   Prob (F-statistic):              0.482\n",
       "Time:                        15:17:44   Log-Likelihood:                -600.39\n",
       "No. Observations:                  50   AIC:                             1205.\n",
       "Df Residuals:                      48   BIC:                             1209.\n",
       "Df Model:                           1                                         \n",
       "Covariance Type:            nonrobust                                         \n",
       "==============================================================================\n",
       "                 coef    std err          t      P>|t|      [0.025      0.975]\n",
       "------------------------------------------------------------------------------\n",
       "Intercept   1.071e+05   9005.386     11.891      0.000     8.9e+04    1.25e+05\n",
       "State       4925.6356   6947.806      0.709      0.482   -9043.865    1.89e+04\n",
       "==============================================================================\n",
       "Omnibus:                        0.023   Durbin-Watson:                   0.045\n",
       "Prob(Omnibus):                  0.989   Jarque-Bera (JB):                0.134\n",
       "Skew:                           0.047   Prob(JB):                        0.935\n",
       "Kurtosis:                       2.765   Cond. No.                         2.91\n",
       "==============================================================================\n",
       "\n",
       "Notes:\n",
       "[1] Standard Errors assume that the covariance matrix of the errors is correctly specified.\n",
       "\"\"\""
      ]
     },
     "execution_count": 21,
     "metadata": {},
     "output_type": "execute_result"
    }
   ],
   "source": [
    "ml_St = smf.ols('Profit~State' , data = data2).fit()\n",
    "ml_St.summary()"
   ]
  },
  {
   "cell_type": "markdown",
   "id": "d33f32c2",
   "metadata": {},
   "source": [
    "+ As we can see that the R-Square value of Above model is very less(i.e. 0.04 for Model(Profit-Administration) and 0.01 for Model(Profit-State).\n",
    "+ So it is one reason to drop this two column"
   ]
  },
  {
   "cell_type": "code",
   "execution_count": 22,
   "id": "3578ac42",
   "metadata": {},
   "outputs": [
    {
     "data": {
      "text/html": [
       "<table class=\"simpletable\">\n",
       "<caption>OLS Regression Results</caption>\n",
       "<tr>\n",
       "  <th>Dep. Variable:</th>         <td>Profit</td>      <th>  R-squared:         </th> <td>   0.559</td>\n",
       "</tr>\n",
       "<tr>\n",
       "  <th>Model:</th>                   <td>OLS</td>       <th>  Adj. R-squared:    </th> <td>   0.550</td>\n",
       "</tr>\n",
       "<tr>\n",
       "  <th>Method:</th>             <td>Least Squares</td>  <th>  F-statistic:       </th> <td>   60.88</td>\n",
       "</tr>\n",
       "<tr>\n",
       "  <th>Date:</th>             <td>Tue, 07 Jun 2022</td> <th>  Prob (F-statistic):</th> <td>4.38e-10</td>\n",
       "</tr>\n",
       "<tr>\n",
       "  <th>Time:</th>                 <td>15:17:44</td>     <th>  Log-Likelihood:    </th> <td> -580.18</td>\n",
       "</tr>\n",
       "<tr>\n",
       "  <th>No. Observations:</th>      <td>    50</td>      <th>  AIC:               </th> <td>   1164.</td>\n",
       "</tr>\n",
       "<tr>\n",
       "  <th>Df Residuals:</th>          <td>    48</td>      <th>  BIC:               </th> <td>   1168.</td>\n",
       "</tr>\n",
       "<tr>\n",
       "  <th>Df Model:</th>              <td>     1</td>      <th>                     </th>     <td> </td>   \n",
       "</tr>\n",
       "<tr>\n",
       "  <th>Covariance Type:</th>      <td>nonrobust</td>    <th>                     </th>     <td> </td>   \n",
       "</tr>\n",
       "</table>\n",
       "<table class=\"simpletable\">\n",
       "<tr>\n",
       "        <td></td>          <th>coef</th>     <th>std err</th>      <th>t</th>      <th>P>|t|</th>  <th>[0.025</th>    <th>0.975]</th>  \n",
       "</tr>\n",
       "<tr>\n",
       "  <th>Intercept</th>    <td>     6e+04</td> <td> 7684.530</td> <td>    7.808</td> <td> 0.000</td> <td> 4.46e+04</td> <td> 7.55e+04</td>\n",
       "</tr>\n",
       "<tr>\n",
       "  <th>Market_Spend</th> <td>    0.2465</td> <td>    0.032</td> <td>    7.803</td> <td> 0.000</td> <td>    0.183</td> <td>    0.310</td>\n",
       "</tr>\n",
       "</table>\n",
       "<table class=\"simpletable\">\n",
       "<tr>\n",
       "  <th>Omnibus:</th>       <td> 4.420</td> <th>  Durbin-Watson:     </th> <td>   1.178</td>\n",
       "</tr>\n",
       "<tr>\n",
       "  <th>Prob(Omnibus):</th> <td> 0.110</td> <th>  Jarque-Bera (JB):  </th> <td>   3.882</td>\n",
       "</tr>\n",
       "<tr>\n",
       "  <th>Skew:</th>          <td>-0.336</td> <th>  Prob(JB):          </th> <td>   0.144</td>\n",
       "</tr>\n",
       "<tr>\n",
       "  <th>Kurtosis:</th>      <td> 4.188</td> <th>  Cond. No.          </th> <td>4.89e+05</td>\n",
       "</tr>\n",
       "</table><br/><br/>Notes:<br/>[1] Standard Errors assume that the covariance matrix of the errors is correctly specified.<br/>[2] The condition number is large, 4.89e+05. This might indicate that there are<br/>strong multicollinearity or other numerical problems."
      ],
      "text/plain": [
       "<class 'statsmodels.iolib.summary.Summary'>\n",
       "\"\"\"\n",
       "                            OLS Regression Results                            \n",
       "==============================================================================\n",
       "Dep. Variable:                 Profit   R-squared:                       0.559\n",
       "Model:                            OLS   Adj. R-squared:                  0.550\n",
       "Method:                 Least Squares   F-statistic:                     60.88\n",
       "Date:                Tue, 07 Jun 2022   Prob (F-statistic):           4.38e-10\n",
       "Time:                        15:17:44   Log-Likelihood:                -580.18\n",
       "No. Observations:                  50   AIC:                             1164.\n",
       "Df Residuals:                      48   BIC:                             1168.\n",
       "Df Model:                           1                                         \n",
       "Covariance Type:            nonrobust                                         \n",
       "================================================================================\n",
       "                   coef    std err          t      P>|t|      [0.025      0.975]\n",
       "--------------------------------------------------------------------------------\n",
       "Intercept         6e+04   7684.530      7.808      0.000    4.46e+04    7.55e+04\n",
       "Market_Spend     0.2465      0.032      7.803      0.000       0.183       0.310\n",
       "==============================================================================\n",
       "Omnibus:                        4.420   Durbin-Watson:                   1.178\n",
       "Prob(Omnibus):                  0.110   Jarque-Bera (JB):                3.882\n",
       "Skew:                          -0.336   Prob(JB):                        0.144\n",
       "Kurtosis:                       4.188   Cond. No.                     4.89e+05\n",
       "==============================================================================\n",
       "\n",
       "Notes:\n",
       "[1] Standard Errors assume that the covariance matrix of the errors is correctly specified.\n",
       "[2] The condition number is large, 4.89e+05. This might indicate that there are\n",
       "strong multicollinearity or other numerical problems.\n",
       "\"\"\""
      ]
     },
     "execution_count": 22,
     "metadata": {},
     "output_type": "execute_result"
    }
   ],
   "source": [
    "ml_MS = smf.ols('Profit~Market_Spend' , data = data2).fit()\n",
    "ml_MS.summary()"
   ]
  },
  {
   "cell_type": "markdown",
   "id": "54f6cb55",
   "metadata": {},
   "source": [
    "+ We can not ignore 'Market_Spend' as it has high value of R-Square"
   ]
  },
  {
   "cell_type": "markdown",
   "id": "a42e0a0c",
   "metadata": {},
   "source": [
    "### Taking Both features together and making the model"
   ]
  },
  {
   "cell_type": "code",
   "execution_count": 23,
   "id": "18295dc4",
   "metadata": {},
   "outputs": [
    {
     "data": {
      "text/html": [
       "<table class=\"simpletable\">\n",
       "<caption>OLS Regression Results</caption>\n",
       "<tr>\n",
       "  <th>Dep. Variable:</th>         <td>Profit</td>      <th>  R-squared:         </th> <td>   0.050</td>\n",
       "</tr>\n",
       "<tr>\n",
       "  <th>Model:</th>                   <td>OLS</td>       <th>  Adj. R-squared:    </th> <td>   0.010</td>\n",
       "</tr>\n",
       "<tr>\n",
       "  <th>Method:</th>             <td>Least Squares</td>  <th>  F-statistic:       </th> <td>   1.241</td>\n",
       "</tr>\n",
       "<tr>\n",
       "  <th>Date:</th>             <td>Tue, 07 Jun 2022</td> <th>  Prob (F-statistic):</th>  <td> 0.298</td> \n",
       "</tr>\n",
       "<tr>\n",
       "  <th>Time:</th>                 <td>15:17:44</td>     <th>  Log-Likelihood:    </th> <td> -599.37</td>\n",
       "</tr>\n",
       "<tr>\n",
       "  <th>No. Observations:</th>      <td>    50</td>      <th>  AIC:               </th> <td>   1205.</td>\n",
       "</tr>\n",
       "<tr>\n",
       "  <th>Df Residuals:</th>          <td>    47</td>      <th>  BIC:               </th> <td>   1210.</td>\n",
       "</tr>\n",
       "<tr>\n",
       "  <th>Df Model:</th>              <td>     2</td>      <th>                     </th>     <td> </td>   \n",
       "</tr>\n",
       "<tr>\n",
       "  <th>Covariance Type:</th>      <td>nonrobust</td>    <th>                     </th>     <td> </td>   \n",
       "</tr>\n",
       "</table>\n",
       "<table class=\"simpletable\">\n",
       "<tr>\n",
       "         <td></td>           <th>coef</th>     <th>std err</th>      <th>t</th>      <th>P>|t|</th>  <th>[0.025</th>    <th>0.975]</th>  \n",
       "</tr>\n",
       "<tr>\n",
       "  <th>Intercept</th>      <td> 7.237e+04</td> <td> 2.63e+04</td> <td>    2.752</td> <td> 0.008</td> <td> 1.95e+04</td> <td> 1.25e+05</td>\n",
       "</tr>\n",
       "<tr>\n",
       "  <th>Administration</th> <td>    0.2871</td> <td>    0.205</td> <td>    1.404</td> <td> 0.167</td> <td>   -0.124</td> <td>    0.699</td>\n",
       "</tr>\n",
       "<tr>\n",
       "  <th>State</th>          <td> 4811.2496</td> <td> 6879.140</td> <td>    0.699</td> <td> 0.488</td> <td>-9027.795</td> <td> 1.87e+04</td>\n",
       "</tr>\n",
       "</table>\n",
       "<table class=\"simpletable\">\n",
       "<tr>\n",
       "  <th>Omnibus:</th>       <td> 0.187</td> <th>  Durbin-Watson:     </th> <td>   0.110</td>\n",
       "</tr>\n",
       "<tr>\n",
       "  <th>Prob(Omnibus):</th> <td> 0.911</td> <th>  Jarque-Bera (JB):  </th> <td>   0.302</td>\n",
       "</tr>\n",
       "<tr>\n",
       "  <th>Skew:</th>          <td> 0.132</td> <th>  Prob(JB):          </th> <td>   0.860</td>\n",
       "</tr>\n",
       "<tr>\n",
       "  <th>Kurtosis:</th>      <td> 2.726</td> <th>  Cond. No.          </th> <td>5.78e+05</td>\n",
       "</tr>\n",
       "</table><br/><br/>Notes:<br/>[1] Standard Errors assume that the covariance matrix of the errors is correctly specified.<br/>[2] The condition number is large, 5.78e+05. This might indicate that there are<br/>strong multicollinearity or other numerical problems."
      ],
      "text/plain": [
       "<class 'statsmodels.iolib.summary.Summary'>\n",
       "\"\"\"\n",
       "                            OLS Regression Results                            \n",
       "==============================================================================\n",
       "Dep. Variable:                 Profit   R-squared:                       0.050\n",
       "Model:                            OLS   Adj. R-squared:                  0.010\n",
       "Method:                 Least Squares   F-statistic:                     1.241\n",
       "Date:                Tue, 07 Jun 2022   Prob (F-statistic):              0.298\n",
       "Time:                        15:17:44   Log-Likelihood:                -599.37\n",
       "No. Observations:                  50   AIC:                             1205.\n",
       "Df Residuals:                      47   BIC:                             1210.\n",
       "Df Model:                           2                                         \n",
       "Covariance Type:            nonrobust                                         \n",
       "==================================================================================\n",
       "                     coef    std err          t      P>|t|      [0.025      0.975]\n",
       "----------------------------------------------------------------------------------\n",
       "Intercept       7.237e+04   2.63e+04      2.752      0.008    1.95e+04    1.25e+05\n",
       "Administration     0.2871      0.205      1.404      0.167      -0.124       0.699\n",
       "State           4811.2496   6879.140      0.699      0.488   -9027.795    1.87e+04\n",
       "==============================================================================\n",
       "Omnibus:                        0.187   Durbin-Watson:                   0.110\n",
       "Prob(Omnibus):                  0.911   Jarque-Bera (JB):                0.302\n",
       "Skew:                           0.132   Prob(JB):                        0.860\n",
       "Kurtosis:                       2.726   Cond. No.                     5.78e+05\n",
       "==============================================================================\n",
       "\n",
       "Notes:\n",
       "[1] Standard Errors assume that the covariance matrix of the errors is correctly specified.\n",
       "[2] The condition number is large, 5.78e+05. This might indicate that there are\n",
       "strong multicollinearity or other numerical problems.\n",
       "\"\"\""
      ]
     },
     "execution_count": 23,
     "metadata": {},
     "output_type": "execute_result"
    }
   ],
   "source": [
    "ml_Ad_St = smf.ols('Profit~Administration+State' , data = data2).fit()\n",
    "ml_Ad_St.summary()"
   ]
  },
  {
   "cell_type": "markdown",
   "id": "e9ce2a6e",
   "metadata": {},
   "source": [
    "+ As we can see that both features(Administration and State) together have R-Square value equale to 0.05. It is less so we can say that they dont make any significant change in the Model."
   ]
  },
  {
   "cell_type": "markdown",
   "id": "11b561e4",
   "metadata": {},
   "source": [
    "### Calculating Variation Inflation Factor (VIF)"
   ]
  },
  {
   "cell_type": "code",
   "execution_count": 24,
   "id": "5ac74602",
   "metadata": {},
   "outputs": [
    {
     "data": {
      "text/html": [
       "<div>\n",
       "<style scoped>\n",
       "    .dataframe tbody tr th:only-of-type {\n",
       "        vertical-align: middle;\n",
       "    }\n",
       "\n",
       "    .dataframe tbody tr th {\n",
       "        vertical-align: top;\n",
       "    }\n",
       "\n",
       "    .dataframe thead th {\n",
       "        text-align: right;\n",
       "    }\n",
       "</style>\n",
       "<table border=\"1\" class=\"dataframe\">\n",
       "  <thead>\n",
       "    <tr style=\"text-align: right;\">\n",
       "      <th></th>\n",
       "      <th>Research_Spend</th>\n",
       "      <th>Administration</th>\n",
       "      <th>Market_Spend</th>\n",
       "      <th>State</th>\n",
       "      <th>Profit</th>\n",
       "    </tr>\n",
       "  </thead>\n",
       "  <tbody>\n",
       "    <tr>\n",
       "      <th>0</th>\n",
       "      <td>165349.20</td>\n",
       "      <td>136897.80</td>\n",
       "      <td>471784.10</td>\n",
       "      <td>2</td>\n",
       "      <td>192261.83</td>\n",
       "    </tr>\n",
       "    <tr>\n",
       "      <th>1</th>\n",
       "      <td>162597.70</td>\n",
       "      <td>151377.59</td>\n",
       "      <td>443898.53</td>\n",
       "      <td>0</td>\n",
       "      <td>191792.06</td>\n",
       "    </tr>\n",
       "    <tr>\n",
       "      <th>2</th>\n",
       "      <td>153441.51</td>\n",
       "      <td>101145.55</td>\n",
       "      <td>407934.54</td>\n",
       "      <td>1</td>\n",
       "      <td>191050.39</td>\n",
       "    </tr>\n",
       "    <tr>\n",
       "      <th>3</th>\n",
       "      <td>144372.41</td>\n",
       "      <td>118671.85</td>\n",
       "      <td>383199.62</td>\n",
       "      <td>2</td>\n",
       "      <td>182901.99</td>\n",
       "    </tr>\n",
       "    <tr>\n",
       "      <th>4</th>\n",
       "      <td>142107.34</td>\n",
       "      <td>91391.77</td>\n",
       "      <td>366168.42</td>\n",
       "      <td>1</td>\n",
       "      <td>166187.94</td>\n",
       "    </tr>\n",
       "  </tbody>\n",
       "</table>\n",
       "</div>"
      ],
      "text/plain": [
       "   Research_Spend  Administration  Market_Spend  State     Profit\n",
       "0       165349.20       136897.80     471784.10      2  192261.83\n",
       "1       162597.70       151377.59     443898.53      0  191792.06\n",
       "2       153441.51       101145.55     407934.54      1  191050.39\n",
       "3       144372.41       118671.85     383199.62      2  182901.99\n",
       "4       142107.34        91391.77     366168.42      1  166187.94"
      ]
     },
     "execution_count": 24,
     "metadata": {},
     "output_type": "execute_result"
    }
   ],
   "source": [
    "data2.head()"
   ]
  },
  {
   "cell_type": "code",
   "execution_count": 25,
   "id": "f28392d9",
   "metadata": {},
   "outputs": [
    {
     "data": {
      "text/plain": [
       "2.48117810664151"
      ]
     },
     "execution_count": 25,
     "metadata": {},
     "output_type": "execute_result"
    }
   ],
   "source": [
    "rsq_rs = smf.ols('Research_Spend~Administration+Market_Spend+State' , data = data2).fit().rsquared\n",
    "vif_rs = 1/(1-rsq_rs)\n",
    "vif_rs"
   ]
  },
  {
   "cell_type": "code",
   "execution_count": 26,
   "id": "6698e67d",
   "metadata": {},
   "outputs": [
    {
     "data": {
      "text/plain": [
       "1.1753153231430187"
      ]
     },
     "execution_count": 26,
     "metadata": {},
     "output_type": "execute_result"
    }
   ],
   "source": [
    "rsq_ad = smf.ols('Administration~Research_Spend+Market_Spend+State' , data = data2).fit().rsquared\n",
    "vif_ad = 1/(1-rsq_ad)\n",
    "vif_ad"
   ]
  },
  {
   "cell_type": "code",
   "execution_count": 27,
   "id": "187ebfd5",
   "metadata": {},
   "outputs": [
    {
     "data": {
      "text/plain": [
       "2.326780136936846"
      ]
     },
     "execution_count": 27,
     "metadata": {},
     "output_type": "execute_result"
    }
   ],
   "source": [
    "rsq_ms = smf.ols('Market_Spend~Research_Spend+Administration+State' , data = data2).fit().rsquared\n",
    "vif_ms = 1/(1-rsq_ms)\n",
    "vif_ms"
   ]
  },
  {
   "cell_type": "code",
   "execution_count": 28,
   "id": "26be2a0c",
   "metadata": {},
   "outputs": [
    {
     "data": {
      "text/plain": [
       "1.0112807816962477"
      ]
     },
     "execution_count": 28,
     "metadata": {},
     "output_type": "execute_result"
    }
   ],
   "source": [
    "rsq_st = smf.ols('State~Research_Spend+Administration+Market_Spend' , data = data2).fit().rsquared\n",
    "vif_st = 1/(1-rsq_st)\n",
    "vif_st"
   ]
  },
  {
   "cell_type": "code",
   "execution_count": 29,
   "id": "cebe4d10",
   "metadata": {},
   "outputs": [
    {
     "data": {
      "text/html": [
       "<div>\n",
       "<style scoped>\n",
       "    .dataframe tbody tr th:only-of-type {\n",
       "        vertical-align: middle;\n",
       "    }\n",
       "\n",
       "    .dataframe tbody tr th {\n",
       "        vertical-align: top;\n",
       "    }\n",
       "\n",
       "    .dataframe thead th {\n",
       "        text-align: right;\n",
       "    }\n",
       "</style>\n",
       "<table border=\"1\" class=\"dataframe\">\n",
       "  <thead>\n",
       "    <tr style=\"text-align: right;\">\n",
       "      <th></th>\n",
       "      <th>Variables</th>\n",
       "      <th>VIF_Value</th>\n",
       "    </tr>\n",
       "  </thead>\n",
       "  <tbody>\n",
       "    <tr>\n",
       "      <th>0</th>\n",
       "      <td>Research_Spend</td>\n",
       "      <td>2.481178</td>\n",
       "    </tr>\n",
       "    <tr>\n",
       "      <th>1</th>\n",
       "      <td>Administration</td>\n",
       "      <td>1.175315</td>\n",
       "    </tr>\n",
       "    <tr>\n",
       "      <th>2</th>\n",
       "      <td>Market_Spend</td>\n",
       "      <td>2.326780</td>\n",
       "    </tr>\n",
       "    <tr>\n",
       "      <th>3</th>\n",
       "      <td>State</td>\n",
       "      <td>1.011281</td>\n",
       "    </tr>\n",
       "  </tbody>\n",
       "</table>\n",
       "</div>"
      ],
      "text/plain": [
       "        Variables  VIF_Value\n",
       "0  Research_Spend   2.481178\n",
       "1  Administration   1.175315\n",
       "2    Market_Spend   2.326780\n",
       "3           State   1.011281"
      ]
     },
     "execution_count": 29,
     "metadata": {},
     "output_type": "execute_result"
    }
   ],
   "source": [
    "dt = {'Variables':['Research_Spend','Administration','Market_Spend','State'] , 'VIF_Value' :[vif_rs , vif_ad , vif_ms , vif_st]}\n",
    "VIF_df = pd.DataFrame(dt)\n",
    "VIF_df"
   ]
  },
  {
   "cell_type": "markdown",
   "id": "2c1a6677",
   "metadata": {},
   "source": [
    "+ As we can see that the collinearity between Research_Spend & Market_Spend is there, but the value is less so we can consider them in our Model."
   ]
  },
  {
   "cell_type": "markdown",
   "id": "2decd2c6",
   "metadata": {},
   "source": [
    "### Plot Partial Regression Plot to see the Importance of a Feature in our Model"
   ]
  },
  {
   "cell_type": "code",
   "execution_count": 30,
   "id": "369037b5",
   "metadata": {},
   "outputs": [],
   "source": [
    "import statsmodels.api as sm"
   ]
  },
  {
   "cell_type": "code",
   "execution_count": 31,
   "id": "9cd96380",
   "metadata": {},
   "outputs": [
    {
     "data": {
      "image/png": "[encoded data removed]",
      "text/plain": [
       "<Figure size 1080x576 with 4 Axes>"
      ]
     },
     "metadata": {},
     "output_type": "display_data"
    }
   ],
   "source": [
    "# For 'Research_Spend'\n",
    "fig = plt.figure(figsize =(15,8))\n",
    "fig = sm.graphics.plot_regress_exog(model0 , 'Research_Spend' , fig=fig)\n",
    "plt.show()"
   ]
  },
  {
   "cell_type": "code",
   "execution_count": 32,
   "id": "7278c1e7",
   "metadata": {},
   "outputs": [
    {
     "data": {
      "image/png": "[encoded data removed]",
      "text/plain": [
       "<Figure size 1080x576 with 4 Axes>"
      ]
     },
     "metadata": {},
     "output_type": "display_data"
    }
   ],
   "source": [
    "# For 'Administration'\n",
    "fig = plt.figure(figsize =(15,8))\n",
    "fig = sm.graphics.plot_regress_exog(model0 , 'Administration' , fig=fig)\n",
    "plt.show()"
   ]
  },
  {
   "cell_type": "code",
   "execution_count": 33,
   "id": "f546a333",
   "metadata": {},
   "outputs": [
    {
     "data": {
      "image/png": "[encoded data removed]",
      "text/plain": [
       "<Figure size 1080x576 with 4 Axes>"
      ]
     },
     "metadata": {},
     "output_type": "display_data"
    }
   ],
   "source": [
    "# For 'Market_Spend'\n",
    "fig = plt.figure(figsize =(15,8))\n",
    "fig = sm.graphics.plot_regress_exog(model0 , 'Market_Spend' , fig=fig)\n",
    "plt.show()"
   ]
  },
  {
   "cell_type": "code",
   "execution_count": 34,
   "id": "f816d706",
   "metadata": {},
   "outputs": [
    {
     "data": {
      "image/png": "[encoded data removed]",
      "text/plain": [
       "<Figure size 1080x576 with 4 Axes>"
      ]
     },
     "metadata": {},
     "output_type": "display_data"
    }
   ],
   "source": [
    "# For 'State'\n",
    "fig = plt.figure(figsize =(15,8))\n",
    "fig = sm.graphics.plot_regress_exog(model0 , 'State' , fig=fig)\n",
    "plt.show()"
   ]
  },
  {
   "cell_type": "code",
   "execution_count": 35,
   "id": "eed4735f",
   "metadata": {},
   "outputs": [
    {
     "data": {
      "text/html": [
       "<div>\n",
       "<style scoped>\n",
       "    .dataframe tbody tr th:only-of-type {\n",
       "        vertical-align: middle;\n",
       "    }\n",
       "\n",
       "    .dataframe tbody tr th {\n",
       "        vertical-align: top;\n",
       "    }\n",
       "\n",
       "    .dataframe thead th {\n",
       "        text-align: right;\n",
       "    }\n",
       "</style>\n",
       "<table border=\"1\" class=\"dataframe\">\n",
       "  <thead>\n",
       "    <tr style=\"text-align: right;\">\n",
       "      <th></th>\n",
       "      <th>Research_Spend</th>\n",
       "      <th>Administration</th>\n",
       "      <th>Market_Spend</th>\n",
       "      <th>State</th>\n",
       "      <th>Profit</th>\n",
       "    </tr>\n",
       "  </thead>\n",
       "  <tbody>\n",
       "    <tr>\n",
       "      <th>0</th>\n",
       "      <td>165349.20</td>\n",
       "      <td>136897.80</td>\n",
       "      <td>471784.10</td>\n",
       "      <td>2</td>\n",
       "      <td>192261.83</td>\n",
       "    </tr>\n",
       "    <tr>\n",
       "      <th>1</th>\n",
       "      <td>162597.70</td>\n",
       "      <td>151377.59</td>\n",
       "      <td>443898.53</td>\n",
       "      <td>0</td>\n",
       "      <td>191792.06</td>\n",
       "    </tr>\n",
       "    <tr>\n",
       "      <th>2</th>\n",
       "      <td>153441.51</td>\n",
       "      <td>101145.55</td>\n",
       "      <td>407934.54</td>\n",
       "      <td>1</td>\n",
       "      <td>191050.39</td>\n",
       "    </tr>\n",
       "    <tr>\n",
       "      <th>3</th>\n",
       "      <td>144372.41</td>\n",
       "      <td>118671.85</td>\n",
       "      <td>383199.62</td>\n",
       "      <td>2</td>\n",
       "      <td>182901.99</td>\n",
       "    </tr>\n",
       "    <tr>\n",
       "      <th>4</th>\n",
       "      <td>142107.34</td>\n",
       "      <td>91391.77</td>\n",
       "      <td>366168.42</td>\n",
       "      <td>1</td>\n",
       "      <td>166187.94</td>\n",
       "    </tr>\n",
       "  </tbody>\n",
       "</table>\n",
       "</div>"
      ],
      "text/plain": [
       "   Research_Spend  Administration  Market_Spend  State     Profit\n",
       "0       165349.20       136897.80     471784.10      2  192261.83\n",
       "1       162597.70       151377.59     443898.53      0  191792.06\n",
       "2       153441.51       101145.55     407934.54      1  191050.39\n",
       "3       144372.41       118671.85     383199.62      2  182901.99\n",
       "4       142107.34        91391.77     366168.42      1  166187.94"
      ]
     },
     "execution_count": 35,
     "metadata": {},
     "output_type": "execute_result"
    }
   ],
   "source": [
    "data2.head()"
   ]
  },
  {
   "cell_type": "markdown",
   "id": "b5e45072",
   "metadata": {},
   "source": [
    "+ From above PRP's , we can observe that feature 'Administration' and 'State' are not Important for our Model"
   ]
  },
  {
   "cell_type": "markdown",
   "id": "ee563b1d",
   "metadata": {},
   "source": [
    "#### Elemination of Features from our Model from above Tests"
   ]
  },
  {
   "cell_type": "markdown",
   "id": "7da2cf0d",
   "metadata": {},
   "source": [
    "+ From R-Square Value of SLR model that we Build we can say that 'Administration' & 'State' column are making No change\n",
    "+ And PRP we can observe that feature 'Administration' and 'State' are not Important for our Model.                                                                                                                                                             \n",
    "+ So we Decide to remove this two Features from our Model"
   ]
  },
  {
   "cell_type": "markdown",
   "id": "dad8eb42",
   "metadata": {},
   "source": [
    "### Cook's Distance  "
   ]
  },
  {
   "cell_type": "code",
   "execution_count": 36,
   "id": "6f5e496a",
   "metadata": {},
   "outputs": [],
   "source": [
    "model0_influence = model0.get_influence()\n",
    "(c,_) = model0_influence.cooks_distance"
   ]
  },
  {
   "cell_type": "code",
   "execution_count": 37,
   "id": "c2d47b10",
   "metadata": {},
   "outputs": [
    {
     "data": {
      "text/plain": [
       "0.3060281954699332"
      ]
     },
     "execution_count": 37,
     "metadata": {},
     "output_type": "execute_result"
    }
   ],
   "source": [
    "c.max()"
   ]
  },
  {
   "cell_type": "code",
   "execution_count": 38,
   "id": "b7bfa72a",
   "metadata": {},
   "outputs": [
    {
     "data": {
      "image/png": "[encoded data removed]",
      "text/plain": [
       "<Figure size 1440x504 with 1 Axes>"
      ]
     },
     "metadata": {},
     "output_type": "display_data"
    }
   ],
   "source": [
    "# Plot the influencers value using Stem Plot\n",
    "fig = plt.subplots(figsize = (20,7))\n",
    "plt.stem(np.arange(len(data2)) , np.round(c,3))\n",
    "plt.xlabel('Row Index')\n",
    "plt.ylabel('Cooks Distance')\n",
    "plt.show()"
   ]
  },
  {
   "cell_type": "code",
   "execution_count": 39,
   "id": "86950c62",
   "metadata": {},
   "outputs": [
    {
     "data": {
      "text/plain": [
       "0.36"
      ]
     },
     "execution_count": 39,
     "metadata": {},
     "output_type": "execute_result"
    }
   ],
   "source": [
    "# Leverage Cut-off\n",
    "k= data2.shape[1]\n",
    "n = data2.shape[0]\n",
    "leverage_cutoff = 3*((k+1)/n)\n",
    "leverage_cutoff"
   ]
  },
  {
   "cell_type": "code",
   "execution_count": 40,
   "id": "0e027550",
   "metadata": {},
   "outputs": [
    {
     "data": {
      "image/png": "[encoded data removed]",
      "text/plain": [
       "<Figure size 432x288 with 1 Axes>"
      ]
     },
     "metadata": {},
     "output_type": "display_data"
    }
   ],
   "source": [
    "from statsmodels.graphics.regressionplots import influence_plot\n",
    "\n",
    "influence_plot(model0)\n",
    "plt.show()"
   ]
  },
  {
   "cell_type": "markdown",
   "id": "1ca6595b",
   "metadata": {},
   "source": [
    "+ Leverage Cutoff for our data is 0.36 as we can see in Influence Plot that there are no Influence Points and we can conform it by Cook's Distance also i.e. Maximum Cook's Distance is 0.36 < 1 which implies that there is no outliers in our data set."
   ]
  },
  {
   "cell_type": "markdown",
   "id": "601048e4",
   "metadata": {},
   "source": [
    "# Improving The Model"
   ]
  },
  {
   "cell_type": "markdown",
   "id": "f13c9893",
   "metadata": {},
   "source": [
    "### Load the data"
   ]
  },
  {
   "cell_type": "code",
   "execution_count": 41,
   "id": "7316bb0d",
   "metadata": {},
   "outputs": [
    {
     "data": {
      "text/html": [
       "<div>\n",
       "<style scoped>\n",
       "    .dataframe tbody tr th:only-of-type {\n",
       "        vertical-align: middle;\n",
       "    }\n",
       "\n",
       "    .dataframe tbody tr th {\n",
       "        vertical-align: top;\n",
       "    }\n",
       "\n",
       "    .dataframe thead th {\n",
       "        text-align: right;\n",
       "    }\n",
       "</style>\n",
       "<table border=\"1\" class=\"dataframe\">\n",
       "  <thead>\n",
       "    <tr style=\"text-align: right;\">\n",
       "      <th></th>\n",
       "      <th>R&amp;D Spend</th>\n",
       "      <th>Administration</th>\n",
       "      <th>Marketing Spend</th>\n",
       "      <th>State</th>\n",
       "      <th>Profit</th>\n",
       "    </tr>\n",
       "  </thead>\n",
       "  <tbody>\n",
       "    <tr>\n",
       "      <th>0</th>\n",
       "      <td>165349.20</td>\n",
       "      <td>136897.80</td>\n",
       "      <td>471784.10</td>\n",
       "      <td>New York</td>\n",
       "      <td>192261.83</td>\n",
       "    </tr>\n",
       "    <tr>\n",
       "      <th>1</th>\n",
       "      <td>162597.70</td>\n",
       "      <td>151377.59</td>\n",
       "      <td>443898.53</td>\n",
       "      <td>California</td>\n",
       "      <td>191792.06</td>\n",
       "    </tr>\n",
       "    <tr>\n",
       "      <th>2</th>\n",
       "      <td>153441.51</td>\n",
       "      <td>101145.55</td>\n",
       "      <td>407934.54</td>\n",
       "      <td>Florida</td>\n",
       "      <td>191050.39</td>\n",
       "    </tr>\n",
       "    <tr>\n",
       "      <th>3</th>\n",
       "      <td>144372.41</td>\n",
       "      <td>118671.85</td>\n",
       "      <td>383199.62</td>\n",
       "      <td>New York</td>\n",
       "      <td>182901.99</td>\n",
       "    </tr>\n",
       "    <tr>\n",
       "      <th>4</th>\n",
       "      <td>142107.34</td>\n",
       "      <td>91391.77</td>\n",
       "      <td>366168.42</td>\n",
       "      <td>Florida</td>\n",
       "      <td>166187.94</td>\n",
       "    </tr>\n",
       "  </tbody>\n",
       "</table>\n",
       "</div>"
      ],
      "text/plain": [
       "   R&D Spend  Administration  Marketing Spend       State     Profit\n",
       "0  165349.20       136897.80        471784.10    New York  192261.83\n",
       "1  162597.70       151377.59        443898.53  California  191792.06\n",
       "2  153441.51       101145.55        407934.54     Florida  191050.39\n",
       "3  144372.41       118671.85        383199.62    New York  182901.99\n",
       "4  142107.34        91391.77        366168.42     Florida  166187.94"
      ]
     },
     "execution_count": 41,
     "metadata": {},
     "output_type": "execute_result"
    }
   ],
   "source": [
    "data_final = pd.read_csv('50_Startups.csv')\n",
    "data_final.head()"
   ]
  },
  {
   "cell_type": "code",
   "execution_count": 42,
   "id": "9255c2f6",
   "metadata": {},
   "outputs": [
    {
     "data": {
      "text/html": [
       "<div>\n",
       "<style scoped>\n",
       "    .dataframe tbody tr th:only-of-type {\n",
       "        vertical-align: middle;\n",
       "    }\n",
       "\n",
       "    .dataframe tbody tr th {\n",
       "        vertical-align: top;\n",
       "    }\n",
       "\n",
       "    .dataframe thead th {\n",
       "        text-align: right;\n",
       "    }\n",
       "</style>\n",
       "<table border=\"1\" class=\"dataframe\">\n",
       "  <thead>\n",
       "    <tr style=\"text-align: right;\">\n",
       "      <th></th>\n",
       "      <th>R&amp;D Spend</th>\n",
       "      <th>Marketing Spend</th>\n",
       "      <th>Profit</th>\n",
       "    </tr>\n",
       "  </thead>\n",
       "  <tbody>\n",
       "    <tr>\n",
       "      <th>0</th>\n",
       "      <td>165349.20</td>\n",
       "      <td>471784.10</td>\n",
       "      <td>192261.83</td>\n",
       "    </tr>\n",
       "    <tr>\n",
       "      <th>1</th>\n",
       "      <td>162597.70</td>\n",
       "      <td>443898.53</td>\n",
       "      <td>191792.06</td>\n",
       "    </tr>\n",
       "    <tr>\n",
       "      <th>2</th>\n",
       "      <td>153441.51</td>\n",
       "      <td>407934.54</td>\n",
       "      <td>191050.39</td>\n",
       "    </tr>\n",
       "    <tr>\n",
       "      <th>3</th>\n",
       "      <td>144372.41</td>\n",
       "      <td>383199.62</td>\n",
       "      <td>182901.99</td>\n",
       "    </tr>\n",
       "    <tr>\n",
       "      <th>4</th>\n",
       "      <td>142107.34</td>\n",
       "      <td>366168.42</td>\n",
       "      <td>166187.94</td>\n",
       "    </tr>\n",
       "  </tbody>\n",
       "</table>\n",
       "</div>"
      ],
      "text/plain": [
       "   R&D Spend  Marketing Spend     Profit\n",
       "0  165349.20        471784.10  192261.83\n",
       "1  162597.70        443898.53  191792.06\n",
       "2  153441.51        407934.54  191050.39\n",
       "3  144372.41        383199.62  182901.99\n",
       "4  142107.34        366168.42  166187.94"
      ]
     },
     "execution_count": 42,
     "metadata": {},
     "output_type": "execute_result"
    }
   ],
   "source": [
    "# We drop two columns that we dont use for Model Building\n",
    "data_final.drop(['Administration' , 'State'] , axis=1 , inplace = True)\n",
    "data_final.head()"
   ]
  },
  {
   "cell_type": "code",
   "execution_count": 43,
   "id": "0f1150fc",
   "metadata": {},
   "outputs": [
    {
     "data": {
      "text/html": [
       "<div>\n",
       "<style scoped>\n",
       "    .dataframe tbody tr th:only-of-type {\n",
       "        vertical-align: middle;\n",
       "    }\n",
       "\n",
       "    .dataframe tbody tr th {\n",
       "        vertical-align: top;\n",
       "    }\n",
       "\n",
       "    .dataframe thead th {\n",
       "        text-align: right;\n",
       "    }\n",
       "</style>\n",
       "<table border=\"1\" class=\"dataframe\">\n",
       "  <thead>\n",
       "    <tr style=\"text-align: right;\">\n",
       "      <th></th>\n",
       "      <th>Research_Spend</th>\n",
       "      <th>Market_Spend</th>\n",
       "      <th>Profit</th>\n",
       "    </tr>\n",
       "  </thead>\n",
       "  <tbody>\n",
       "    <tr>\n",
       "      <th>0</th>\n",
       "      <td>165349.20</td>\n",
       "      <td>471784.10</td>\n",
       "      <td>192261.83</td>\n",
       "    </tr>\n",
       "    <tr>\n",
       "      <th>1</th>\n",
       "      <td>162597.70</td>\n",
       "      <td>443898.53</td>\n",
       "      <td>191792.06</td>\n",
       "    </tr>\n",
       "    <tr>\n",
       "      <th>2</th>\n",
       "      <td>153441.51</td>\n",
       "      <td>407934.54</td>\n",
       "      <td>191050.39</td>\n",
       "    </tr>\n",
       "    <tr>\n",
       "      <th>3</th>\n",
       "      <td>144372.41</td>\n",
       "      <td>383199.62</td>\n",
       "      <td>182901.99</td>\n",
       "    </tr>\n",
       "    <tr>\n",
       "      <th>4</th>\n",
       "      <td>142107.34</td>\n",
       "      <td>366168.42</td>\n",
       "      <td>166187.94</td>\n",
       "    </tr>\n",
       "  </tbody>\n",
       "</table>\n",
       "</div>"
      ],
      "text/plain": [
       "   Research_Spend  Market_Spend     Profit\n",
       "0       165349.20     471784.10  192261.83\n",
       "1       162597.70     443898.53  191792.06\n",
       "2       153441.51     407934.54  191050.39\n",
       "3       144372.41     383199.62  182901.99\n",
       "4       142107.34     366168.42  166187.94"
      ]
     },
     "execution_count": 43,
     "metadata": {},
     "output_type": "execute_result"
    }
   ],
   "source": [
    "#Rename the column\n",
    "data_final = data_final.rename({'R&D Spend':'Research_Spend' , 'Marketing Spend':'Market_Spend'} , axis = 1)\n",
    "data_final.head()"
   ]
  },
  {
   "cell_type": "code",
   "execution_count": 44,
   "id": "17072370",
   "metadata": {},
   "outputs": [],
   "source": [
    "# Model Building\n",
    "model1 = smf.ols('Profit~Research_Spend+Market_Spend' , data=data_final).fit()"
   ]
  },
  {
   "cell_type": "code",
   "execution_count": 45,
   "id": "cf63e959",
   "metadata": {},
   "outputs": [
    {
     "data": {
      "text/html": [
       "<table class=\"simpletable\">\n",
       "<caption>OLS Regression Results</caption>\n",
       "<tr>\n",
       "  <th>Dep. Variable:</th>         <td>Profit</td>      <th>  R-squared:         </th> <td>   0.950</td>\n",
       "</tr>\n",
       "<tr>\n",
       "  <th>Model:</th>                   <td>OLS</td>       <th>  Adj. R-squared:    </th> <td>   0.948</td>\n",
       "</tr>\n",
       "<tr>\n",
       "  <th>Method:</th>             <td>Least Squares</td>  <th>  F-statistic:       </th> <td>   450.8</td>\n",
       "</tr>\n",
       "<tr>\n",
       "  <th>Date:</th>             <td>Tue, 07 Jun 2022</td> <th>  Prob (F-statistic):</th> <td>2.16e-31</td>\n",
       "</tr>\n",
       "<tr>\n",
       "  <th>Time:</th>                 <td>15:17:48</td>     <th>  Log-Likelihood:    </th> <td> -525.54</td>\n",
       "</tr>\n",
       "<tr>\n",
       "  <th>No. Observations:</th>      <td>    50</td>      <th>  AIC:               </th> <td>   1057.</td>\n",
       "</tr>\n",
       "<tr>\n",
       "  <th>Df Residuals:</th>          <td>    47</td>      <th>  BIC:               </th> <td>   1063.</td>\n",
       "</tr>\n",
       "<tr>\n",
       "  <th>Df Model:</th>              <td>     2</td>      <th>                     </th>     <td> </td>   \n",
       "</tr>\n",
       "<tr>\n",
       "  <th>Covariance Type:</th>      <td>nonrobust</td>    <th>                     </th>     <td> </td>   \n",
       "</tr>\n",
       "</table>\n",
       "<table class=\"simpletable\">\n",
       "<tr>\n",
       "         <td></td>           <th>coef</th>     <th>std err</th>      <th>t</th>      <th>P>|t|</th>  <th>[0.025</th>    <th>0.975]</th>  \n",
       "</tr>\n",
       "<tr>\n",
       "  <th>Intercept</th>      <td> 4.698e+04</td> <td> 2689.933</td> <td>   17.464</td> <td> 0.000</td> <td> 4.16e+04</td> <td> 5.24e+04</td>\n",
       "</tr>\n",
       "<tr>\n",
       "  <th>Research_Spend</th> <td>    0.7966</td> <td>    0.041</td> <td>   19.266</td> <td> 0.000</td> <td>    0.713</td> <td>    0.880</td>\n",
       "</tr>\n",
       "<tr>\n",
       "  <th>Market_Spend</th>   <td>    0.0299</td> <td>    0.016</td> <td>    1.927</td> <td> 0.060</td> <td>   -0.001</td> <td>    0.061</td>\n",
       "</tr>\n",
       "</table>\n",
       "<table class=\"simpletable\">\n",
       "<tr>\n",
       "  <th>Omnibus:</th>       <td>14.677</td> <th>  Durbin-Watson:     </th> <td>   1.257</td>\n",
       "</tr>\n",
       "<tr>\n",
       "  <th>Prob(Omnibus):</th> <td> 0.001</td> <th>  Jarque-Bera (JB):  </th> <td>  21.161</td>\n",
       "</tr>\n",
       "<tr>\n",
       "  <th>Skew:</th>          <td>-0.939</td> <th>  Prob(JB):          </th> <td>2.54e-05</td>\n",
       "</tr>\n",
       "<tr>\n",
       "  <th>Kurtosis:</th>      <td> 5.575</td> <th>  Cond. No.          </th> <td>5.32e+05</td>\n",
       "</tr>\n",
       "</table><br/><br/>Notes:<br/>[1] Standard Errors assume that the covariance matrix of the errors is correctly specified.<br/>[2] The condition number is large, 5.32e+05. This might indicate that there are<br/>strong multicollinearity or other numerical problems."
      ],
      "text/plain": [
       "<class 'statsmodels.iolib.summary.Summary'>\n",
       "\"\"\"\n",
       "                            OLS Regression Results                            \n",
       "==============================================================================\n",
       "Dep. Variable:                 Profit   R-squared:                       0.950\n",
       "Model:                            OLS   Adj. R-squared:                  0.948\n",
       "Method:                 Least Squares   F-statistic:                     450.8\n",
       "Date:                Tue, 07 Jun 2022   Prob (F-statistic):           2.16e-31\n",
       "Time:                        15:17:48   Log-Likelihood:                -525.54\n",
       "No. Observations:                  50   AIC:                             1057.\n",
       "Df Residuals:                      47   BIC:                             1063.\n",
       "Df Model:                           2                                         \n",
       "Covariance Type:            nonrobust                                         \n",
       "==================================================================================\n",
       "                     coef    std err          t      P>|t|      [0.025      0.975]\n",
       "----------------------------------------------------------------------------------\n",
       "Intercept       4.698e+04   2689.933     17.464      0.000    4.16e+04    5.24e+04\n",
       "Research_Spend     0.7966      0.041     19.266      0.000       0.713       0.880\n",
       "Market_Spend       0.0299      0.016      1.927      0.060      -0.001       0.061\n",
       "==============================================================================\n",
       "Omnibus:                       14.677   Durbin-Watson:                   1.257\n",
       "Prob(Omnibus):                  0.001   Jarque-Bera (JB):               21.161\n",
       "Skew:                          -0.939   Prob(JB):                     2.54e-05\n",
       "Kurtosis:                       5.575   Cond. No.                     5.32e+05\n",
       "==============================================================================\n",
       "\n",
       "Notes:\n",
       "[1] Standard Errors assume that the covariance matrix of the errors is correctly specified.\n",
       "[2] The condition number is large, 5.32e+05. This might indicate that there are\n",
       "strong multicollinearity or other numerical problems.\n",
       "\"\"\""
      ]
     },
     "execution_count": 45,
     "metadata": {},
     "output_type": "execute_result"
    }
   ],
   "source": [
    "#Model Summary\n",
    "model1.summary()"
   ]
  },
  {
   "cell_type": "code",
   "execution_count": 46,
   "id": "e0aefb78",
   "metadata": {},
   "outputs": [
    {
     "data": {
      "text/html": [
       "<div>\n",
       "<style scoped>\n",
       "    .dataframe tbody tr th:only-of-type {\n",
       "        vertical-align: middle;\n",
       "    }\n",
       "\n",
       "    .dataframe tbody tr th {\n",
       "        vertical-align: top;\n",
       "    }\n",
       "\n",
       "    .dataframe thead th {\n",
       "        text-align: right;\n",
       "    }\n",
       "</style>\n",
       "<table border=\"1\" class=\"dataframe\">\n",
       "  <thead>\n",
       "    <tr style=\"text-align: right;\">\n",
       "      <th></th>\n",
       "      <th>Model</th>\n",
       "      <th>R_Square_value</th>\n",
       "      <th>AIC</th>\n",
       "    </tr>\n",
       "  </thead>\n",
       "  <tbody>\n",
       "    <tr>\n",
       "      <th>0</th>\n",
       "      <td>Model0</td>\n",
       "      <td>0.950746</td>\n",
       "      <td>1060.771285</td>\n",
       "    </tr>\n",
       "    <tr>\n",
       "      <th>1</th>\n",
       "      <td>Model1</td>\n",
       "      <td>0.950450</td>\n",
       "      <td>1057.070772</td>\n",
       "    </tr>\n",
       "  </tbody>\n",
       "</table>\n",
       "</div>"
      ],
      "text/plain": [
       "    Model  R_Square_value          AIC\n",
       "0  Model0        0.950746  1060.771285\n",
       "1  Model1        0.950450  1057.070772"
      ]
     },
     "execution_count": 46,
     "metadata": {},
     "output_type": "execute_result"
    }
   ],
   "source": [
    "#Storing R-Square value in DataFrame\n",
    "r_square_value.loc[1] = ['Model1' , model1.rsquared , model1.aic]\n",
    "r_square_value"
   ]
  },
  {
   "cell_type": "markdown",
   "id": "b1df0bae",
   "metadata": {},
   "source": [
    "### Cook's Distance for New Model"
   ]
  },
  {
   "cell_type": "code",
   "execution_count": 47,
   "id": "4e8c4446",
   "metadata": {},
   "outputs": [],
   "source": [
    "model1_influence = model1.get_influence()\n",
    "(c , _) =  model1_influence.cooks_distance"
   ]
  },
  {
   "cell_type": "code",
   "execution_count": 48,
   "id": "f65603c4",
   "metadata": {},
   "outputs": [
    {
     "data": {
      "image/png": "[encoded data removed]",
      "text/plain": [
       "<Figure size 1440x504 with 1 Axes>"
      ]
     },
     "metadata": {},
     "output_type": "display_data"
    }
   ],
   "source": [
    "# Plot the influence value using Stem Plot\n",
    "fig = plt.subplots(figsize = (20,7))\n",
    "plt.stem(np.arange(len(data_final)) , np.round(c , 3))\n",
    "plt.xlabel('Row Index')\n",
    "plt.ylabel('Cooks Distance')\n",
    "plt.show()"
   ]
  },
  {
   "cell_type": "code",
   "execution_count": 49,
   "id": "b6d05720",
   "metadata": {},
   "outputs": [
    {
     "data": {
      "text/plain": [
       "0.24"
      ]
     },
     "execution_count": 49,
     "metadata": {},
     "output_type": "execute_result"
    }
   ],
   "source": [
    "# Leverage cutoff\n",
    "k = data_final.shape[1]\n",
    "n = data_final.shape[0]\n",
    "leverage_cutoff = 3*((k+1)/n)\n",
    "leverage_cutoff"
   ]
  },
  {
   "cell_type": "code",
   "execution_count": 50,
   "id": "c087668e",
   "metadata": {},
   "outputs": [
    {
     "data": {
      "image/png": "[encoded data removed]",
      "text/plain": [
       "<Figure size 432x288 with 1 Axes>"
      ]
     },
     "metadata": {},
     "output_type": "display_data"
    }
   ],
   "source": [
    "# Influence Plot\n",
    "influence_plot(model1)\n",
    "plt.show()"
   ]
  },
  {
   "cell_type": "markdown",
   "id": "487efb92",
   "metadata": {},
   "source": [
    "+ There is no Outliers present in our dataset"
   ]
  },
  {
   "cell_type": "markdown",
   "id": "29cd6ffb",
   "metadata": {},
   "source": [
    "## R-Square for different Models"
   ]
  },
  {
   "cell_type": "code",
   "execution_count": 51,
   "id": "d754eae3",
   "metadata": {},
   "outputs": [],
   "source": [
    "r_square_value['Features_used'] = [data2.shape[1]-1,data_final.shape[1]-1]"
   ]
  },
  {
   "cell_type": "code",
   "execution_count": 52,
   "id": "ec9b0022",
   "metadata": {},
   "outputs": [
    {
     "data": {
      "text/html": [
       "<div>\n",
       "<style scoped>\n",
       "    .dataframe tbody tr th:only-of-type {\n",
       "        vertical-align: middle;\n",
       "    }\n",
       "\n",
       "    .dataframe tbody tr th {\n",
       "        vertical-align: top;\n",
       "    }\n",
       "\n",
       "    .dataframe thead th {\n",
       "        text-align: right;\n",
       "    }\n",
       "</style>\n",
       "<table border=\"1\" class=\"dataframe\">\n",
       "  <thead>\n",
       "    <tr style=\"text-align: right;\">\n",
       "      <th></th>\n",
       "      <th>Model</th>\n",
       "      <th>R_Square_value</th>\n",
       "      <th>AIC</th>\n",
       "      <th>Features_used</th>\n",
       "    </tr>\n",
       "  </thead>\n",
       "  <tbody>\n",
       "    <tr>\n",
       "      <th>0</th>\n",
       "      <td>Model0</td>\n",
       "      <td>0.950746</td>\n",
       "      <td>1060.771285</td>\n",
       "      <td>4</td>\n",
       "    </tr>\n",
       "    <tr>\n",
       "      <th>1</th>\n",
       "      <td>Model1</td>\n",
       "      <td>0.950450</td>\n",
       "      <td>1057.070772</td>\n",
       "      <td>2</td>\n",
       "    </tr>\n",
       "  </tbody>\n",
       "</table>\n",
       "</div>"
      ],
      "text/plain": [
       "    Model  R_Square_value          AIC  Features_used\n",
       "0  Model0        0.950746  1060.771285              4\n",
       "1  Model1        0.950450  1057.070772              2"
      ]
     },
     "execution_count": 52,
     "metadata": {},
     "output_type": "execute_result"
    }
   ],
   "source": [
    "r_square_value"
   ]
  },
  {
   "cell_type": "markdown",
   "id": "8af1ba64",
   "metadata": {},
   "source": [
    "## Transformation of Data"
   ]
  },
  {
   "cell_type": "code",
   "execution_count": 53,
   "id": "89c685ea",
   "metadata": {},
   "outputs": [],
   "source": [
    "# Assign Value containing 0 as value\n",
    "data2[data2['Research_Spend']==0] = data2['Research_Spend'].mean()"
   ]
  },
  {
   "cell_type": "code",
   "execution_count": 54,
   "id": "53b31446",
   "metadata": {},
   "outputs": [
    {
     "data": {
      "text/html": [
       "<div>\n",
       "<style scoped>\n",
       "    .dataframe tbody tr th:only-of-type {\n",
       "        vertical-align: middle;\n",
       "    }\n",
       "\n",
       "    .dataframe tbody tr th {\n",
       "        vertical-align: top;\n",
       "    }\n",
       "\n",
       "    .dataframe thead th {\n",
       "        text-align: right;\n",
       "    }\n",
       "</style>\n",
       "<table border=\"1\" class=\"dataframe\">\n",
       "  <thead>\n",
       "    <tr style=\"text-align: right;\">\n",
       "      <th></th>\n",
       "      <th>skew</th>\n",
       "      <th>kurtosis</th>\n",
       "    </tr>\n",
       "  </thead>\n",
       "  <tbody>\n",
       "    <tr>\n",
       "      <th>Research_Spend</th>\n",
       "      <td>0.191684</td>\n",
       "      <td>-0.601983</td>\n",
       "    </tr>\n",
       "    <tr>\n",
       "      <th>Administration</th>\n",
       "      <td>-0.378768</td>\n",
       "      <td>-0.239681</td>\n",
       "    </tr>\n",
       "    <tr>\n",
       "      <th>Market_Spend</th>\n",
       "      <td>0.006241</td>\n",
       "      <td>-0.649021</td>\n",
       "    </tr>\n",
       "    <tr>\n",
       "      <th>State</th>\n",
       "      <td>4.841323</td>\n",
       "      <td>22.330729</td>\n",
       "    </tr>\n",
       "    <tr>\n",
       "      <th>Profit</th>\n",
       "      <td>0.348027</td>\n",
       "      <td>-0.302705</td>\n",
       "    </tr>\n",
       "  </tbody>\n",
       "</table>\n",
       "</div>"
      ],
      "text/plain": [
       "                    skew   kurtosis\n",
       "Research_Spend  0.191684  -0.601983\n",
       "Administration -0.378768  -0.239681\n",
       "Market_Spend    0.006241  -0.649021\n",
       "State           4.841323  22.330729\n",
       "Profit          0.348027  -0.302705"
      ]
     },
     "execution_count": 54,
     "metadata": {},
     "output_type": "execute_result"
    }
   ],
   "source": [
    "data2.agg(['skew', 'kurtosis']).transpose()"
   ]
  },
  {
   "cell_type": "markdown",
   "id": "77ca5af2",
   "metadata": {},
   "source": [
    "+ As we can see that skewness is present in Administration and Research_Spend we use transformation for both the columns"
   ]
  },
  {
   "cell_type": "code",
   "execution_count": 55,
   "id": "3bbb55d3",
   "metadata": {},
   "outputs": [
    {
     "data": {
      "text/html": [
       "<div>\n",
       "<style scoped>\n",
       "    .dataframe tbody tr th:only-of-type {\n",
       "        vertical-align: middle;\n",
       "    }\n",
       "\n",
       "    .dataframe tbody tr th {\n",
       "        vertical-align: top;\n",
       "    }\n",
       "\n",
       "    .dataframe thead th {\n",
       "        text-align: right;\n",
       "    }\n",
       "</style>\n",
       "<table border=\"1\" class=\"dataframe\">\n",
       "  <thead>\n",
       "    <tr style=\"text-align: right;\">\n",
       "      <th></th>\n",
       "      <th>Research_Spend</th>\n",
       "      <th>Administration</th>\n",
       "      <th>Market_Spend</th>\n",
       "      <th>State</th>\n",
       "      <th>Profit</th>\n",
       "    </tr>\n",
       "  </thead>\n",
       "  <tbody>\n",
       "    <tr>\n",
       "      <th>0</th>\n",
       "      <td>2.068016</td>\n",
       "      <td>0.605027</td>\n",
       "      <td>2.189271</td>\n",
       "      <td>-0.204058</td>\n",
       "      <td>2.125933</td>\n",
       "    </tr>\n",
       "    <tr>\n",
       "      <th>1</th>\n",
       "      <td>2.003850</td>\n",
       "      <td>1.101312</td>\n",
       "      <td>1.953299</td>\n",
       "      <td>-0.204196</td>\n",
       "      <td>2.113202</td>\n",
       "    </tr>\n",
       "    <tr>\n",
       "      <th>2</th>\n",
       "      <td>1.790325</td>\n",
       "      <td>-0.620356</td>\n",
       "      <td>1.648967</td>\n",
       "      <td>-0.204127</td>\n",
       "      <td>2.093102</td>\n",
       "    </tr>\n",
       "    <tr>\n",
       "      <th>3</th>\n",
       "      <td>1.578830</td>\n",
       "      <td>-0.019654</td>\n",
       "      <td>1.439656</td>\n",
       "      <td>-0.204058</td>\n",
       "      <td>1.872273</td>\n",
       "    </tr>\n",
       "    <tr>\n",
       "      <th>4</th>\n",
       "      <td>1.526008</td>\n",
       "      <td>-0.954660</td>\n",
       "      <td>1.295536</td>\n",
       "      <td>-0.204127</td>\n",
       "      <td>1.419307</td>\n",
       "    </tr>\n",
       "  </tbody>\n",
       "</table>\n",
       "</div>"
      ],
      "text/plain": [
       "   Research_Spend  Administration  Market_Spend     State    Profit\n",
       "0        2.068016        0.605027      2.189271 -0.204058  2.125933\n",
       "1        2.003850        1.101312      1.953299 -0.204196  2.113202\n",
       "2        1.790325       -0.620356      1.648967 -0.204127  2.093102\n",
       "3        1.578830       -0.019654      1.439656 -0.204058  1.872273\n",
       "4        1.526008       -0.954660      1.295536 -0.204127  1.419307"
      ]
     },
     "execution_count": 55,
     "metadata": {},
     "output_type": "execute_result"
    }
   ],
   "source": [
    "#1st Transformation i.e. Standardize the data set\n",
    "from sklearn.preprocessing import StandardScaler\n",
    "ss = StandardScaler()\n",
    "ss = ss.fit_transform(data2)\n",
    "data_stand = pd.DataFrame(data = ss, columns=['Research_Spend', 'Administration', 'Market_Spend', 'State', 'Profit'])\n",
    "data_stand.head()"
   ]
  },
  {
   "cell_type": "code",
   "execution_count": 56,
   "id": "242ab101",
   "metadata": {},
   "outputs": [
    {
     "data": {
      "text/html": [
       "<div>\n",
       "<style scoped>\n",
       "    .dataframe tbody tr th:only-of-type {\n",
       "        vertical-align: middle;\n",
       "    }\n",
       "\n",
       "    .dataframe tbody tr th {\n",
       "        vertical-align: top;\n",
       "    }\n",
       "\n",
       "    .dataframe thead th {\n",
       "        text-align: right;\n",
       "    }\n",
       "</style>\n",
       "<table border=\"1\" class=\"dataframe\">\n",
       "  <thead>\n",
       "    <tr style=\"text-align: right;\">\n",
       "      <th></th>\n",
       "      <th>skew</th>\n",
       "      <th>kurtosis</th>\n",
       "    </tr>\n",
       "  </thead>\n",
       "  <tbody>\n",
       "    <tr>\n",
       "      <th>Research_Spend</th>\n",
       "      <td>0.191684</td>\n",
       "      <td>-0.601983</td>\n",
       "    </tr>\n",
       "    <tr>\n",
       "      <th>Administration</th>\n",
       "      <td>-0.378768</td>\n",
       "      <td>-0.239681</td>\n",
       "    </tr>\n",
       "    <tr>\n",
       "      <th>Market_Spend</th>\n",
       "      <td>0.006241</td>\n",
       "      <td>-0.649021</td>\n",
       "    </tr>\n",
       "    <tr>\n",
       "      <th>State</th>\n",
       "      <td>4.841323</td>\n",
       "      <td>22.330729</td>\n",
       "    </tr>\n",
       "    <tr>\n",
       "      <th>Profit</th>\n",
       "      <td>0.348027</td>\n",
       "      <td>-0.302705</td>\n",
       "    </tr>\n",
       "  </tbody>\n",
       "</table>\n",
       "</div>"
      ],
      "text/plain": [
       "                    skew   kurtosis\n",
       "Research_Spend  0.191684  -0.601983\n",
       "Administration -0.378768  -0.239681\n",
       "Market_Spend    0.006241  -0.649021\n",
       "State           4.841323  22.330729\n",
       "Profit          0.348027  -0.302705"
      ]
     },
     "execution_count": 56,
     "metadata": {},
     "output_type": "execute_result"
    }
   ],
   "source": [
    "data_stand.agg(['skew', 'kurtosis']).transpose()"
   ]
  },
  {
   "cell_type": "code",
   "execution_count": 57,
   "id": "ba47cc80",
   "metadata": {},
   "outputs": [
    {
     "data": {
      "text/html": [
       "<div>\n",
       "<style scoped>\n",
       "    .dataframe tbody tr th:only-of-type {\n",
       "        vertical-align: middle;\n",
       "    }\n",
       "\n",
       "    .dataframe tbody tr th {\n",
       "        vertical-align: top;\n",
       "    }\n",
       "\n",
       "    .dataframe thead th {\n",
       "        text-align: right;\n",
       "    }\n",
       "</style>\n",
       "<table border=\"1\" class=\"dataframe\">\n",
       "  <thead>\n",
       "    <tr style=\"text-align: right;\">\n",
       "      <th></th>\n",
       "      <th>Research_Spend</th>\n",
       "      <th>Administration</th>\n",
       "      <th>Market_Spend</th>\n",
       "      <th>State</th>\n",
       "      <th>Profit</th>\n",
       "    </tr>\n",
       "  </thead>\n",
       "  <tbody>\n",
       "    <tr>\n",
       "      <th>0</th>\n",
       "      <td>1.100000</td>\n",
       "      <td>0.751744</td>\n",
       "      <td>1.100000</td>\n",
       "      <td>0.100027</td>\n",
       "      <td>1.100000</td>\n",
       "    </tr>\n",
       "    <tr>\n",
       "      <th>1</th>\n",
       "      <td>1.083305</td>\n",
       "      <td>0.861972</td>\n",
       "      <td>1.040893</td>\n",
       "      <td>0.100000</td>\n",
       "      <td>1.097000</td>\n",
       "    </tr>\n",
       "    <tr>\n",
       "      <th>2</th>\n",
       "      <td>1.027748</td>\n",
       "      <td>0.479579</td>\n",
       "      <td>0.964664</td>\n",
       "      <td>0.100014</td>\n",
       "      <td>1.092264</td>\n",
       "    </tr>\n",
       "    <tr>\n",
       "      <th>3</th>\n",
       "      <td>0.972719</td>\n",
       "      <td>0.612998</td>\n",
       "      <td>0.912235</td>\n",
       "      <td>0.100027</td>\n",
       "      <td>1.040226</td>\n",
       "    </tr>\n",
       "    <tr>\n",
       "      <th>4</th>\n",
       "      <td>0.958975</td>\n",
       "      <td>0.405328</td>\n",
       "      <td>0.876136</td>\n",
       "      <td>0.100014</td>\n",
       "      <td>0.933488</td>\n",
       "    </tr>\n",
       "  </tbody>\n",
       "</table>\n",
       "</div>"
      ],
      "text/plain": [
       "   Research_Spend  Administration  Market_Spend     State    Profit\n",
       "0        1.100000        0.751744      1.100000  0.100027  1.100000\n",
       "1        1.083305        0.861972      1.040893  0.100000  1.097000\n",
       "2        1.027748        0.479579      0.964664  0.100014  1.092264\n",
       "3        0.972719        0.612998      0.912235  0.100027  1.040226\n",
       "4        0.958975        0.405328      0.876136  0.100014  0.933488"
      ]
     },
     "execution_count": 57,
     "metadata": {},
     "output_type": "execute_result"
    }
   ],
   "source": [
    "#2nd Transformation i.e. Normalize the data set\n",
    "from sklearn.preprocessing import MinMaxScaler\n",
    "minmax = MinMaxScaler(feature_range = (0.1 , 1.1))\n",
    "minmax = minmax.fit_transform(data2)\n",
    "data_norm = pd.DataFrame(data = minmax , columns = ['Research_Spend', 'Administration', 'Market_Spend', 'State', 'Profit'])\n",
    "data_norm.head()"
   ]
  },
  {
   "cell_type": "code",
   "execution_count": 58,
   "id": "1d8bffe1",
   "metadata": {},
   "outputs": [
    {
     "data": {
      "text/html": [
       "<div>\n",
       "<style scoped>\n",
       "    .dataframe tbody tr th:only-of-type {\n",
       "        vertical-align: middle;\n",
       "    }\n",
       "\n",
       "    .dataframe tbody tr th {\n",
       "        vertical-align: top;\n",
       "    }\n",
       "\n",
       "    .dataframe thead th {\n",
       "        text-align: right;\n",
       "    }\n",
       "</style>\n",
       "<table border=\"1\" class=\"dataframe\">\n",
       "  <thead>\n",
       "    <tr style=\"text-align: right;\">\n",
       "      <th></th>\n",
       "      <th>Research_Spend</th>\n",
       "      <th>Administration</th>\n",
       "      <th>Market_Spend</th>\n",
       "      <th>State</th>\n",
       "      <th>Profit</th>\n",
       "      <th>Res_sqrt</th>\n",
       "      <th>Adm_sqrt</th>\n",
       "    </tr>\n",
       "  </thead>\n",
       "  <tbody>\n",
       "    <tr>\n",
       "      <th>0</th>\n",
       "      <td>1.100000</td>\n",
       "      <td>0.751744</td>\n",
       "      <td>1.100000</td>\n",
       "      <td>0.100027</td>\n",
       "      <td>1.100000</td>\n",
       "      <td>1.048809</td>\n",
       "      <td>0.867032</td>\n",
       "    </tr>\n",
       "    <tr>\n",
       "      <th>1</th>\n",
       "      <td>1.083305</td>\n",
       "      <td>0.861972</td>\n",
       "      <td>1.040893</td>\n",
       "      <td>0.100000</td>\n",
       "      <td>1.097000</td>\n",
       "      <td>1.040819</td>\n",
       "      <td>0.928424</td>\n",
       "    </tr>\n",
       "    <tr>\n",
       "      <th>2</th>\n",
       "      <td>1.027748</td>\n",
       "      <td>0.479579</td>\n",
       "      <td>0.964664</td>\n",
       "      <td>0.100014</td>\n",
       "      <td>1.092264</td>\n",
       "      <td>1.013779</td>\n",
       "      <td>0.692516</td>\n",
       "    </tr>\n",
       "    <tr>\n",
       "      <th>3</th>\n",
       "      <td>0.972719</td>\n",
       "      <td>0.612998</td>\n",
       "      <td>0.912235</td>\n",
       "      <td>0.100027</td>\n",
       "      <td>1.040226</td>\n",
       "      <td>0.986265</td>\n",
       "      <td>0.782942</td>\n",
       "    </tr>\n",
       "    <tr>\n",
       "      <th>4</th>\n",
       "      <td>0.958975</td>\n",
       "      <td>0.405328</td>\n",
       "      <td>0.876136</td>\n",
       "      <td>0.100014</td>\n",
       "      <td>0.933488</td>\n",
       "      <td>0.979273</td>\n",
       "      <td>0.636654</td>\n",
       "    </tr>\n",
       "  </tbody>\n",
       "</table>\n",
       "</div>"
      ],
      "text/plain": [
       "   Research_Spend  Administration  Market_Spend     State    Profit  Res_sqrt  \\\n",
       "0        1.100000        0.751744      1.100000  0.100027  1.100000  1.048809   \n",
       "1        1.083305        0.861972      1.040893  0.100000  1.097000  1.040819   \n",
       "2        1.027748        0.479579      0.964664  0.100014  1.092264  1.013779   \n",
       "3        0.972719        0.612998      0.912235  0.100027  1.040226  0.986265   \n",
       "4        0.958975        0.405328      0.876136  0.100014  0.933488  0.979273   \n",
       "\n",
       "   Adm_sqrt  \n",
       "0  0.867032  \n",
       "1  0.928424  \n",
       "2  0.692516  \n",
       "3  0.782942  \n",
       "4  0.636654  "
      ]
     },
     "execution_count": 58,
     "metadata": {},
     "output_type": "execute_result"
    }
   ],
   "source": [
    "# 3rd Transformation is Squareroot Transform\n",
    "data_norm.insert(len(data_norm.columns), 'Res_sqrt',\n",
    "         np.sqrt(data_norm.iloc[:,0]))\n",
    "data_norm.insert(len(data_norm.columns), 'Adm_sqrt',\n",
    "         np.sqrt(data_norm.iloc[:,1]))\n",
    "data_norm.head()"
   ]
  },
  {
   "cell_type": "code",
   "execution_count": 59,
   "id": "37a90849",
   "metadata": {},
   "outputs": [
    {
     "data": {
      "text/html": [
       "<div>\n",
       "<style scoped>\n",
       "    .dataframe tbody tr th:only-of-type {\n",
       "        vertical-align: middle;\n",
       "    }\n",
       "\n",
       "    .dataframe tbody tr th {\n",
       "        vertical-align: top;\n",
       "    }\n",
       "\n",
       "    .dataframe thead th {\n",
       "        text-align: right;\n",
       "    }\n",
       "</style>\n",
       "<table border=\"1\" class=\"dataframe\">\n",
       "  <thead>\n",
       "    <tr style=\"text-align: right;\">\n",
       "      <th></th>\n",
       "      <th>skew</th>\n",
       "      <th>kurtosis</th>\n",
       "    </tr>\n",
       "  </thead>\n",
       "  <tbody>\n",
       "    <tr>\n",
       "      <th>Research_Spend</th>\n",
       "      <td>0.191684</td>\n",
       "      <td>-0.601983</td>\n",
       "    </tr>\n",
       "    <tr>\n",
       "      <th>Administration</th>\n",
       "      <td>-0.378768</td>\n",
       "      <td>-0.239681</td>\n",
       "    </tr>\n",
       "    <tr>\n",
       "      <th>Market_Spend</th>\n",
       "      <td>0.006241</td>\n",
       "      <td>-0.649021</td>\n",
       "    </tr>\n",
       "    <tr>\n",
       "      <th>State</th>\n",
       "      <td>4.841323</td>\n",
       "      <td>22.330729</td>\n",
       "    </tr>\n",
       "    <tr>\n",
       "      <th>Profit</th>\n",
       "      <td>0.348027</td>\n",
       "      <td>-0.302705</td>\n",
       "    </tr>\n",
       "    <tr>\n",
       "      <th>Res_sqrt</th>\n",
       "      <td>-0.387860</td>\n",
       "      <td>-0.311548</td>\n",
       "    </tr>\n",
       "    <tr>\n",
       "      <th>Adm_sqrt</th>\n",
       "      <td>-0.990030</td>\n",
       "      <td>0.993125</td>\n",
       "    </tr>\n",
       "  </tbody>\n",
       "</table>\n",
       "</div>"
      ],
      "text/plain": [
       "                    skew   kurtosis\n",
       "Research_Spend  0.191684  -0.601983\n",
       "Administration -0.378768  -0.239681\n",
       "Market_Spend    0.006241  -0.649021\n",
       "State           4.841323  22.330729\n",
       "Profit          0.348027  -0.302705\n",
       "Res_sqrt       -0.387860  -0.311548\n",
       "Adm_sqrt       -0.990030   0.993125"
      ]
     },
     "execution_count": 59,
     "metadata": {},
     "output_type": "execute_result"
    }
   ],
   "source": [
    "data_norm.agg(['skew', 'kurtosis']).transpose()"
   ]
  },
  {
   "cell_type": "markdown",
   "id": "bd62f996",
   "metadata": {},
   "source": [
    "## Model Building using SquareRoot Transformed Data"
   ]
  },
  {
   "cell_type": "code",
   "execution_count": 60,
   "id": "129f2540",
   "metadata": {},
   "outputs": [
    {
     "data": {
      "text/html": [
       "<table class=\"simpletable\">\n",
       "<caption>OLS Regression Results</caption>\n",
       "<tr>\n",
       "  <th>Dep. Variable:</th>         <td>Profit</td>      <th>  R-squared:         </th> <td>   0.941</td>\n",
       "</tr>\n",
       "<tr>\n",
       "  <th>Model:</th>                   <td>OLS</td>       <th>  Adj. R-squared:    </th> <td>   0.936</td>\n",
       "</tr>\n",
       "<tr>\n",
       "  <th>Method:</th>             <td>Least Squares</td>  <th>  F-statistic:       </th> <td>   179.0</td>\n",
       "</tr>\n",
       "<tr>\n",
       "  <th>Date:</th>             <td>Tue, 07 Jun 2022</td> <th>  Prob (F-statistic):</th> <td>5.18e-27</td>\n",
       "</tr>\n",
       "<tr>\n",
       "  <th>Time:</th>                 <td>15:17:49</td>     <th>  Log-Likelihood:    </th> <td>  72.018</td>\n",
       "</tr>\n",
       "<tr>\n",
       "  <th>No. Observations:</th>      <td>    50</td>      <th>  AIC:               </th> <td>  -134.0</td>\n",
       "</tr>\n",
       "<tr>\n",
       "  <th>Df Residuals:</th>          <td>    45</td>      <th>  BIC:               </th> <td>  -124.5</td>\n",
       "</tr>\n",
       "<tr>\n",
       "  <th>Df Model:</th>              <td>     4</td>      <th>                     </th>     <td> </td>   \n",
       "</tr>\n",
       "<tr>\n",
       "  <th>Covariance Type:</th>      <td>nonrobust</td>    <th>                     </th>     <td> </td>   \n",
       "</tr>\n",
       "</table>\n",
       "<table class=\"simpletable\">\n",
       "<tr>\n",
       "        <td></td>          <th>coef</th>     <th>std err</th>      <th>t</th>      <th>P>|t|</th>  <th>[0.025</th>    <th>0.975]</th>  \n",
       "</tr>\n",
       "<tr>\n",
       "  <th>Intercept</th>    <td>   -0.2032</td> <td>    0.052</td> <td>   -3.934</td> <td> 0.000</td> <td>   -0.307</td> <td>   -0.099</td>\n",
       "</tr>\n",
       "<tr>\n",
       "  <th>Res_sqrt</th>     <td>    1.0885</td> <td>    0.068</td> <td>   16.072</td> <td> 0.000</td> <td>    0.952</td> <td>    1.225</td>\n",
       "</tr>\n",
       "<tr>\n",
       "  <th>Adm_sqrt</th>     <td>   -0.0301</td> <td>    0.063</td> <td>   -0.481</td> <td> 0.633</td> <td>   -0.156</td> <td>    0.096</td>\n",
       "</tr>\n",
       "<tr>\n",
       "  <th>Market_Spend</th> <td>    0.1263</td> <td>    0.049</td> <td>    2.583</td> <td> 0.013</td> <td>    0.028</td> <td>    0.225</td>\n",
       "</tr>\n",
       "<tr>\n",
       "  <th>State</th>        <td>   -0.2486</td> <td>    0.050</td> <td>   -4.923</td> <td> 0.000</td> <td>   -0.350</td> <td>   -0.147</td>\n",
       "</tr>\n",
       "</table>\n",
       "<table class=\"simpletable\">\n",
       "<tr>\n",
       "  <th>Omnibus:</th>       <td> 5.019</td> <th>  Durbin-Watson:     </th> <td>   1.321</td>\n",
       "</tr>\n",
       "<tr>\n",
       "  <th>Prob(Omnibus):</th> <td> 0.081</td> <th>  Jarque-Bera (JB):  </th> <td>   3.927</td>\n",
       "</tr>\n",
       "<tr>\n",
       "  <th>Skew:</th>          <td> 0.638</td> <th>  Prob(JB):          </th> <td>   0.140</td>\n",
       "</tr>\n",
       "<tr>\n",
       "  <th>Kurtosis:</th>      <td> 3.506</td> <th>  Cond. No.          </th> <td>    16.8</td>\n",
       "</tr>\n",
       "</table><br/><br/>Notes:<br/>[1] Standard Errors assume that the covariance matrix of the errors is correctly specified."
      ],
      "text/plain": [
       "<class 'statsmodels.iolib.summary.Summary'>\n",
       "\"\"\"\n",
       "                            OLS Regression Results                            \n",
       "==============================================================================\n",
       "Dep. Variable:                 Profit   R-squared:                       0.941\n",
       "Model:                            OLS   Adj. R-squared:                  0.936\n",
       "Method:                 Least Squares   F-statistic:                     179.0\n",
       "Date:                Tue, 07 Jun 2022   Prob (F-statistic):           5.18e-27\n",
       "Time:                        15:17:49   Log-Likelihood:                 72.018\n",
       "No. Observations:                  50   AIC:                            -134.0\n",
       "Df Residuals:                      45   BIC:                            -124.5\n",
       "Df Model:                           4                                         \n",
       "Covariance Type:            nonrobust                                         \n",
       "================================================================================\n",
       "                   coef    std err          t      P>|t|      [0.025      0.975]\n",
       "--------------------------------------------------------------------------------\n",
       "Intercept       -0.2032      0.052     -3.934      0.000      -0.307      -0.099\n",
       "Res_sqrt         1.0885      0.068     16.072      0.000       0.952       1.225\n",
       "Adm_sqrt        -0.0301      0.063     -0.481      0.633      -0.156       0.096\n",
       "Market_Spend     0.1263      0.049      2.583      0.013       0.028       0.225\n",
       "State           -0.2486      0.050     -4.923      0.000      -0.350      -0.147\n",
       "==============================================================================\n",
       "Omnibus:                        5.019   Durbin-Watson:                   1.321\n",
       "Prob(Omnibus):                  0.081   Jarque-Bera (JB):                3.927\n",
       "Skew:                           0.638   Prob(JB):                        0.140\n",
       "Kurtosis:                       3.506   Cond. No.                         16.8\n",
       "==============================================================================\n",
       "\n",
       "Notes:\n",
       "[1] Standard Errors assume that the covariance matrix of the errors is correctly specified.\n",
       "\"\"\""
      ]
     },
     "execution_count": 60,
     "metadata": {},
     "output_type": "execute_result"
    }
   ],
   "source": [
    "# Model Building\n",
    "model_sqrt = smf.ols('Profit ~ Res_sqrt+Adm_sqrt+Market_Spend+State' , data=data_norm).fit()\n",
    "model_sqrt.summary()"
   ]
  },
  {
   "cell_type": "code",
   "execution_count": 61,
   "id": "15a10a65",
   "metadata": {},
   "outputs": [
    {
     "data": {
      "text/html": [
       "<div>\n",
       "<style scoped>\n",
       "    .dataframe tbody tr th:only-of-type {\n",
       "        vertical-align: middle;\n",
       "    }\n",
       "\n",
       "    .dataframe tbody tr th {\n",
       "        vertical-align: top;\n",
       "    }\n",
       "\n",
       "    .dataframe thead th {\n",
       "        text-align: right;\n",
       "    }\n",
       "</style>\n",
       "<table border=\"1\" class=\"dataframe\">\n",
       "  <thead>\n",
       "    <tr style=\"text-align: right;\">\n",
       "      <th></th>\n",
       "      <th>Research_Spend</th>\n",
       "      <th>Administration</th>\n",
       "      <th>Market_Spend</th>\n",
       "      <th>State</th>\n",
       "      <th>Profit</th>\n",
       "      <th>Res_sqrt</th>\n",
       "      <th>Adm_sqrt</th>\n",
       "      <th>Res_log</th>\n",
       "      <th>Adm_log</th>\n",
       "    </tr>\n",
       "  </thead>\n",
       "  <tbody>\n",
       "    <tr>\n",
       "      <th>0</th>\n",
       "      <td>1.100000</td>\n",
       "      <td>0.751744</td>\n",
       "      <td>1.100000</td>\n",
       "      <td>0.100027</td>\n",
       "      <td>1.100000</td>\n",
       "      <td>1.048809</td>\n",
       "      <td>0.867032</td>\n",
       "      <td>0.095310</td>\n",
       "      <td>-0.285360</td>\n",
       "    </tr>\n",
       "    <tr>\n",
       "      <th>1</th>\n",
       "      <td>1.083305</td>\n",
       "      <td>0.861972</td>\n",
       "      <td>1.040893</td>\n",
       "      <td>0.100000</td>\n",
       "      <td>1.097000</td>\n",
       "      <td>1.040819</td>\n",
       "      <td>0.928424</td>\n",
       "      <td>0.080016</td>\n",
       "      <td>-0.148533</td>\n",
       "    </tr>\n",
       "    <tr>\n",
       "      <th>2</th>\n",
       "      <td>1.027748</td>\n",
       "      <td>0.479579</td>\n",
       "      <td>0.964664</td>\n",
       "      <td>0.100014</td>\n",
       "      <td>1.092264</td>\n",
       "      <td>1.013779</td>\n",
       "      <td>0.692516</td>\n",
       "      <td>0.027370</td>\n",
       "      <td>-0.734847</td>\n",
       "    </tr>\n",
       "    <tr>\n",
       "      <th>3</th>\n",
       "      <td>0.972719</td>\n",
       "      <td>0.612998</td>\n",
       "      <td>0.912235</td>\n",
       "      <td>0.100027</td>\n",
       "      <td>1.040226</td>\n",
       "      <td>0.986265</td>\n",
       "      <td>0.782942</td>\n",
       "      <td>-0.027660</td>\n",
       "      <td>-0.489393</td>\n",
       "    </tr>\n",
       "    <tr>\n",
       "      <th>4</th>\n",
       "      <td>0.958975</td>\n",
       "      <td>0.405328</td>\n",
       "      <td>0.876136</td>\n",
       "      <td>0.100014</td>\n",
       "      <td>0.933488</td>\n",
       "      <td>0.979273</td>\n",
       "      <td>0.636654</td>\n",
       "      <td>-0.041890</td>\n",
       "      <td>-0.903059</td>\n",
       "    </tr>\n",
       "  </tbody>\n",
       "</table>\n",
       "</div>"
      ],
      "text/plain": [
       "   Research_Spend  Administration  Market_Spend     State    Profit  Res_sqrt  \\\n",
       "0        1.100000        0.751744      1.100000  0.100027  1.100000  1.048809   \n",
       "1        1.083305        0.861972      1.040893  0.100000  1.097000  1.040819   \n",
       "2        1.027748        0.479579      0.964664  0.100014  1.092264  1.013779   \n",
       "3        0.972719        0.612998      0.912235  0.100027  1.040226  0.986265   \n",
       "4        0.958975        0.405328      0.876136  0.100014  0.933488  0.979273   \n",
       "\n",
       "   Adm_sqrt   Res_log   Adm_log  \n",
       "0  0.867032  0.095310 -0.285360  \n",
       "1  0.928424  0.080016 -0.148533  \n",
       "2  0.692516  0.027370 -0.734847  \n",
       "3  0.782942 -0.027660 -0.489393  \n",
       "4  0.636654 -0.041890 -0.903059  "
      ]
     },
     "execution_count": 61,
     "metadata": {},
     "output_type": "execute_result"
    }
   ],
   "source": [
    "# 4th Transformation is Logerithmic\n",
    "data_norm.insert(len(data_norm.columns), 'Res_log',\n",
    "         np.log(data_norm.iloc[:,0]))\n",
    "data_norm.insert(len(data_norm.columns), 'Adm_log',\n",
    "         np.log(data_norm.iloc[:,1]))\n",
    "data_norm.head()"
   ]
  },
  {
   "cell_type": "code",
   "execution_count": 62,
   "id": "71623fb0",
   "metadata": {},
   "outputs": [
    {
     "data": {
      "text/html": [
       "<div>\n",
       "<style scoped>\n",
       "    .dataframe tbody tr th:only-of-type {\n",
       "        vertical-align: middle;\n",
       "    }\n",
       "\n",
       "    .dataframe tbody tr th {\n",
       "        vertical-align: top;\n",
       "    }\n",
       "\n",
       "    .dataframe thead th {\n",
       "        text-align: right;\n",
       "    }\n",
       "</style>\n",
       "<table border=\"1\" class=\"dataframe\">\n",
       "  <thead>\n",
       "    <tr style=\"text-align: right;\">\n",
       "      <th></th>\n",
       "      <th>skew</th>\n",
       "      <th>kurtosis</th>\n",
       "    </tr>\n",
       "  </thead>\n",
       "  <tbody>\n",
       "    <tr>\n",
       "      <th>Research_Spend</th>\n",
       "      <td>0.191684</td>\n",
       "      <td>-0.601983</td>\n",
       "    </tr>\n",
       "    <tr>\n",
       "      <th>Administration</th>\n",
       "      <td>-0.378768</td>\n",
       "      <td>-0.239681</td>\n",
       "    </tr>\n",
       "    <tr>\n",
       "      <th>Market_Spend</th>\n",
       "      <td>0.006241</td>\n",
       "      <td>-0.649021</td>\n",
       "    </tr>\n",
       "    <tr>\n",
       "      <th>State</th>\n",
       "      <td>4.841323</td>\n",
       "      <td>22.330729</td>\n",
       "    </tr>\n",
       "    <tr>\n",
       "      <th>Profit</th>\n",
       "      <td>0.348027</td>\n",
       "      <td>-0.302705</td>\n",
       "    </tr>\n",
       "    <tr>\n",
       "      <th>Res_sqrt</th>\n",
       "      <td>-0.387860</td>\n",
       "      <td>-0.311548</td>\n",
       "    </tr>\n",
       "    <tr>\n",
       "      <th>Adm_sqrt</th>\n",
       "      <td>-0.990030</td>\n",
       "      <td>0.993125</td>\n",
       "    </tr>\n",
       "    <tr>\n",
       "      <th>Res_log</th>\n",
       "      <td>-1.091103</td>\n",
       "      <td>0.996073</td>\n",
       "    </tr>\n",
       "    <tr>\n",
       "      <th>Adm_log</th>\n",
       "      <td>-1.802733</td>\n",
       "      <td>3.927564</td>\n",
       "    </tr>\n",
       "  </tbody>\n",
       "</table>\n",
       "</div>"
      ],
      "text/plain": [
       "                    skew   kurtosis\n",
       "Research_Spend  0.191684  -0.601983\n",
       "Administration -0.378768  -0.239681\n",
       "Market_Spend    0.006241  -0.649021\n",
       "State           4.841323  22.330729\n",
       "Profit          0.348027  -0.302705\n",
       "Res_sqrt       -0.387860  -0.311548\n",
       "Adm_sqrt       -0.990030   0.993125\n",
       "Res_log        -1.091103   0.996073\n",
       "Adm_log        -1.802733   3.927564"
      ]
     },
     "execution_count": 62,
     "metadata": {},
     "output_type": "execute_result"
    }
   ],
   "source": [
    "data_norm.agg(['skew', 'kurtosis']).transpose()"
   ]
  },
  {
   "cell_type": "markdown",
   "id": "201b9b71",
   "metadata": {},
   "source": [
    "## Model Building using Logerithmic Transformed Data"
   ]
  },
  {
   "cell_type": "code",
   "execution_count": 63,
   "id": "03a95313",
   "metadata": {},
   "outputs": [
    {
     "data": {
      "text/html": [
       "<table class=\"simpletable\">\n",
       "<caption>OLS Regression Results</caption>\n",
       "<tr>\n",
       "  <th>Dep. Variable:</th>         <td>Profit</td>      <th>  R-squared:         </th> <td>   0.887</td>\n",
       "</tr>\n",
       "<tr>\n",
       "  <th>Model:</th>                   <td>OLS</td>       <th>  Adj. R-squared:    </th> <td>   0.877</td>\n",
       "</tr>\n",
       "<tr>\n",
       "  <th>Method:</th>             <td>Least Squares</td>  <th>  F-statistic:       </th> <td>   88.31</td>\n",
       "</tr>\n",
       "<tr>\n",
       "  <th>Date:</th>             <td>Tue, 07 Jun 2022</td> <th>  Prob (F-statistic):</th> <td>1.04e-20</td>\n",
       "</tr>\n",
       "<tr>\n",
       "  <th>Time:</th>                 <td>15:17:49</td>     <th>  Log-Likelihood:    </th> <td>  55.833</td>\n",
       "</tr>\n",
       "<tr>\n",
       "  <th>No. Observations:</th>      <td>    50</td>      <th>  AIC:               </th> <td>  -101.7</td>\n",
       "</tr>\n",
       "<tr>\n",
       "  <th>Df Residuals:</th>          <td>    45</td>      <th>  BIC:               </th> <td>  -92.11</td>\n",
       "</tr>\n",
       "<tr>\n",
       "  <th>Df Model:</th>              <td>     4</td>      <th>                     </th>     <td> </td>   \n",
       "</tr>\n",
       "<tr>\n",
       "  <th>Covariance Type:</th>      <td>nonrobust</td>    <th>                     </th>     <td> </td>   \n",
       "</tr>\n",
       "</table>\n",
       "<table class=\"simpletable\">\n",
       "<tr>\n",
       "        <td></td>          <th>coef</th>     <th>std err</th>      <th>t</th>      <th>P>|t|</th>  <th>[0.025</th>    <th>0.975]</th>  \n",
       "</tr>\n",
       "<tr>\n",
       "  <th>Intercept</th>    <td>    0.7227</td> <td>    0.053</td> <td>   13.646</td> <td> 0.000</td> <td>    0.616</td> <td>    0.829</td>\n",
       "</tr>\n",
       "<tr>\n",
       "  <th>Res_log</th>      <td>    0.3023</td> <td>    0.028</td> <td>   10.716</td> <td> 0.000</td> <td>    0.246</td> <td>    0.359</td>\n",
       "</tr>\n",
       "<tr>\n",
       "  <th>Adm_log</th>      <td>   -0.0011</td> <td>    0.027</td> <td>   -0.039</td> <td> 0.969</td> <td>   -0.056</td> <td>    0.054</td>\n",
       "</tr>\n",
       "<tr>\n",
       "  <th>Market_Spend</th> <td>    0.2268</td> <td>    0.063</td> <td>    3.583</td> <td> 0.001</td> <td>    0.099</td> <td>    0.354</td>\n",
       "</tr>\n",
       "<tr>\n",
       "  <th>State</th>        <td>   -0.2320</td> <td>    0.069</td> <td>   -3.364</td> <td> 0.002</td> <td>   -0.371</td> <td>   -0.093</td>\n",
       "</tr>\n",
       "</table>\n",
       "<table class=\"simpletable\">\n",
       "<tr>\n",
       "  <th>Omnibus:</th>       <td> 7.304</td> <th>  Durbin-Watson:     </th> <td>   1.057</td>\n",
       "</tr>\n",
       "<tr>\n",
       "  <th>Prob(Omnibus):</th> <td> 0.026</td> <th>  Jarque-Bera (JB):  </th> <td>   6.266</td>\n",
       "</tr>\n",
       "<tr>\n",
       "  <th>Skew:</th>          <td> 0.787</td> <th>  Prob(JB):          </th> <td>  0.0436</td>\n",
       "</tr>\n",
       "<tr>\n",
       "  <th>Kurtosis:</th>      <td> 3.729</td> <th>  Cond. No.          </th> <td>    11.9</td>\n",
       "</tr>\n",
       "</table><br/><br/>Notes:<br/>[1] Standard Errors assume that the covariance matrix of the errors is correctly specified."
      ],
      "text/plain": [
       "<class 'statsmodels.iolib.summary.Summary'>\n",
       "\"\"\"\n",
       "                            OLS Regression Results                            \n",
       "==============================================================================\n",
       "Dep. Variable:                 Profit   R-squared:                       0.887\n",
       "Model:                            OLS   Adj. R-squared:                  0.877\n",
       "Method:                 Least Squares   F-statistic:                     88.31\n",
       "Date:                Tue, 07 Jun 2022   Prob (F-statistic):           1.04e-20\n",
       "Time:                        15:17:49   Log-Likelihood:                 55.833\n",
       "No. Observations:                  50   AIC:                            -101.7\n",
       "Df Residuals:                      45   BIC:                            -92.11\n",
       "Df Model:                           4                                         \n",
       "Covariance Type:            nonrobust                                         \n",
       "================================================================================\n",
       "                   coef    std err          t      P>|t|      [0.025      0.975]\n",
       "--------------------------------------------------------------------------------\n",
       "Intercept        0.7227      0.053     13.646      0.000       0.616       0.829\n",
       "Res_log          0.3023      0.028     10.716      0.000       0.246       0.359\n",
       "Adm_log         -0.0011      0.027     -0.039      0.969      -0.056       0.054\n",
       "Market_Spend     0.2268      0.063      3.583      0.001       0.099       0.354\n",
       "State           -0.2320      0.069     -3.364      0.002      -0.371      -0.093\n",
       "==============================================================================\n",
       "Omnibus:                        7.304   Durbin-Watson:                   1.057\n",
       "Prob(Omnibus):                  0.026   Jarque-Bera (JB):                6.266\n",
       "Skew:                           0.787   Prob(JB):                       0.0436\n",
       "Kurtosis:                       3.729   Cond. No.                         11.9\n",
       "==============================================================================\n",
       "\n",
       "Notes:\n",
       "[1] Standard Errors assume that the covariance matrix of the errors is correctly specified.\n",
       "\"\"\""
      ]
     },
     "execution_count": 63,
     "metadata": {},
     "output_type": "execute_result"
    }
   ],
   "source": [
    "# Model Building\n",
    "model_log = smf.ols('Profit ~ Res_log+Adm_log+Market_Spend+State' , data=data_norm).fit()\n",
    "model_log.summary()"
   ]
  },
  {
   "cell_type": "code",
   "execution_count": 64,
   "id": "2fdce04c",
   "metadata": {},
   "outputs": [
    {
     "data": {
      "text/html": [
       "<div>\n",
       "<style scoped>\n",
       "    .dataframe tbody tr th:only-of-type {\n",
       "        vertical-align: middle;\n",
       "    }\n",
       "\n",
       "    .dataframe tbody tr th {\n",
       "        vertical-align: top;\n",
       "    }\n",
       "\n",
       "    .dataframe thead th {\n",
       "        text-align: right;\n",
       "    }\n",
       "</style>\n",
       "<table border=\"1\" class=\"dataframe\">\n",
       "  <thead>\n",
       "    <tr style=\"text-align: right;\">\n",
       "      <th></th>\n",
       "      <th>Research_Spend</th>\n",
       "      <th>Administration</th>\n",
       "      <th>Market_Spend</th>\n",
       "      <th>State</th>\n",
       "      <th>Profit</th>\n",
       "      <th>Res_sqrt</th>\n",
       "      <th>Adm_sqrt</th>\n",
       "      <th>Res_log</th>\n",
       "      <th>Adm_log</th>\n",
       "      <th>Res_boxcox</th>\n",
       "      <th>Adm_boxcox</th>\n",
       "    </tr>\n",
       "  </thead>\n",
       "  <tbody>\n",
       "    <tr>\n",
       "      <th>0</th>\n",
       "      <td>1.100000</td>\n",
       "      <td>0.751744</td>\n",
       "      <td>1.100000</td>\n",
       "      <td>0.100027</td>\n",
       "      <td>1.100000</td>\n",
       "      <td>1.048809</td>\n",
       "      <td>0.867032</td>\n",
       "      <td>0.095310</td>\n",
       "      <td>-0.285360</td>\n",
       "      <td>0.098704</td>\n",
       "      <td>-0.241061</td>\n",
       "    </tr>\n",
       "    <tr>\n",
       "      <th>1</th>\n",
       "      <td>1.083305</td>\n",
       "      <td>0.861972</td>\n",
       "      <td>1.040893</td>\n",
       "      <td>0.100000</td>\n",
       "      <td>1.097000</td>\n",
       "      <td>1.040819</td>\n",
       "      <td>0.928424</td>\n",
       "      <td>0.080016</td>\n",
       "      <td>-0.148533</td>\n",
       "      <td>0.082399</td>\n",
       "      <td>-0.135876</td>\n",
       "    </tr>\n",
       "    <tr>\n",
       "      <th>2</th>\n",
       "      <td>1.027748</td>\n",
       "      <td>0.479579</td>\n",
       "      <td>0.964664</td>\n",
       "      <td>0.100014</td>\n",
       "      <td>1.092264</td>\n",
       "      <td>1.013779</td>\n",
       "      <td>0.692516</td>\n",
       "      <td>0.027370</td>\n",
       "      <td>-0.734847</td>\n",
       "      <td>0.027645</td>\n",
       "      <td>-0.485620</td>\n",
       "    </tr>\n",
       "    <tr>\n",
       "      <th>3</th>\n",
       "      <td>0.972719</td>\n",
       "      <td>0.612998</td>\n",
       "      <td>0.912235</td>\n",
       "      <td>0.100027</td>\n",
       "      <td>1.040226</td>\n",
       "      <td>0.986265</td>\n",
       "      <td>0.782942</td>\n",
       "      <td>-0.027660</td>\n",
       "      <td>-0.489393</td>\n",
       "      <td>-0.027382</td>\n",
       "      <td>-0.368697</td>\n",
       "    </tr>\n",
       "    <tr>\n",
       "      <th>4</th>\n",
       "      <td>0.958975</td>\n",
       "      <td>0.405328</td>\n",
       "      <td>0.876136</td>\n",
       "      <td>0.100014</td>\n",
       "      <td>0.933488</td>\n",
       "      <td>0.979273</td>\n",
       "      <td>0.636654</td>\n",
       "      <td>-0.041890</td>\n",
       "      <td>-0.903059</td>\n",
       "      <td>-0.041256</td>\n",
       "      <td>-0.547787</td>\n",
       "    </tr>\n",
       "  </tbody>\n",
       "</table>\n",
       "</div>"
      ],
      "text/plain": [
       "   Research_Spend  Administration  Market_Spend     State    Profit  Res_sqrt  \\\n",
       "0        1.100000        0.751744      1.100000  0.100027  1.100000  1.048809   \n",
       "1        1.083305        0.861972      1.040893  0.100000  1.097000  1.040819   \n",
       "2        1.027748        0.479579      0.964664  0.100014  1.092264  1.013779   \n",
       "3        0.972719        0.612998      0.912235  0.100027  1.040226  0.986265   \n",
       "4        0.958975        0.405328      0.876136  0.100014  0.933488  0.979273   \n",
       "\n",
       "   Adm_sqrt   Res_log   Adm_log  Res_boxcox  Adm_boxcox  \n",
       "0  0.867032  0.095310 -0.285360    0.098704   -0.241061  \n",
       "1  0.928424  0.080016 -0.148533    0.082399   -0.135876  \n",
       "2  0.692516  0.027370 -0.734847    0.027645   -0.485620  \n",
       "3  0.782942 -0.027660 -0.489393   -0.027382   -0.368697  \n",
       "4  0.636654 -0.041890 -0.903059   -0.041256   -0.547787  "
      ]
     },
     "execution_count": 64,
     "metadata": {},
     "output_type": "execute_result"
    }
   ],
   "source": [
    "# 5th Transformation is Box-Cox Transformation\n",
    "from scipy.stats import boxcox\n",
    "\n",
    "data_norm.insert(len(data_norm.columns), 'Res_boxcox', \n",
    "              boxcox(data_norm.iloc[:, 0])[0])\n",
    "data_norm.insert(len(data_norm.columns), 'Adm_boxcox', \n",
    "              boxcox(data_norm.iloc[:, 1])[0])\n",
    "data_norm.head()"
   ]
  },
  {
   "cell_type": "code",
   "execution_count": 65,
   "id": "c9b9902f",
   "metadata": {},
   "outputs": [
    {
     "data": {
      "text/html": [
       "<div>\n",
       "<style scoped>\n",
       "    .dataframe tbody tr th:only-of-type {\n",
       "        vertical-align: middle;\n",
       "    }\n",
       "\n",
       "    .dataframe tbody tr th {\n",
       "        vertical-align: top;\n",
       "    }\n",
       "\n",
       "    .dataframe thead th {\n",
       "        text-align: right;\n",
       "    }\n",
       "</style>\n",
       "<table border=\"1\" class=\"dataframe\">\n",
       "  <thead>\n",
       "    <tr style=\"text-align: right;\">\n",
       "      <th></th>\n",
       "      <th>skew</th>\n",
       "      <th>kurtosis</th>\n",
       "    </tr>\n",
       "  </thead>\n",
       "  <tbody>\n",
       "    <tr>\n",
       "      <th>Research_Spend</th>\n",
       "      <td>0.191684</td>\n",
       "      <td>-0.601983</td>\n",
       "    </tr>\n",
       "    <tr>\n",
       "      <th>Administration</th>\n",
       "      <td>-0.378768</td>\n",
       "      <td>-0.239681</td>\n",
       "    </tr>\n",
       "    <tr>\n",
       "      <th>Market_Spend</th>\n",
       "      <td>0.006241</td>\n",
       "      <td>-0.649021</td>\n",
       "    </tr>\n",
       "    <tr>\n",
       "      <th>State</th>\n",
       "      <td>4.841323</td>\n",
       "      <td>22.330729</td>\n",
       "    </tr>\n",
       "    <tr>\n",
       "      <th>Profit</th>\n",
       "      <td>0.348027</td>\n",
       "      <td>-0.302705</td>\n",
       "    </tr>\n",
       "    <tr>\n",
       "      <th>Res_sqrt</th>\n",
       "      <td>-0.387860</td>\n",
       "      <td>-0.311548</td>\n",
       "    </tr>\n",
       "    <tr>\n",
       "      <th>Adm_sqrt</th>\n",
       "      <td>-0.990030</td>\n",
       "      <td>0.993125</td>\n",
       "    </tr>\n",
       "    <tr>\n",
       "      <th>Res_log</th>\n",
       "      <td>-1.091103</td>\n",
       "      <td>0.996073</td>\n",
       "    </tr>\n",
       "    <tr>\n",
       "      <th>Adm_log</th>\n",
       "      <td>-1.802733</td>\n",
       "      <td>3.927564</td>\n",
       "    </tr>\n",
       "    <tr>\n",
       "      <th>Res_boxcox</th>\n",
       "      <td>-0.105359</td>\n",
       "      <td>-0.543807</td>\n",
       "    </tr>\n",
       "    <tr>\n",
       "      <th>Adm_boxcox</th>\n",
       "      <td>-0.162067</td>\n",
       "      <td>-0.425663</td>\n",
       "    </tr>\n",
       "  </tbody>\n",
       "</table>\n",
       "</div>"
      ],
      "text/plain": [
       "                    skew   kurtosis\n",
       "Research_Spend  0.191684  -0.601983\n",
       "Administration -0.378768  -0.239681\n",
       "Market_Spend    0.006241  -0.649021\n",
       "State           4.841323  22.330729\n",
       "Profit          0.348027  -0.302705\n",
       "Res_sqrt       -0.387860  -0.311548\n",
       "Adm_sqrt       -0.990030   0.993125\n",
       "Res_log        -1.091103   0.996073\n",
       "Adm_log        -1.802733   3.927564\n",
       "Res_boxcox     -0.105359  -0.543807\n",
       "Adm_boxcox     -0.162067  -0.425663"
      ]
     },
     "execution_count": 65,
     "metadata": {},
     "output_type": "execute_result"
    }
   ],
   "source": [
    "data_norm.agg(['skew', 'kurtosis']).transpose()"
   ]
  },
  {
   "cell_type": "markdown",
   "id": "e5b296c7",
   "metadata": {},
   "source": [
    "## Model Build Using Boxcox Transformation"
   ]
  },
  {
   "cell_type": "code",
   "execution_count": 66,
   "id": "b03bb7cc",
   "metadata": {},
   "outputs": [
    {
     "data": {
      "text/html": [
       "<table class=\"simpletable\">\n",
       "<caption>OLS Regression Results</caption>\n",
       "<tr>\n",
       "  <th>Dep. Variable:</th>         <td>Profit</td>      <th>  R-squared:         </th> <td>   0.955</td>\n",
       "</tr>\n",
       "<tr>\n",
       "  <th>Model:</th>                   <td>OLS</td>       <th>  Adj. R-squared:    </th> <td>   0.951</td>\n",
       "</tr>\n",
       "<tr>\n",
       "  <th>Method:</th>             <td>Least Squares</td>  <th>  F-statistic:       </th> <td>   237.5</td>\n",
       "</tr>\n",
       "<tr>\n",
       "  <th>Date:</th>             <td>Tue, 07 Jun 2022</td> <th>  Prob (F-statistic):</th> <td>1.26e-29</td>\n",
       "</tr>\n",
       "<tr>\n",
       "  <th>Time:</th>                 <td>15:17:49</td>     <th>  Log-Likelihood:    </th> <td>  78.724</td>\n",
       "</tr>\n",
       "<tr>\n",
       "  <th>No. Observations:</th>      <td>    50</td>      <th>  AIC:               </th> <td>  -147.4</td>\n",
       "</tr>\n",
       "<tr>\n",
       "  <th>Df Residuals:</th>          <td>    45</td>      <th>  BIC:               </th> <td>  -137.9</td>\n",
       "</tr>\n",
       "<tr>\n",
       "  <th>Df Model:</th>              <td>     4</td>      <th>                     </th>     <td> </td>   \n",
       "</tr>\n",
       "<tr>\n",
       "  <th>Covariance Type:</th>      <td>nonrobust</td>    <th>                     </th>     <td> </td>   \n",
       "</tr>\n",
       "</table>\n",
       "<table class=\"simpletable\">\n",
       "<tr>\n",
       "        <td></td>          <th>coef</th>     <th>std err</th>      <th>t</th>      <th>P>|t|</th>  <th>[0.025</th>    <th>0.975]</th>  \n",
       "</tr>\n",
       "<tr>\n",
       "  <th>Intercept</th>    <td>    0.9029</td> <td>    0.039</td> <td>   23.206</td> <td> 0.000</td> <td>    0.824</td> <td>    0.981</td>\n",
       "</tr>\n",
       "<tr>\n",
       "  <th>Res_boxcox</th>   <td>    0.6731</td> <td>    0.036</td> <td>   18.799</td> <td> 0.000</td> <td>    0.601</td> <td>    0.745</td>\n",
       "</tr>\n",
       "<tr>\n",
       "  <th>Adm_boxcox</th>   <td>   -0.0323</td> <td>    0.044</td> <td>   -0.729</td> <td> 0.470</td> <td>   -0.121</td> <td>    0.057</td>\n",
       "</tr>\n",
       "<tr>\n",
       "  <th>Market_Spend</th> <td>    0.0914</td> <td>    0.044</td> <td>    2.067</td> <td> 0.044</td> <td>    0.002</td> <td>    0.181</td>\n",
       "</tr>\n",
       "<tr>\n",
       "  <th>State</th>        <td>   -0.2487</td> <td>    0.044</td> <td>   -5.639</td> <td> 0.000</td> <td>   -0.338</td> <td>   -0.160</td>\n",
       "</tr>\n",
       "</table>\n",
       "<table class=\"simpletable\">\n",
       "<tr>\n",
       "  <th>Omnibus:</th>       <td> 1.296</td> <th>  Durbin-Watson:     </th> <td>   1.575</td>\n",
       "</tr>\n",
       "<tr>\n",
       "  <th>Prob(Omnibus):</th> <td> 0.523</td> <th>  Jarque-Bera (JB):  </th> <td>   1.028</td>\n",
       "</tr>\n",
       "<tr>\n",
       "  <th>Skew:</th>          <td> 0.349</td> <th>  Prob(JB):          </th> <td>   0.598</td>\n",
       "</tr>\n",
       "<tr>\n",
       "  <th>Kurtosis:</th>      <td> 2.921</td> <th>  Cond. No.          </th> <td>    12.4</td>\n",
       "</tr>\n",
       "</table><br/><br/>Notes:<br/>[1] Standard Errors assume that the covariance matrix of the errors is correctly specified."
      ],
      "text/plain": [
       "<class 'statsmodels.iolib.summary.Summary'>\n",
       "\"\"\"\n",
       "                            OLS Regression Results                            \n",
       "==============================================================================\n",
       "Dep. Variable:                 Profit   R-squared:                       0.955\n",
       "Model:                            OLS   Adj. R-squared:                  0.951\n",
       "Method:                 Least Squares   F-statistic:                     237.5\n",
       "Date:                Tue, 07 Jun 2022   Prob (F-statistic):           1.26e-29\n",
       "Time:                        15:17:49   Log-Likelihood:                 78.724\n",
       "No. Observations:                  50   AIC:                            -147.4\n",
       "Df Residuals:                      45   BIC:                            -137.9\n",
       "Df Model:                           4                                         \n",
       "Covariance Type:            nonrobust                                         \n",
       "================================================================================\n",
       "                   coef    std err          t      P>|t|      [0.025      0.975]\n",
       "--------------------------------------------------------------------------------\n",
       "Intercept        0.9029      0.039     23.206      0.000       0.824       0.981\n",
       "Res_boxcox       0.6731      0.036     18.799      0.000       0.601       0.745\n",
       "Adm_boxcox      -0.0323      0.044     -0.729      0.470      -0.121       0.057\n",
       "Market_Spend     0.0914      0.044      2.067      0.044       0.002       0.181\n",
       "State           -0.2487      0.044     -5.639      0.000      -0.338      -0.160\n",
       "==============================================================================\n",
       "Omnibus:                        1.296   Durbin-Watson:                   1.575\n",
       "Prob(Omnibus):                  0.523   Jarque-Bera (JB):                1.028\n",
       "Skew:                           0.349   Prob(JB):                        0.598\n",
       "Kurtosis:                       2.921   Cond. No.                         12.4\n",
       "==============================================================================\n",
       "\n",
       "Notes:\n",
       "[1] Standard Errors assume that the covariance matrix of the errors is correctly specified.\n",
       "\"\"\""
      ]
     },
     "execution_count": 66,
     "metadata": {},
     "output_type": "execute_result"
    }
   ],
   "source": [
    "# Model Building\n",
    "model_boxcox = smf.ols('Profit ~ Res_boxcox+Adm_boxcox+Market_Spend+State' , data=data_norm).fit()\n",
    "model_boxcox.summary()"
   ]
  },
  {
   "cell_type": "code",
   "execution_count": 67,
   "id": "b9763b9d",
   "metadata": {},
   "outputs": [
    {
     "data": {
      "text/html": [
       "<div>\n",
       "<style scoped>\n",
       "    .dataframe tbody tr th:only-of-type {\n",
       "        vertical-align: middle;\n",
       "    }\n",
       "\n",
       "    .dataframe tbody tr th {\n",
       "        vertical-align: top;\n",
       "    }\n",
       "\n",
       "    .dataframe thead th {\n",
       "        text-align: right;\n",
       "    }\n",
       "</style>\n",
       "<table border=\"1\" class=\"dataframe\">\n",
       "  <thead>\n",
       "    <tr style=\"text-align: right;\">\n",
       "      <th></th>\n",
       "      <th>Model</th>\n",
       "      <th>R_Squared</th>\n",
       "      <th>AIC</th>\n",
       "    </tr>\n",
       "  </thead>\n",
       "  <tbody>\n",
       "    <tr>\n",
       "      <th>0</th>\n",
       "      <td>Model_sqrt</td>\n",
       "      <td>0.940853</td>\n",
       "      <td>-134.035467</td>\n",
       "    </tr>\n",
       "    <tr>\n",
       "      <th>1</th>\n",
       "      <td>Model_log</td>\n",
       "      <td>0.886998</td>\n",
       "      <td>-101.666924</td>\n",
       "    </tr>\n",
       "    <tr>\n",
       "      <th>2</th>\n",
       "      <td>Model_boxcox</td>\n",
       "      <td>0.954770</td>\n",
       "      <td>-147.448811</td>\n",
       "    </tr>\n",
       "  </tbody>\n",
       "</table>\n",
       "</div>"
      ],
      "text/plain": [
       "          Model  R_Squared         AIC\n",
       "0    Model_sqrt   0.940853 -134.035467\n",
       "1     Model_log   0.886998 -101.666924\n",
       "2  Model_boxcox   0.954770 -147.448811"
      ]
     },
     "execution_count": 67,
     "metadata": {},
     "output_type": "execute_result"
    }
   ],
   "source": [
    "r_value = {'Model':['Model_sqrt' , 'Model_log' , 'Model_boxcox'] , \n",
    "          'R_Squared':[model_sqrt.rsquared, model_log.rsquared , model_boxcox.rsquared],\n",
    "          'AIC':[model_sqrt.aic , model_log.aic , model_boxcox.aic]}\n",
    "r_square_value = pd.DataFrame(r_value)\n",
    "r_square_value"
   ]
  },
  {
   "cell_type": "code",
   "execution_count": null,
   "id": "81de0614",
   "metadata": {},
   "outputs": [],
   "source": []
  }
 ],
 "metadata": {
  "kernelspec": {
   "display_name": "Python 3 (ipykernel)",
   "language": "python",
   "name": "python3"
  },
  "language_info": {
   "codemirror_mode": {
    "name": "ipython",
    "version": 3
   },
   "file_extension": ".py",
   "mimetype": "text/x-python",
   "name": "python",
   "nbconvert_exporter": "python",
   "pygments_lexer": "ipython3",
   "version": "3.9.7"
  }
 },
 "nbformat": 4,
 "nbformat_minor": 5
}
