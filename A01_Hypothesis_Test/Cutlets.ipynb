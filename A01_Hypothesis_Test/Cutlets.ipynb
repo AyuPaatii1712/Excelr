{
 "cells": [
  {
   "cell_type": "code",
   "execution_count": 1,
   "id": "257b8809",
   "metadata": {},
   "outputs": [],
   "source": [
    "import pandas as pd\n",
    "import numpy as np\n",
    "from scipy.stats import ttest_ind"
   ]
  },
  {
   "cell_type": "markdown",
   "id": "b735fdec",
   "metadata": {},
   "source": [
    "## Assumptions"
   ]
  },
  {
   "cell_type": "markdown",
   "id": "5fee3a92",
   "metadata": {},
   "source": [
    "#### Ho = 'Diameter of Cutlet are same between 2 Units'                   \n",
    "#### Ha = 'Diameter of Cutlet have significant difference between 2 Units'"
   ]
  },
  {
   "cell_type": "markdown",
   "id": "d1752b38",
   "metadata": {},
   "source": [
    "#### alpha-value = 0.05"
   ]
  },
  {
   "cell_type": "code",
   "execution_count": 2,
   "id": "2951786c",
   "metadata": {},
   "outputs": [],
   "source": [
    "unitA = pd.read_csv('Cutlets.csv', usecols = ['Unit A'],squeeze=True)\n",
    "unitB = pd.read_csv('Cutlets.csv', usecols = ['Unit B'],squeeze=True)"
   ]
  },
  {
   "cell_type": "code",
   "execution_count": 3,
   "id": "d635730c",
   "metadata": {},
   "outputs": [
    {
     "data": {
      "text/plain": [
       "(0    6.8090\n",
       " 1    6.4376\n",
       " 2    6.9157\n",
       " 3    7.3012\n",
       " 4    7.4488\n",
       " Name: Unit A, dtype: float64,\n",
       " 0    6.7703\n",
       " 1    7.5093\n",
       " 2    6.7300\n",
       " 3    6.7878\n",
       " 4    7.1522\n",
       " Name: Unit B, dtype: float64)"
      ]
     },
     "execution_count": 3,
     "metadata": {},
     "output_type": "execute_result"
    }
   ],
   "source": [
    "unitA.head() , unitB.head()"
   ]
  },
  {
   "cell_type": "markdown",
   "id": "20c4b247",
   "metadata": {},
   "source": [
    "#### I am performing Independent 2 sample t-test with two tail test."
   ]
  },
  {
   "cell_type": "code",
   "execution_count": 4,
   "id": "732b65d4",
   "metadata": {},
   "outputs": [],
   "source": [
    "test = ttest_ind(unitA , unitB)"
   ]
  },
  {
   "cell_type": "code",
   "execution_count": 5,
   "id": "6a497590",
   "metadata": {},
   "outputs": [
    {
     "data": {
      "text/plain": [
       "0.4722394724599501"
      ]
     },
     "execution_count": 5,
     "metadata": {},
     "output_type": "execute_result"
    }
   ],
   "source": [
    "p_value=test[1]\n",
    "p_value"
   ]
  },
  {
   "cell_type": "markdown",
   "id": "d5733f4c",
   "metadata": {},
   "source": [
    "#### As we can see that p-value is greater than alpha-value. Therefore we \"Fail to Reject Ho\"."
   ]
  },
  {
   "cell_type": "markdown",
   "id": "6117661e",
   "metadata": {},
   "source": [
    "## Conclusion"
   ]
  },
  {
   "cell_type": "markdown",
   "id": "710bb140",
   "metadata": {},
   "source": [
    "#### The Diameter of cutlet are same between 2 Units"
   ]
  },
  {
   "cell_type": "code",
   "execution_count": null,
   "id": "9a782fb5",
   "metadata": {},
   "outputs": [],
   "source": []
  }
 ],
 "metadata": {
  "kernelspec": {
   "display_name": "Python 3 (ipykernel)",
   "language": "python",
   "name": "python3"
  },
  "language_info": {
   "codemirror_mode": {
    "name": "ipython",
    "version": 3
   },
   "file_extension": ".py",
   "mimetype": "text/x-python",
   "name": "python",
   "nbconvert_exporter": "python",
   "pygments_lexer": "ipython3",
   "version": "3.9.7"
  }
 },
 "nbformat": 4,
 "nbformat_minor": 5
}
