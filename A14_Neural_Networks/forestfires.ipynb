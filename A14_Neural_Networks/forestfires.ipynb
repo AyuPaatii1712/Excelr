{
  "cells": [
    {
      "cell_type": "code",
      "execution_count": 1,
      "id": "cf4f982a",
      "metadata": {
        "id": "cf4f982a"
      },
      "outputs": [],
      "source": [
        "import pandas as pd \n",
        "import numpy as np \n",
        "import matplotlib.pyplot as plt\n",
        "import seaborn as sns"
      ]
    },
    {
      "cell_type": "markdown",
      "id": "b7675c69",
      "metadata": {
        "id": "b7675c69"
      },
      "source": [
        "## Load the Data"
      ]
    },
    {
      "cell_type": "code",
      "source": [
        "from google.colab import drive\n",
        "drive.mount('/content/drive')"
      ],
      "metadata": {
        "colab": {
          "base_uri": "https://localhost:8080/"
        },
        "id": "lQ73_yvvmOPj",
        "outputId": "4f206b92-95cf-4426-cb75-55f01f573cbc"
      },
      "id": "lQ73_yvvmOPj",
      "execution_count": 2,
      "outputs": [
        {
          "output_type": "stream",
          "name": "stdout",
          "text": [
            "Mounted at /content/drive\n"
          ]
        }
      ]
    },
    {
      "cell_type": "code",
      "execution_count": 3,
      "id": "de61dc35",
      "metadata": {
        "colab": {
          "base_uri": "https://localhost:8080/",
          "height": 300
        },
        "id": "de61dc35",
        "outputId": "f1b861b8-b2f0-4c79-b3ce-b87503b0f8f8"
      },
      "outputs": [
        {
          "output_type": "execute_result",
          "data": {
            "text/plain": [
              "  month  day  FFMC   DMC     DC  ISI  temp  RH  wind  rain  ...  monthfeb  \\\n",
              "0   mar  fri  86.2  26.2   94.3  5.1   8.2  51   6.7   0.0  ...         0   \n",
              "1   oct  tue  90.6  35.4  669.1  6.7  18.0  33   0.9   0.0  ...         0   \n",
              "2   oct  sat  90.6  43.7  686.9  6.7  14.6  33   1.3   0.0  ...         0   \n",
              "3   mar  fri  91.7  33.3   77.5  9.0   8.3  97   4.0   0.2  ...         0   \n",
              "4   mar  sun  89.3  51.3  102.2  9.6  11.4  99   1.8   0.0  ...         0   \n",
              "\n",
              "   monthjan  monthjul  monthjun  monthmar  monthmay  monthnov  monthoct  \\\n",
              "0         0         0         0         1         0         0         0   \n",
              "1         0         0         0         0         0         0         1   \n",
              "2         0         0         0         0         0         0         1   \n",
              "3         0         0         0         1         0         0         0   \n",
              "4         0         0         0         1         0         0         0   \n",
              "\n",
              "   monthsep  size_category  \n",
              "0         0          small  \n",
              "1         0          small  \n",
              "2         0          small  \n",
              "3         0          small  \n",
              "4         0          small  \n",
              "\n",
              "[5 rows x 31 columns]"
            ],
            "text/html": [
              "\n",
              "  <div id=\"df-4e663aff-ecc4-46a3-bd52-f459b1767ce4\">\n",
              "    <div class=\"colab-df-container\">\n",
              "      <div>\n",
              "<style scoped>\n",
              "    .dataframe tbody tr th:only-of-type {\n",
              "        vertical-align: middle;\n",
              "    }\n",
              "\n",
              "    .dataframe tbody tr th {\n",
              "        vertical-align: top;\n",
              "    }\n",
              "\n",
              "    .dataframe thead th {\n",
              "        text-align: right;\n",
              "    }\n",
              "</style>\n",
              "<table border=\"1\" class=\"dataframe\">\n",
              "  <thead>\n",
              "    <tr style=\"text-align: right;\">\n",
              "      <th></th>\n",
              "      <th>month</th>\n",
              "      <th>day</th>\n",
              "      <th>FFMC</th>\n",
              "      <th>DMC</th>\n",
              "      <th>DC</th>\n",
              "      <th>ISI</th>\n",
              "      <th>temp</th>\n",
              "      <th>RH</th>\n",
              "      <th>wind</th>\n",
              "      <th>rain</th>\n",
              "      <th>...</th>\n",
              "      <th>monthfeb</th>\n",
              "      <th>monthjan</th>\n",
              "      <th>monthjul</th>\n",
              "      <th>monthjun</th>\n",
              "      <th>monthmar</th>\n",
              "      <th>monthmay</th>\n",
              "      <th>monthnov</th>\n",
              "      <th>monthoct</th>\n",
              "      <th>monthsep</th>\n",
              "      <th>size_category</th>\n",
              "    </tr>\n",
              "  </thead>\n",
              "  <tbody>\n",
              "    <tr>\n",
              "      <th>0</th>\n",
              "      <td>mar</td>\n",
              "      <td>fri</td>\n",
              "      <td>86.2</td>\n",
              "      <td>26.2</td>\n",
              "      <td>94.3</td>\n",
              "      <td>5.1</td>\n",
              "      <td>8.2</td>\n",
              "      <td>51</td>\n",
              "      <td>6.7</td>\n",
              "      <td>0.0</td>\n",
              "      <td>...</td>\n",
              "      <td>0</td>\n",
              "      <td>0</td>\n",
              "      <td>0</td>\n",
              "      <td>0</td>\n",
              "      <td>1</td>\n",
              "      <td>0</td>\n",
              "      <td>0</td>\n",
              "      <td>0</td>\n",
              "      <td>0</td>\n",
              "      <td>small</td>\n",
              "    </tr>\n",
              "    <tr>\n",
              "      <th>1</th>\n",
              "      <td>oct</td>\n",
              "      <td>tue</td>\n",
              "      <td>90.6</td>\n",
              "      <td>35.4</td>\n",
              "      <td>669.1</td>\n",
              "      <td>6.7</td>\n",
              "      <td>18.0</td>\n",
              "      <td>33</td>\n",
              "      <td>0.9</td>\n",
              "      <td>0.0</td>\n",
              "      <td>...</td>\n",
              "      <td>0</td>\n",
              "      <td>0</td>\n",
              "      <td>0</td>\n",
              "      <td>0</td>\n",
              "      <td>0</td>\n",
              "      <td>0</td>\n",
              "      <td>0</td>\n",
              "      <td>1</td>\n",
              "      <td>0</td>\n",
              "      <td>small</td>\n",
              "    </tr>\n",
              "    <tr>\n",
              "      <th>2</th>\n",
              "      <td>oct</td>\n",
              "      <td>sat</td>\n",
              "      <td>90.6</td>\n",
              "      <td>43.7</td>\n",
              "      <td>686.9</td>\n",
              "      <td>6.7</td>\n",
              "      <td>14.6</td>\n",
              "      <td>33</td>\n",
              "      <td>1.3</td>\n",
              "      <td>0.0</td>\n",
              "      <td>...</td>\n",
              "      <td>0</td>\n",
              "      <td>0</td>\n",
              "      <td>0</td>\n",
              "      <td>0</td>\n",
              "      <td>0</td>\n",
              "      <td>0</td>\n",
              "      <td>0</td>\n",
              "      <td>1</td>\n",
              "      <td>0</td>\n",
              "      <td>small</td>\n",
              "    </tr>\n",
              "    <tr>\n",
              "      <th>3</th>\n",
              "      <td>mar</td>\n",
              "      <td>fri</td>\n",
              "      <td>91.7</td>\n",
              "      <td>33.3</td>\n",
              "      <td>77.5</td>\n",
              "      <td>9.0</td>\n",
              "      <td>8.3</td>\n",
              "      <td>97</td>\n",
              "      <td>4.0</td>\n",
              "      <td>0.2</td>\n",
              "      <td>...</td>\n",
              "      <td>0</td>\n",
              "      <td>0</td>\n",
              "      <td>0</td>\n",
              "      <td>0</td>\n",
              "      <td>1</td>\n",
              "      <td>0</td>\n",
              "      <td>0</td>\n",
              "      <td>0</td>\n",
              "      <td>0</td>\n",
              "      <td>small</td>\n",
              "    </tr>\n",
              "    <tr>\n",
              "      <th>4</th>\n",
              "      <td>mar</td>\n",
              "      <td>sun</td>\n",
              "      <td>89.3</td>\n",
              "      <td>51.3</td>\n",
              "      <td>102.2</td>\n",
              "      <td>9.6</td>\n",
              "      <td>11.4</td>\n",
              "      <td>99</td>\n",
              "      <td>1.8</td>\n",
              "      <td>0.0</td>\n",
              "      <td>...</td>\n",
              "      <td>0</td>\n",
              "      <td>0</td>\n",
              "      <td>0</td>\n",
              "      <td>0</td>\n",
              "      <td>1</td>\n",
              "      <td>0</td>\n",
              "      <td>0</td>\n",
              "      <td>0</td>\n",
              "      <td>0</td>\n",
              "      <td>small</td>\n",
              "    </tr>\n",
              "  </tbody>\n",
              "</table>\n",
              "<p>5 rows × 31 columns</p>\n",
              "</div>\n",
              "      <button class=\"colab-df-convert\" onclick=\"convertToInteractive('df-4e663aff-ecc4-46a3-bd52-f459b1767ce4')\"\n",
              "              title=\"Convert this dataframe to an interactive table.\"\n",
              "              style=\"display:none;\">\n",
              "        \n",
              "  <svg xmlns=\"http://www.w3.org/2000/svg\" height=\"24px\"viewBox=\"0 0 24 24\"\n",
              "       width=\"24px\">\n",
              "    <path d=\"M0 0h24v24H0V0z\" fill=\"none\"/>\n",
              "    <path d=\"M18.56 5.44l.94 2.06.94-2.06 2.06-.94-2.06-.94-.94-2.06-.94 2.06-2.06.94zm-11 1L8.5 8.5l.94-2.06 2.06-.94-2.06-.94L8.5 2.5l-.94 2.06-2.06.94zm10 10l.94 2.06.94-2.06 2.06-.94-2.06-.94-.94-2.06-.94 2.06-2.06.94z\"/><path d=\"M17.41 7.96l-1.37-1.37c-.4-.4-.92-.59-1.43-.59-.52 0-1.04.2-1.43.59L10.3 9.45l-7.72 7.72c-.78.78-.78 2.05 0 2.83L4 21.41c.39.39.9.59 1.41.59.51 0 1.02-.2 1.41-.59l7.78-7.78 2.81-2.81c.8-.78.8-2.07 0-2.86zM5.41 20L4 18.59l7.72-7.72 1.47 1.35L5.41 20z\"/>\n",
              "  </svg>\n",
              "      </button>\n",
              "      \n",
              "  <style>\n",
              "    .colab-df-container {\n",
              "      display:flex;\n",
              "      flex-wrap:wrap;\n",
              "      gap: 12px;\n",
              "    }\n",
              "\n",
              "    .colab-df-convert {\n",
              "      background-color: #E8F0FE;\n",
              "      border: none;\n",
              "      border-radius: 50%;\n",
              "      cursor: pointer;\n",
              "      display: none;\n",
              "      fill: #1967D2;\n",
              "      height: 32px;\n",
              "      padding: 0 0 0 0;\n",
              "      width: 32px;\n",
              "    }\n",
              "\n",
              "    .colab-df-convert:hover {\n",
              "      background-color: #E2EBFA;\n",
              "      box-shadow: 0px 1px 2px rgba(60, 64, 67, 0.3), 0px 1px 3px 1px rgba(60, 64, 67, 0.15);\n",
              "      fill: #174EA6;\n",
              "    }\n",
              "\n",
              "    [theme=dark] .colab-df-convert {\n",
              "      background-color: #3B4455;\n",
              "      fill: #D2E3FC;\n",
              "    }\n",
              "\n",
              "    [theme=dark] .colab-df-convert:hover {\n",
              "      background-color: #434B5C;\n",
              "      box-shadow: 0px 1px 3px 1px rgba(0, 0, 0, 0.15);\n",
              "      filter: drop-shadow(0px 1px 2px rgba(0, 0, 0, 0.3));\n",
              "      fill: #FFFFFF;\n",
              "    }\n",
              "  </style>\n",
              "\n",
              "      <script>\n",
              "        const buttonEl =\n",
              "          document.querySelector('#df-4e663aff-ecc4-46a3-bd52-f459b1767ce4 button.colab-df-convert');\n",
              "        buttonEl.style.display =\n",
              "          google.colab.kernel.accessAllowed ? 'block' : 'none';\n",
              "\n",
              "        async function convertToInteractive(key) {\n",
              "          const element = document.querySelector('#df-4e663aff-ecc4-46a3-bd52-f459b1767ce4');\n",
              "          const dataTable =\n",
              "            await google.colab.kernel.invokeFunction('convertToInteractive',\n",
              "                                                     [key], {});\n",
              "          if (!dataTable) return;\n",
              "\n",
              "          const docLinkHtml = 'Like what you see? Visit the ' +\n",
              "            '<a target=\"_blank\" href=https://colab.research.google.com/notebooks/data_table.ipynb>data table notebook</a>'\n",
              "            + ' to learn more about interactive tables.';\n",
              "          element.innerHTML = '';\n",
              "          dataTable['output_type'] = 'display_data';\n",
              "          await google.colab.output.renderOutput(dataTable, element);\n",
              "          const docLink = document.createElement('div');\n",
              "          docLink.innerHTML = docLinkHtml;\n",
              "          element.appendChild(docLink);\n",
              "        }\n",
              "      </script>\n",
              "    </div>\n",
              "  </div>\n",
              "  "
            ]
          },
          "metadata": {},
          "execution_count": 3
        }
      ],
      "source": [
        "data = pd.read_csv('/content/drive/MyDrive/Colab Notebooks/forestfires.csv')\n",
        "data.head()"
      ]
    },
    {
      "cell_type": "markdown",
      "id": "25197ed3",
      "metadata": {
        "id": "25197ed3"
      },
      "source": [
        "## EDA"
      ]
    },
    {
      "cell_type": "code",
      "execution_count": 4,
      "id": "5a59c195",
      "metadata": {
        "colab": {
          "base_uri": "https://localhost:8080/"
        },
        "id": "5a59c195",
        "outputId": "86cb0988-bce1-41a0-b891-ec78385dddf7"
      },
      "outputs": [
        {
          "output_type": "execute_result",
          "data": {
            "text/plain": [
              "(517, 31)"
            ]
          },
          "metadata": {},
          "execution_count": 4
        }
      ],
      "source": [
        "data.shape"
      ]
    },
    {
      "cell_type": "code",
      "execution_count": 5,
      "id": "ae168a51",
      "metadata": {
        "colab": {
          "base_uri": "https://localhost:8080/"
        },
        "id": "ae168a51",
        "outputId": "efcf85f7-9779-4dc2-edbf-a0b2a938ff6f"
      },
      "outputs": [
        {
          "output_type": "stream",
          "name": "stdout",
          "text": [
            "<class 'pandas.core.frame.DataFrame'>\n",
            "RangeIndex: 517 entries, 0 to 516\n",
            "Data columns (total 31 columns):\n",
            " #   Column         Non-Null Count  Dtype  \n",
            "---  ------         --------------  -----  \n",
            " 0   month          517 non-null    object \n",
            " 1   day            517 non-null    object \n",
            " 2   FFMC           517 non-null    float64\n",
            " 3   DMC            517 non-null    float64\n",
            " 4   DC             517 non-null    float64\n",
            " 5   ISI            517 non-null    float64\n",
            " 6   temp           517 non-null    float64\n",
            " 7   RH             517 non-null    int64  \n",
            " 8   wind           517 non-null    float64\n",
            " 9   rain           517 non-null    float64\n",
            " 10  area           517 non-null    float64\n",
            " 11  dayfri         517 non-null    int64  \n",
            " 12  daymon         517 non-null    int64  \n",
            " 13  daysat         517 non-null    int64  \n",
            " 14  daysun         517 non-null    int64  \n",
            " 15  daythu         517 non-null    int64  \n",
            " 16  daytue         517 non-null    int64  \n",
            " 17  daywed         517 non-null    int64  \n",
            " 18  monthapr       517 non-null    int64  \n",
            " 19  monthaug       517 non-null    int64  \n",
            " 20  monthdec       517 non-null    int64  \n",
            " 21  monthfeb       517 non-null    int64  \n",
            " 22  monthjan       517 non-null    int64  \n",
            " 23  monthjul       517 non-null    int64  \n",
            " 24  monthjun       517 non-null    int64  \n",
            " 25  monthmar       517 non-null    int64  \n",
            " 26  monthmay       517 non-null    int64  \n",
            " 27  monthnov       517 non-null    int64  \n",
            " 28  monthoct       517 non-null    int64  \n",
            " 29  monthsep       517 non-null    int64  \n",
            " 30  size_category  517 non-null    object \n",
            "dtypes: float64(8), int64(20), object(3)\n",
            "memory usage: 125.3+ KB\n"
          ]
        }
      ],
      "source": [
        "data.info()"
      ]
    },
    {
      "cell_type": "code",
      "execution_count": 6,
      "id": "7ecd542f",
      "metadata": {
        "colab": {
          "base_uri": "https://localhost:8080/"
        },
        "id": "7ecd542f",
        "outputId": "5bdeb14e-ebe8-4bac-d9dd-8bdc7f133c1b"
      },
      "outputs": [
        {
          "output_type": "execute_result",
          "data": {
            "text/plain": [
              "month            0\n",
              "day              0\n",
              "FFMC             0\n",
              "DMC              0\n",
              "DC               0\n",
              "ISI              0\n",
              "temp             0\n",
              "RH               0\n",
              "wind             0\n",
              "rain             0\n",
              "area             0\n",
              "dayfri           0\n",
              "daymon           0\n",
              "daysat           0\n",
              "daysun           0\n",
              "daythu           0\n",
              "daytue           0\n",
              "daywed           0\n",
              "monthapr         0\n",
              "monthaug         0\n",
              "monthdec         0\n",
              "monthfeb         0\n",
              "monthjan         0\n",
              "monthjul         0\n",
              "monthjun         0\n",
              "monthmar         0\n",
              "monthmay         0\n",
              "monthnov         0\n",
              "monthoct         0\n",
              "monthsep         0\n",
              "size_category    0\n",
              "dtype: int64"
            ]
          },
          "metadata": {},
          "execution_count": 6
        }
      ],
      "source": [
        "data.isnull().sum()"
      ]
    },
    {
      "cell_type": "code",
      "execution_count": 7,
      "id": "5c860057",
      "metadata": {
        "colab": {
          "base_uri": "https://localhost:8080/",
          "height": 394
        },
        "id": "5c860057",
        "outputId": "60086907-e902-4722-d1f3-1e9858bdaa3f"
      },
      "outputs": [
        {
          "output_type": "execute_result",
          "data": {
            "text/plain": [
              "    month  day  FFMC    DMC     DC   ISI  temp  RH  wind  rain  ...  monthfeb  \\\n",
              "53    aug  wed  92.1  111.2  654.1   9.6  20.4  42   4.9   0.0  ...         0   \n",
              "100   aug  sun  91.4  142.4  601.4  10.6  19.8  39   5.4   0.0  ...         0   \n",
              "215   mar  sat  91.7   35.8   80.8   7.8  17.0  27   4.9   0.0  ...         0   \n",
              "303   jun  fri  91.1   94.1  232.1   7.1  19.2  38   4.5   0.0  ...         0   \n",
              "426   aug  thu  91.6  248.4  753.8   6.3  20.4  56   2.2   0.0  ...         0   \n",
              "461   aug  sat  93.7  231.1  715.1   8.4  18.9  64   4.9   0.0  ...         0   \n",
              "501   aug  tue  96.1  181.1  671.2  14.3  21.6  65   4.9   0.8  ...         0   \n",
              "508   aug  fri  91.0  166.9  752.6   7.1  25.9  41   3.6   0.0  ...         0   \n",
              "\n",
              "     monthjan  monthjul  monthjun  monthmar  monthmay  monthnov  monthoct  \\\n",
              "53          0         0         0         0         0         0         0   \n",
              "100         0         0         0         0         0         0         0   \n",
              "215         0         0         0         1         0         0         0   \n",
              "303         0         0         1         0         0         0         0   \n",
              "426         0         0         0         0         0         0         0   \n",
              "461         0         0         0         0         0         0         0   \n",
              "501         0         0         0         0         0         0         0   \n",
              "508         0         0         0         0         0         0         0   \n",
              "\n",
              "     monthsep  size_category  \n",
              "53          0          small  \n",
              "100         0          small  \n",
              "215         0          large  \n",
              "303         0          small  \n",
              "426         0          small  \n",
              "461         0          small  \n",
              "501         0          small  \n",
              "508         0          small  \n",
              "\n",
              "[8 rows x 31 columns]"
            ],
            "text/html": [
              "\n",
              "  <div id=\"df-70199520-2eae-4940-b5ba-ccaee1d92a28\">\n",
              "    <div class=\"colab-df-container\">\n",
              "      <div>\n",
              "<style scoped>\n",
              "    .dataframe tbody tr th:only-of-type {\n",
              "        vertical-align: middle;\n",
              "    }\n",
              "\n",
              "    .dataframe tbody tr th {\n",
              "        vertical-align: top;\n",
              "    }\n",
              "\n",
              "    .dataframe thead th {\n",
              "        text-align: right;\n",
              "    }\n",
              "</style>\n",
              "<table border=\"1\" class=\"dataframe\">\n",
              "  <thead>\n",
              "    <tr style=\"text-align: right;\">\n",
              "      <th></th>\n",
              "      <th>month</th>\n",
              "      <th>day</th>\n",
              "      <th>FFMC</th>\n",
              "      <th>DMC</th>\n",
              "      <th>DC</th>\n",
              "      <th>ISI</th>\n",
              "      <th>temp</th>\n",
              "      <th>RH</th>\n",
              "      <th>wind</th>\n",
              "      <th>rain</th>\n",
              "      <th>...</th>\n",
              "      <th>monthfeb</th>\n",
              "      <th>monthjan</th>\n",
              "      <th>monthjul</th>\n",
              "      <th>monthjun</th>\n",
              "      <th>monthmar</th>\n",
              "      <th>monthmay</th>\n",
              "      <th>monthnov</th>\n",
              "      <th>monthoct</th>\n",
              "      <th>monthsep</th>\n",
              "      <th>size_category</th>\n",
              "    </tr>\n",
              "  </thead>\n",
              "  <tbody>\n",
              "    <tr>\n",
              "      <th>53</th>\n",
              "      <td>aug</td>\n",
              "      <td>wed</td>\n",
              "      <td>92.1</td>\n",
              "      <td>111.2</td>\n",
              "      <td>654.1</td>\n",
              "      <td>9.6</td>\n",
              "      <td>20.4</td>\n",
              "      <td>42</td>\n",
              "      <td>4.9</td>\n",
              "      <td>0.0</td>\n",
              "      <td>...</td>\n",
              "      <td>0</td>\n",
              "      <td>0</td>\n",
              "      <td>0</td>\n",
              "      <td>0</td>\n",
              "      <td>0</td>\n",
              "      <td>0</td>\n",
              "      <td>0</td>\n",
              "      <td>0</td>\n",
              "      <td>0</td>\n",
              "      <td>small</td>\n",
              "    </tr>\n",
              "    <tr>\n",
              "      <th>100</th>\n",
              "      <td>aug</td>\n",
              "      <td>sun</td>\n",
              "      <td>91.4</td>\n",
              "      <td>142.4</td>\n",
              "      <td>601.4</td>\n",
              "      <td>10.6</td>\n",
              "      <td>19.8</td>\n",
              "      <td>39</td>\n",
              "      <td>5.4</td>\n",
              "      <td>0.0</td>\n",
              "      <td>...</td>\n",
              "      <td>0</td>\n",
              "      <td>0</td>\n",
              "      <td>0</td>\n",
              "      <td>0</td>\n",
              "      <td>0</td>\n",
              "      <td>0</td>\n",
              "      <td>0</td>\n",
              "      <td>0</td>\n",
              "      <td>0</td>\n",
              "      <td>small</td>\n",
              "    </tr>\n",
              "    <tr>\n",
              "      <th>215</th>\n",
              "      <td>mar</td>\n",
              "      <td>sat</td>\n",
              "      <td>91.7</td>\n",
              "      <td>35.8</td>\n",
              "      <td>80.8</td>\n",
              "      <td>7.8</td>\n",
              "      <td>17.0</td>\n",
              "      <td>27</td>\n",
              "      <td>4.9</td>\n",
              "      <td>0.0</td>\n",
              "      <td>...</td>\n",
              "      <td>0</td>\n",
              "      <td>0</td>\n",
              "      <td>0</td>\n",
              "      <td>0</td>\n",
              "      <td>1</td>\n",
              "      <td>0</td>\n",
              "      <td>0</td>\n",
              "      <td>0</td>\n",
              "      <td>0</td>\n",
              "      <td>large</td>\n",
              "    </tr>\n",
              "    <tr>\n",
              "      <th>303</th>\n",
              "      <td>jun</td>\n",
              "      <td>fri</td>\n",
              "      <td>91.1</td>\n",
              "      <td>94.1</td>\n",
              "      <td>232.1</td>\n",
              "      <td>7.1</td>\n",
              "      <td>19.2</td>\n",
              "      <td>38</td>\n",
              "      <td>4.5</td>\n",
              "      <td>0.0</td>\n",
              "      <td>...</td>\n",
              "      <td>0</td>\n",
              "      <td>0</td>\n",
              "      <td>0</td>\n",
              "      <td>1</td>\n",
              "      <td>0</td>\n",
              "      <td>0</td>\n",
              "      <td>0</td>\n",
              "      <td>0</td>\n",
              "      <td>0</td>\n",
              "      <td>small</td>\n",
              "    </tr>\n",
              "    <tr>\n",
              "      <th>426</th>\n",
              "      <td>aug</td>\n",
              "      <td>thu</td>\n",
              "      <td>91.6</td>\n",
              "      <td>248.4</td>\n",
              "      <td>753.8</td>\n",
              "      <td>6.3</td>\n",
              "      <td>20.4</td>\n",
              "      <td>56</td>\n",
              "      <td>2.2</td>\n",
              "      <td>0.0</td>\n",
              "      <td>...</td>\n",
              "      <td>0</td>\n",
              "      <td>0</td>\n",
              "      <td>0</td>\n",
              "      <td>0</td>\n",
              "      <td>0</td>\n",
              "      <td>0</td>\n",
              "      <td>0</td>\n",
              "      <td>0</td>\n",
              "      <td>0</td>\n",
              "      <td>small</td>\n",
              "    </tr>\n",
              "    <tr>\n",
              "      <th>461</th>\n",
              "      <td>aug</td>\n",
              "      <td>sat</td>\n",
              "      <td>93.7</td>\n",
              "      <td>231.1</td>\n",
              "      <td>715.1</td>\n",
              "      <td>8.4</td>\n",
              "      <td>18.9</td>\n",
              "      <td>64</td>\n",
              "      <td>4.9</td>\n",
              "      <td>0.0</td>\n",
              "      <td>...</td>\n",
              "      <td>0</td>\n",
              "      <td>0</td>\n",
              "      <td>0</td>\n",
              "      <td>0</td>\n",
              "      <td>0</td>\n",
              "      <td>0</td>\n",
              "      <td>0</td>\n",
              "      <td>0</td>\n",
              "      <td>0</td>\n",
              "      <td>small</td>\n",
              "    </tr>\n",
              "    <tr>\n",
              "      <th>501</th>\n",
              "      <td>aug</td>\n",
              "      <td>tue</td>\n",
              "      <td>96.1</td>\n",
              "      <td>181.1</td>\n",
              "      <td>671.2</td>\n",
              "      <td>14.3</td>\n",
              "      <td>21.6</td>\n",
              "      <td>65</td>\n",
              "      <td>4.9</td>\n",
              "      <td>0.8</td>\n",
              "      <td>...</td>\n",
              "      <td>0</td>\n",
              "      <td>0</td>\n",
              "      <td>0</td>\n",
              "      <td>0</td>\n",
              "      <td>0</td>\n",
              "      <td>0</td>\n",
              "      <td>0</td>\n",
              "      <td>0</td>\n",
              "      <td>0</td>\n",
              "      <td>small</td>\n",
              "    </tr>\n",
              "    <tr>\n",
              "      <th>508</th>\n",
              "      <td>aug</td>\n",
              "      <td>fri</td>\n",
              "      <td>91.0</td>\n",
              "      <td>166.9</td>\n",
              "      <td>752.6</td>\n",
              "      <td>7.1</td>\n",
              "      <td>25.9</td>\n",
              "      <td>41</td>\n",
              "      <td>3.6</td>\n",
              "      <td>0.0</td>\n",
              "      <td>...</td>\n",
              "      <td>0</td>\n",
              "      <td>0</td>\n",
              "      <td>0</td>\n",
              "      <td>0</td>\n",
              "      <td>0</td>\n",
              "      <td>0</td>\n",
              "      <td>0</td>\n",
              "      <td>0</td>\n",
              "      <td>0</td>\n",
              "      <td>small</td>\n",
              "    </tr>\n",
              "  </tbody>\n",
              "</table>\n",
              "<p>8 rows × 31 columns</p>\n",
              "</div>\n",
              "      <button class=\"colab-df-convert\" onclick=\"convertToInteractive('df-70199520-2eae-4940-b5ba-ccaee1d92a28')\"\n",
              "              title=\"Convert this dataframe to an interactive table.\"\n",
              "              style=\"display:none;\">\n",
              "        \n",
              "  <svg xmlns=\"http://www.w3.org/2000/svg\" height=\"24px\"viewBox=\"0 0 24 24\"\n",
              "       width=\"24px\">\n",
              "    <path d=\"M0 0h24v24H0V0z\" fill=\"none\"/>\n",
              "    <path d=\"M18.56 5.44l.94 2.06.94-2.06 2.06-.94-2.06-.94-.94-2.06-.94 2.06-2.06.94zm-11 1L8.5 8.5l.94-2.06 2.06-.94-2.06-.94L8.5 2.5l-.94 2.06-2.06.94zm10 10l.94 2.06.94-2.06 2.06-.94-2.06-.94-.94-2.06-.94 2.06-2.06.94z\"/><path d=\"M17.41 7.96l-1.37-1.37c-.4-.4-.92-.59-1.43-.59-.52 0-1.04.2-1.43.59L10.3 9.45l-7.72 7.72c-.78.78-.78 2.05 0 2.83L4 21.41c.39.39.9.59 1.41.59.51 0 1.02-.2 1.41-.59l7.78-7.78 2.81-2.81c.8-.78.8-2.07 0-2.86zM5.41 20L4 18.59l7.72-7.72 1.47 1.35L5.41 20z\"/>\n",
              "  </svg>\n",
              "      </button>\n",
              "      \n",
              "  <style>\n",
              "    .colab-df-container {\n",
              "      display:flex;\n",
              "      flex-wrap:wrap;\n",
              "      gap: 12px;\n",
              "    }\n",
              "\n",
              "    .colab-df-convert {\n",
              "      background-color: #E8F0FE;\n",
              "      border: none;\n",
              "      border-radius: 50%;\n",
              "      cursor: pointer;\n",
              "      display: none;\n",
              "      fill: #1967D2;\n",
              "      height: 32px;\n",
              "      padding: 0 0 0 0;\n",
              "      width: 32px;\n",
              "    }\n",
              "\n",
              "    .colab-df-convert:hover {\n",
              "      background-color: #E2EBFA;\n",
              "      box-shadow: 0px 1px 2px rgba(60, 64, 67, 0.3), 0px 1px 3px 1px rgba(60, 64, 67, 0.15);\n",
              "      fill: #174EA6;\n",
              "    }\n",
              "\n",
              "    [theme=dark] .colab-df-convert {\n",
              "      background-color: #3B4455;\n",
              "      fill: #D2E3FC;\n",
              "    }\n",
              "\n",
              "    [theme=dark] .colab-df-convert:hover {\n",
              "      background-color: #434B5C;\n",
              "      box-shadow: 0px 1px 3px 1px rgba(0, 0, 0, 0.15);\n",
              "      filter: drop-shadow(0px 1px 2px rgba(0, 0, 0, 0.3));\n",
              "      fill: #FFFFFF;\n",
              "    }\n",
              "  </style>\n",
              "\n",
              "      <script>\n",
              "        const buttonEl =\n",
              "          document.querySelector('#df-70199520-2eae-4940-b5ba-ccaee1d92a28 button.colab-df-convert');\n",
              "        buttonEl.style.display =\n",
              "          google.colab.kernel.accessAllowed ? 'block' : 'none';\n",
              "\n",
              "        async function convertToInteractive(key) {\n",
              "          const element = document.querySelector('#df-70199520-2eae-4940-b5ba-ccaee1d92a28');\n",
              "          const dataTable =\n",
              "            await google.colab.kernel.invokeFunction('convertToInteractive',\n",
              "                                                     [key], {});\n",
              "          if (!dataTable) return;\n",
              "\n",
              "          const docLinkHtml = 'Like what you see? Visit the ' +\n",
              "            '<a target=\"_blank\" href=https://colab.research.google.com/notebooks/data_table.ipynb>data table notebook</a>'\n",
              "            + ' to learn more about interactive tables.';\n",
              "          element.innerHTML = '';\n",
              "          dataTable['output_type'] = 'display_data';\n",
              "          await google.colab.output.renderOutput(dataTable, element);\n",
              "          const docLink = document.createElement('div');\n",
              "          docLink.innerHTML = docLinkHtml;\n",
              "          element.appendChild(docLink);\n",
              "        }\n",
              "      </script>\n",
              "    </div>\n",
              "  </div>\n",
              "  "
            ]
          },
          "metadata": {},
          "execution_count": 7
        }
      ],
      "source": [
        "data[data.duplicated()]"
      ]
    },
    {
      "cell_type": "code",
      "execution_count": 8,
      "id": "49fa1fd5",
      "metadata": {
        "colab": {
          "base_uri": "https://localhost:8080/"
        },
        "id": "49fa1fd5",
        "outputId": "289a09eb-a0f0-42a0-cd3b-f47acacc0b66"
      },
      "outputs": [
        {
          "output_type": "execute_result",
          "data": {
            "text/plain": [
              "(517, 31)"
            ]
          },
          "metadata": {},
          "execution_count": 8
        }
      ],
      "source": [
        "data.shape"
      ]
    },
    {
      "cell_type": "code",
      "execution_count": 9,
      "id": "7019334b",
      "metadata": {
        "colab": {
          "base_uri": "https://localhost:8080/"
        },
        "id": "7019334b",
        "outputId": "c65f25a5-ba06-4035-d120-988ff4be6dc4"
      },
      "outputs": [
        {
          "output_type": "execute_result",
          "data": {
            "text/plain": [
              "(509, 31)"
            ]
          },
          "metadata": {},
          "execution_count": 9
        }
      ],
      "source": [
        "data = data.drop_duplicates()\n",
        "data.shape"
      ]
    },
    {
      "cell_type": "code",
      "execution_count": 10,
      "id": "442985f3",
      "metadata": {
        "colab": {
          "base_uri": "https://localhost:8080/",
          "height": 206
        },
        "id": "442985f3",
        "outputId": "8ce481be-38f9-4bf9-9104-9b645814ad44"
      },
      "outputs": [
        {
          "output_type": "execute_result",
          "data": {
            "text/plain": [
              "  month  day  FFMC   DMC     DC  ISI  temp  RH  wind  rain  area size_category\n",
              "0   mar  fri  86.2  26.2   94.3  5.1   8.2  51   6.7   0.0   0.0         small\n",
              "1   oct  tue  90.6  35.4  669.1  6.7  18.0  33   0.9   0.0   0.0         small\n",
              "2   oct  sat  90.6  43.7  686.9  6.7  14.6  33   1.3   0.0   0.0         small\n",
              "3   mar  fri  91.7  33.3   77.5  9.0   8.3  97   4.0   0.2   0.0         small\n",
              "4   mar  sun  89.3  51.3  102.2  9.6  11.4  99   1.8   0.0   0.0         small"
            ],
            "text/html": [
              "\n",
              "  <div id=\"df-d3c450b4-dfe8-4ead-9e62-787e8c128bdc\">\n",
              "    <div class=\"colab-df-container\">\n",
              "      <div>\n",
              "<style scoped>\n",
              "    .dataframe tbody tr th:only-of-type {\n",
              "        vertical-align: middle;\n",
              "    }\n",
              "\n",
              "    .dataframe tbody tr th {\n",
              "        vertical-align: top;\n",
              "    }\n",
              "\n",
              "    .dataframe thead th {\n",
              "        text-align: right;\n",
              "    }\n",
              "</style>\n",
              "<table border=\"1\" class=\"dataframe\">\n",
              "  <thead>\n",
              "    <tr style=\"text-align: right;\">\n",
              "      <th></th>\n",
              "      <th>month</th>\n",
              "      <th>day</th>\n",
              "      <th>FFMC</th>\n",
              "      <th>DMC</th>\n",
              "      <th>DC</th>\n",
              "      <th>ISI</th>\n",
              "      <th>temp</th>\n",
              "      <th>RH</th>\n",
              "      <th>wind</th>\n",
              "      <th>rain</th>\n",
              "      <th>area</th>\n",
              "      <th>size_category</th>\n",
              "    </tr>\n",
              "  </thead>\n",
              "  <tbody>\n",
              "    <tr>\n",
              "      <th>0</th>\n",
              "      <td>mar</td>\n",
              "      <td>fri</td>\n",
              "      <td>86.2</td>\n",
              "      <td>26.2</td>\n",
              "      <td>94.3</td>\n",
              "      <td>5.1</td>\n",
              "      <td>8.2</td>\n",
              "      <td>51</td>\n",
              "      <td>6.7</td>\n",
              "      <td>0.0</td>\n",
              "      <td>0.0</td>\n",
              "      <td>small</td>\n",
              "    </tr>\n",
              "    <tr>\n",
              "      <th>1</th>\n",
              "      <td>oct</td>\n",
              "      <td>tue</td>\n",
              "      <td>90.6</td>\n",
              "      <td>35.4</td>\n",
              "      <td>669.1</td>\n",
              "      <td>6.7</td>\n",
              "      <td>18.0</td>\n",
              "      <td>33</td>\n",
              "      <td>0.9</td>\n",
              "      <td>0.0</td>\n",
              "      <td>0.0</td>\n",
              "      <td>small</td>\n",
              "    </tr>\n",
              "    <tr>\n",
              "      <th>2</th>\n",
              "      <td>oct</td>\n",
              "      <td>sat</td>\n",
              "      <td>90.6</td>\n",
              "      <td>43.7</td>\n",
              "      <td>686.9</td>\n",
              "      <td>6.7</td>\n",
              "      <td>14.6</td>\n",
              "      <td>33</td>\n",
              "      <td>1.3</td>\n",
              "      <td>0.0</td>\n",
              "      <td>0.0</td>\n",
              "      <td>small</td>\n",
              "    </tr>\n",
              "    <tr>\n",
              "      <th>3</th>\n",
              "      <td>mar</td>\n",
              "      <td>fri</td>\n",
              "      <td>91.7</td>\n",
              "      <td>33.3</td>\n",
              "      <td>77.5</td>\n",
              "      <td>9.0</td>\n",
              "      <td>8.3</td>\n",
              "      <td>97</td>\n",
              "      <td>4.0</td>\n",
              "      <td>0.2</td>\n",
              "      <td>0.0</td>\n",
              "      <td>small</td>\n",
              "    </tr>\n",
              "    <tr>\n",
              "      <th>4</th>\n",
              "      <td>mar</td>\n",
              "      <td>sun</td>\n",
              "      <td>89.3</td>\n",
              "      <td>51.3</td>\n",
              "      <td>102.2</td>\n",
              "      <td>9.6</td>\n",
              "      <td>11.4</td>\n",
              "      <td>99</td>\n",
              "      <td>1.8</td>\n",
              "      <td>0.0</td>\n",
              "      <td>0.0</td>\n",
              "      <td>small</td>\n",
              "    </tr>\n",
              "  </tbody>\n",
              "</table>\n",
              "</div>\n",
              "      <button class=\"colab-df-convert\" onclick=\"convertToInteractive('df-d3c450b4-dfe8-4ead-9e62-787e8c128bdc')\"\n",
              "              title=\"Convert this dataframe to an interactive table.\"\n",
              "              style=\"display:none;\">\n",
              "        \n",
              "  <svg xmlns=\"http://www.w3.org/2000/svg\" height=\"24px\"viewBox=\"0 0 24 24\"\n",
              "       width=\"24px\">\n",
              "    <path d=\"M0 0h24v24H0V0z\" fill=\"none\"/>\n",
              "    <path d=\"M18.56 5.44l.94 2.06.94-2.06 2.06-.94-2.06-.94-.94-2.06-.94 2.06-2.06.94zm-11 1L8.5 8.5l.94-2.06 2.06-.94-2.06-.94L8.5 2.5l-.94 2.06-2.06.94zm10 10l.94 2.06.94-2.06 2.06-.94-2.06-.94-.94-2.06-.94 2.06-2.06.94z\"/><path d=\"M17.41 7.96l-1.37-1.37c-.4-.4-.92-.59-1.43-.59-.52 0-1.04.2-1.43.59L10.3 9.45l-7.72 7.72c-.78.78-.78 2.05 0 2.83L4 21.41c.39.39.9.59 1.41.59.51 0 1.02-.2 1.41-.59l7.78-7.78 2.81-2.81c.8-.78.8-2.07 0-2.86zM5.41 20L4 18.59l7.72-7.72 1.47 1.35L5.41 20z\"/>\n",
              "  </svg>\n",
              "      </button>\n",
              "      \n",
              "  <style>\n",
              "    .colab-df-container {\n",
              "      display:flex;\n",
              "      flex-wrap:wrap;\n",
              "      gap: 12px;\n",
              "    }\n",
              "\n",
              "    .colab-df-convert {\n",
              "      background-color: #E8F0FE;\n",
              "      border: none;\n",
              "      border-radius: 50%;\n",
              "      cursor: pointer;\n",
              "      display: none;\n",
              "      fill: #1967D2;\n",
              "      height: 32px;\n",
              "      padding: 0 0 0 0;\n",
              "      width: 32px;\n",
              "    }\n",
              "\n",
              "    .colab-df-convert:hover {\n",
              "      background-color: #E2EBFA;\n",
              "      box-shadow: 0px 1px 2px rgba(60, 64, 67, 0.3), 0px 1px 3px 1px rgba(60, 64, 67, 0.15);\n",
              "      fill: #174EA6;\n",
              "    }\n",
              "\n",
              "    [theme=dark] .colab-df-convert {\n",
              "      background-color: #3B4455;\n",
              "      fill: #D2E3FC;\n",
              "    }\n",
              "\n",
              "    [theme=dark] .colab-df-convert:hover {\n",
              "      background-color: #434B5C;\n",
              "      box-shadow: 0px 1px 3px 1px rgba(0, 0, 0, 0.15);\n",
              "      filter: drop-shadow(0px 1px 2px rgba(0, 0, 0, 0.3));\n",
              "      fill: #FFFFFF;\n",
              "    }\n",
              "  </style>\n",
              "\n",
              "      <script>\n",
              "        const buttonEl =\n",
              "          document.querySelector('#df-d3c450b4-dfe8-4ead-9e62-787e8c128bdc button.colab-df-convert');\n",
              "        buttonEl.style.display =\n",
              "          google.colab.kernel.accessAllowed ? 'block' : 'none';\n",
              "\n",
              "        async function convertToInteractive(key) {\n",
              "          const element = document.querySelector('#df-d3c450b4-dfe8-4ead-9e62-787e8c128bdc');\n",
              "          const dataTable =\n",
              "            await google.colab.kernel.invokeFunction('convertToInteractive',\n",
              "                                                     [key], {});\n",
              "          if (!dataTable) return;\n",
              "\n",
              "          const docLinkHtml = 'Like what you see? Visit the ' +\n",
              "            '<a target=\"_blank\" href=https://colab.research.google.com/notebooks/data_table.ipynb>data table notebook</a>'\n",
              "            + ' to learn more about interactive tables.';\n",
              "          element.innerHTML = '';\n",
              "          dataTable['output_type'] = 'display_data';\n",
              "          await google.colab.output.renderOutput(dataTable, element);\n",
              "          const docLink = document.createElement('div');\n",
              "          docLink.innerHTML = docLinkHtml;\n",
              "          element.appendChild(docLink);\n",
              "        }\n",
              "      </script>\n",
              "    </div>\n",
              "  </div>\n",
              "  "
            ]
          },
          "metadata": {},
          "execution_count": 10
        }
      ],
      "source": [
        "data1 = data.iloc[:,0:11]\n",
        "data1['size_category'] = data['size_category']\n",
        "data1.head()"
      ]
    },
    {
      "cell_type": "code",
      "execution_count": 11,
      "id": "3c6430f6",
      "metadata": {
        "colab": {
          "base_uri": "https://localhost:8080/",
          "height": 300
        },
        "id": "3c6430f6",
        "outputId": "91a26b37-ee32-4293-914d-322770e5bf88"
      },
      "outputs": [
        {
          "output_type": "execute_result",
          "data": {
            "text/plain": [
              "   FFMC   DMC     DC  ISI  temp  RH  wind  rain  area  dayfri  ...  monthfeb  \\\n",
              "0  86.2  26.2   94.3  5.1   8.2  51   6.7   0.0   0.0       1  ...         0   \n",
              "1  90.6  35.4  669.1  6.7  18.0  33   0.9   0.0   0.0       0  ...         0   \n",
              "2  90.6  43.7  686.9  6.7  14.6  33   1.3   0.0   0.0       0  ...         0   \n",
              "3  91.7  33.3   77.5  9.0   8.3  97   4.0   0.2   0.0       1  ...         0   \n",
              "4  89.3  51.3  102.2  9.6  11.4  99   1.8   0.0   0.0       0  ...         0   \n",
              "\n",
              "   monthjan  monthjul  monthjun  monthmar  monthmay  monthnov  monthoct  \\\n",
              "0         0         0         0         1         0         0         0   \n",
              "1         0         0         0         0         0         0         1   \n",
              "2         0         0         0         0         0         0         1   \n",
              "3         0         0         0         1         0         0         0   \n",
              "4         0         0         0         1         0         0         0   \n",
              "\n",
              "   monthsep  size_category  \n",
              "0         0          small  \n",
              "1         0          small  \n",
              "2         0          small  \n",
              "3         0          small  \n",
              "4         0          small  \n",
              "\n",
              "[5 rows x 29 columns]"
            ],
            "text/html": [
              "\n",
              "  <div id=\"df-2a6fd0a2-81d8-4e26-bada-15f5be196c05\">\n",
              "    <div class=\"colab-df-container\">\n",
              "      <div>\n",
              "<style scoped>\n",
              "    .dataframe tbody tr th:only-of-type {\n",
              "        vertical-align: middle;\n",
              "    }\n",
              "\n",
              "    .dataframe tbody tr th {\n",
              "        vertical-align: top;\n",
              "    }\n",
              "\n",
              "    .dataframe thead th {\n",
              "        text-align: right;\n",
              "    }\n",
              "</style>\n",
              "<table border=\"1\" class=\"dataframe\">\n",
              "  <thead>\n",
              "    <tr style=\"text-align: right;\">\n",
              "      <th></th>\n",
              "      <th>FFMC</th>\n",
              "      <th>DMC</th>\n",
              "      <th>DC</th>\n",
              "      <th>ISI</th>\n",
              "      <th>temp</th>\n",
              "      <th>RH</th>\n",
              "      <th>wind</th>\n",
              "      <th>rain</th>\n",
              "      <th>area</th>\n",
              "      <th>dayfri</th>\n",
              "      <th>...</th>\n",
              "      <th>monthfeb</th>\n",
              "      <th>monthjan</th>\n",
              "      <th>monthjul</th>\n",
              "      <th>monthjun</th>\n",
              "      <th>monthmar</th>\n",
              "      <th>monthmay</th>\n",
              "      <th>monthnov</th>\n",
              "      <th>monthoct</th>\n",
              "      <th>monthsep</th>\n",
              "      <th>size_category</th>\n",
              "    </tr>\n",
              "  </thead>\n",
              "  <tbody>\n",
              "    <tr>\n",
              "      <th>0</th>\n",
              "      <td>86.2</td>\n",
              "      <td>26.2</td>\n",
              "      <td>94.3</td>\n",
              "      <td>5.1</td>\n",
              "      <td>8.2</td>\n",
              "      <td>51</td>\n",
              "      <td>6.7</td>\n",
              "      <td>0.0</td>\n",
              "      <td>0.0</td>\n",
              "      <td>1</td>\n",
              "      <td>...</td>\n",
              "      <td>0</td>\n",
              "      <td>0</td>\n",
              "      <td>0</td>\n",
              "      <td>0</td>\n",
              "      <td>1</td>\n",
              "      <td>0</td>\n",
              "      <td>0</td>\n",
              "      <td>0</td>\n",
              "      <td>0</td>\n",
              "      <td>small</td>\n",
              "    </tr>\n",
              "    <tr>\n",
              "      <th>1</th>\n",
              "      <td>90.6</td>\n",
              "      <td>35.4</td>\n",
              "      <td>669.1</td>\n",
              "      <td>6.7</td>\n",
              "      <td>18.0</td>\n",
              "      <td>33</td>\n",
              "      <td>0.9</td>\n",
              "      <td>0.0</td>\n",
              "      <td>0.0</td>\n",
              "      <td>0</td>\n",
              "      <td>...</td>\n",
              "      <td>0</td>\n",
              "      <td>0</td>\n",
              "      <td>0</td>\n",
              "      <td>0</td>\n",
              "      <td>0</td>\n",
              "      <td>0</td>\n",
              "      <td>0</td>\n",
              "      <td>1</td>\n",
              "      <td>0</td>\n",
              "      <td>small</td>\n",
              "    </tr>\n",
              "    <tr>\n",
              "      <th>2</th>\n",
              "      <td>90.6</td>\n",
              "      <td>43.7</td>\n",
              "      <td>686.9</td>\n",
              "      <td>6.7</td>\n",
              "      <td>14.6</td>\n",
              "      <td>33</td>\n",
              "      <td>1.3</td>\n",
              "      <td>0.0</td>\n",
              "      <td>0.0</td>\n",
              "      <td>0</td>\n",
              "      <td>...</td>\n",
              "      <td>0</td>\n",
              "      <td>0</td>\n",
              "      <td>0</td>\n",
              "      <td>0</td>\n",
              "      <td>0</td>\n",
              "      <td>0</td>\n",
              "      <td>0</td>\n",
              "      <td>1</td>\n",
              "      <td>0</td>\n",
              "      <td>small</td>\n",
              "    </tr>\n",
              "    <tr>\n",
              "      <th>3</th>\n",
              "      <td>91.7</td>\n",
              "      <td>33.3</td>\n",
              "      <td>77.5</td>\n",
              "      <td>9.0</td>\n",
              "      <td>8.3</td>\n",
              "      <td>97</td>\n",
              "      <td>4.0</td>\n",
              "      <td>0.2</td>\n",
              "      <td>0.0</td>\n",
              "      <td>1</td>\n",
              "      <td>...</td>\n",
              "      <td>0</td>\n",
              "      <td>0</td>\n",
              "      <td>0</td>\n",
              "      <td>0</td>\n",
              "      <td>1</td>\n",
              "      <td>0</td>\n",
              "      <td>0</td>\n",
              "      <td>0</td>\n",
              "      <td>0</td>\n",
              "      <td>small</td>\n",
              "    </tr>\n",
              "    <tr>\n",
              "      <th>4</th>\n",
              "      <td>89.3</td>\n",
              "      <td>51.3</td>\n",
              "      <td>102.2</td>\n",
              "      <td>9.6</td>\n",
              "      <td>11.4</td>\n",
              "      <td>99</td>\n",
              "      <td>1.8</td>\n",
              "      <td>0.0</td>\n",
              "      <td>0.0</td>\n",
              "      <td>0</td>\n",
              "      <td>...</td>\n",
              "      <td>0</td>\n",
              "      <td>0</td>\n",
              "      <td>0</td>\n",
              "      <td>0</td>\n",
              "      <td>1</td>\n",
              "      <td>0</td>\n",
              "      <td>0</td>\n",
              "      <td>0</td>\n",
              "      <td>0</td>\n",
              "      <td>small</td>\n",
              "    </tr>\n",
              "  </tbody>\n",
              "</table>\n",
              "<p>5 rows × 29 columns</p>\n",
              "</div>\n",
              "      <button class=\"colab-df-convert\" onclick=\"convertToInteractive('df-2a6fd0a2-81d8-4e26-bada-15f5be196c05')\"\n",
              "              title=\"Convert this dataframe to an interactive table.\"\n",
              "              style=\"display:none;\">\n",
              "        \n",
              "  <svg xmlns=\"http://www.w3.org/2000/svg\" height=\"24px\"viewBox=\"0 0 24 24\"\n",
              "       width=\"24px\">\n",
              "    <path d=\"M0 0h24v24H0V0z\" fill=\"none\"/>\n",
              "    <path d=\"M18.56 5.44l.94 2.06.94-2.06 2.06-.94-2.06-.94-.94-2.06-.94 2.06-2.06.94zm-11 1L8.5 8.5l.94-2.06 2.06-.94-2.06-.94L8.5 2.5l-.94 2.06-2.06.94zm10 10l.94 2.06.94-2.06 2.06-.94-2.06-.94-.94-2.06-.94 2.06-2.06.94z\"/><path d=\"M17.41 7.96l-1.37-1.37c-.4-.4-.92-.59-1.43-.59-.52 0-1.04.2-1.43.59L10.3 9.45l-7.72 7.72c-.78.78-.78 2.05 0 2.83L4 21.41c.39.39.9.59 1.41.59.51 0 1.02-.2 1.41-.59l7.78-7.78 2.81-2.81c.8-.78.8-2.07 0-2.86zM5.41 20L4 18.59l7.72-7.72 1.47 1.35L5.41 20z\"/>\n",
              "  </svg>\n",
              "      </button>\n",
              "      \n",
              "  <style>\n",
              "    .colab-df-container {\n",
              "      display:flex;\n",
              "      flex-wrap:wrap;\n",
              "      gap: 12px;\n",
              "    }\n",
              "\n",
              "    .colab-df-convert {\n",
              "      background-color: #E8F0FE;\n",
              "      border: none;\n",
              "      border-radius: 50%;\n",
              "      cursor: pointer;\n",
              "      display: none;\n",
              "      fill: #1967D2;\n",
              "      height: 32px;\n",
              "      padding: 0 0 0 0;\n",
              "      width: 32px;\n",
              "    }\n",
              "\n",
              "    .colab-df-convert:hover {\n",
              "      background-color: #E2EBFA;\n",
              "      box-shadow: 0px 1px 2px rgba(60, 64, 67, 0.3), 0px 1px 3px 1px rgba(60, 64, 67, 0.15);\n",
              "      fill: #174EA6;\n",
              "    }\n",
              "\n",
              "    [theme=dark] .colab-df-convert {\n",
              "      background-color: #3B4455;\n",
              "      fill: #D2E3FC;\n",
              "    }\n",
              "\n",
              "    [theme=dark] .colab-df-convert:hover {\n",
              "      background-color: #434B5C;\n",
              "      box-shadow: 0px 1px 3px 1px rgba(0, 0, 0, 0.15);\n",
              "      filter: drop-shadow(0px 1px 2px rgba(0, 0, 0, 0.3));\n",
              "      fill: #FFFFFF;\n",
              "    }\n",
              "  </style>\n",
              "\n",
              "      <script>\n",
              "        const buttonEl =\n",
              "          document.querySelector('#df-2a6fd0a2-81d8-4e26-bada-15f5be196c05 button.colab-df-convert');\n",
              "        buttonEl.style.display =\n",
              "          google.colab.kernel.accessAllowed ? 'block' : 'none';\n",
              "\n",
              "        async function convertToInteractive(key) {\n",
              "          const element = document.querySelector('#df-2a6fd0a2-81d8-4e26-bada-15f5be196c05');\n",
              "          const dataTable =\n",
              "            await google.colab.kernel.invokeFunction('convertToInteractive',\n",
              "                                                     [key], {});\n",
              "          if (!dataTable) return;\n",
              "\n",
              "          const docLinkHtml = 'Like what you see? Visit the ' +\n",
              "            '<a target=\"_blank\" href=https://colab.research.google.com/notebooks/data_table.ipynb>data table notebook</a>'\n",
              "            + ' to learn more about interactive tables.';\n",
              "          element.innerHTML = '';\n",
              "          dataTable['output_type'] = 'display_data';\n",
              "          await google.colab.output.renderOutput(dataTable, element);\n",
              "          const docLink = document.createElement('div');\n",
              "          docLink.innerHTML = docLinkHtml;\n",
              "          element.appendChild(docLink);\n",
              "        }\n",
              "      </script>\n",
              "    </div>\n",
              "  </div>\n",
              "  "
            ]
          },
          "metadata": {},
          "execution_count": 11
        }
      ],
      "source": [
        "data_get_dummies = data.iloc[:,2:]\n",
        "data_get_dummies.head()"
      ]
    },
    {
      "cell_type": "code",
      "execution_count": 12,
      "id": "f30040f8",
      "metadata": {
        "colab": {
          "base_uri": "https://localhost:8080/"
        },
        "id": "f30040f8",
        "outputId": "a8557dbe-7d7c-4e6d-bb89-1712f8ab6a7d"
      },
      "outputs": [
        {
          "output_type": "execute_result",
          "data": {
            "text/plain": [
              "aug    178\n",
              "sep    172\n",
              "mar     53\n",
              "jul     32\n",
              "feb     20\n",
              "jun     16\n",
              "oct     15\n",
              "apr      9\n",
              "dec      9\n",
              "jan      2\n",
              "may      2\n",
              "nov      1\n",
              "Name: month, dtype: int64"
            ]
          },
          "metadata": {},
          "execution_count": 12
        }
      ],
      "source": [
        "data['month'].value_counts()"
      ]
    },
    {
      "cell_type": "code",
      "execution_count": 13,
      "id": "a7c136d2",
      "metadata": {
        "colab": {
          "base_uri": "https://localhost:8080/"
        },
        "id": "a7c136d2",
        "outputId": "dbe302f3-8f77-4255-b6c4-1f8020371f95"
      },
      "outputs": [
        {
          "output_type": "execute_result",
          "data": {
            "text/plain": [
              "sun    94\n",
              "fri    83\n",
              "sat    82\n",
              "mon    74\n",
              "tue    63\n",
              "thu    60\n",
              "wed    53\n",
              "Name: day, dtype: int64"
            ]
          },
          "metadata": {},
          "execution_count": 13
        }
      ],
      "source": [
        "data['day'].value_counts()"
      ]
    },
    {
      "cell_type": "code",
      "execution_count": 14,
      "id": "216264a5",
      "metadata": {
        "colab": {
          "base_uri": "https://localhost:8080/"
        },
        "id": "216264a5",
        "outputId": "f9de19ca-4134-40e2-fd43-d686b5036390"
      },
      "outputs": [
        {
          "output_type": "execute_result",
          "data": {
            "text/plain": [
              "small    371\n",
              "large    138\n",
              "Name: size_category, dtype: int64"
            ]
          },
          "metadata": {},
          "execution_count": 14
        }
      ],
      "source": [
        "data['size_category'].value_counts()"
      ]
    },
    {
      "cell_type": "markdown",
      "id": "d19445ec",
      "metadata": {
        "id": "d19445ec"
      },
      "source": [
        "### Compairing different columns w.r.t  'y'"
      ]
    },
    {
      "cell_type": "code",
      "execution_count": 15,
      "id": "c0e0b1f2",
      "metadata": {
        "id": "c0e0b1f2"
      },
      "outputs": [],
      "source": [
        "def plot_rate_bar(data,col1,col2):\n",
        "    \n",
        "    data_col1 = data.groupby([col1])[col2].value_counts(normalize = True).unstack().reset_index()\n",
        "\n",
        "    fig, axes = plt.subplots(1, 2 ,figsize= (18,4))\n",
        "    (ax1,ax2) = axes\n",
        "    colors = ['#768dc5','#e28743']\n",
        "    ax1.bar(data_col1[col1], data_col1['large'], label = 'large', color= colors[0])\n",
        "    ax1.bar(data_col1[col1], data_col1['small'], label = 'small',bottom= data_col1['large'], color= colors[1])\n",
        "    ax1.set_title('comparision', fontsize= 15)\n",
        "    ax1.set_xlabel(xlabel= col1, fontsize= 10)\n",
        "    ax1.set_ylabel(ylabel= col2, fontsize= 10)\n",
        "    ax1.tick_params(axis='both', labelsize=10)\n",
        "    ax1.set_xticklabels(list(data_col1[col1]) , rotation=45)\n",
        "    ax1.legend()\n",
        "\n",
        "    # Let's put the annotations inside the bars\n",
        "\n",
        "    for rect in ax1.patches:\n",
        "        # Find where everything is located\n",
        "        height = rect.get_height()\n",
        "        width = rect.get_width()\n",
        "        x = rect.get_x()\n",
        "        y = rect.get_y()\n",
        "\n",
        "        # The width of the bar is also not pixels, it's the\n",
        "        label_text = '{:.2f}'.format(height)\n",
        "\n",
        "        label_x = x + width / 2\n",
        "        label_y = y + height / 2\n",
        "        ax1.text(label_x, label_y, label_text, ha='center', va='center', fontsize= 8)\n",
        "        \n",
        "    sns.countplot(x=col1, data=data,hue=col2 , ax = ax2)\n",
        "    plt.xticks( rotation = 45, fontsize = 12)"
      ]
    },
    {
      "cell_type": "code",
      "execution_count": 16,
      "id": "e59b1725",
      "metadata": {
        "colab": {
          "base_uri": "https://localhost:8080/",
          "height": 523
        },
        "id": "e59b1725",
        "outputId": "e303ab32-86d1-48d1-f663-2559eb16eca4"
      },
      "outputs": [
        {
          "output_type": "stream",
          "name": "stderr",
          "text": [
            "posx and posy should be finite values\n",
            "posx and posy should be finite values\n",
            "posx and posy should be finite values\n",
            "posx and posy should be finite values\n",
            "posx and posy should be finite values\n",
            "posx and posy should be finite values\n",
            "posx and posy should be finite values\n",
            "posx and posy should be finite values\n",
            "posx and posy should be finite values\n",
            "posx and posy should be finite values\n",
            "posx and posy should be finite values\n",
            "posx and posy should be finite values\n"
          ]
        },
        {
          "output_type": "display_data",
          "data": {
            "text/plain": [
              "<Figure size 1296x288 with 2 Axes>"
            ],
            "image/png": "[encoded data removed]"
          },
          "metadata": {
            "needs_background": "light"
          }
        }
      ],
      "source": [
        "plot_rate_bar(data,'month','size_category')"
      ]
    },
    {
      "cell_type": "code",
      "execution_count": 17,
      "id": "f8b4136c",
      "metadata": {
        "colab": {
          "base_uri": "https://localhost:8080/",
          "height": 315
        },
        "id": "f8b4136c",
        "outputId": "033b9ac7-4b2f-46e8-8509-3f76c6f6dee0"
      },
      "outputs": [
        {
          "output_type": "display_data",
          "data": {
            "text/plain": [
              "<Figure size 1296x288 with 2 Axes>"
            ],
            "image/png": "[encoded data removed]"
          },
          "metadata": {
            "needs_background": "light"
          }
        }
      ],
      "source": [
        "plot_rate_bar(data,'day','size_category')"
      ]
    },
    {
      "cell_type": "code",
      "execution_count": 18,
      "id": "3bacac82",
      "metadata": {
        "colab": {
          "base_uri": "https://localhost:8080/",
          "height": 239
        },
        "id": "3bacac82",
        "outputId": "043cc663-9777-4671-b4be-157dbfeb21c4"
      },
      "outputs": [
        {
          "output_type": "execute_result",
          "data": {
            "text/plain": [
              "                    FFMC                   DMC                     DC  \\\n",
              "                    mean       std        mean        std        mean   \n",
              "size_category                                                           \n",
              "large          90.839130  4.110578  115.105797  67.948994  559.322464   \n",
              "small          90.535849  6.007818  108.424259  62.190240  543.497035   \n",
              "\n",
              "                                ISI                 temp                   RH  \\\n",
              "                      std      mean       std       mean       std       mean   \n",
              "size_category                                                                   \n",
              "large          239.603775  8.964493  4.208885  18.960870  6.752879  43.188406   \n",
              "small          251.498946  9.045553  4.722602  18.829919  5.473019  44.649596   \n",
              "\n",
              "                              wind                rain                 area  \\\n",
              "                     std      mean       std      mean       std       mean   \n",
              "size_category                                                                 \n",
              "large          15.915172  4.186957  1.850895  0.046377  0.544804  45.617971   \n",
              "small          16.533050  3.946092  1.780102  0.010782  0.101301   0.857439   \n",
              "\n",
              "                           \n",
              "                      std  \n",
              "size_category              \n",
              "large          117.364722  \n",
              "small            1.489998  "
            ],
            "text/html": [
              "\n",
              "  <div id=\"df-9d52ae4f-3bec-458a-b7a0-0bc8be5b5ed4\">\n",
              "    <div class=\"colab-df-container\">\n",
              "      <div>\n",
              "<style scoped>\n",
              "    .dataframe tbody tr th:only-of-type {\n",
              "        vertical-align: middle;\n",
              "    }\n",
              "\n",
              "    .dataframe tbody tr th {\n",
              "        vertical-align: top;\n",
              "    }\n",
              "\n",
              "    .dataframe thead tr th {\n",
              "        text-align: left;\n",
              "    }\n",
              "\n",
              "    .dataframe thead tr:last-of-type th {\n",
              "        text-align: right;\n",
              "    }\n",
              "</style>\n",
              "<table border=\"1\" class=\"dataframe\">\n",
              "  <thead>\n",
              "    <tr>\n",
              "      <th></th>\n",
              "      <th colspan=\"2\" halign=\"left\">FFMC</th>\n",
              "      <th colspan=\"2\" halign=\"left\">DMC</th>\n",
              "      <th colspan=\"2\" halign=\"left\">DC</th>\n",
              "      <th colspan=\"2\" halign=\"left\">ISI</th>\n",
              "      <th colspan=\"2\" halign=\"left\">temp</th>\n",
              "      <th colspan=\"2\" halign=\"left\">RH</th>\n",
              "      <th colspan=\"2\" halign=\"left\">wind</th>\n",
              "      <th colspan=\"2\" halign=\"left\">rain</th>\n",
              "      <th colspan=\"2\" halign=\"left\">area</th>\n",
              "    </tr>\n",
              "    <tr>\n",
              "      <th></th>\n",
              "      <th>mean</th>\n",
              "      <th>std</th>\n",
              "      <th>mean</th>\n",
              "      <th>std</th>\n",
              "      <th>mean</th>\n",
              "      <th>std</th>\n",
              "      <th>mean</th>\n",
              "      <th>std</th>\n",
              "      <th>mean</th>\n",
              "      <th>std</th>\n",
              "      <th>mean</th>\n",
              "      <th>std</th>\n",
              "      <th>mean</th>\n",
              "      <th>std</th>\n",
              "      <th>mean</th>\n",
              "      <th>std</th>\n",
              "      <th>mean</th>\n",
              "      <th>std</th>\n",
              "    </tr>\n",
              "    <tr>\n",
              "      <th>size_category</th>\n",
              "      <th></th>\n",
              "      <th></th>\n",
              "      <th></th>\n",
              "      <th></th>\n",
              "      <th></th>\n",
              "      <th></th>\n",
              "      <th></th>\n",
              "      <th></th>\n",
              "      <th></th>\n",
              "      <th></th>\n",
              "      <th></th>\n",
              "      <th></th>\n",
              "      <th></th>\n",
              "      <th></th>\n",
              "      <th></th>\n",
              "      <th></th>\n",
              "      <th></th>\n",
              "      <th></th>\n",
              "    </tr>\n",
              "  </thead>\n",
              "  <tbody>\n",
              "    <tr>\n",
              "      <th>large</th>\n",
              "      <td>90.839130</td>\n",
              "      <td>4.110578</td>\n",
              "      <td>115.105797</td>\n",
              "      <td>67.948994</td>\n",
              "      <td>559.322464</td>\n",
              "      <td>239.603775</td>\n",
              "      <td>8.964493</td>\n",
              "      <td>4.208885</td>\n",
              "      <td>18.960870</td>\n",
              "      <td>6.752879</td>\n",
              "      <td>43.188406</td>\n",
              "      <td>15.915172</td>\n",
              "      <td>4.186957</td>\n",
              "      <td>1.850895</td>\n",
              "      <td>0.046377</td>\n",
              "      <td>0.544804</td>\n",
              "      <td>45.617971</td>\n",
              "      <td>117.364722</td>\n",
              "    </tr>\n",
              "    <tr>\n",
              "      <th>small</th>\n",
              "      <td>90.535849</td>\n",
              "      <td>6.007818</td>\n",
              "      <td>108.424259</td>\n",
              "      <td>62.190240</td>\n",
              "      <td>543.497035</td>\n",
              "      <td>251.498946</td>\n",
              "      <td>9.045553</td>\n",
              "      <td>4.722602</td>\n",
              "      <td>18.829919</td>\n",
              "      <td>5.473019</td>\n",
              "      <td>44.649596</td>\n",
              "      <td>16.533050</td>\n",
              "      <td>3.946092</td>\n",
              "      <td>1.780102</td>\n",
              "      <td>0.010782</td>\n",
              "      <td>0.101301</td>\n",
              "      <td>0.857439</td>\n",
              "      <td>1.489998</td>\n",
              "    </tr>\n",
              "  </tbody>\n",
              "</table>\n",
              "</div>\n",
              "      <button class=\"colab-df-convert\" onclick=\"convertToInteractive('df-9d52ae4f-3bec-458a-b7a0-0bc8be5b5ed4')\"\n",
              "              title=\"Convert this dataframe to an interactive table.\"\n",
              "              style=\"display:none;\">\n",
              "        \n",
              "  <svg xmlns=\"http://www.w3.org/2000/svg\" height=\"24px\"viewBox=\"0 0 24 24\"\n",
              "       width=\"24px\">\n",
              "    <path d=\"M0 0h24v24H0V0z\" fill=\"none\"/>\n",
              "    <path d=\"M18.56 5.44l.94 2.06.94-2.06 2.06-.94-2.06-.94-.94-2.06-.94 2.06-2.06.94zm-11 1L8.5 8.5l.94-2.06 2.06-.94-2.06-.94L8.5 2.5l-.94 2.06-2.06.94zm10 10l.94 2.06.94-2.06 2.06-.94-2.06-.94-.94-2.06-.94 2.06-2.06.94z\"/><path d=\"M17.41 7.96l-1.37-1.37c-.4-.4-.92-.59-1.43-.59-.52 0-1.04.2-1.43.59L10.3 9.45l-7.72 7.72c-.78.78-.78 2.05 0 2.83L4 21.41c.39.39.9.59 1.41.59.51 0 1.02-.2 1.41-.59l7.78-7.78 2.81-2.81c.8-.78.8-2.07 0-2.86zM5.41 20L4 18.59l7.72-7.72 1.47 1.35L5.41 20z\"/>\n",
              "  </svg>\n",
              "      </button>\n",
              "      \n",
              "  <style>\n",
              "    .colab-df-container {\n",
              "      display:flex;\n",
              "      flex-wrap:wrap;\n",
              "      gap: 12px;\n",
              "    }\n",
              "\n",
              "    .colab-df-convert {\n",
              "      background-color: #E8F0FE;\n",
              "      border: none;\n",
              "      border-radius: 50%;\n",
              "      cursor: pointer;\n",
              "      display: none;\n",
              "      fill: #1967D2;\n",
              "      height: 32px;\n",
              "      padding: 0 0 0 0;\n",
              "      width: 32px;\n",
              "    }\n",
              "\n",
              "    .colab-df-convert:hover {\n",
              "      background-color: #E2EBFA;\n",
              "      box-shadow: 0px 1px 2px rgba(60, 64, 67, 0.3), 0px 1px 3px 1px rgba(60, 64, 67, 0.15);\n",
              "      fill: #174EA6;\n",
              "    }\n",
              "\n",
              "    [theme=dark] .colab-df-convert {\n",
              "      background-color: #3B4455;\n",
              "      fill: #D2E3FC;\n",
              "    }\n",
              "\n",
              "    [theme=dark] .colab-df-convert:hover {\n",
              "      background-color: #434B5C;\n",
              "      box-shadow: 0px 1px 3px 1px rgba(0, 0, 0, 0.15);\n",
              "      filter: drop-shadow(0px 1px 2px rgba(0, 0, 0, 0.3));\n",
              "      fill: #FFFFFF;\n",
              "    }\n",
              "  </style>\n",
              "\n",
              "      <script>\n",
              "        const buttonEl =\n",
              "          document.querySelector('#df-9d52ae4f-3bec-458a-b7a0-0bc8be5b5ed4 button.colab-df-convert');\n",
              "        buttonEl.style.display =\n",
              "          google.colab.kernel.accessAllowed ? 'block' : 'none';\n",
              "\n",
              "        async function convertToInteractive(key) {\n",
              "          const element = document.querySelector('#df-9d52ae4f-3bec-458a-b7a0-0bc8be5b5ed4');\n",
              "          const dataTable =\n",
              "            await google.colab.kernel.invokeFunction('convertToInteractive',\n",
              "                                                     [key], {});\n",
              "          if (!dataTable) return;\n",
              "\n",
              "          const docLinkHtml = 'Like what you see? Visit the ' +\n",
              "            '<a target=\"_blank\" href=https://colab.research.google.com/notebooks/data_table.ipynb>data table notebook</a>'\n",
              "            + ' to learn more about interactive tables.';\n",
              "          element.innerHTML = '';\n",
              "          dataTable['output_type'] = 'display_data';\n",
              "          await google.colab.output.renderOutput(dataTable, element);\n",
              "          const docLink = document.createElement('div');\n",
              "          docLink.innerHTML = docLinkHtml;\n",
              "          element.appendChild(docLink);\n",
              "        }\n",
              "      </script>\n",
              "    </div>\n",
              "  </div>\n",
              "  "
            ]
          },
          "metadata": {},
          "execution_count": 18
        }
      ],
      "source": [
        "des = data1.groupby(['size_category']).agg(['mean' , 'std'])\n",
        "des"
      ]
    },
    {
      "cell_type": "code",
      "execution_count": 19,
      "id": "557d8309",
      "metadata": {
        "colab": {
          "base_uri": "https://localhost:8080/",
          "height": 452
        },
        "id": "557d8309",
        "outputId": "61175f5c-726d-43e2-f3d8-0d5e0c477712"
      },
      "outputs": [
        {
          "output_type": "stream",
          "name": "stderr",
          "text": [
            "/usr/local/lib/python3.7/dist-packages/ipykernel_launcher.py:2: FutureWarning: Dropping of nuisance columns in DataFrame reductions (with 'numeric_only=None') is deprecated; in a future version this will raise TypeError.  Select only valid columns before calling the reduction.\n",
            "  \n",
            "/usr/local/lib/python3.7/dist-packages/ipykernel_launcher.py:3: FutureWarning: Dropping of nuisance columns in DataFrame reductions (with 'numeric_only=None') is deprecated; in a future version this will raise TypeError.  Select only valid columns before calling the reduction.\n",
            "  This is separate from the ipykernel package so we can avoid doing imports until\n"
          ]
        },
        {
          "output_type": "execute_result",
          "data": {
            "text/plain": [
              "                FFMC         DMC          DC         ISI        temp  \\\n",
              "count     509.000000  509.000000  509.000000  509.000000  509.000000   \n",
              "mean       90.618075  110.235756  547.787623    9.023576   18.865422   \n",
              "std         5.555527   63.804112  248.196222    4.585083    5.841083   \n",
              "min        18.700000    1.100000    7.900000    0.000000    2.200000   \n",
              "25%        90.200000   62.300000  437.700000    6.400000   15.400000   \n",
              "50%        91.600000  108.300000  664.200000    8.400000   19.300000   \n",
              "75%        92.900000  141.300000  713.900000   11.000000   22.800000   \n",
              "max        96.200000  291.300000  860.600000   56.100000   33.300000   \n",
              "skewness   -6.540474    0.558596   -1.100245    2.529891   -0.321869   \n",
              "kurtosis   66.255682    0.251618   -0.242656   21.288771    0.101560   \n",
              "\n",
              "                  RH        wind        rain         area  \n",
              "count     509.000000  509.000000  509.000000   509.000000  \n",
              "mean       44.253438    4.011395    0.020432    12.992908  \n",
              "std        16.365192    1.800926    0.296261    64.133357  \n",
              "min        15.000000    0.400000    0.000000     0.000000  \n",
              "25%        32.000000    2.700000    0.000000     0.000000  \n",
              "50%        42.000000    4.000000    0.000000     0.610000  \n",
              "75%        53.000000    4.900000    0.000000     6.580000  \n",
              "max       100.000000    9.400000    6.400000  1090.840000  \n",
              "skewness    0.869644    0.581689   20.044822    12.753940  \n",
              "kurtosis    0.447242    0.043986  426.542289   191.265722  "
            ],
            "text/html": [
              "\n",
              "  <div id=\"df-aeb5fbd5-aa2d-4e4f-a563-78c488a6bfe5\">\n",
              "    <div class=\"colab-df-container\">\n",
              "      <div>\n",
              "<style scoped>\n",
              "    .dataframe tbody tr th:only-of-type {\n",
              "        vertical-align: middle;\n",
              "    }\n",
              "\n",
              "    .dataframe tbody tr th {\n",
              "        vertical-align: top;\n",
              "    }\n",
              "\n",
              "    .dataframe thead th {\n",
              "        text-align: right;\n",
              "    }\n",
              "</style>\n",
              "<table border=\"1\" class=\"dataframe\">\n",
              "  <thead>\n",
              "    <tr style=\"text-align: right;\">\n",
              "      <th></th>\n",
              "      <th>FFMC</th>\n",
              "      <th>DMC</th>\n",
              "      <th>DC</th>\n",
              "      <th>ISI</th>\n",
              "      <th>temp</th>\n",
              "      <th>RH</th>\n",
              "      <th>wind</th>\n",
              "      <th>rain</th>\n",
              "      <th>area</th>\n",
              "    </tr>\n",
              "  </thead>\n",
              "  <tbody>\n",
              "    <tr>\n",
              "      <th>count</th>\n",
              "      <td>509.000000</td>\n",
              "      <td>509.000000</td>\n",
              "      <td>509.000000</td>\n",
              "      <td>509.000000</td>\n",
              "      <td>509.000000</td>\n",
              "      <td>509.000000</td>\n",
              "      <td>509.000000</td>\n",
              "      <td>509.000000</td>\n",
              "      <td>509.000000</td>\n",
              "    </tr>\n",
              "    <tr>\n",
              "      <th>mean</th>\n",
              "      <td>90.618075</td>\n",
              "      <td>110.235756</td>\n",
              "      <td>547.787623</td>\n",
              "      <td>9.023576</td>\n",
              "      <td>18.865422</td>\n",
              "      <td>44.253438</td>\n",
              "      <td>4.011395</td>\n",
              "      <td>0.020432</td>\n",
              "      <td>12.992908</td>\n",
              "    </tr>\n",
              "    <tr>\n",
              "      <th>std</th>\n",
              "      <td>5.555527</td>\n",
              "      <td>63.804112</td>\n",
              "      <td>248.196222</td>\n",
              "      <td>4.585083</td>\n",
              "      <td>5.841083</td>\n",
              "      <td>16.365192</td>\n",
              "      <td>1.800926</td>\n",
              "      <td>0.296261</td>\n",
              "      <td>64.133357</td>\n",
              "    </tr>\n",
              "    <tr>\n",
              "      <th>min</th>\n",
              "      <td>18.700000</td>\n",
              "      <td>1.100000</td>\n",
              "      <td>7.900000</td>\n",
              "      <td>0.000000</td>\n",
              "      <td>2.200000</td>\n",
              "      <td>15.000000</td>\n",
              "      <td>0.400000</td>\n",
              "      <td>0.000000</td>\n",
              "      <td>0.000000</td>\n",
              "    </tr>\n",
              "    <tr>\n",
              "      <th>25%</th>\n",
              "      <td>90.200000</td>\n",
              "      <td>62.300000</td>\n",
              "      <td>437.700000</td>\n",
              "      <td>6.400000</td>\n",
              "      <td>15.400000</td>\n",
              "      <td>32.000000</td>\n",
              "      <td>2.700000</td>\n",
              "      <td>0.000000</td>\n",
              "      <td>0.000000</td>\n",
              "    </tr>\n",
              "    <tr>\n",
              "      <th>50%</th>\n",
              "      <td>91.600000</td>\n",
              "      <td>108.300000</td>\n",
              "      <td>664.200000</td>\n",
              "      <td>8.400000</td>\n",
              "      <td>19.300000</td>\n",
              "      <td>42.000000</td>\n",
              "      <td>4.000000</td>\n",
              "      <td>0.000000</td>\n",
              "      <td>0.610000</td>\n",
              "    </tr>\n",
              "    <tr>\n",
              "      <th>75%</th>\n",
              "      <td>92.900000</td>\n",
              "      <td>141.300000</td>\n",
              "      <td>713.900000</td>\n",
              "      <td>11.000000</td>\n",
              "      <td>22.800000</td>\n",
              "      <td>53.000000</td>\n",
              "      <td>4.900000</td>\n",
              "      <td>0.000000</td>\n",
              "      <td>6.580000</td>\n",
              "    </tr>\n",
              "    <tr>\n",
              "      <th>max</th>\n",
              "      <td>96.200000</td>\n",
              "      <td>291.300000</td>\n",
              "      <td>860.600000</td>\n",
              "      <td>56.100000</td>\n",
              "      <td>33.300000</td>\n",
              "      <td>100.000000</td>\n",
              "      <td>9.400000</td>\n",
              "      <td>6.400000</td>\n",
              "      <td>1090.840000</td>\n",
              "    </tr>\n",
              "    <tr>\n",
              "      <th>skewness</th>\n",
              "      <td>-6.540474</td>\n",
              "      <td>0.558596</td>\n",
              "      <td>-1.100245</td>\n",
              "      <td>2.529891</td>\n",
              "      <td>-0.321869</td>\n",
              "      <td>0.869644</td>\n",
              "      <td>0.581689</td>\n",
              "      <td>20.044822</td>\n",
              "      <td>12.753940</td>\n",
              "    </tr>\n",
              "    <tr>\n",
              "      <th>kurtosis</th>\n",
              "      <td>66.255682</td>\n",
              "      <td>0.251618</td>\n",
              "      <td>-0.242656</td>\n",
              "      <td>21.288771</td>\n",
              "      <td>0.101560</td>\n",
              "      <td>0.447242</td>\n",
              "      <td>0.043986</td>\n",
              "      <td>426.542289</td>\n",
              "      <td>191.265722</td>\n",
              "    </tr>\n",
              "  </tbody>\n",
              "</table>\n",
              "</div>\n",
              "      <button class=\"colab-df-convert\" onclick=\"convertToInteractive('df-aeb5fbd5-aa2d-4e4f-a563-78c488a6bfe5')\"\n",
              "              title=\"Convert this dataframe to an interactive table.\"\n",
              "              style=\"display:none;\">\n",
              "        \n",
              "  <svg xmlns=\"http://www.w3.org/2000/svg\" height=\"24px\"viewBox=\"0 0 24 24\"\n",
              "       width=\"24px\">\n",
              "    <path d=\"M0 0h24v24H0V0z\" fill=\"none\"/>\n",
              "    <path d=\"M18.56 5.44l.94 2.06.94-2.06 2.06-.94-2.06-.94-.94-2.06-.94 2.06-2.06.94zm-11 1L8.5 8.5l.94-2.06 2.06-.94-2.06-.94L8.5 2.5l-.94 2.06-2.06.94zm10 10l.94 2.06.94-2.06 2.06-.94-2.06-.94-.94-2.06-.94 2.06-2.06.94z\"/><path d=\"M17.41 7.96l-1.37-1.37c-.4-.4-.92-.59-1.43-.59-.52 0-1.04.2-1.43.59L10.3 9.45l-7.72 7.72c-.78.78-.78 2.05 0 2.83L4 21.41c.39.39.9.59 1.41.59.51 0 1.02-.2 1.41-.59l7.78-7.78 2.81-2.81c.8-.78.8-2.07 0-2.86zM5.41 20L4 18.59l7.72-7.72 1.47 1.35L5.41 20z\"/>\n",
              "  </svg>\n",
              "      </button>\n",
              "      \n",
              "  <style>\n",
              "    .colab-df-container {\n",
              "      display:flex;\n",
              "      flex-wrap:wrap;\n",
              "      gap: 12px;\n",
              "    }\n",
              "\n",
              "    .colab-df-convert {\n",
              "      background-color: #E8F0FE;\n",
              "      border: none;\n",
              "      border-radius: 50%;\n",
              "      cursor: pointer;\n",
              "      display: none;\n",
              "      fill: #1967D2;\n",
              "      height: 32px;\n",
              "      padding: 0 0 0 0;\n",
              "      width: 32px;\n",
              "    }\n",
              "\n",
              "    .colab-df-convert:hover {\n",
              "      background-color: #E2EBFA;\n",
              "      box-shadow: 0px 1px 2px rgba(60, 64, 67, 0.3), 0px 1px 3px 1px rgba(60, 64, 67, 0.15);\n",
              "      fill: #174EA6;\n",
              "    }\n",
              "\n",
              "    [theme=dark] .colab-df-convert {\n",
              "      background-color: #3B4455;\n",
              "      fill: #D2E3FC;\n",
              "    }\n",
              "\n",
              "    [theme=dark] .colab-df-convert:hover {\n",
              "      background-color: #434B5C;\n",
              "      box-shadow: 0px 1px 3px 1px rgba(0, 0, 0, 0.15);\n",
              "      filter: drop-shadow(0px 1px 2px rgba(0, 0, 0, 0.3));\n",
              "      fill: #FFFFFF;\n",
              "    }\n",
              "  </style>\n",
              "\n",
              "      <script>\n",
              "        const buttonEl =\n",
              "          document.querySelector('#df-aeb5fbd5-aa2d-4e4f-a563-78c488a6bfe5 button.colab-df-convert');\n",
              "        buttonEl.style.display =\n",
              "          google.colab.kernel.accessAllowed ? 'block' : 'none';\n",
              "\n",
              "        async function convertToInteractive(key) {\n",
              "          const element = document.querySelector('#df-aeb5fbd5-aa2d-4e4f-a563-78c488a6bfe5');\n",
              "          const dataTable =\n",
              "            await google.colab.kernel.invokeFunction('convertToInteractive',\n",
              "                                                     [key], {});\n",
              "          if (!dataTable) return;\n",
              "\n",
              "          const docLinkHtml = 'Like what you see? Visit the ' +\n",
              "            '<a target=\"_blank\" href=https://colab.research.google.com/notebooks/data_table.ipynb>data table notebook</a>'\n",
              "            + ' to learn more about interactive tables.';\n",
              "          element.innerHTML = '';\n",
              "          dataTable['output_type'] = 'display_data';\n",
              "          await google.colab.output.renderOutput(dataTable, element);\n",
              "          const docLink = document.createElement('div');\n",
              "          docLink.innerHTML = docLinkHtml;\n",
              "          element.appendChild(docLink);\n",
              "        }\n",
              "      </script>\n",
              "    </div>\n",
              "  </div>\n",
              "  "
            ]
          },
          "metadata": {},
          "execution_count": 19
        }
      ],
      "source": [
        "data_summary = data1.describe()\n",
        "data_summary.loc['skewness'] = data1.skew()\n",
        "data_summary.loc['kurtosis'] = data1.kurtosis()\n",
        "data_summary"
      ]
    },
    {
      "cell_type": "markdown",
      "id": "2b51f03a",
      "metadata": {
        "id": "2b51f03a"
      },
      "source": [
        "### Data Transformation"
      ]
    },
    {
      "cell_type": "code",
      "execution_count": 20,
      "id": "c3503e15",
      "metadata": {
        "colab": {
          "base_uri": "https://localhost:8080/",
          "height": 206
        },
        "id": "c3503e15",
        "outputId": "67b01329-beaf-41fd-8bb3-8e6bd0745c83"
      },
      "outputs": [
        {
          "output_type": "execute_result",
          "data": {
            "text/plain": [
              "  month  day  FFMC   DMC     DC  ISI  temp  RH  wind  rain  area size_category\n",
              "0   mar  fri  86.2  26.2   94.3  5.1   8.2  51   6.7   0.0   0.0         small\n",
              "1   oct  tue  90.6  35.4  669.1  6.7  18.0  33   0.9   0.0   0.0         small\n",
              "2   oct  sat  90.6  43.7  686.9  6.7  14.6  33   1.3   0.0   0.0         small\n",
              "3   mar  fri  91.7  33.3   77.5  9.0   8.3  97   4.0   0.2   0.0         small\n",
              "4   mar  sun  89.3  51.3  102.2  9.6  11.4  99   1.8   0.0   0.0         small"
            ],
            "text/html": [
              "\n",
              "  <div id=\"df-28b1f948-1779-4c39-9b39-bf118ed8a20f\">\n",
              "    <div class=\"colab-df-container\">\n",
              "      <div>\n",
              "<style scoped>\n",
              "    .dataframe tbody tr th:only-of-type {\n",
              "        vertical-align: middle;\n",
              "    }\n",
              "\n",
              "    .dataframe tbody tr th {\n",
              "        vertical-align: top;\n",
              "    }\n",
              "\n",
              "    .dataframe thead th {\n",
              "        text-align: right;\n",
              "    }\n",
              "</style>\n",
              "<table border=\"1\" class=\"dataframe\">\n",
              "  <thead>\n",
              "    <tr style=\"text-align: right;\">\n",
              "      <th></th>\n",
              "      <th>month</th>\n",
              "      <th>day</th>\n",
              "      <th>FFMC</th>\n",
              "      <th>DMC</th>\n",
              "      <th>DC</th>\n",
              "      <th>ISI</th>\n",
              "      <th>temp</th>\n",
              "      <th>RH</th>\n",
              "      <th>wind</th>\n",
              "      <th>rain</th>\n",
              "      <th>area</th>\n",
              "      <th>size_category</th>\n",
              "    </tr>\n",
              "  </thead>\n",
              "  <tbody>\n",
              "    <tr>\n",
              "      <th>0</th>\n",
              "      <td>mar</td>\n",
              "      <td>fri</td>\n",
              "      <td>86.2</td>\n",
              "      <td>26.2</td>\n",
              "      <td>94.3</td>\n",
              "      <td>5.1</td>\n",
              "      <td>8.2</td>\n",
              "      <td>51</td>\n",
              "      <td>6.7</td>\n",
              "      <td>0.0</td>\n",
              "      <td>0.0</td>\n",
              "      <td>small</td>\n",
              "    </tr>\n",
              "    <tr>\n",
              "      <th>1</th>\n",
              "      <td>oct</td>\n",
              "      <td>tue</td>\n",
              "      <td>90.6</td>\n",
              "      <td>35.4</td>\n",
              "      <td>669.1</td>\n",
              "      <td>6.7</td>\n",
              "      <td>18.0</td>\n",
              "      <td>33</td>\n",
              "      <td>0.9</td>\n",
              "      <td>0.0</td>\n",
              "      <td>0.0</td>\n",
              "      <td>small</td>\n",
              "    </tr>\n",
              "    <tr>\n",
              "      <th>2</th>\n",
              "      <td>oct</td>\n",
              "      <td>sat</td>\n",
              "      <td>90.6</td>\n",
              "      <td>43.7</td>\n",
              "      <td>686.9</td>\n",
              "      <td>6.7</td>\n",
              "      <td>14.6</td>\n",
              "      <td>33</td>\n",
              "      <td>1.3</td>\n",
              "      <td>0.0</td>\n",
              "      <td>0.0</td>\n",
              "      <td>small</td>\n",
              "    </tr>\n",
              "    <tr>\n",
              "      <th>3</th>\n",
              "      <td>mar</td>\n",
              "      <td>fri</td>\n",
              "      <td>91.7</td>\n",
              "      <td>33.3</td>\n",
              "      <td>77.5</td>\n",
              "      <td>9.0</td>\n",
              "      <td>8.3</td>\n",
              "      <td>97</td>\n",
              "      <td>4.0</td>\n",
              "      <td>0.2</td>\n",
              "      <td>0.0</td>\n",
              "      <td>small</td>\n",
              "    </tr>\n",
              "    <tr>\n",
              "      <th>4</th>\n",
              "      <td>mar</td>\n",
              "      <td>sun</td>\n",
              "      <td>89.3</td>\n",
              "      <td>51.3</td>\n",
              "      <td>102.2</td>\n",
              "      <td>9.6</td>\n",
              "      <td>11.4</td>\n",
              "      <td>99</td>\n",
              "      <td>1.8</td>\n",
              "      <td>0.0</td>\n",
              "      <td>0.0</td>\n",
              "      <td>small</td>\n",
              "    </tr>\n",
              "  </tbody>\n",
              "</table>\n",
              "</div>\n",
              "      <button class=\"colab-df-convert\" onclick=\"convertToInteractive('df-28b1f948-1779-4c39-9b39-bf118ed8a20f')\"\n",
              "              title=\"Convert this dataframe to an interactive table.\"\n",
              "              style=\"display:none;\">\n",
              "        \n",
              "  <svg xmlns=\"http://www.w3.org/2000/svg\" height=\"24px\"viewBox=\"0 0 24 24\"\n",
              "       width=\"24px\">\n",
              "    <path d=\"M0 0h24v24H0V0z\" fill=\"none\"/>\n",
              "    <path d=\"M18.56 5.44l.94 2.06.94-2.06 2.06-.94-2.06-.94-.94-2.06-.94 2.06-2.06.94zm-11 1L8.5 8.5l.94-2.06 2.06-.94-2.06-.94L8.5 2.5l-.94 2.06-2.06.94zm10 10l.94 2.06.94-2.06 2.06-.94-2.06-.94-.94-2.06-.94 2.06-2.06.94z\"/><path d=\"M17.41 7.96l-1.37-1.37c-.4-.4-.92-.59-1.43-.59-.52 0-1.04.2-1.43.59L10.3 9.45l-7.72 7.72c-.78.78-.78 2.05 0 2.83L4 21.41c.39.39.9.59 1.41.59.51 0 1.02-.2 1.41-.59l7.78-7.78 2.81-2.81c.8-.78.8-2.07 0-2.86zM5.41 20L4 18.59l7.72-7.72 1.47 1.35L5.41 20z\"/>\n",
              "  </svg>\n",
              "      </button>\n",
              "      \n",
              "  <style>\n",
              "    .colab-df-container {\n",
              "      display:flex;\n",
              "      flex-wrap:wrap;\n",
              "      gap: 12px;\n",
              "    }\n",
              "\n",
              "    .colab-df-convert {\n",
              "      background-color: #E8F0FE;\n",
              "      border: none;\n",
              "      border-radius: 50%;\n",
              "      cursor: pointer;\n",
              "      display: none;\n",
              "      fill: #1967D2;\n",
              "      height: 32px;\n",
              "      padding: 0 0 0 0;\n",
              "      width: 32px;\n",
              "    }\n",
              "\n",
              "    .colab-df-convert:hover {\n",
              "      background-color: #E2EBFA;\n",
              "      box-shadow: 0px 1px 2px rgba(60, 64, 67, 0.3), 0px 1px 3px 1px rgba(60, 64, 67, 0.15);\n",
              "      fill: #174EA6;\n",
              "    }\n",
              "\n",
              "    [theme=dark] .colab-df-convert {\n",
              "      background-color: #3B4455;\n",
              "      fill: #D2E3FC;\n",
              "    }\n",
              "\n",
              "    [theme=dark] .colab-df-convert:hover {\n",
              "      background-color: #434B5C;\n",
              "      box-shadow: 0px 1px 3px 1px rgba(0, 0, 0, 0.15);\n",
              "      filter: drop-shadow(0px 1px 2px rgba(0, 0, 0, 0.3));\n",
              "      fill: #FFFFFF;\n",
              "    }\n",
              "  </style>\n",
              "\n",
              "      <script>\n",
              "        const buttonEl =\n",
              "          document.querySelector('#df-28b1f948-1779-4c39-9b39-bf118ed8a20f button.colab-df-convert');\n",
              "        buttonEl.style.display =\n",
              "          google.colab.kernel.accessAllowed ? 'block' : 'none';\n",
              "\n",
              "        async function convertToInteractive(key) {\n",
              "          const element = document.querySelector('#df-28b1f948-1779-4c39-9b39-bf118ed8a20f');\n",
              "          const dataTable =\n",
              "            await google.colab.kernel.invokeFunction('convertToInteractive',\n",
              "                                                     [key], {});\n",
              "          if (!dataTable) return;\n",
              "\n",
              "          const docLinkHtml = 'Like what you see? Visit the ' +\n",
              "            '<a target=\"_blank\" href=https://colab.research.google.com/notebooks/data_table.ipynb>data table notebook</a>'\n",
              "            + ' to learn more about interactive tables.';\n",
              "          element.innerHTML = '';\n",
              "          dataTable['output_type'] = 'display_data';\n",
              "          await google.colab.output.renderOutput(dataTable, element);\n",
              "          const docLink = document.createElement('div');\n",
              "          docLink.innerHTML = docLinkHtml;\n",
              "          element.appendChild(docLink);\n",
              "        }\n",
              "      </script>\n",
              "    </div>\n",
              "  </div>\n",
              "  "
            ]
          },
          "metadata": {},
          "execution_count": 20
        }
      ],
      "source": [
        "data1.head()"
      ]
    },
    {
      "cell_type": "code",
      "execution_count": 21,
      "id": "fce1a997",
      "metadata": {
        "colab": {
          "base_uri": "https://localhost:8080/",
          "height": 206
        },
        "id": "fce1a997",
        "outputId": "34d693bc-d22d-4df9-f394-f295e5bc70db"
      },
      "outputs": [
        {
          "output_type": "execute_result",
          "data": {
            "text/plain": [
              "   FFMC   DMC     DC  ISI  temp  RH  wind  rain  area\n",
              "0  86.2  26.2   94.3  5.1   8.2  51   6.7   0.0   0.0\n",
              "1  90.6  35.4  669.1  6.7  18.0  33   0.9   0.0   0.0\n",
              "2  90.6  43.7  686.9  6.7  14.6  33   1.3   0.0   0.0\n",
              "3  91.7  33.3   77.5  9.0   8.3  97   4.0   0.2   0.0\n",
              "4  89.3  51.3  102.2  9.6  11.4  99   1.8   0.0   0.0"
            ],
            "text/html": [
              "\n",
              "  <div id=\"df-720f7404-9f0b-4db1-8427-50703f70ae23\">\n",
              "    <div class=\"colab-df-container\">\n",
              "      <div>\n",
              "<style scoped>\n",
              "    .dataframe tbody tr th:only-of-type {\n",
              "        vertical-align: middle;\n",
              "    }\n",
              "\n",
              "    .dataframe tbody tr th {\n",
              "        vertical-align: top;\n",
              "    }\n",
              "\n",
              "    .dataframe thead th {\n",
              "        text-align: right;\n",
              "    }\n",
              "</style>\n",
              "<table border=\"1\" class=\"dataframe\">\n",
              "  <thead>\n",
              "    <tr style=\"text-align: right;\">\n",
              "      <th></th>\n",
              "      <th>FFMC</th>\n",
              "      <th>DMC</th>\n",
              "      <th>DC</th>\n",
              "      <th>ISI</th>\n",
              "      <th>temp</th>\n",
              "      <th>RH</th>\n",
              "      <th>wind</th>\n",
              "      <th>rain</th>\n",
              "      <th>area</th>\n",
              "    </tr>\n",
              "  </thead>\n",
              "  <tbody>\n",
              "    <tr>\n",
              "      <th>0</th>\n",
              "      <td>86.2</td>\n",
              "      <td>26.2</td>\n",
              "      <td>94.3</td>\n",
              "      <td>5.1</td>\n",
              "      <td>8.2</td>\n",
              "      <td>51</td>\n",
              "      <td>6.7</td>\n",
              "      <td>0.0</td>\n",
              "      <td>0.0</td>\n",
              "    </tr>\n",
              "    <tr>\n",
              "      <th>1</th>\n",
              "      <td>90.6</td>\n",
              "      <td>35.4</td>\n",
              "      <td>669.1</td>\n",
              "      <td>6.7</td>\n",
              "      <td>18.0</td>\n",
              "      <td>33</td>\n",
              "      <td>0.9</td>\n",
              "      <td>0.0</td>\n",
              "      <td>0.0</td>\n",
              "    </tr>\n",
              "    <tr>\n",
              "      <th>2</th>\n",
              "      <td>90.6</td>\n",
              "      <td>43.7</td>\n",
              "      <td>686.9</td>\n",
              "      <td>6.7</td>\n",
              "      <td>14.6</td>\n",
              "      <td>33</td>\n",
              "      <td>1.3</td>\n",
              "      <td>0.0</td>\n",
              "      <td>0.0</td>\n",
              "    </tr>\n",
              "    <tr>\n",
              "      <th>3</th>\n",
              "      <td>91.7</td>\n",
              "      <td>33.3</td>\n",
              "      <td>77.5</td>\n",
              "      <td>9.0</td>\n",
              "      <td>8.3</td>\n",
              "      <td>97</td>\n",
              "      <td>4.0</td>\n",
              "      <td>0.2</td>\n",
              "      <td>0.0</td>\n",
              "    </tr>\n",
              "    <tr>\n",
              "      <th>4</th>\n",
              "      <td>89.3</td>\n",
              "      <td>51.3</td>\n",
              "      <td>102.2</td>\n",
              "      <td>9.6</td>\n",
              "      <td>11.4</td>\n",
              "      <td>99</td>\n",
              "      <td>1.8</td>\n",
              "      <td>0.0</td>\n",
              "      <td>0.0</td>\n",
              "    </tr>\n",
              "  </tbody>\n",
              "</table>\n",
              "</div>\n",
              "      <button class=\"colab-df-convert\" onclick=\"convertToInteractive('df-720f7404-9f0b-4db1-8427-50703f70ae23')\"\n",
              "              title=\"Convert this dataframe to an interactive table.\"\n",
              "              style=\"display:none;\">\n",
              "        \n",
              "  <svg xmlns=\"http://www.w3.org/2000/svg\" height=\"24px\"viewBox=\"0 0 24 24\"\n",
              "       width=\"24px\">\n",
              "    <path d=\"M0 0h24v24H0V0z\" fill=\"none\"/>\n",
              "    <path d=\"M18.56 5.44l.94 2.06.94-2.06 2.06-.94-2.06-.94-.94-2.06-.94 2.06-2.06.94zm-11 1L8.5 8.5l.94-2.06 2.06-.94-2.06-.94L8.5 2.5l-.94 2.06-2.06.94zm10 10l.94 2.06.94-2.06 2.06-.94-2.06-.94-.94-2.06-.94 2.06-2.06.94z\"/><path d=\"M17.41 7.96l-1.37-1.37c-.4-.4-.92-.59-1.43-.59-.52 0-1.04.2-1.43.59L10.3 9.45l-7.72 7.72c-.78.78-.78 2.05 0 2.83L4 21.41c.39.39.9.59 1.41.59.51 0 1.02-.2 1.41-.59l7.78-7.78 2.81-2.81c.8-.78.8-2.07 0-2.86zM5.41 20L4 18.59l7.72-7.72 1.47 1.35L5.41 20z\"/>\n",
              "  </svg>\n",
              "      </button>\n",
              "      \n",
              "  <style>\n",
              "    .colab-df-container {\n",
              "      display:flex;\n",
              "      flex-wrap:wrap;\n",
              "      gap: 12px;\n",
              "    }\n",
              "\n",
              "    .colab-df-convert {\n",
              "      background-color: #E8F0FE;\n",
              "      border: none;\n",
              "      border-radius: 50%;\n",
              "      cursor: pointer;\n",
              "      display: none;\n",
              "      fill: #1967D2;\n",
              "      height: 32px;\n",
              "      padding: 0 0 0 0;\n",
              "      width: 32px;\n",
              "    }\n",
              "\n",
              "    .colab-df-convert:hover {\n",
              "      background-color: #E2EBFA;\n",
              "      box-shadow: 0px 1px 2px rgba(60, 64, 67, 0.3), 0px 1px 3px 1px rgba(60, 64, 67, 0.15);\n",
              "      fill: #174EA6;\n",
              "    }\n",
              "\n",
              "    [theme=dark] .colab-df-convert {\n",
              "      background-color: #3B4455;\n",
              "      fill: #D2E3FC;\n",
              "    }\n",
              "\n",
              "    [theme=dark] .colab-df-convert:hover {\n",
              "      background-color: #434B5C;\n",
              "      box-shadow: 0px 1px 3px 1px rgba(0, 0, 0, 0.15);\n",
              "      filter: drop-shadow(0px 1px 2px rgba(0, 0, 0, 0.3));\n",
              "      fill: #FFFFFF;\n",
              "    }\n",
              "  </style>\n",
              "\n",
              "      <script>\n",
              "        const buttonEl =\n",
              "          document.querySelector('#df-720f7404-9f0b-4db1-8427-50703f70ae23 button.colab-df-convert');\n",
              "        buttonEl.style.display =\n",
              "          google.colab.kernel.accessAllowed ? 'block' : 'none';\n",
              "\n",
              "        async function convertToInteractive(key) {\n",
              "          const element = document.querySelector('#df-720f7404-9f0b-4db1-8427-50703f70ae23');\n",
              "          const dataTable =\n",
              "            await google.colab.kernel.invokeFunction('convertToInteractive',\n",
              "                                                     [key], {});\n",
              "          if (!dataTable) return;\n",
              "\n",
              "          const docLinkHtml = 'Like what you see? Visit the ' +\n",
              "            '<a target=\"_blank\" href=https://colab.research.google.com/notebooks/data_table.ipynb>data table notebook</a>'\n",
              "            + ' to learn more about interactive tables.';\n",
              "          element.innerHTML = '';\n",
              "          dataTable['output_type'] = 'display_data';\n",
              "          await google.colab.output.renderOutput(dataTable, element);\n",
              "          const docLink = document.createElement('div');\n",
              "          docLink.innerHTML = docLinkHtml;\n",
              "          element.appendChild(docLink);\n",
              "        }\n",
              "      </script>\n",
              "    </div>\n",
              "  </div>\n",
              "  "
            ]
          },
          "metadata": {},
          "execution_count": 21
        }
      ],
      "source": [
        "num_cols = list(data_summary.columns)\n",
        "cat_cols = ['month','day','size_category']\n",
        "data2 = data[num_cols]\n",
        "data2.head()"
      ]
    },
    {
      "cell_type": "code",
      "execution_count": 22,
      "id": "faad9243",
      "metadata": {
        "colab": {
          "base_uri": "https://localhost:8080/",
          "height": 206
        },
        "id": "faad9243",
        "outputId": "2c6a949e-e8cd-4552-99e1-6e82167b04ad"
      },
      "outputs": [
        {
          "output_type": "execute_result",
          "data": {
            "text/plain": [
              "       FFMC       DMC        DC       ISI      temp        RH      wind  \\\n",
              "0  0.970968  0.186492  0.201325  0.190909  0.292926  0.523529  0.800000   \n",
              "1  1.027742  0.218194  0.875419  0.219430  0.608039  0.311765  0.155556   \n",
              "2  1.027742  0.246795  0.896294  0.219430  0.498714  0.311765  0.200000   \n",
              "3  1.041935  0.210958  0.181623  0.260428  0.296141  1.064706  0.500000   \n",
              "4  1.010968  0.272984  0.210590  0.271123  0.395820  1.088235  0.255556   \n",
              "\n",
              "      rain  area  \n",
              "0  0.10000   0.1  \n",
              "1  0.10000   0.1  \n",
              "2  0.10000   0.1  \n",
              "3  0.13125   0.1  \n",
              "4  0.10000   0.1  "
            ],
            "text/html": [
              "\n",
              "  <div id=\"df-568e6f9a-14af-4234-bf67-b8121e97237c\">\n",
              "    <div class=\"colab-df-container\">\n",
              "      <div>\n",
              "<style scoped>\n",
              "    .dataframe tbody tr th:only-of-type {\n",
              "        vertical-align: middle;\n",
              "    }\n",
              "\n",
              "    .dataframe tbody tr th {\n",
              "        vertical-align: top;\n",
              "    }\n",
              "\n",
              "    .dataframe thead th {\n",
              "        text-align: right;\n",
              "    }\n",
              "</style>\n",
              "<table border=\"1\" class=\"dataframe\">\n",
              "  <thead>\n",
              "    <tr style=\"text-align: right;\">\n",
              "      <th></th>\n",
              "      <th>FFMC</th>\n",
              "      <th>DMC</th>\n",
              "      <th>DC</th>\n",
              "      <th>ISI</th>\n",
              "      <th>temp</th>\n",
              "      <th>RH</th>\n",
              "      <th>wind</th>\n",
              "      <th>rain</th>\n",
              "      <th>area</th>\n",
              "    </tr>\n",
              "  </thead>\n",
              "  <tbody>\n",
              "    <tr>\n",
              "      <th>0</th>\n",
              "      <td>0.970968</td>\n",
              "      <td>0.186492</td>\n",
              "      <td>0.201325</td>\n",
              "      <td>0.190909</td>\n",
              "      <td>0.292926</td>\n",
              "      <td>0.523529</td>\n",
              "      <td>0.800000</td>\n",
              "      <td>0.10000</td>\n",
              "      <td>0.1</td>\n",
              "    </tr>\n",
              "    <tr>\n",
              "      <th>1</th>\n",
              "      <td>1.027742</td>\n",
              "      <td>0.218194</td>\n",
              "      <td>0.875419</td>\n",
              "      <td>0.219430</td>\n",
              "      <td>0.608039</td>\n",
              "      <td>0.311765</td>\n",
              "      <td>0.155556</td>\n",
              "      <td>0.10000</td>\n",
              "      <td>0.1</td>\n",
              "    </tr>\n",
              "    <tr>\n",
              "      <th>2</th>\n",
              "      <td>1.027742</td>\n",
              "      <td>0.246795</td>\n",
              "      <td>0.896294</td>\n",
              "      <td>0.219430</td>\n",
              "      <td>0.498714</td>\n",
              "      <td>0.311765</td>\n",
              "      <td>0.200000</td>\n",
              "      <td>0.10000</td>\n",
              "      <td>0.1</td>\n",
              "    </tr>\n",
              "    <tr>\n",
              "      <th>3</th>\n",
              "      <td>1.041935</td>\n",
              "      <td>0.210958</td>\n",
              "      <td>0.181623</td>\n",
              "      <td>0.260428</td>\n",
              "      <td>0.296141</td>\n",
              "      <td>1.064706</td>\n",
              "      <td>0.500000</td>\n",
              "      <td>0.13125</td>\n",
              "      <td>0.1</td>\n",
              "    </tr>\n",
              "    <tr>\n",
              "      <th>4</th>\n",
              "      <td>1.010968</td>\n",
              "      <td>0.272984</td>\n",
              "      <td>0.210590</td>\n",
              "      <td>0.271123</td>\n",
              "      <td>0.395820</td>\n",
              "      <td>1.088235</td>\n",
              "      <td>0.255556</td>\n",
              "      <td>0.10000</td>\n",
              "      <td>0.1</td>\n",
              "    </tr>\n",
              "  </tbody>\n",
              "</table>\n",
              "</div>\n",
              "      <button class=\"colab-df-convert\" onclick=\"convertToInteractive('df-568e6f9a-14af-4234-bf67-b8121e97237c')\"\n",
              "              title=\"Convert this dataframe to an interactive table.\"\n",
              "              style=\"display:none;\">\n",
              "        \n",
              "  <svg xmlns=\"http://www.w3.org/2000/svg\" height=\"24px\"viewBox=\"0 0 24 24\"\n",
              "       width=\"24px\">\n",
              "    <path d=\"M0 0h24v24H0V0z\" fill=\"none\"/>\n",
              "    <path d=\"M18.56 5.44l.94 2.06.94-2.06 2.06-.94-2.06-.94-.94-2.06-.94 2.06-2.06.94zm-11 1L8.5 8.5l.94-2.06 2.06-.94-2.06-.94L8.5 2.5l-.94 2.06-2.06.94zm10 10l.94 2.06.94-2.06 2.06-.94-2.06-.94-.94-2.06-.94 2.06-2.06.94z\"/><path d=\"M17.41 7.96l-1.37-1.37c-.4-.4-.92-.59-1.43-.59-.52 0-1.04.2-1.43.59L10.3 9.45l-7.72 7.72c-.78.78-.78 2.05 0 2.83L4 21.41c.39.39.9.59 1.41.59.51 0 1.02-.2 1.41-.59l7.78-7.78 2.81-2.81c.8-.78.8-2.07 0-2.86zM5.41 20L4 18.59l7.72-7.72 1.47 1.35L5.41 20z\"/>\n",
              "  </svg>\n",
              "      </button>\n",
              "      \n",
              "  <style>\n",
              "    .colab-df-container {\n",
              "      display:flex;\n",
              "      flex-wrap:wrap;\n",
              "      gap: 12px;\n",
              "    }\n",
              "\n",
              "    .colab-df-convert {\n",
              "      background-color: #E8F0FE;\n",
              "      border: none;\n",
              "      border-radius: 50%;\n",
              "      cursor: pointer;\n",
              "      display: none;\n",
              "      fill: #1967D2;\n",
              "      height: 32px;\n",
              "      padding: 0 0 0 0;\n",
              "      width: 32px;\n",
              "    }\n",
              "\n",
              "    .colab-df-convert:hover {\n",
              "      background-color: #E2EBFA;\n",
              "      box-shadow: 0px 1px 2px rgba(60, 64, 67, 0.3), 0px 1px 3px 1px rgba(60, 64, 67, 0.15);\n",
              "      fill: #174EA6;\n",
              "    }\n",
              "\n",
              "    [theme=dark] .colab-df-convert {\n",
              "      background-color: #3B4455;\n",
              "      fill: #D2E3FC;\n",
              "    }\n",
              "\n",
              "    [theme=dark] .colab-df-convert:hover {\n",
              "      background-color: #434B5C;\n",
              "      box-shadow: 0px 1px 3px 1px rgba(0, 0, 0, 0.15);\n",
              "      filter: drop-shadow(0px 1px 2px rgba(0, 0, 0, 0.3));\n",
              "      fill: #FFFFFF;\n",
              "    }\n",
              "  </style>\n",
              "\n",
              "      <script>\n",
              "        const buttonEl =\n",
              "          document.querySelector('#df-568e6f9a-14af-4234-bf67-b8121e97237c button.colab-df-convert');\n",
              "        buttonEl.style.display =\n",
              "          google.colab.kernel.accessAllowed ? 'block' : 'none';\n",
              "\n",
              "        async function convertToInteractive(key) {\n",
              "          const element = document.querySelector('#df-568e6f9a-14af-4234-bf67-b8121e97237c');\n",
              "          const dataTable =\n",
              "            await google.colab.kernel.invokeFunction('convertToInteractive',\n",
              "                                                     [key], {});\n",
              "          if (!dataTable) return;\n",
              "\n",
              "          const docLinkHtml = 'Like what you see? Visit the ' +\n",
              "            '<a target=\"_blank\" href=https://colab.research.google.com/notebooks/data_table.ipynb>data table notebook</a>'\n",
              "            + ' to learn more about interactive tables.';\n",
              "          element.innerHTML = '';\n",
              "          dataTable['output_type'] = 'display_data';\n",
              "          await google.colab.output.renderOutput(dataTable, element);\n",
              "          const docLink = document.createElement('div');\n",
              "          docLink.innerHTML = docLinkHtml;\n",
              "          element.appendChild(docLink);\n",
              "        }\n",
              "      </script>\n",
              "    </div>\n",
              "  </div>\n",
              "  "
            ]
          },
          "metadata": {},
          "execution_count": 22
        }
      ],
      "source": [
        "#Data Transformation i.e. Normalize the data set\n",
        "from sklearn.preprocessing import MinMaxScaler\n",
        "minmax = MinMaxScaler(feature_range = (0.1 , 1.1))\n",
        "minmax = minmax.fit_transform(data2)\n",
        "data_norm = pd.DataFrame(data = minmax , columns = data2.columns)\n",
        "data_norm.head()"
      ]
    },
    {
      "cell_type": "code",
      "execution_count": 23,
      "id": "e20e2fa4",
      "metadata": {
        "colab": {
          "base_uri": "https://localhost:8080/",
          "height": 332
        },
        "id": "e20e2fa4",
        "outputId": "63250977-6f87-45bd-db0c-f5955706467e"
      },
      "outputs": [
        {
          "output_type": "execute_result",
          "data": {
            "text/plain": [
              "           skew    kurtosis\n",
              "FFMC  -6.540474   66.255682\n",
              "DMC    0.558596    0.251618\n",
              "DC    -1.100245   -0.242656\n",
              "ISI    2.529891   21.288771\n",
              "temp  -0.321869    0.101560\n",
              "RH     0.869644    0.447242\n",
              "wind   0.581689    0.043986\n",
              "rain  20.044822  426.542289\n",
              "area  12.753940  191.265722"
            ],
            "text/html": [
              "\n",
              "  <div id=\"df-0e1b4a7e-879b-44e6-9857-ae37978505f6\">\n",
              "    <div class=\"colab-df-container\">\n",
              "      <div>\n",
              "<style scoped>\n",
              "    .dataframe tbody tr th:only-of-type {\n",
              "        vertical-align: middle;\n",
              "    }\n",
              "\n",
              "    .dataframe tbody tr th {\n",
              "        vertical-align: top;\n",
              "    }\n",
              "\n",
              "    .dataframe thead th {\n",
              "        text-align: right;\n",
              "    }\n",
              "</style>\n",
              "<table border=\"1\" class=\"dataframe\">\n",
              "  <thead>\n",
              "    <tr style=\"text-align: right;\">\n",
              "      <th></th>\n",
              "      <th>skew</th>\n",
              "      <th>kurtosis</th>\n",
              "    </tr>\n",
              "  </thead>\n",
              "  <tbody>\n",
              "    <tr>\n",
              "      <th>FFMC</th>\n",
              "      <td>-6.540474</td>\n",
              "      <td>66.255682</td>\n",
              "    </tr>\n",
              "    <tr>\n",
              "      <th>DMC</th>\n",
              "      <td>0.558596</td>\n",
              "      <td>0.251618</td>\n",
              "    </tr>\n",
              "    <tr>\n",
              "      <th>DC</th>\n",
              "      <td>-1.100245</td>\n",
              "      <td>-0.242656</td>\n",
              "    </tr>\n",
              "    <tr>\n",
              "      <th>ISI</th>\n",
              "      <td>2.529891</td>\n",
              "      <td>21.288771</td>\n",
              "    </tr>\n",
              "    <tr>\n",
              "      <th>temp</th>\n",
              "      <td>-0.321869</td>\n",
              "      <td>0.101560</td>\n",
              "    </tr>\n",
              "    <tr>\n",
              "      <th>RH</th>\n",
              "      <td>0.869644</td>\n",
              "      <td>0.447242</td>\n",
              "    </tr>\n",
              "    <tr>\n",
              "      <th>wind</th>\n",
              "      <td>0.581689</td>\n",
              "      <td>0.043986</td>\n",
              "    </tr>\n",
              "    <tr>\n",
              "      <th>rain</th>\n",
              "      <td>20.044822</td>\n",
              "      <td>426.542289</td>\n",
              "    </tr>\n",
              "    <tr>\n",
              "      <th>area</th>\n",
              "      <td>12.753940</td>\n",
              "      <td>191.265722</td>\n",
              "    </tr>\n",
              "  </tbody>\n",
              "</table>\n",
              "</div>\n",
              "      <button class=\"colab-df-convert\" onclick=\"convertToInteractive('df-0e1b4a7e-879b-44e6-9857-ae37978505f6')\"\n",
              "              title=\"Convert this dataframe to an interactive table.\"\n",
              "              style=\"display:none;\">\n",
              "        \n",
              "  <svg xmlns=\"http://www.w3.org/2000/svg\" height=\"24px\"viewBox=\"0 0 24 24\"\n",
              "       width=\"24px\">\n",
              "    <path d=\"M0 0h24v24H0V0z\" fill=\"none\"/>\n",
              "    <path d=\"M18.56 5.44l.94 2.06.94-2.06 2.06-.94-2.06-.94-.94-2.06-.94 2.06-2.06.94zm-11 1L8.5 8.5l.94-2.06 2.06-.94-2.06-.94L8.5 2.5l-.94 2.06-2.06.94zm10 10l.94 2.06.94-2.06 2.06-.94-2.06-.94-.94-2.06-.94 2.06-2.06.94z\"/><path d=\"M17.41 7.96l-1.37-1.37c-.4-.4-.92-.59-1.43-.59-.52 0-1.04.2-1.43.59L10.3 9.45l-7.72 7.72c-.78.78-.78 2.05 0 2.83L4 21.41c.39.39.9.59 1.41.59.51 0 1.02-.2 1.41-.59l7.78-7.78 2.81-2.81c.8-.78.8-2.07 0-2.86zM5.41 20L4 18.59l7.72-7.72 1.47 1.35L5.41 20z\"/>\n",
              "  </svg>\n",
              "      </button>\n",
              "      \n",
              "  <style>\n",
              "    .colab-df-container {\n",
              "      display:flex;\n",
              "      flex-wrap:wrap;\n",
              "      gap: 12px;\n",
              "    }\n",
              "\n",
              "    .colab-df-convert {\n",
              "      background-color: #E8F0FE;\n",
              "      border: none;\n",
              "      border-radius: 50%;\n",
              "      cursor: pointer;\n",
              "      display: none;\n",
              "      fill: #1967D2;\n",
              "      height: 32px;\n",
              "      padding: 0 0 0 0;\n",
              "      width: 32px;\n",
              "    }\n",
              "\n",
              "    .colab-df-convert:hover {\n",
              "      background-color: #E2EBFA;\n",
              "      box-shadow: 0px 1px 2px rgba(60, 64, 67, 0.3), 0px 1px 3px 1px rgba(60, 64, 67, 0.15);\n",
              "      fill: #174EA6;\n",
              "    }\n",
              "\n",
              "    [theme=dark] .colab-df-convert {\n",
              "      background-color: #3B4455;\n",
              "      fill: #D2E3FC;\n",
              "    }\n",
              "\n",
              "    [theme=dark] .colab-df-convert:hover {\n",
              "      background-color: #434B5C;\n",
              "      box-shadow: 0px 1px 3px 1px rgba(0, 0, 0, 0.15);\n",
              "      filter: drop-shadow(0px 1px 2px rgba(0, 0, 0, 0.3));\n",
              "      fill: #FFFFFF;\n",
              "    }\n",
              "  </style>\n",
              "\n",
              "      <script>\n",
              "        const buttonEl =\n",
              "          document.querySelector('#df-0e1b4a7e-879b-44e6-9857-ae37978505f6 button.colab-df-convert');\n",
              "        buttonEl.style.display =\n",
              "          google.colab.kernel.accessAllowed ? 'block' : 'none';\n",
              "\n",
              "        async function convertToInteractive(key) {\n",
              "          const element = document.querySelector('#df-0e1b4a7e-879b-44e6-9857-ae37978505f6');\n",
              "          const dataTable =\n",
              "            await google.colab.kernel.invokeFunction('convertToInteractive',\n",
              "                                                     [key], {});\n",
              "          if (!dataTable) return;\n",
              "\n",
              "          const docLinkHtml = 'Like what you see? Visit the ' +\n",
              "            '<a target=\"_blank\" href=https://colab.research.google.com/notebooks/data_table.ipynb>data table notebook</a>'\n",
              "            + ' to learn more about interactive tables.';\n",
              "          element.innerHTML = '';\n",
              "          dataTable['output_type'] = 'display_data';\n",
              "          await google.colab.output.renderOutput(dataTable, element);\n",
              "          const docLink = document.createElement('div');\n",
              "          docLink.innerHTML = docLinkHtml;\n",
              "          element.appendChild(docLink);\n",
              "        }\n",
              "      </script>\n",
              "    </div>\n",
              "  </div>\n",
              "  "
            ]
          },
          "metadata": {},
          "execution_count": 23
        }
      ],
      "source": [
        "data_summary = data1.agg(['skew', 'kurtosis']).transpose()\n",
        "data_summary"
      ]
    },
    {
      "cell_type": "code",
      "execution_count": 24,
      "id": "94f42c63",
      "metadata": {
        "colab": {
          "base_uri": "https://localhost:8080/",
          "height": 332
        },
        "id": "94f42c63",
        "outputId": "6c48c74e-c3cc-411d-f76c-8b2caee35464"
      },
      "outputs": [
        {
          "output_type": "execute_result",
          "data": {
            "text/plain": [
              "           skew    kurtosis\n",
              "FFMC  -6.540474   66.255682\n",
              "DMC    0.558596    0.251618\n",
              "DC    -1.100245   -0.242656\n",
              "ISI    2.529891   21.288771\n",
              "temp  -0.321869    0.101560\n",
              "RH     0.869644    0.447242\n",
              "wind   0.581689    0.043986\n",
              "rain  20.044822  426.542289\n",
              "area  12.753940  191.265722"
            ],
            "text/html": [
              "\n",
              "  <div id=\"df-3235b23c-d5d2-4f56-b955-12cad1bdfb8e\">\n",
              "    <div class=\"colab-df-container\">\n",
              "      <div>\n",
              "<style scoped>\n",
              "    .dataframe tbody tr th:only-of-type {\n",
              "        vertical-align: middle;\n",
              "    }\n",
              "\n",
              "    .dataframe tbody tr th {\n",
              "        vertical-align: top;\n",
              "    }\n",
              "\n",
              "    .dataframe thead th {\n",
              "        text-align: right;\n",
              "    }\n",
              "</style>\n",
              "<table border=\"1\" class=\"dataframe\">\n",
              "  <thead>\n",
              "    <tr style=\"text-align: right;\">\n",
              "      <th></th>\n",
              "      <th>skew</th>\n",
              "      <th>kurtosis</th>\n",
              "    </tr>\n",
              "  </thead>\n",
              "  <tbody>\n",
              "    <tr>\n",
              "      <th>FFMC</th>\n",
              "      <td>-6.540474</td>\n",
              "      <td>66.255682</td>\n",
              "    </tr>\n",
              "    <tr>\n",
              "      <th>DMC</th>\n",
              "      <td>0.558596</td>\n",
              "      <td>0.251618</td>\n",
              "    </tr>\n",
              "    <tr>\n",
              "      <th>DC</th>\n",
              "      <td>-1.100245</td>\n",
              "      <td>-0.242656</td>\n",
              "    </tr>\n",
              "    <tr>\n",
              "      <th>ISI</th>\n",
              "      <td>2.529891</td>\n",
              "      <td>21.288771</td>\n",
              "    </tr>\n",
              "    <tr>\n",
              "      <th>temp</th>\n",
              "      <td>-0.321869</td>\n",
              "      <td>0.101560</td>\n",
              "    </tr>\n",
              "    <tr>\n",
              "      <th>RH</th>\n",
              "      <td>0.869644</td>\n",
              "      <td>0.447242</td>\n",
              "    </tr>\n",
              "    <tr>\n",
              "      <th>wind</th>\n",
              "      <td>0.581689</td>\n",
              "      <td>0.043986</td>\n",
              "    </tr>\n",
              "    <tr>\n",
              "      <th>rain</th>\n",
              "      <td>20.044822</td>\n",
              "      <td>426.542289</td>\n",
              "    </tr>\n",
              "    <tr>\n",
              "      <th>area</th>\n",
              "      <td>12.753940</td>\n",
              "      <td>191.265722</td>\n",
              "    </tr>\n",
              "  </tbody>\n",
              "</table>\n",
              "</div>\n",
              "      <button class=\"colab-df-convert\" onclick=\"convertToInteractive('df-3235b23c-d5d2-4f56-b955-12cad1bdfb8e')\"\n",
              "              title=\"Convert this dataframe to an interactive table.\"\n",
              "              style=\"display:none;\">\n",
              "        \n",
              "  <svg xmlns=\"http://www.w3.org/2000/svg\" height=\"24px\"viewBox=\"0 0 24 24\"\n",
              "       width=\"24px\">\n",
              "    <path d=\"M0 0h24v24H0V0z\" fill=\"none\"/>\n",
              "    <path d=\"M18.56 5.44l.94 2.06.94-2.06 2.06-.94-2.06-.94-.94-2.06-.94 2.06-2.06.94zm-11 1L8.5 8.5l.94-2.06 2.06-.94-2.06-.94L8.5 2.5l-.94 2.06-2.06.94zm10 10l.94 2.06.94-2.06 2.06-.94-2.06-.94-.94-2.06-.94 2.06-2.06.94z\"/><path d=\"M17.41 7.96l-1.37-1.37c-.4-.4-.92-.59-1.43-.59-.52 0-1.04.2-1.43.59L10.3 9.45l-7.72 7.72c-.78.78-.78 2.05 0 2.83L4 21.41c.39.39.9.59 1.41.59.51 0 1.02-.2 1.41-.59l7.78-7.78 2.81-2.81c.8-.78.8-2.07 0-2.86zM5.41 20L4 18.59l7.72-7.72 1.47 1.35L5.41 20z\"/>\n",
              "  </svg>\n",
              "      </button>\n",
              "      \n",
              "  <style>\n",
              "    .colab-df-container {\n",
              "      display:flex;\n",
              "      flex-wrap:wrap;\n",
              "      gap: 12px;\n",
              "    }\n",
              "\n",
              "    .colab-df-convert {\n",
              "      background-color: #E8F0FE;\n",
              "      border: none;\n",
              "      border-radius: 50%;\n",
              "      cursor: pointer;\n",
              "      display: none;\n",
              "      fill: #1967D2;\n",
              "      height: 32px;\n",
              "      padding: 0 0 0 0;\n",
              "      width: 32px;\n",
              "    }\n",
              "\n",
              "    .colab-df-convert:hover {\n",
              "      background-color: #E2EBFA;\n",
              "      box-shadow: 0px 1px 2px rgba(60, 64, 67, 0.3), 0px 1px 3px 1px rgba(60, 64, 67, 0.15);\n",
              "      fill: #174EA6;\n",
              "    }\n",
              "\n",
              "    [theme=dark] .colab-df-convert {\n",
              "      background-color: #3B4455;\n",
              "      fill: #D2E3FC;\n",
              "    }\n",
              "\n",
              "    [theme=dark] .colab-df-convert:hover {\n",
              "      background-color: #434B5C;\n",
              "      box-shadow: 0px 1px 3px 1px rgba(0, 0, 0, 0.15);\n",
              "      filter: drop-shadow(0px 1px 2px rgba(0, 0, 0, 0.3));\n",
              "      fill: #FFFFFF;\n",
              "    }\n",
              "  </style>\n",
              "\n",
              "      <script>\n",
              "        const buttonEl =\n",
              "          document.querySelector('#df-3235b23c-d5d2-4f56-b955-12cad1bdfb8e button.colab-df-convert');\n",
              "        buttonEl.style.display =\n",
              "          google.colab.kernel.accessAllowed ? 'block' : 'none';\n",
              "\n",
              "        async function convertToInteractive(key) {\n",
              "          const element = document.querySelector('#df-3235b23c-d5d2-4f56-b955-12cad1bdfb8e');\n",
              "          const dataTable =\n",
              "            await google.colab.kernel.invokeFunction('convertToInteractive',\n",
              "                                                     [key], {});\n",
              "          if (!dataTable) return;\n",
              "\n",
              "          const docLinkHtml = 'Like what you see? Visit the ' +\n",
              "            '<a target=\"_blank\" href=https://colab.research.google.com/notebooks/data_table.ipynb>data table notebook</a>'\n",
              "            + ' to learn more about interactive tables.';\n",
              "          element.innerHTML = '';\n",
              "          dataTable['output_type'] = 'display_data';\n",
              "          await google.colab.output.renderOutput(dataTable, element);\n",
              "          const docLink = document.createElement('div');\n",
              "          docLink.innerHTML = docLinkHtml;\n",
              "          element.appendChild(docLink);\n",
              "        }\n",
              "      </script>\n",
              "    </div>\n",
              "  </div>\n",
              "  "
            ]
          },
          "metadata": {},
          "execution_count": 24
        }
      ],
      "source": [
        "data_norm_summary = data_norm.agg(['skew', 'kurtosis']).transpose()\n",
        "data_norm_summary"
      ]
    },
    {
      "cell_type": "code",
      "execution_count": 25,
      "id": "9ec7b722",
      "metadata": {
        "colab": {
          "base_uri": "https://localhost:8080/",
          "height": 206
        },
        "id": "9ec7b722",
        "outputId": "1adf3d72-3e99-4ed4-cd24-a2aebc83141f"
      },
      "outputs": [
        {
          "output_type": "execute_result",
          "data": {
            "text/plain": [
              "       FFMC       DMC        DC       ISI      temp        RH      wind  \\\n",
              "0 -0.025198 -1.108416 -0.505104 -1.612183 -0.618468 -0.619558 -0.213630   \n",
              "1  0.031885 -1.041676 -0.117694 -1.479946 -0.367844 -1.078007 -1.319427   \n",
              "2  0.031885 -0.985249 -0.098938 -1.479946 -0.460348 -1.078007 -1.192385   \n",
              "3  0.051824 -1.056489 -0.509682 -1.316436 -0.616190  0.062966 -0.606677   \n",
              "4  0.011583 -0.936199 -0.502809 -1.277886 -0.542331  0.085044 -1.055764   \n",
              "\n",
              "           rain          area  \n",
              "0 -2.507082e+78 -7.524981e+08  \n",
              "1 -2.507082e+78 -7.524981e+08  \n",
              "2 -2.507082e+78 -7.524981e+08  \n",
              "3 -8.228726e+68 -7.524981e+08  \n",
              "4 -2.507082e+78 -7.524981e+08  "
            ],
            "text/html": [
              "\n",
              "  <div id=\"df-43954790-c795-4bbc-aa66-861a1f0c0d1c\">\n",
              "    <div class=\"colab-df-container\">\n",
              "      <div>\n",
              "<style scoped>\n",
              "    .dataframe tbody tr th:only-of-type {\n",
              "        vertical-align: middle;\n",
              "    }\n",
              "\n",
              "    .dataframe tbody tr th {\n",
              "        vertical-align: top;\n",
              "    }\n",
              "\n",
              "    .dataframe thead th {\n",
              "        text-align: right;\n",
              "    }\n",
              "</style>\n",
              "<table border=\"1\" class=\"dataframe\">\n",
              "  <thead>\n",
              "    <tr style=\"text-align: right;\">\n",
              "      <th></th>\n",
              "      <th>FFMC</th>\n",
              "      <th>DMC</th>\n",
              "      <th>DC</th>\n",
              "      <th>ISI</th>\n",
              "      <th>temp</th>\n",
              "      <th>RH</th>\n",
              "      <th>wind</th>\n",
              "      <th>rain</th>\n",
              "      <th>area</th>\n",
              "    </tr>\n",
              "  </thead>\n",
              "  <tbody>\n",
              "    <tr>\n",
              "      <th>0</th>\n",
              "      <td>-0.025198</td>\n",
              "      <td>-1.108416</td>\n",
              "      <td>-0.505104</td>\n",
              "      <td>-1.612183</td>\n",
              "      <td>-0.618468</td>\n",
              "      <td>-0.619558</td>\n",
              "      <td>-0.213630</td>\n",
              "      <td>-2.507082e+78</td>\n",
              "      <td>-7.524981e+08</td>\n",
              "    </tr>\n",
              "    <tr>\n",
              "      <th>1</th>\n",
              "      <td>0.031885</td>\n",
              "      <td>-1.041676</td>\n",
              "      <td>-0.117694</td>\n",
              "      <td>-1.479946</td>\n",
              "      <td>-0.367844</td>\n",
              "      <td>-1.078007</td>\n",
              "      <td>-1.319427</td>\n",
              "      <td>-2.507082e+78</td>\n",
              "      <td>-7.524981e+08</td>\n",
              "    </tr>\n",
              "    <tr>\n",
              "      <th>2</th>\n",
              "      <td>0.031885</td>\n",
              "      <td>-0.985249</td>\n",
              "      <td>-0.098938</td>\n",
              "      <td>-1.479946</td>\n",
              "      <td>-0.460348</td>\n",
              "      <td>-1.078007</td>\n",
              "      <td>-1.192385</td>\n",
              "      <td>-2.507082e+78</td>\n",
              "      <td>-7.524981e+08</td>\n",
              "    </tr>\n",
              "    <tr>\n",
              "      <th>3</th>\n",
              "      <td>0.051824</td>\n",
              "      <td>-1.056489</td>\n",
              "      <td>-0.509682</td>\n",
              "      <td>-1.316436</td>\n",
              "      <td>-0.616190</td>\n",
              "      <td>0.062966</td>\n",
              "      <td>-0.606677</td>\n",
              "      <td>-8.228726e+68</td>\n",
              "      <td>-7.524981e+08</td>\n",
              "    </tr>\n",
              "    <tr>\n",
              "      <th>4</th>\n",
              "      <td>0.011583</td>\n",
              "      <td>-0.936199</td>\n",
              "      <td>-0.502809</td>\n",
              "      <td>-1.277886</td>\n",
              "      <td>-0.542331</td>\n",
              "      <td>0.085044</td>\n",
              "      <td>-1.055764</td>\n",
              "      <td>-2.507082e+78</td>\n",
              "      <td>-7.524981e+08</td>\n",
              "    </tr>\n",
              "  </tbody>\n",
              "</table>\n",
              "</div>\n",
              "      <button class=\"colab-df-convert\" onclick=\"convertToInteractive('df-43954790-c795-4bbc-aa66-861a1f0c0d1c')\"\n",
              "              title=\"Convert this dataframe to an interactive table.\"\n",
              "              style=\"display:none;\">\n",
              "        \n",
              "  <svg xmlns=\"http://www.w3.org/2000/svg\" height=\"24px\"viewBox=\"0 0 24 24\"\n",
              "       width=\"24px\">\n",
              "    <path d=\"M0 0h24v24H0V0z\" fill=\"none\"/>\n",
              "    <path d=\"M18.56 5.44l.94 2.06.94-2.06 2.06-.94-2.06-.94-.94-2.06-.94 2.06-2.06.94zm-11 1L8.5 8.5l.94-2.06 2.06-.94-2.06-.94L8.5 2.5l-.94 2.06-2.06.94zm10 10l.94 2.06.94-2.06 2.06-.94-2.06-.94-.94-2.06-.94 2.06-2.06.94z\"/><path d=\"M17.41 7.96l-1.37-1.37c-.4-.4-.92-.59-1.43-.59-.52 0-1.04.2-1.43.59L10.3 9.45l-7.72 7.72c-.78.78-.78 2.05 0 2.83L4 21.41c.39.39.9.59 1.41.59.51 0 1.02-.2 1.41-.59l7.78-7.78 2.81-2.81c.8-.78.8-2.07 0-2.86zM5.41 20L4 18.59l7.72-7.72 1.47 1.35L5.41 20z\"/>\n",
              "  </svg>\n",
              "      </button>\n",
              "      \n",
              "  <style>\n",
              "    .colab-df-container {\n",
              "      display:flex;\n",
              "      flex-wrap:wrap;\n",
              "      gap: 12px;\n",
              "    }\n",
              "\n",
              "    .colab-df-convert {\n",
              "      background-color: #E8F0FE;\n",
              "      border: none;\n",
              "      border-radius: 50%;\n",
              "      cursor: pointer;\n",
              "      display: none;\n",
              "      fill: #1967D2;\n",
              "      height: 32px;\n",
              "      padding: 0 0 0 0;\n",
              "      width: 32px;\n",
              "    }\n",
              "\n",
              "    .colab-df-convert:hover {\n",
              "      background-color: #E2EBFA;\n",
              "      box-shadow: 0px 1px 2px rgba(60, 64, 67, 0.3), 0px 1px 3px 1px rgba(60, 64, 67, 0.15);\n",
              "      fill: #174EA6;\n",
              "    }\n",
              "\n",
              "    [theme=dark] .colab-df-convert {\n",
              "      background-color: #3B4455;\n",
              "      fill: #D2E3FC;\n",
              "    }\n",
              "\n",
              "    [theme=dark] .colab-df-convert:hover {\n",
              "      background-color: #434B5C;\n",
              "      box-shadow: 0px 1px 3px 1px rgba(0, 0, 0, 0.15);\n",
              "      filter: drop-shadow(0px 1px 2px rgba(0, 0, 0, 0.3));\n",
              "      fill: #FFFFFF;\n",
              "    }\n",
              "  </style>\n",
              "\n",
              "      <script>\n",
              "        const buttonEl =\n",
              "          document.querySelector('#df-43954790-c795-4bbc-aa66-861a1f0c0d1c button.colab-df-convert');\n",
              "        buttonEl.style.display =\n",
              "          google.colab.kernel.accessAllowed ? 'block' : 'none';\n",
              "\n",
              "        async function convertToInteractive(key) {\n",
              "          const element = document.querySelector('#df-43954790-c795-4bbc-aa66-861a1f0c0d1c');\n",
              "          const dataTable =\n",
              "            await google.colab.kernel.invokeFunction('convertToInteractive',\n",
              "                                                     [key], {});\n",
              "          if (!dataTable) return;\n",
              "\n",
              "          const docLinkHtml = 'Like what you see? Visit the ' +\n",
              "            '<a target=\"_blank\" href=https://colab.research.google.com/notebooks/data_table.ipynb>data table notebook</a>'\n",
              "            + ' to learn more about interactive tables.';\n",
              "          element.innerHTML = '';\n",
              "          dataTable['output_type'] = 'display_data';\n",
              "          await google.colab.output.renderOutput(dataTable, element);\n",
              "          const docLink = document.createElement('div');\n",
              "          docLink.innerHTML = docLinkHtml;\n",
              "          element.appendChild(docLink);\n",
              "        }\n",
              "      </script>\n",
              "    </div>\n",
              "  </div>\n",
              "  "
            ]
          },
          "metadata": {},
          "execution_count": 25
        }
      ],
      "source": [
        "# Box-Cox Transformation\n",
        "data_boxcox = pd.DataFrame()\n",
        "from scipy.stats import boxcox\n",
        "\n",
        "for i in range(data_norm.shape[1]):\n",
        "    fitted_data, fitted_lambda = boxcox(data_norm.iloc[:,i])\n",
        "    data_boxcox[num_cols[i]] = fitted_data\n",
        "\n",
        "data_boxcox.head()"
      ]
    },
    {
      "cell_type": "code",
      "execution_count": 26,
      "id": "81f7b609",
      "metadata": {
        "colab": {
          "base_uri": "https://localhost:8080/",
          "height": 332
        },
        "id": "81f7b609",
        "outputId": "9f57c788-4fc7-4eca-d607-1023ff9d6899"
      },
      "outputs": [
        {
          "output_type": "execute_result",
          "data": {
            "text/plain": [
              "          skew  kurtosis\n",
              "FFMC -0.320078  0.401496\n",
              "DMC  -0.039353 -0.266361\n",
              "DC   -0.716214 -0.781336\n",
              "ISI   0.004529  1.474461\n",
              "temp -0.048075 -0.049870\n",
              "RH   -0.006408 -0.327295\n",
              "wind -0.020245 -0.346688\n",
              "rain  8.375044       NaN\n",
              "area  1.139212 -0.074407"
            ],
            "text/html": [
              "\n",
              "  <div id=\"df-512721ac-0878-4861-a57b-8ce424903b4c\">\n",
              "    <div class=\"colab-df-container\">\n",
              "      <div>\n",
              "<style scoped>\n",
              "    .dataframe tbody tr th:only-of-type {\n",
              "        vertical-align: middle;\n",
              "    }\n",
              "\n",
              "    .dataframe tbody tr th {\n",
              "        vertical-align: top;\n",
              "    }\n",
              "\n",
              "    .dataframe thead th {\n",
              "        text-align: right;\n",
              "    }\n",
              "</style>\n",
              "<table border=\"1\" class=\"dataframe\">\n",
              "  <thead>\n",
              "    <tr style=\"text-align: right;\">\n",
              "      <th></th>\n",
              "      <th>skew</th>\n",
              "      <th>kurtosis</th>\n",
              "    </tr>\n",
              "  </thead>\n",
              "  <tbody>\n",
              "    <tr>\n",
              "      <th>FFMC</th>\n",
              "      <td>-0.320078</td>\n",
              "      <td>0.401496</td>\n",
              "    </tr>\n",
              "    <tr>\n",
              "      <th>DMC</th>\n",
              "      <td>-0.039353</td>\n",
              "      <td>-0.266361</td>\n",
              "    </tr>\n",
              "    <tr>\n",
              "      <th>DC</th>\n",
              "      <td>-0.716214</td>\n",
              "      <td>-0.781336</td>\n",
              "    </tr>\n",
              "    <tr>\n",
              "      <th>ISI</th>\n",
              "      <td>0.004529</td>\n",
              "      <td>1.474461</td>\n",
              "    </tr>\n",
              "    <tr>\n",
              "      <th>temp</th>\n",
              "      <td>-0.048075</td>\n",
              "      <td>-0.049870</td>\n",
              "    </tr>\n",
              "    <tr>\n",
              "      <th>RH</th>\n",
              "      <td>-0.006408</td>\n",
              "      <td>-0.327295</td>\n",
              "    </tr>\n",
              "    <tr>\n",
              "      <th>wind</th>\n",
              "      <td>-0.020245</td>\n",
              "      <td>-0.346688</td>\n",
              "    </tr>\n",
              "    <tr>\n",
              "      <th>rain</th>\n",
              "      <td>8.375044</td>\n",
              "      <td>NaN</td>\n",
              "    </tr>\n",
              "    <tr>\n",
              "      <th>area</th>\n",
              "      <td>1.139212</td>\n",
              "      <td>-0.074407</td>\n",
              "    </tr>\n",
              "  </tbody>\n",
              "</table>\n",
              "</div>\n",
              "      <button class=\"colab-df-convert\" onclick=\"convertToInteractive('df-512721ac-0878-4861-a57b-8ce424903b4c')\"\n",
              "              title=\"Convert this dataframe to an interactive table.\"\n",
              "              style=\"display:none;\">\n",
              "        \n",
              "  <svg xmlns=\"http://www.w3.org/2000/svg\" height=\"24px\"viewBox=\"0 0 24 24\"\n",
              "       width=\"24px\">\n",
              "    <path d=\"M0 0h24v24H0V0z\" fill=\"none\"/>\n",
              "    <path d=\"M18.56 5.44l.94 2.06.94-2.06 2.06-.94-2.06-.94-.94-2.06-.94 2.06-2.06.94zm-11 1L8.5 8.5l.94-2.06 2.06-.94-2.06-.94L8.5 2.5l-.94 2.06-2.06.94zm10 10l.94 2.06.94-2.06 2.06-.94-2.06-.94-.94-2.06-.94 2.06-2.06.94z\"/><path d=\"M17.41 7.96l-1.37-1.37c-.4-.4-.92-.59-1.43-.59-.52 0-1.04.2-1.43.59L10.3 9.45l-7.72 7.72c-.78.78-.78 2.05 0 2.83L4 21.41c.39.39.9.59 1.41.59.51 0 1.02-.2 1.41-.59l7.78-7.78 2.81-2.81c.8-.78.8-2.07 0-2.86zM5.41 20L4 18.59l7.72-7.72 1.47 1.35L5.41 20z\"/>\n",
              "  </svg>\n",
              "      </button>\n",
              "      \n",
              "  <style>\n",
              "    .colab-df-container {\n",
              "      display:flex;\n",
              "      flex-wrap:wrap;\n",
              "      gap: 12px;\n",
              "    }\n",
              "\n",
              "    .colab-df-convert {\n",
              "      background-color: #E8F0FE;\n",
              "      border: none;\n",
              "      border-radius: 50%;\n",
              "      cursor: pointer;\n",
              "      display: none;\n",
              "      fill: #1967D2;\n",
              "      height: 32px;\n",
              "      padding: 0 0 0 0;\n",
              "      width: 32px;\n",
              "    }\n",
              "\n",
              "    .colab-df-convert:hover {\n",
              "      background-color: #E2EBFA;\n",
              "      box-shadow: 0px 1px 2px rgba(60, 64, 67, 0.3), 0px 1px 3px 1px rgba(60, 64, 67, 0.15);\n",
              "      fill: #174EA6;\n",
              "    }\n",
              "\n",
              "    [theme=dark] .colab-df-convert {\n",
              "      background-color: #3B4455;\n",
              "      fill: #D2E3FC;\n",
              "    }\n",
              "\n",
              "    [theme=dark] .colab-df-convert:hover {\n",
              "      background-color: #434B5C;\n",
              "      box-shadow: 0px 1px 3px 1px rgba(0, 0, 0, 0.15);\n",
              "      filter: drop-shadow(0px 1px 2px rgba(0, 0, 0, 0.3));\n",
              "      fill: #FFFFFF;\n",
              "    }\n",
              "  </style>\n",
              "\n",
              "      <script>\n",
              "        const buttonEl =\n",
              "          document.querySelector('#df-512721ac-0878-4861-a57b-8ce424903b4c button.colab-df-convert');\n",
              "        buttonEl.style.display =\n",
              "          google.colab.kernel.accessAllowed ? 'block' : 'none';\n",
              "\n",
              "        async function convertToInteractive(key) {\n",
              "          const element = document.querySelector('#df-512721ac-0878-4861-a57b-8ce424903b4c');\n",
              "          const dataTable =\n",
              "            await google.colab.kernel.invokeFunction('convertToInteractive',\n",
              "                                                     [key], {});\n",
              "          if (!dataTable) return;\n",
              "\n",
              "          const docLinkHtml = 'Like what you see? Visit the ' +\n",
              "            '<a target=\"_blank\" href=https://colab.research.google.com/notebooks/data_table.ipynb>data table notebook</a>'\n",
              "            + ' to learn more about interactive tables.';\n",
              "          element.innerHTML = '';\n",
              "          dataTable['output_type'] = 'display_data';\n",
              "          await google.colab.output.renderOutput(dataTable, element);\n",
              "          const docLink = document.createElement('div');\n",
              "          docLink.innerHTML = docLinkHtml;\n",
              "          element.appendChild(docLink);\n",
              "        }\n",
              "      </script>\n",
              "    </div>\n",
              "  </div>\n",
              "  "
            ]
          },
          "metadata": {},
          "execution_count": 26
        }
      ],
      "source": [
        "data_boxcox_summary = data_boxcox.agg(['skew', 'kurtosis']).transpose()\n",
        "data_boxcox_summary"
      ]
    },
    {
      "cell_type": "code",
      "execution_count": 27,
      "id": "520bdd18",
      "metadata": {
        "colab": {
          "base_uri": "https://localhost:8080/",
          "height": 206
        },
        "id": "520bdd18",
        "outputId": "07aaede6-fcec-4519-8cb8-e2355332544c"
      },
      "outputs": [
        {
          "output_type": "execute_result",
          "data": {
            "text/plain": [
              "       FFMC       DMC        DC       ISI      temp        RH      wind  \\\n",
              "0  0.985377  0.431847  0.448693  0.436931  0.541226  0.723553  0.894427   \n",
              "1  1.013776  0.467113  0.935638  0.468433  0.779768  0.558359  0.394405   \n",
              "2  1.013776  0.496785  0.946728  0.468433  0.706197  0.558359  0.447214   \n",
              "3  1.020752  0.459302  0.426173  0.510321  0.544189  1.031846  0.707107   \n",
              "4  1.005469  0.522479  0.458901  0.520695  0.629142  1.043185  0.505525   \n",
              "\n",
              "       rain      area  \n",
              "0  0.316228  0.316228  \n",
              "1  0.316228  0.316228  \n",
              "2  0.316228  0.316228  \n",
              "3  0.362284  0.316228  \n",
              "4  0.316228  0.316228  "
            ],
            "text/html": [
              "\n",
              "  <div id=\"df-683b5f54-9703-4b6c-b980-377c286a7ddd\">\n",
              "    <div class=\"colab-df-container\">\n",
              "      <div>\n",
              "<style scoped>\n",
              "    .dataframe tbody tr th:only-of-type {\n",
              "        vertical-align: middle;\n",
              "    }\n",
              "\n",
              "    .dataframe tbody tr th {\n",
              "        vertical-align: top;\n",
              "    }\n",
              "\n",
              "    .dataframe thead th {\n",
              "        text-align: right;\n",
              "    }\n",
              "</style>\n",
              "<table border=\"1\" class=\"dataframe\">\n",
              "  <thead>\n",
              "    <tr style=\"text-align: right;\">\n",
              "      <th></th>\n",
              "      <th>FFMC</th>\n",
              "      <th>DMC</th>\n",
              "      <th>DC</th>\n",
              "      <th>ISI</th>\n",
              "      <th>temp</th>\n",
              "      <th>RH</th>\n",
              "      <th>wind</th>\n",
              "      <th>rain</th>\n",
              "      <th>area</th>\n",
              "    </tr>\n",
              "  </thead>\n",
              "  <tbody>\n",
              "    <tr>\n",
              "      <th>0</th>\n",
              "      <td>0.985377</td>\n",
              "      <td>0.431847</td>\n",
              "      <td>0.448693</td>\n",
              "      <td>0.436931</td>\n",
              "      <td>0.541226</td>\n",
              "      <td>0.723553</td>\n",
              "      <td>0.894427</td>\n",
              "      <td>0.316228</td>\n",
              "      <td>0.316228</td>\n",
              "    </tr>\n",
              "    <tr>\n",
              "      <th>1</th>\n",
              "      <td>1.013776</td>\n",
              "      <td>0.467113</td>\n",
              "      <td>0.935638</td>\n",
              "      <td>0.468433</td>\n",
              "      <td>0.779768</td>\n",
              "      <td>0.558359</td>\n",
              "      <td>0.394405</td>\n",
              "      <td>0.316228</td>\n",
              "      <td>0.316228</td>\n",
              "    </tr>\n",
              "    <tr>\n",
              "      <th>2</th>\n",
              "      <td>1.013776</td>\n",
              "      <td>0.496785</td>\n",
              "      <td>0.946728</td>\n",
              "      <td>0.468433</td>\n",
              "      <td>0.706197</td>\n",
              "      <td>0.558359</td>\n",
              "      <td>0.447214</td>\n",
              "      <td>0.316228</td>\n",
              "      <td>0.316228</td>\n",
              "    </tr>\n",
              "    <tr>\n",
              "      <th>3</th>\n",
              "      <td>1.020752</td>\n",
              "      <td>0.459302</td>\n",
              "      <td>0.426173</td>\n",
              "      <td>0.510321</td>\n",
              "      <td>0.544189</td>\n",
              "      <td>1.031846</td>\n",
              "      <td>0.707107</td>\n",
              "      <td>0.362284</td>\n",
              "      <td>0.316228</td>\n",
              "    </tr>\n",
              "    <tr>\n",
              "      <th>4</th>\n",
              "      <td>1.005469</td>\n",
              "      <td>0.522479</td>\n",
              "      <td>0.458901</td>\n",
              "      <td>0.520695</td>\n",
              "      <td>0.629142</td>\n",
              "      <td>1.043185</td>\n",
              "      <td>0.505525</td>\n",
              "      <td>0.316228</td>\n",
              "      <td>0.316228</td>\n",
              "    </tr>\n",
              "  </tbody>\n",
              "</table>\n",
              "</div>\n",
              "      <button class=\"colab-df-convert\" onclick=\"convertToInteractive('df-683b5f54-9703-4b6c-b980-377c286a7ddd')\"\n",
              "              title=\"Convert this dataframe to an interactive table.\"\n",
              "              style=\"display:none;\">\n",
              "        \n",
              "  <svg xmlns=\"http://www.w3.org/2000/svg\" height=\"24px\"viewBox=\"0 0 24 24\"\n",
              "       width=\"24px\">\n",
              "    <path d=\"M0 0h24v24H0V0z\" fill=\"none\"/>\n",
              "    <path d=\"M18.56 5.44l.94 2.06.94-2.06 2.06-.94-2.06-.94-.94-2.06-.94 2.06-2.06.94zm-11 1L8.5 8.5l.94-2.06 2.06-.94-2.06-.94L8.5 2.5l-.94 2.06-2.06.94zm10 10l.94 2.06.94-2.06 2.06-.94-2.06-.94-.94-2.06-.94 2.06-2.06.94z\"/><path d=\"M17.41 7.96l-1.37-1.37c-.4-.4-.92-.59-1.43-.59-.52 0-1.04.2-1.43.59L10.3 9.45l-7.72 7.72c-.78.78-.78 2.05 0 2.83L4 21.41c.39.39.9.59 1.41.59.51 0 1.02-.2 1.41-.59l7.78-7.78 2.81-2.81c.8-.78.8-2.07 0-2.86zM5.41 20L4 18.59l7.72-7.72 1.47 1.35L5.41 20z\"/>\n",
              "  </svg>\n",
              "      </button>\n",
              "      \n",
              "  <style>\n",
              "    .colab-df-container {\n",
              "      display:flex;\n",
              "      flex-wrap:wrap;\n",
              "      gap: 12px;\n",
              "    }\n",
              "\n",
              "    .colab-df-convert {\n",
              "      background-color: #E8F0FE;\n",
              "      border: none;\n",
              "      border-radius: 50%;\n",
              "      cursor: pointer;\n",
              "      display: none;\n",
              "      fill: #1967D2;\n",
              "      height: 32px;\n",
              "      padding: 0 0 0 0;\n",
              "      width: 32px;\n",
              "    }\n",
              "\n",
              "    .colab-df-convert:hover {\n",
              "      background-color: #E2EBFA;\n",
              "      box-shadow: 0px 1px 2px rgba(60, 64, 67, 0.3), 0px 1px 3px 1px rgba(60, 64, 67, 0.15);\n",
              "      fill: #174EA6;\n",
              "    }\n",
              "\n",
              "    [theme=dark] .colab-df-convert {\n",
              "      background-color: #3B4455;\n",
              "      fill: #D2E3FC;\n",
              "    }\n",
              "\n",
              "    [theme=dark] .colab-df-convert:hover {\n",
              "      background-color: #434B5C;\n",
              "      box-shadow: 0px 1px 3px 1px rgba(0, 0, 0, 0.15);\n",
              "      filter: drop-shadow(0px 1px 2px rgba(0, 0, 0, 0.3));\n",
              "      fill: #FFFFFF;\n",
              "    }\n",
              "  </style>\n",
              "\n",
              "      <script>\n",
              "        const buttonEl =\n",
              "          document.querySelector('#df-683b5f54-9703-4b6c-b980-377c286a7ddd button.colab-df-convert');\n",
              "        buttonEl.style.display =\n",
              "          google.colab.kernel.accessAllowed ? 'block' : 'none';\n",
              "\n",
              "        async function convertToInteractive(key) {\n",
              "          const element = document.querySelector('#df-683b5f54-9703-4b6c-b980-377c286a7ddd');\n",
              "          const dataTable =\n",
              "            await google.colab.kernel.invokeFunction('convertToInteractive',\n",
              "                                                     [key], {});\n",
              "          if (!dataTable) return;\n",
              "\n",
              "          const docLinkHtml = 'Like what you see? Visit the ' +\n",
              "            '<a target=\"_blank\" href=https://colab.research.google.com/notebooks/data_table.ipynb>data table notebook</a>'\n",
              "            + ' to learn more about interactive tables.';\n",
              "          element.innerHTML = '';\n",
              "          dataTable['output_type'] = 'display_data';\n",
              "          await google.colab.output.renderOutput(dataTable, element);\n",
              "          const docLink = document.createElement('div');\n",
              "          docLink.innerHTML = docLinkHtml;\n",
              "          element.appendChild(docLink);\n",
              "        }\n",
              "      </script>\n",
              "    </div>\n",
              "  </div>\n",
              "  "
            ]
          },
          "metadata": {},
          "execution_count": 27
        }
      ],
      "source": [
        "# sqrt Transformation\n",
        "data_sqrt = pd.DataFrame()\n",
        "\n",
        "for i in range(data_norm.shape[1]):\n",
        "    fitted_data= np.power(data_norm.iloc[:,i] , 1/2)\n",
        "    data_sqrt[num_cols[i]] = fitted_data\n",
        "    \n",
        "data_sqrt.head()"
      ]
    },
    {
      "cell_type": "code",
      "execution_count": 28,
      "id": "e987c19b",
      "metadata": {
        "colab": {
          "base_uri": "https://localhost:8080/",
          "height": 332
        },
        "id": "e987c19b",
        "outputId": "d6482f18-d7cc-4232-99d5-171fd8a0dd9b"
      },
      "outputs": [
        {
          "output_type": "execute_result",
          "data": {
            "text/plain": [
              "           skew    kurtosis\n",
              "FFMC  -9.574197  132.567926\n",
              "DMC   -0.083626   -0.276036\n",
              "DC    -1.322995    0.237079\n",
              "ISI    0.871686    5.092812\n",
              "temp  -0.876132    0.995026\n",
              "RH     0.376794   -0.263655\n",
              "wind   0.089628   -0.352889\n",
              "rain  17.214101  330.983954\n",
              "area   9.167830  108.267435"
            ],
            "text/html": [
              "\n",
              "  <div id=\"df-3d7ea377-a992-43f3-823f-77784ba1d9a1\">\n",
              "    <div class=\"colab-df-container\">\n",
              "      <div>\n",
              "<style scoped>\n",
              "    .dataframe tbody tr th:only-of-type {\n",
              "        vertical-align: middle;\n",
              "    }\n",
              "\n",
              "    .dataframe tbody tr th {\n",
              "        vertical-align: top;\n",
              "    }\n",
              "\n",
              "    .dataframe thead th {\n",
              "        text-align: right;\n",
              "    }\n",
              "</style>\n",
              "<table border=\"1\" class=\"dataframe\">\n",
              "  <thead>\n",
              "    <tr style=\"text-align: right;\">\n",
              "      <th></th>\n",
              "      <th>skew</th>\n",
              "      <th>kurtosis</th>\n",
              "    </tr>\n",
              "  </thead>\n",
              "  <tbody>\n",
              "    <tr>\n",
              "      <th>FFMC</th>\n",
              "      <td>-9.574197</td>\n",
              "      <td>132.567926</td>\n",
              "    </tr>\n",
              "    <tr>\n",
              "      <th>DMC</th>\n",
              "      <td>-0.083626</td>\n",
              "      <td>-0.276036</td>\n",
              "    </tr>\n",
              "    <tr>\n",
              "      <th>DC</th>\n",
              "      <td>-1.322995</td>\n",
              "      <td>0.237079</td>\n",
              "    </tr>\n",
              "    <tr>\n",
              "      <th>ISI</th>\n",
              "      <td>0.871686</td>\n",
              "      <td>5.092812</td>\n",
              "    </tr>\n",
              "    <tr>\n",
              "      <th>temp</th>\n",
              "      <td>-0.876132</td>\n",
              "      <td>0.995026</td>\n",
              "    </tr>\n",
              "    <tr>\n",
              "      <th>RH</th>\n",
              "      <td>0.376794</td>\n",
              "      <td>-0.263655</td>\n",
              "    </tr>\n",
              "    <tr>\n",
              "      <th>wind</th>\n",
              "      <td>0.089628</td>\n",
              "      <td>-0.352889</td>\n",
              "    </tr>\n",
              "    <tr>\n",
              "      <th>rain</th>\n",
              "      <td>17.214101</td>\n",
              "      <td>330.983954</td>\n",
              "    </tr>\n",
              "    <tr>\n",
              "      <th>area</th>\n",
              "      <td>9.167830</td>\n",
              "      <td>108.267435</td>\n",
              "    </tr>\n",
              "  </tbody>\n",
              "</table>\n",
              "</div>\n",
              "      <button class=\"colab-df-convert\" onclick=\"convertToInteractive('df-3d7ea377-a992-43f3-823f-77784ba1d9a1')\"\n",
              "              title=\"Convert this dataframe to an interactive table.\"\n",
              "              style=\"display:none;\">\n",
              "        \n",
              "  <svg xmlns=\"http://www.w3.org/2000/svg\" height=\"24px\"viewBox=\"0 0 24 24\"\n",
              "       width=\"24px\">\n",
              "    <path d=\"M0 0h24v24H0V0z\" fill=\"none\"/>\n",
              "    <path d=\"M18.56 5.44l.94 2.06.94-2.06 2.06-.94-2.06-.94-.94-2.06-.94 2.06-2.06.94zm-11 1L8.5 8.5l.94-2.06 2.06-.94-2.06-.94L8.5 2.5l-.94 2.06-2.06.94zm10 10l.94 2.06.94-2.06 2.06-.94-2.06-.94-.94-2.06-.94 2.06-2.06.94z\"/><path d=\"M17.41 7.96l-1.37-1.37c-.4-.4-.92-.59-1.43-.59-.52 0-1.04.2-1.43.59L10.3 9.45l-7.72 7.72c-.78.78-.78 2.05 0 2.83L4 21.41c.39.39.9.59 1.41.59.51 0 1.02-.2 1.41-.59l7.78-7.78 2.81-2.81c.8-.78.8-2.07 0-2.86zM5.41 20L4 18.59l7.72-7.72 1.47 1.35L5.41 20z\"/>\n",
              "  </svg>\n",
              "      </button>\n",
              "      \n",
              "  <style>\n",
              "    .colab-df-container {\n",
              "      display:flex;\n",
              "      flex-wrap:wrap;\n",
              "      gap: 12px;\n",
              "    }\n",
              "\n",
              "    .colab-df-convert {\n",
              "      background-color: #E8F0FE;\n",
              "      border: none;\n",
              "      border-radius: 50%;\n",
              "      cursor: pointer;\n",
              "      display: none;\n",
              "      fill: #1967D2;\n",
              "      height: 32px;\n",
              "      padding: 0 0 0 0;\n",
              "      width: 32px;\n",
              "    }\n",
              "\n",
              "    .colab-df-convert:hover {\n",
              "      background-color: #E2EBFA;\n",
              "      box-shadow: 0px 1px 2px rgba(60, 64, 67, 0.3), 0px 1px 3px 1px rgba(60, 64, 67, 0.15);\n",
              "      fill: #174EA6;\n",
              "    }\n",
              "\n",
              "    [theme=dark] .colab-df-convert {\n",
              "      background-color: #3B4455;\n",
              "      fill: #D2E3FC;\n",
              "    }\n",
              "\n",
              "    [theme=dark] .colab-df-convert:hover {\n",
              "      background-color: #434B5C;\n",
              "      box-shadow: 0px 1px 3px 1px rgba(0, 0, 0, 0.15);\n",
              "      filter: drop-shadow(0px 1px 2px rgba(0, 0, 0, 0.3));\n",
              "      fill: #FFFFFF;\n",
              "    }\n",
              "  </style>\n",
              "\n",
              "      <script>\n",
              "        const buttonEl =\n",
              "          document.querySelector('#df-3d7ea377-a992-43f3-823f-77784ba1d9a1 button.colab-df-convert');\n",
              "        buttonEl.style.display =\n",
              "          google.colab.kernel.accessAllowed ? 'block' : 'none';\n",
              "\n",
              "        async function convertToInteractive(key) {\n",
              "          const element = document.querySelector('#df-3d7ea377-a992-43f3-823f-77784ba1d9a1');\n",
              "          const dataTable =\n",
              "            await google.colab.kernel.invokeFunction('convertToInteractive',\n",
              "                                                     [key], {});\n",
              "          if (!dataTable) return;\n",
              "\n",
              "          const docLinkHtml = 'Like what you see? Visit the ' +\n",
              "            '<a target=\"_blank\" href=https://colab.research.google.com/notebooks/data_table.ipynb>data table notebook</a>'\n",
              "            + ' to learn more about interactive tables.';\n",
              "          element.innerHTML = '';\n",
              "          dataTable['output_type'] = 'display_data';\n",
              "          await google.colab.output.renderOutput(dataTable, element);\n",
              "          const docLink = document.createElement('div');\n",
              "          docLink.innerHTML = docLinkHtml;\n",
              "          element.appendChild(docLink);\n",
              "        }\n",
              "      </script>\n",
              "    </div>\n",
              "  </div>\n",
              "  "
            ]
          },
          "metadata": {},
          "execution_count": 28
        }
      ],
      "source": [
        "data_sqrt_summary = data_sqrt.agg(['skew', 'kurtosis']).transpose()\n",
        "data_sqrt_summary"
      ]
    },
    {
      "cell_type": "code",
      "execution_count": 29,
      "id": "b47fb717",
      "metadata": {
        "colab": {
          "base_uri": "https://localhost:8080/",
          "height": 206
        },
        "id": "b47fb717",
        "outputId": "dacee33e-eda2-4e8b-c2f0-3a8ae5a3f101"
      },
      "outputs": [
        {
          "output_type": "execute_result",
          "data": {
            "text/plain": [
              "       FFMC       DMC        DC       ISI      temp        RH      wind  \\\n",
              "0  0.942778  0.034779  0.040532  0.036446  0.085806  0.274083  0.640000   \n",
              "1  1.056253  0.047609  0.766359  0.048149  0.369711  0.097197  0.024198   \n",
              "2  1.056253  0.060908  0.803343  0.048149  0.248715  0.097197  0.040000   \n",
              "3  1.085630  0.044503  0.032987  0.067823  0.087700  1.133599  0.250000   \n",
              "4  1.022056  0.074520  0.044348  0.073508  0.156673  1.184256  0.065309   \n",
              "\n",
              "       rain  area  \n",
              "0  0.010000  0.01  \n",
              "1  0.010000  0.01  \n",
              "2  0.010000  0.01  \n",
              "3  0.017227  0.01  \n",
              "4  0.010000  0.01  "
            ],
            "text/html": [
              "\n",
              "  <div id=\"df-bd10a816-ee91-47aa-b45d-772b417e7e3d\">\n",
              "    <div class=\"colab-df-container\">\n",
              "      <div>\n",
              "<style scoped>\n",
              "    .dataframe tbody tr th:only-of-type {\n",
              "        vertical-align: middle;\n",
              "    }\n",
              "\n",
              "    .dataframe tbody tr th {\n",
              "        vertical-align: top;\n",
              "    }\n",
              "\n",
              "    .dataframe thead th {\n",
              "        text-align: right;\n",
              "    }\n",
              "</style>\n",
              "<table border=\"1\" class=\"dataframe\">\n",
              "  <thead>\n",
              "    <tr style=\"text-align: right;\">\n",
              "      <th></th>\n",
              "      <th>FFMC</th>\n",
              "      <th>DMC</th>\n",
              "      <th>DC</th>\n",
              "      <th>ISI</th>\n",
              "      <th>temp</th>\n",
              "      <th>RH</th>\n",
              "      <th>wind</th>\n",
              "      <th>rain</th>\n",
              "      <th>area</th>\n",
              "    </tr>\n",
              "  </thead>\n",
              "  <tbody>\n",
              "    <tr>\n",
              "      <th>0</th>\n",
              "      <td>0.942778</td>\n",
              "      <td>0.034779</td>\n",
              "      <td>0.040532</td>\n",
              "      <td>0.036446</td>\n",
              "      <td>0.085806</td>\n",
              "      <td>0.274083</td>\n",
              "      <td>0.640000</td>\n",
              "      <td>0.010000</td>\n",
              "      <td>0.01</td>\n",
              "    </tr>\n",
              "    <tr>\n",
              "      <th>1</th>\n",
              "      <td>1.056253</td>\n",
              "      <td>0.047609</td>\n",
              "      <td>0.766359</td>\n",
              "      <td>0.048149</td>\n",
              "      <td>0.369711</td>\n",
              "      <td>0.097197</td>\n",
              "      <td>0.024198</td>\n",
              "      <td>0.010000</td>\n",
              "      <td>0.01</td>\n",
              "    </tr>\n",
              "    <tr>\n",
              "      <th>2</th>\n",
              "      <td>1.056253</td>\n",
              "      <td>0.060908</td>\n",
              "      <td>0.803343</td>\n",
              "      <td>0.048149</td>\n",
              "      <td>0.248715</td>\n",
              "      <td>0.097197</td>\n",
              "      <td>0.040000</td>\n",
              "      <td>0.010000</td>\n",
              "      <td>0.01</td>\n",
              "    </tr>\n",
              "    <tr>\n",
              "      <th>3</th>\n",
              "      <td>1.085630</td>\n",
              "      <td>0.044503</td>\n",
              "      <td>0.032987</td>\n",
              "      <td>0.067823</td>\n",
              "      <td>0.087700</td>\n",
              "      <td>1.133599</td>\n",
              "      <td>0.250000</td>\n",
              "      <td>0.017227</td>\n",
              "      <td>0.01</td>\n",
              "    </tr>\n",
              "    <tr>\n",
              "      <th>4</th>\n",
              "      <td>1.022056</td>\n",
              "      <td>0.074520</td>\n",
              "      <td>0.044348</td>\n",
              "      <td>0.073508</td>\n",
              "      <td>0.156673</td>\n",
              "      <td>1.184256</td>\n",
              "      <td>0.065309</td>\n",
              "      <td>0.010000</td>\n",
              "      <td>0.01</td>\n",
              "    </tr>\n",
              "  </tbody>\n",
              "</table>\n",
              "</div>\n",
              "      <button class=\"colab-df-convert\" onclick=\"convertToInteractive('df-bd10a816-ee91-47aa-b45d-772b417e7e3d')\"\n",
              "              title=\"Convert this dataframe to an interactive table.\"\n",
              "              style=\"display:none;\">\n",
              "        \n",
              "  <svg xmlns=\"http://www.w3.org/2000/svg\" height=\"24px\"viewBox=\"0 0 24 24\"\n",
              "       width=\"24px\">\n",
              "    <path d=\"M0 0h24v24H0V0z\" fill=\"none\"/>\n",
              "    <path d=\"M18.56 5.44l.94 2.06.94-2.06 2.06-.94-2.06-.94-.94-2.06-.94 2.06-2.06.94zm-11 1L8.5 8.5l.94-2.06 2.06-.94-2.06-.94L8.5 2.5l-.94 2.06-2.06.94zm10 10l.94 2.06.94-2.06 2.06-.94-2.06-.94-.94-2.06-.94 2.06-2.06.94z\"/><path d=\"M17.41 7.96l-1.37-1.37c-.4-.4-.92-.59-1.43-.59-.52 0-1.04.2-1.43.59L10.3 9.45l-7.72 7.72c-.78.78-.78 2.05 0 2.83L4 21.41c.39.39.9.59 1.41.59.51 0 1.02-.2 1.41-.59l7.78-7.78 2.81-2.81c.8-.78.8-2.07 0-2.86zM5.41 20L4 18.59l7.72-7.72 1.47 1.35L5.41 20z\"/>\n",
              "  </svg>\n",
              "      </button>\n",
              "      \n",
              "  <style>\n",
              "    .colab-df-container {\n",
              "      display:flex;\n",
              "      flex-wrap:wrap;\n",
              "      gap: 12px;\n",
              "    }\n",
              "\n",
              "    .colab-df-convert {\n",
              "      background-color: #E8F0FE;\n",
              "      border: none;\n",
              "      border-radius: 50%;\n",
              "      cursor: pointer;\n",
              "      display: none;\n",
              "      fill: #1967D2;\n",
              "      height: 32px;\n",
              "      padding: 0 0 0 0;\n",
              "      width: 32px;\n",
              "    }\n",
              "\n",
              "    .colab-df-convert:hover {\n",
              "      background-color: #E2EBFA;\n",
              "      box-shadow: 0px 1px 2px rgba(60, 64, 67, 0.3), 0px 1px 3px 1px rgba(60, 64, 67, 0.15);\n",
              "      fill: #174EA6;\n",
              "    }\n",
              "\n",
              "    [theme=dark] .colab-df-convert {\n",
              "      background-color: #3B4455;\n",
              "      fill: #D2E3FC;\n",
              "    }\n",
              "\n",
              "    [theme=dark] .colab-df-convert:hover {\n",
              "      background-color: #434B5C;\n",
              "      box-shadow: 0px 1px 3px 1px rgba(0, 0, 0, 0.15);\n",
              "      filter: drop-shadow(0px 1px 2px rgba(0, 0, 0, 0.3));\n",
              "      fill: #FFFFFF;\n",
              "    }\n",
              "  </style>\n",
              "\n",
              "      <script>\n",
              "        const buttonEl =\n",
              "          document.querySelector('#df-bd10a816-ee91-47aa-b45d-772b417e7e3d button.colab-df-convert');\n",
              "        buttonEl.style.display =\n",
              "          google.colab.kernel.accessAllowed ? 'block' : 'none';\n",
              "\n",
              "        async function convertToInteractive(key) {\n",
              "          const element = document.querySelector('#df-bd10a816-ee91-47aa-b45d-772b417e7e3d');\n",
              "          const dataTable =\n",
              "            await google.colab.kernel.invokeFunction('convertToInteractive',\n",
              "                                                     [key], {});\n",
              "          if (!dataTable) return;\n",
              "\n",
              "          const docLinkHtml = 'Like what you see? Visit the ' +\n",
              "            '<a target=\"_blank\" href=https://colab.research.google.com/notebooks/data_table.ipynb>data table notebook</a>'\n",
              "            + ' to learn more about interactive tables.';\n",
              "          element.innerHTML = '';\n",
              "          dataTable['output_type'] = 'display_data';\n",
              "          await google.colab.output.renderOutput(dataTable, element);\n",
              "          const docLink = document.createElement('div');\n",
              "          docLink.innerHTML = docLinkHtml;\n",
              "          element.appendChild(docLink);\n",
              "        }\n",
              "      </script>\n",
              "    </div>\n",
              "  </div>\n",
              "  "
            ]
          },
          "metadata": {},
          "execution_count": 29
        }
      ],
      "source": [
        "# sq Transformation\n",
        "data_sq = pd.DataFrame()\n",
        "\n",
        "for i in range(data_norm.shape[1]):\n",
        "    fitted_data= np.power(data_norm.iloc[:,i] , 2)\n",
        "    data_sq[num_cols[i]] = fitted_data\n",
        "    \n",
        "    \n",
        "data_sq.head()"
      ]
    },
    {
      "cell_type": "code",
      "execution_count": 30,
      "id": "41d281b9",
      "metadata": {
        "colab": {
          "base_uri": "https://localhost:8080/",
          "height": 332
        },
        "id": "41d281b9",
        "outputId": "ff7da944-06d0-406d-9177-64a548a0a1b1"
      },
      "outputs": [
        {
          "output_type": "execute_result",
          "data": {
            "text/plain": [
              "           skew    kurtosis\n",
              "FFMC  -3.858901   23.661571\n",
              "DMC    1.736344    3.257504\n",
              "DC    -0.666800   -0.824472\n",
              "ISI   10.651715  178.390168\n",
              "temp   0.563749    0.328077\n",
              "RH     1.824689    3.748242\n",
              "wind   1.513272    2.501804\n",
              "rain  22.260153  499.581624\n",
              "area  17.484493  327.183773"
            ],
            "text/html": [
              "\n",
              "  <div id=\"df-2cad4459-ab04-480f-bd7b-528fc4de037b\">\n",
              "    <div class=\"colab-df-container\">\n",
              "      <div>\n",
              "<style scoped>\n",
              "    .dataframe tbody tr th:only-of-type {\n",
              "        vertical-align: middle;\n",
              "    }\n",
              "\n",
              "    .dataframe tbody tr th {\n",
              "        vertical-align: top;\n",
              "    }\n",
              "\n",
              "    .dataframe thead th {\n",
              "        text-align: right;\n",
              "    }\n",
              "</style>\n",
              "<table border=\"1\" class=\"dataframe\">\n",
              "  <thead>\n",
              "    <tr style=\"text-align: right;\">\n",
              "      <th></th>\n",
              "      <th>skew</th>\n",
              "      <th>kurtosis</th>\n",
              "    </tr>\n",
              "  </thead>\n",
              "  <tbody>\n",
              "    <tr>\n",
              "      <th>FFMC</th>\n",
              "      <td>-3.858901</td>\n",
              "      <td>23.661571</td>\n",
              "    </tr>\n",
              "    <tr>\n",
              "      <th>DMC</th>\n",
              "      <td>1.736344</td>\n",
              "      <td>3.257504</td>\n",
              "    </tr>\n",
              "    <tr>\n",
              "      <th>DC</th>\n",
              "      <td>-0.666800</td>\n",
              "      <td>-0.824472</td>\n",
              "    </tr>\n",
              "    <tr>\n",
              "      <th>ISI</th>\n",
              "      <td>10.651715</td>\n",
              "      <td>178.390168</td>\n",
              "    </tr>\n",
              "    <tr>\n",
              "      <th>temp</th>\n",
              "      <td>0.563749</td>\n",
              "      <td>0.328077</td>\n",
              "    </tr>\n",
              "    <tr>\n",
              "      <th>RH</th>\n",
              "      <td>1.824689</td>\n",
              "      <td>3.748242</td>\n",
              "    </tr>\n",
              "    <tr>\n",
              "      <th>wind</th>\n",
              "      <td>1.513272</td>\n",
              "      <td>2.501804</td>\n",
              "    </tr>\n",
              "    <tr>\n",
              "      <th>rain</th>\n",
              "      <td>22.260153</td>\n",
              "      <td>499.581624</td>\n",
              "    </tr>\n",
              "    <tr>\n",
              "      <th>area</th>\n",
              "      <td>17.484493</td>\n",
              "      <td>327.183773</td>\n",
              "    </tr>\n",
              "  </tbody>\n",
              "</table>\n",
              "</div>\n",
              "      <button class=\"colab-df-convert\" onclick=\"convertToInteractive('df-2cad4459-ab04-480f-bd7b-528fc4de037b')\"\n",
              "              title=\"Convert this dataframe to an interactive table.\"\n",
              "              style=\"display:none;\">\n",
              "        \n",
              "  <svg xmlns=\"http://www.w3.org/2000/svg\" height=\"24px\"viewBox=\"0 0 24 24\"\n",
              "       width=\"24px\">\n",
              "    <path d=\"M0 0h24v24H0V0z\" fill=\"none\"/>\n",
              "    <path d=\"M18.56 5.44l.94 2.06.94-2.06 2.06-.94-2.06-.94-.94-2.06-.94 2.06-2.06.94zm-11 1L8.5 8.5l.94-2.06 2.06-.94-2.06-.94L8.5 2.5l-.94 2.06-2.06.94zm10 10l.94 2.06.94-2.06 2.06-.94-2.06-.94-.94-2.06-.94 2.06-2.06.94z\"/><path d=\"M17.41 7.96l-1.37-1.37c-.4-.4-.92-.59-1.43-.59-.52 0-1.04.2-1.43.59L10.3 9.45l-7.72 7.72c-.78.78-.78 2.05 0 2.83L4 21.41c.39.39.9.59 1.41.59.51 0 1.02-.2 1.41-.59l7.78-7.78 2.81-2.81c.8-.78.8-2.07 0-2.86zM5.41 20L4 18.59l7.72-7.72 1.47 1.35L5.41 20z\"/>\n",
              "  </svg>\n",
              "      </button>\n",
              "      \n",
              "  <style>\n",
              "    .colab-df-container {\n",
              "      display:flex;\n",
              "      flex-wrap:wrap;\n",
              "      gap: 12px;\n",
              "    }\n",
              "\n",
              "    .colab-df-convert {\n",
              "      background-color: #E8F0FE;\n",
              "      border: none;\n",
              "      border-radius: 50%;\n",
              "      cursor: pointer;\n",
              "      display: none;\n",
              "      fill: #1967D2;\n",
              "      height: 32px;\n",
              "      padding: 0 0 0 0;\n",
              "      width: 32px;\n",
              "    }\n",
              "\n",
              "    .colab-df-convert:hover {\n",
              "      background-color: #E2EBFA;\n",
              "      box-shadow: 0px 1px 2px rgba(60, 64, 67, 0.3), 0px 1px 3px 1px rgba(60, 64, 67, 0.15);\n",
              "      fill: #174EA6;\n",
              "    }\n",
              "\n",
              "    [theme=dark] .colab-df-convert {\n",
              "      background-color: #3B4455;\n",
              "      fill: #D2E3FC;\n",
              "    }\n",
              "\n",
              "    [theme=dark] .colab-df-convert:hover {\n",
              "      background-color: #434B5C;\n",
              "      box-shadow: 0px 1px 3px 1px rgba(0, 0, 0, 0.15);\n",
              "      filter: drop-shadow(0px 1px 2px rgba(0, 0, 0, 0.3));\n",
              "      fill: #FFFFFF;\n",
              "    }\n",
              "  </style>\n",
              "\n",
              "      <script>\n",
              "        const buttonEl =\n",
              "          document.querySelector('#df-2cad4459-ab04-480f-bd7b-528fc4de037b button.colab-df-convert');\n",
              "        buttonEl.style.display =\n",
              "          google.colab.kernel.accessAllowed ? 'block' : 'none';\n",
              "\n",
              "        async function convertToInteractive(key) {\n",
              "          const element = document.querySelector('#df-2cad4459-ab04-480f-bd7b-528fc4de037b');\n",
              "          const dataTable =\n",
              "            await google.colab.kernel.invokeFunction('convertToInteractive',\n",
              "                                                     [key], {});\n",
              "          if (!dataTable) return;\n",
              "\n",
              "          const docLinkHtml = 'Like what you see? Visit the ' +\n",
              "            '<a target=\"_blank\" href=https://colab.research.google.com/notebooks/data_table.ipynb>data table notebook</a>'\n",
              "            + ' to learn more about interactive tables.';\n",
              "          element.innerHTML = '';\n",
              "          dataTable['output_type'] = 'display_data';\n",
              "          await google.colab.output.renderOutput(dataTable, element);\n",
              "          const docLink = document.createElement('div');\n",
              "          docLink.innerHTML = docLinkHtml;\n",
              "          element.appendChild(docLink);\n",
              "        }\n",
              "      </script>\n",
              "    </div>\n",
              "  </div>\n",
              "  "
            ]
          },
          "metadata": {},
          "execution_count": 30
        }
      ],
      "source": [
        "data_sq_summary = data_sq.agg(['skew', 'kurtosis']).transpose()\n",
        "data_sq_summary"
      ]
    },
    {
      "cell_type": "code",
      "execution_count": 31,
      "id": "6aa0f8ee",
      "metadata": {
        "colab": {
          "base_uri": "https://localhost:8080/",
          "height": 206
        },
        "id": "6aa0f8ee",
        "outputId": "f8b3a2a1-f967-4648-d41f-c4bc2a6eaca1"
      },
      "outputs": [
        {
          "output_type": "execute_result",
          "data": {
            "text/plain": [
              "       FFMC       DMC        DC       ISI      temp        RH      wind  \\\n",
              "0 -0.029462 -1.679367 -1.602834 -1.655958 -1.227835 -0.647162 -0.223144   \n",
              "1  0.027364 -1.522369 -0.133052 -1.516724 -0.497517 -1.165507 -1.860752   \n",
              "2  0.027364 -1.399196 -0.109487 -1.516724 -0.695723 -1.165507 -1.609438   \n",
              "3  0.041080 -1.556096 -1.705822 -1.345430 -1.216918  0.062699 -0.693147   \n",
              "4  0.010908 -1.298342 -1.557843 -1.305183 -0.926796  0.084557 -1.364315   \n",
              "\n",
              "       rain      area  \n",
              "0 -2.302585 -2.302585  \n",
              "1 -2.302585 -2.302585  \n",
              "2 -2.302585 -2.302585  \n",
              "3 -2.030651 -2.302585  \n",
              "4 -2.302585 -2.302585  "
            ],
            "text/html": [
              "\n",
              "  <div id=\"df-ce5d3292-1c14-433d-b055-20651c93cf3c\">\n",
              "    <div class=\"colab-df-container\">\n",
              "      <div>\n",
              "<style scoped>\n",
              "    .dataframe tbody tr th:only-of-type {\n",
              "        vertical-align: middle;\n",
              "    }\n",
              "\n",
              "    .dataframe tbody tr th {\n",
              "        vertical-align: top;\n",
              "    }\n",
              "\n",
              "    .dataframe thead th {\n",
              "        text-align: right;\n",
              "    }\n",
              "</style>\n",
              "<table border=\"1\" class=\"dataframe\">\n",
              "  <thead>\n",
              "    <tr style=\"text-align: right;\">\n",
              "      <th></th>\n",
              "      <th>FFMC</th>\n",
              "      <th>DMC</th>\n",
              "      <th>DC</th>\n",
              "      <th>ISI</th>\n",
              "      <th>temp</th>\n",
              "      <th>RH</th>\n",
              "      <th>wind</th>\n",
              "      <th>rain</th>\n",
              "      <th>area</th>\n",
              "    </tr>\n",
              "  </thead>\n",
              "  <tbody>\n",
              "    <tr>\n",
              "      <th>0</th>\n",
              "      <td>-0.029462</td>\n",
              "      <td>-1.679367</td>\n",
              "      <td>-1.602834</td>\n",
              "      <td>-1.655958</td>\n",
              "      <td>-1.227835</td>\n",
              "      <td>-0.647162</td>\n",
              "      <td>-0.223144</td>\n",
              "      <td>-2.302585</td>\n",
              "      <td>-2.302585</td>\n",
              "    </tr>\n",
              "    <tr>\n",
              "      <th>1</th>\n",
              "      <td>0.027364</td>\n",
              "      <td>-1.522369</td>\n",
              "      <td>-0.133052</td>\n",
              "      <td>-1.516724</td>\n",
              "      <td>-0.497517</td>\n",
              "      <td>-1.165507</td>\n",
              "      <td>-1.860752</td>\n",
              "      <td>-2.302585</td>\n",
              "      <td>-2.302585</td>\n",
              "    </tr>\n",
              "    <tr>\n",
              "      <th>2</th>\n",
              "      <td>0.027364</td>\n",
              "      <td>-1.399196</td>\n",
              "      <td>-0.109487</td>\n",
              "      <td>-1.516724</td>\n",
              "      <td>-0.695723</td>\n",
              "      <td>-1.165507</td>\n",
              "      <td>-1.609438</td>\n",
              "      <td>-2.302585</td>\n",
              "      <td>-2.302585</td>\n",
              "    </tr>\n",
              "    <tr>\n",
              "      <th>3</th>\n",
              "      <td>0.041080</td>\n",
              "      <td>-1.556096</td>\n",
              "      <td>-1.705822</td>\n",
              "      <td>-1.345430</td>\n",
              "      <td>-1.216918</td>\n",
              "      <td>0.062699</td>\n",
              "      <td>-0.693147</td>\n",
              "      <td>-2.030651</td>\n",
              "      <td>-2.302585</td>\n",
              "    </tr>\n",
              "    <tr>\n",
              "      <th>4</th>\n",
              "      <td>0.010908</td>\n",
              "      <td>-1.298342</td>\n",
              "      <td>-1.557843</td>\n",
              "      <td>-1.305183</td>\n",
              "      <td>-0.926796</td>\n",
              "      <td>0.084557</td>\n",
              "      <td>-1.364315</td>\n",
              "      <td>-2.302585</td>\n",
              "      <td>-2.302585</td>\n",
              "    </tr>\n",
              "  </tbody>\n",
              "</table>\n",
              "</div>\n",
              "      <button class=\"colab-df-convert\" onclick=\"convertToInteractive('df-ce5d3292-1c14-433d-b055-20651c93cf3c')\"\n",
              "              title=\"Convert this dataframe to an interactive table.\"\n",
              "              style=\"display:none;\">\n",
              "        \n",
              "  <svg xmlns=\"http://www.w3.org/2000/svg\" height=\"24px\"viewBox=\"0 0 24 24\"\n",
              "       width=\"24px\">\n",
              "    <path d=\"M0 0h24v24H0V0z\" fill=\"none\"/>\n",
              "    <path d=\"M18.56 5.44l.94 2.06.94-2.06 2.06-.94-2.06-.94-.94-2.06-.94 2.06-2.06.94zm-11 1L8.5 8.5l.94-2.06 2.06-.94-2.06-.94L8.5 2.5l-.94 2.06-2.06.94zm10 10l.94 2.06.94-2.06 2.06-.94-2.06-.94-.94-2.06-.94 2.06-2.06.94z\"/><path d=\"M17.41 7.96l-1.37-1.37c-.4-.4-.92-.59-1.43-.59-.52 0-1.04.2-1.43.59L10.3 9.45l-7.72 7.72c-.78.78-.78 2.05 0 2.83L4 21.41c.39.39.9.59 1.41.59.51 0 1.02-.2 1.41-.59l7.78-7.78 2.81-2.81c.8-.78.8-2.07 0-2.86zM5.41 20L4 18.59l7.72-7.72 1.47 1.35L5.41 20z\"/>\n",
              "  </svg>\n",
              "      </button>\n",
              "      \n",
              "  <style>\n",
              "    .colab-df-container {\n",
              "      display:flex;\n",
              "      flex-wrap:wrap;\n",
              "      gap: 12px;\n",
              "    }\n",
              "\n",
              "    .colab-df-convert {\n",
              "      background-color: #E8F0FE;\n",
              "      border: none;\n",
              "      border-radius: 50%;\n",
              "      cursor: pointer;\n",
              "      display: none;\n",
              "      fill: #1967D2;\n",
              "      height: 32px;\n",
              "      padding: 0 0 0 0;\n",
              "      width: 32px;\n",
              "    }\n",
              "\n",
              "    .colab-df-convert:hover {\n",
              "      background-color: #E2EBFA;\n",
              "      box-shadow: 0px 1px 2px rgba(60, 64, 67, 0.3), 0px 1px 3px 1px rgba(60, 64, 67, 0.15);\n",
              "      fill: #174EA6;\n",
              "    }\n",
              "\n",
              "    [theme=dark] .colab-df-convert {\n",
              "      background-color: #3B4455;\n",
              "      fill: #D2E3FC;\n",
              "    }\n",
              "\n",
              "    [theme=dark] .colab-df-convert:hover {\n",
              "      background-color: #434B5C;\n",
              "      box-shadow: 0px 1px 3px 1px rgba(0, 0, 0, 0.15);\n",
              "      filter: drop-shadow(0px 1px 2px rgba(0, 0, 0, 0.3));\n",
              "      fill: #FFFFFF;\n",
              "    }\n",
              "  </style>\n",
              "\n",
              "      <script>\n",
              "        const buttonEl =\n",
              "          document.querySelector('#df-ce5d3292-1c14-433d-b055-20651c93cf3c button.colab-df-convert');\n",
              "        buttonEl.style.display =\n",
              "          google.colab.kernel.accessAllowed ? 'block' : 'none';\n",
              "\n",
              "        async function convertToInteractive(key) {\n",
              "          const element = document.querySelector('#df-ce5d3292-1c14-433d-b055-20651c93cf3c');\n",
              "          const dataTable =\n",
              "            await google.colab.kernel.invokeFunction('convertToInteractive',\n",
              "                                                     [key], {});\n",
              "          if (!dataTable) return;\n",
              "\n",
              "          const docLinkHtml = 'Like what you see? Visit the ' +\n",
              "            '<a target=\"_blank\" href=https://colab.research.google.com/notebooks/data_table.ipynb>data table notebook</a>'\n",
              "            + ' to learn more about interactive tables.';\n",
              "          element.innerHTML = '';\n",
              "          dataTable['output_type'] = 'display_data';\n",
              "          await google.colab.output.renderOutput(dataTable, element);\n",
              "          const docLink = document.createElement('div');\n",
              "          docLink.innerHTML = docLinkHtml;\n",
              "          element.appendChild(docLink);\n",
              "        }\n",
              "      </script>\n",
              "    </div>\n",
              "  </div>\n",
              "  "
            ]
          },
          "metadata": {},
          "execution_count": 31
        }
      ],
      "source": [
        "# log Transformation\n",
        "data_log = pd.DataFrame()\n",
        "\n",
        "for i in range(data_norm.shape[1]):\n",
        "    fitted_data= np.log(data_norm.iloc[:,i])\n",
        "    data_log[num_cols[i]] = fitted_data\n",
        "    \n",
        "    \n",
        "data_log.head()"
      ]
    },
    {
      "cell_type": "code",
      "execution_count": 32,
      "id": "1dde879d",
      "metadata": {
        "colab": {
          "base_uri": "https://localhost:8080/",
          "height": 332
        },
        "id": "1dde879d",
        "outputId": "d147699d-6b51-4124-c80d-e65ce742fa7d"
      },
      "outputs": [
        {
          "output_type": "execute_result",
          "data": {
            "text/plain": [
              "           skew    kurtosis\n",
              "FFMC -14.176835  254.344151\n",
              "DMC   -0.711414    0.051765\n",
              "DC    -1.548942    0.878206\n",
              "ISI   -0.044039    1.389946\n",
              "temp  -1.545628    3.107480\n",
              "RH    -0.158087   -0.226930\n",
              "wind  -0.451080    0.029142\n",
              "rain  13.990804  224.060974\n",
              "area   6.202853   51.672670"
            ],
            "text/html": [
              "\n",
              "  <div id=\"df-12db943c-9db7-48fb-b687-d60795859d34\">\n",
              "    <div class=\"colab-df-container\">\n",
              "      <div>\n",
              "<style scoped>\n",
              "    .dataframe tbody tr th:only-of-type {\n",
              "        vertical-align: middle;\n",
              "    }\n",
              "\n",
              "    .dataframe tbody tr th {\n",
              "        vertical-align: top;\n",
              "    }\n",
              "\n",
              "    .dataframe thead th {\n",
              "        text-align: right;\n",
              "    }\n",
              "</style>\n",
              "<table border=\"1\" class=\"dataframe\">\n",
              "  <thead>\n",
              "    <tr style=\"text-align: right;\">\n",
              "      <th></th>\n",
              "      <th>skew</th>\n",
              "      <th>kurtosis</th>\n",
              "    </tr>\n",
              "  </thead>\n",
              "  <tbody>\n",
              "    <tr>\n",
              "      <th>FFMC</th>\n",
              "      <td>-14.176835</td>\n",
              "      <td>254.344151</td>\n",
              "    </tr>\n",
              "    <tr>\n",
              "      <th>DMC</th>\n",
              "      <td>-0.711414</td>\n",
              "      <td>0.051765</td>\n",
              "    </tr>\n",
              "    <tr>\n",
              "      <th>DC</th>\n",
              "      <td>-1.548942</td>\n",
              "      <td>0.878206</td>\n",
              "    </tr>\n",
              "    <tr>\n",
              "      <th>ISI</th>\n",
              "      <td>-0.044039</td>\n",
              "      <td>1.389946</td>\n",
              "    </tr>\n",
              "    <tr>\n",
              "      <th>temp</th>\n",
              "      <td>-1.545628</td>\n",
              "      <td>3.107480</td>\n",
              "    </tr>\n",
              "    <tr>\n",
              "      <th>RH</th>\n",
              "      <td>-0.158087</td>\n",
              "      <td>-0.226930</td>\n",
              "    </tr>\n",
              "    <tr>\n",
              "      <th>wind</th>\n",
              "      <td>-0.451080</td>\n",
              "      <td>0.029142</td>\n",
              "    </tr>\n",
              "    <tr>\n",
              "      <th>rain</th>\n",
              "      <td>13.990804</td>\n",
              "      <td>224.060974</td>\n",
              "    </tr>\n",
              "    <tr>\n",
              "      <th>area</th>\n",
              "      <td>6.202853</td>\n",
              "      <td>51.672670</td>\n",
              "    </tr>\n",
              "  </tbody>\n",
              "</table>\n",
              "</div>\n",
              "      <button class=\"colab-df-convert\" onclick=\"convertToInteractive('df-12db943c-9db7-48fb-b687-d60795859d34')\"\n",
              "              title=\"Convert this dataframe to an interactive table.\"\n",
              "              style=\"display:none;\">\n",
              "        \n",
              "  <svg xmlns=\"http://www.w3.org/2000/svg\" height=\"24px\"viewBox=\"0 0 24 24\"\n",
              "       width=\"24px\">\n",
              "    <path d=\"M0 0h24v24H0V0z\" fill=\"none\"/>\n",
              "    <path d=\"M18.56 5.44l.94 2.06.94-2.06 2.06-.94-2.06-.94-.94-2.06-.94 2.06-2.06.94zm-11 1L8.5 8.5l.94-2.06 2.06-.94-2.06-.94L8.5 2.5l-.94 2.06-2.06.94zm10 10l.94 2.06.94-2.06 2.06-.94-2.06-.94-.94-2.06-.94 2.06-2.06.94z\"/><path d=\"M17.41 7.96l-1.37-1.37c-.4-.4-.92-.59-1.43-.59-.52 0-1.04.2-1.43.59L10.3 9.45l-7.72 7.72c-.78.78-.78 2.05 0 2.83L4 21.41c.39.39.9.59 1.41.59.51 0 1.02-.2 1.41-.59l7.78-7.78 2.81-2.81c.8-.78.8-2.07 0-2.86zM5.41 20L4 18.59l7.72-7.72 1.47 1.35L5.41 20z\"/>\n",
              "  </svg>\n",
              "      </button>\n",
              "      \n",
              "  <style>\n",
              "    .colab-df-container {\n",
              "      display:flex;\n",
              "      flex-wrap:wrap;\n",
              "      gap: 12px;\n",
              "    }\n",
              "\n",
              "    .colab-df-convert {\n",
              "      background-color: #E8F0FE;\n",
              "      border: none;\n",
              "      border-radius: 50%;\n",
              "      cursor: pointer;\n",
              "      display: none;\n",
              "      fill: #1967D2;\n",
              "      height: 32px;\n",
              "      padding: 0 0 0 0;\n",
              "      width: 32px;\n",
              "    }\n",
              "\n",
              "    .colab-df-convert:hover {\n",
              "      background-color: #E2EBFA;\n",
              "      box-shadow: 0px 1px 2px rgba(60, 64, 67, 0.3), 0px 1px 3px 1px rgba(60, 64, 67, 0.15);\n",
              "      fill: #174EA6;\n",
              "    }\n",
              "\n",
              "    [theme=dark] .colab-df-convert {\n",
              "      background-color: #3B4455;\n",
              "      fill: #D2E3FC;\n",
              "    }\n",
              "\n",
              "    [theme=dark] .colab-df-convert:hover {\n",
              "      background-color: #434B5C;\n",
              "      box-shadow: 0px 1px 3px 1px rgba(0, 0, 0, 0.15);\n",
              "      filter: drop-shadow(0px 1px 2px rgba(0, 0, 0, 0.3));\n",
              "      fill: #FFFFFF;\n",
              "    }\n",
              "  </style>\n",
              "\n",
              "      <script>\n",
              "        const buttonEl =\n",
              "          document.querySelector('#df-12db943c-9db7-48fb-b687-d60795859d34 button.colab-df-convert');\n",
              "        buttonEl.style.display =\n",
              "          google.colab.kernel.accessAllowed ? 'block' : 'none';\n",
              "\n",
              "        async function convertToInteractive(key) {\n",
              "          const element = document.querySelector('#df-12db943c-9db7-48fb-b687-d60795859d34');\n",
              "          const dataTable =\n",
              "            await google.colab.kernel.invokeFunction('convertToInteractive',\n",
              "                                                     [key], {});\n",
              "          if (!dataTable) return;\n",
              "\n",
              "          const docLinkHtml = 'Like what you see? Visit the ' +\n",
              "            '<a target=\"_blank\" href=https://colab.research.google.com/notebooks/data_table.ipynb>data table notebook</a>'\n",
              "            + ' to learn more about interactive tables.';\n",
              "          element.innerHTML = '';\n",
              "          dataTable['output_type'] = 'display_data';\n",
              "          await google.colab.output.renderOutput(dataTable, element);\n",
              "          const docLink = document.createElement('div');\n",
              "          docLink.innerHTML = docLinkHtml;\n",
              "          element.appendChild(docLink);\n",
              "        }\n",
              "      </script>\n",
              "    </div>\n",
              "  </div>\n",
              "  "
            ]
          },
          "metadata": {},
          "execution_count": 32
        }
      ],
      "source": [
        "data_log_summary = data_log.agg(['skew', 'kurtosis']).transpose()\n",
        "data_log_summary"
      ]
    },
    {
      "cell_type": "code",
      "execution_count": 33,
      "id": "8ce5190b",
      "metadata": {
        "colab": {
          "base_uri": "https://localhost:8080/",
          "height": 206
        },
        "id": "8ce5190b",
        "outputId": "5b799b6a-5843-4cd5-c50a-0aa444912b5f"
      },
      "outputs": [
        {
          "output_type": "execute_result",
          "data": {
            "text/plain": [
              "       FFMC       DMC        DC       ISI      temp        RH      wind  \\\n",
              "0 -0.025198 -1.108416 -0.505104 -1.612183 -0.618468 -0.619558 -0.213630   \n",
              "1  0.031885 -1.041676 -0.117694 -1.479946 -0.367844 -1.078007 -1.319427   \n",
              "2  0.031885 -0.985249 -0.098938 -1.479946 -0.460348 -1.078007 -1.192385   \n",
              "3  0.051824 -1.056489 -0.509682 -1.316436 -0.616190  0.062966 -0.606677   \n",
              "4  0.011583 -0.936199 -0.502809 -1.277886 -0.542331  0.085044 -1.055764   \n",
              "\n",
              "       rain      area  \n",
              "0 -2.302585 -2.302585  \n",
              "1 -2.302585 -2.302585  \n",
              "2 -2.302585 -2.302585  \n",
              "3 -2.030651 -2.302585  \n",
              "4 -2.302585 -2.302585  "
            ],
            "text/html": [
              "\n",
              "  <div id=\"df-f4964a8b-ec9f-4942-9a88-acc5ac387108\">\n",
              "    <div class=\"colab-df-container\">\n",
              "      <div>\n",
              "<style scoped>\n",
              "    .dataframe tbody tr th:only-of-type {\n",
              "        vertical-align: middle;\n",
              "    }\n",
              "\n",
              "    .dataframe tbody tr th {\n",
              "        vertical-align: top;\n",
              "    }\n",
              "\n",
              "    .dataframe thead th {\n",
              "        text-align: right;\n",
              "    }\n",
              "</style>\n",
              "<table border=\"1\" class=\"dataframe\">\n",
              "  <thead>\n",
              "    <tr style=\"text-align: right;\">\n",
              "      <th></th>\n",
              "      <th>FFMC</th>\n",
              "      <th>DMC</th>\n",
              "      <th>DC</th>\n",
              "      <th>ISI</th>\n",
              "      <th>temp</th>\n",
              "      <th>RH</th>\n",
              "      <th>wind</th>\n",
              "      <th>rain</th>\n",
              "      <th>area</th>\n",
              "    </tr>\n",
              "  </thead>\n",
              "  <tbody>\n",
              "    <tr>\n",
              "      <th>0</th>\n",
              "      <td>-0.025198</td>\n",
              "      <td>-1.108416</td>\n",
              "      <td>-0.505104</td>\n",
              "      <td>-1.612183</td>\n",
              "      <td>-0.618468</td>\n",
              "      <td>-0.619558</td>\n",
              "      <td>-0.213630</td>\n",
              "      <td>-2.302585</td>\n",
              "      <td>-2.302585</td>\n",
              "    </tr>\n",
              "    <tr>\n",
              "      <th>1</th>\n",
              "      <td>0.031885</td>\n",
              "      <td>-1.041676</td>\n",
              "      <td>-0.117694</td>\n",
              "      <td>-1.479946</td>\n",
              "      <td>-0.367844</td>\n",
              "      <td>-1.078007</td>\n",
              "      <td>-1.319427</td>\n",
              "      <td>-2.302585</td>\n",
              "      <td>-2.302585</td>\n",
              "    </tr>\n",
              "    <tr>\n",
              "      <th>2</th>\n",
              "      <td>0.031885</td>\n",
              "      <td>-0.985249</td>\n",
              "      <td>-0.098938</td>\n",
              "      <td>-1.479946</td>\n",
              "      <td>-0.460348</td>\n",
              "      <td>-1.078007</td>\n",
              "      <td>-1.192385</td>\n",
              "      <td>-2.302585</td>\n",
              "      <td>-2.302585</td>\n",
              "    </tr>\n",
              "    <tr>\n",
              "      <th>3</th>\n",
              "      <td>0.051824</td>\n",
              "      <td>-1.056489</td>\n",
              "      <td>-0.509682</td>\n",
              "      <td>-1.316436</td>\n",
              "      <td>-0.616190</td>\n",
              "      <td>0.062966</td>\n",
              "      <td>-0.606677</td>\n",
              "      <td>-2.030651</td>\n",
              "      <td>-2.302585</td>\n",
              "    </tr>\n",
              "    <tr>\n",
              "      <th>4</th>\n",
              "      <td>0.011583</td>\n",
              "      <td>-0.936199</td>\n",
              "      <td>-0.502809</td>\n",
              "      <td>-1.277886</td>\n",
              "      <td>-0.542331</td>\n",
              "      <td>0.085044</td>\n",
              "      <td>-1.055764</td>\n",
              "      <td>-2.302585</td>\n",
              "      <td>-2.302585</td>\n",
              "    </tr>\n",
              "  </tbody>\n",
              "</table>\n",
              "</div>\n",
              "      <button class=\"colab-df-convert\" onclick=\"convertToInteractive('df-f4964a8b-ec9f-4942-9a88-acc5ac387108')\"\n",
              "              title=\"Convert this dataframe to an interactive table.\"\n",
              "              style=\"display:none;\">\n",
              "        \n",
              "  <svg xmlns=\"http://www.w3.org/2000/svg\" height=\"24px\"viewBox=\"0 0 24 24\"\n",
              "       width=\"24px\">\n",
              "    <path d=\"M0 0h24v24H0V0z\" fill=\"none\"/>\n",
              "    <path d=\"M18.56 5.44l.94 2.06.94-2.06 2.06-.94-2.06-.94-.94-2.06-.94 2.06-2.06.94zm-11 1L8.5 8.5l.94-2.06 2.06-.94-2.06-.94L8.5 2.5l-.94 2.06-2.06.94zm10 10l.94 2.06.94-2.06 2.06-.94-2.06-.94-.94-2.06-.94 2.06-2.06.94z\"/><path d=\"M17.41 7.96l-1.37-1.37c-.4-.4-.92-.59-1.43-.59-.52 0-1.04.2-1.43.59L10.3 9.45l-7.72 7.72c-.78.78-.78 2.05 0 2.83L4 21.41c.39.39.9.59 1.41.59.51 0 1.02-.2 1.41-.59l7.78-7.78 2.81-2.81c.8-.78.8-2.07 0-2.86zM5.41 20L4 18.59l7.72-7.72 1.47 1.35L5.41 20z\"/>\n",
              "  </svg>\n",
              "      </button>\n",
              "      \n",
              "  <style>\n",
              "    .colab-df-container {\n",
              "      display:flex;\n",
              "      flex-wrap:wrap;\n",
              "      gap: 12px;\n",
              "    }\n",
              "\n",
              "    .colab-df-convert {\n",
              "      background-color: #E8F0FE;\n",
              "      border: none;\n",
              "      border-radius: 50%;\n",
              "      cursor: pointer;\n",
              "      display: none;\n",
              "      fill: #1967D2;\n",
              "      height: 32px;\n",
              "      padding: 0 0 0 0;\n",
              "      width: 32px;\n",
              "    }\n",
              "\n",
              "    .colab-df-convert:hover {\n",
              "      background-color: #E2EBFA;\n",
              "      box-shadow: 0px 1px 2px rgba(60, 64, 67, 0.3), 0px 1px 3px 1px rgba(60, 64, 67, 0.15);\n",
              "      fill: #174EA6;\n",
              "    }\n",
              "\n",
              "    [theme=dark] .colab-df-convert {\n",
              "      background-color: #3B4455;\n",
              "      fill: #D2E3FC;\n",
              "    }\n",
              "\n",
              "    [theme=dark] .colab-df-convert:hover {\n",
              "      background-color: #434B5C;\n",
              "      box-shadow: 0px 1px 3px 1px rgba(0, 0, 0, 0.15);\n",
              "      filter: drop-shadow(0px 1px 2px rgba(0, 0, 0, 0.3));\n",
              "      fill: #FFFFFF;\n",
              "    }\n",
              "  </style>\n",
              "\n",
              "      <script>\n",
              "        const buttonEl =\n",
              "          document.querySelector('#df-f4964a8b-ec9f-4942-9a88-acc5ac387108 button.colab-df-convert');\n",
              "        buttonEl.style.display =\n",
              "          google.colab.kernel.accessAllowed ? 'block' : 'none';\n",
              "\n",
              "        async function convertToInteractive(key) {\n",
              "          const element = document.querySelector('#df-f4964a8b-ec9f-4942-9a88-acc5ac387108');\n",
              "          const dataTable =\n",
              "            await google.colab.kernel.invokeFunction('convertToInteractive',\n",
              "                                                     [key], {});\n",
              "          if (!dataTable) return;\n",
              "\n",
              "          const docLinkHtml = 'Like what you see? Visit the ' +\n",
              "            '<a target=\"_blank\" href=https://colab.research.google.com/notebooks/data_table.ipynb>data table notebook</a>'\n",
              "            + ' to learn more about interactive tables.';\n",
              "          element.innerHTML = '';\n",
              "          dataTable['output_type'] = 'display_data';\n",
              "          await google.colab.output.renderOutput(dataTable, element);\n",
              "          const docLink = document.createElement('div');\n",
              "          docLink.innerHTML = docLinkHtml;\n",
              "          element.appendChild(docLink);\n",
              "        }\n",
              "      </script>\n",
              "    </div>\n",
              "  </div>\n",
              "  "
            ]
          },
          "metadata": {},
          "execution_count": 33
        }
      ],
      "source": [
        "# Mixed transformation [0:7] we take from boxcox and remaining two we take from logerithmic\n",
        "\n",
        "trf_data = data_boxcox.iloc[:,:7]\n",
        "trf_data['rain'] = data_log['rain']\n",
        "trf_data['area'] = data_log['area']\n",
        "trf_data.head()"
      ]
    },
    {
      "cell_type": "code",
      "execution_count": 34,
      "id": "9f950963",
      "metadata": {
        "colab": {
          "base_uri": "https://localhost:8080/",
          "height": 206
        },
        "id": "9f950963",
        "outputId": "a167a903-53b9-4341-d8f0-ed9673a859e9"
      },
      "outputs": [
        {
          "output_type": "execute_result",
          "data": {
            "text/plain": [
              "       FFMC       DMC        DC       ISI      temp        RH      wind  \\\n",
              "0  0.970968  0.186492  0.201325  0.190909  0.292926  0.523529  0.800000   \n",
              "1  1.027742  0.218194  0.875419  0.219430  0.608039  0.311765  0.155556   \n",
              "2  1.027742  0.246795  0.896294  0.219430  0.498714  0.311765  0.200000   \n",
              "3  1.041935  0.210958  0.181623  0.260428  0.296141  1.064706  0.500000   \n",
              "4  1.010968  0.272984  0.210590  0.271123  0.395820  1.088235  0.255556   \n",
              "\n",
              "      rain  area month  day  size_category  \n",
              "0  0.10000   0.1   mar  fri            0.0  \n",
              "1  0.10000   0.1   oct  tue            0.0  \n",
              "2  0.10000   0.1   oct  sat            0.0  \n",
              "3  0.13125   0.1   mar  fri            0.0  \n",
              "4  0.10000   0.1   mar  sun            0.0  "
            ],
            "text/html": [
              "\n",
              "  <div id=\"df-aac10a05-7b08-426a-a45e-13370f32ef01\">\n",
              "    <div class=\"colab-df-container\">\n",
              "      <div>\n",
              "<style scoped>\n",
              "    .dataframe tbody tr th:only-of-type {\n",
              "        vertical-align: middle;\n",
              "    }\n",
              "\n",
              "    .dataframe tbody tr th {\n",
              "        vertical-align: top;\n",
              "    }\n",
              "\n",
              "    .dataframe thead th {\n",
              "        text-align: right;\n",
              "    }\n",
              "</style>\n",
              "<table border=\"1\" class=\"dataframe\">\n",
              "  <thead>\n",
              "    <tr style=\"text-align: right;\">\n",
              "      <th></th>\n",
              "      <th>FFMC</th>\n",
              "      <th>DMC</th>\n",
              "      <th>DC</th>\n",
              "      <th>ISI</th>\n",
              "      <th>temp</th>\n",
              "      <th>RH</th>\n",
              "      <th>wind</th>\n",
              "      <th>rain</th>\n",
              "      <th>area</th>\n",
              "      <th>month</th>\n",
              "      <th>day</th>\n",
              "      <th>size_category</th>\n",
              "    </tr>\n",
              "  </thead>\n",
              "  <tbody>\n",
              "    <tr>\n",
              "      <th>0</th>\n",
              "      <td>0.970968</td>\n",
              "      <td>0.186492</td>\n",
              "      <td>0.201325</td>\n",
              "      <td>0.190909</td>\n",
              "      <td>0.292926</td>\n",
              "      <td>0.523529</td>\n",
              "      <td>0.800000</td>\n",
              "      <td>0.10000</td>\n",
              "      <td>0.1</td>\n",
              "      <td>mar</td>\n",
              "      <td>fri</td>\n",
              "      <td>0.0</td>\n",
              "    </tr>\n",
              "    <tr>\n",
              "      <th>1</th>\n",
              "      <td>1.027742</td>\n",
              "      <td>0.218194</td>\n",
              "      <td>0.875419</td>\n",
              "      <td>0.219430</td>\n",
              "      <td>0.608039</td>\n",
              "      <td>0.311765</td>\n",
              "      <td>0.155556</td>\n",
              "      <td>0.10000</td>\n",
              "      <td>0.1</td>\n",
              "      <td>oct</td>\n",
              "      <td>tue</td>\n",
              "      <td>0.0</td>\n",
              "    </tr>\n",
              "    <tr>\n",
              "      <th>2</th>\n",
              "      <td>1.027742</td>\n",
              "      <td>0.246795</td>\n",
              "      <td>0.896294</td>\n",
              "      <td>0.219430</td>\n",
              "      <td>0.498714</td>\n",
              "      <td>0.311765</td>\n",
              "      <td>0.200000</td>\n",
              "      <td>0.10000</td>\n",
              "      <td>0.1</td>\n",
              "      <td>oct</td>\n",
              "      <td>sat</td>\n",
              "      <td>0.0</td>\n",
              "    </tr>\n",
              "    <tr>\n",
              "      <th>3</th>\n",
              "      <td>1.041935</td>\n",
              "      <td>0.210958</td>\n",
              "      <td>0.181623</td>\n",
              "      <td>0.260428</td>\n",
              "      <td>0.296141</td>\n",
              "      <td>1.064706</td>\n",
              "      <td>0.500000</td>\n",
              "      <td>0.13125</td>\n",
              "      <td>0.1</td>\n",
              "      <td>mar</td>\n",
              "      <td>fri</td>\n",
              "      <td>0.0</td>\n",
              "    </tr>\n",
              "    <tr>\n",
              "      <th>4</th>\n",
              "      <td>1.010968</td>\n",
              "      <td>0.272984</td>\n",
              "      <td>0.210590</td>\n",
              "      <td>0.271123</td>\n",
              "      <td>0.395820</td>\n",
              "      <td>1.088235</td>\n",
              "      <td>0.255556</td>\n",
              "      <td>0.10000</td>\n",
              "      <td>0.1</td>\n",
              "      <td>mar</td>\n",
              "      <td>sun</td>\n",
              "      <td>0.0</td>\n",
              "    </tr>\n",
              "  </tbody>\n",
              "</table>\n",
              "</div>\n",
              "      <button class=\"colab-df-convert\" onclick=\"convertToInteractive('df-aac10a05-7b08-426a-a45e-13370f32ef01')\"\n",
              "              title=\"Convert this dataframe to an interactive table.\"\n",
              "              style=\"display:none;\">\n",
              "        \n",
              "  <svg xmlns=\"http://www.w3.org/2000/svg\" height=\"24px\"viewBox=\"0 0 24 24\"\n",
              "       width=\"24px\">\n",
              "    <path d=\"M0 0h24v24H0V0z\" fill=\"none\"/>\n",
              "    <path d=\"M18.56 5.44l.94 2.06.94-2.06 2.06-.94-2.06-.94-.94-2.06-.94 2.06-2.06.94zm-11 1L8.5 8.5l.94-2.06 2.06-.94-2.06-.94L8.5 2.5l-.94 2.06-2.06.94zm10 10l.94 2.06.94-2.06 2.06-.94-2.06-.94-.94-2.06-.94 2.06-2.06.94z\"/><path d=\"M17.41 7.96l-1.37-1.37c-.4-.4-.92-.59-1.43-.59-.52 0-1.04.2-1.43.59L10.3 9.45l-7.72 7.72c-.78.78-.78 2.05 0 2.83L4 21.41c.39.39.9.59 1.41.59.51 0 1.02-.2 1.41-.59l7.78-7.78 2.81-2.81c.8-.78.8-2.07 0-2.86zM5.41 20L4 18.59l7.72-7.72 1.47 1.35L5.41 20z\"/>\n",
              "  </svg>\n",
              "      </button>\n",
              "      \n",
              "  <style>\n",
              "    .colab-df-container {\n",
              "      display:flex;\n",
              "      flex-wrap:wrap;\n",
              "      gap: 12px;\n",
              "    }\n",
              "\n",
              "    .colab-df-convert {\n",
              "      background-color: #E8F0FE;\n",
              "      border: none;\n",
              "      border-radius: 50%;\n",
              "      cursor: pointer;\n",
              "      display: none;\n",
              "      fill: #1967D2;\n",
              "      height: 32px;\n",
              "      padding: 0 0 0 0;\n",
              "      width: 32px;\n",
              "    }\n",
              "\n",
              "    .colab-df-convert:hover {\n",
              "      background-color: #E2EBFA;\n",
              "      box-shadow: 0px 1px 2px rgba(60, 64, 67, 0.3), 0px 1px 3px 1px rgba(60, 64, 67, 0.15);\n",
              "      fill: #174EA6;\n",
              "    }\n",
              "\n",
              "    [theme=dark] .colab-df-convert {\n",
              "      background-color: #3B4455;\n",
              "      fill: #D2E3FC;\n",
              "    }\n",
              "\n",
              "    [theme=dark] .colab-df-convert:hover {\n",
              "      background-color: #434B5C;\n",
              "      box-shadow: 0px 1px 3px 1px rgba(0, 0, 0, 0.15);\n",
              "      filter: drop-shadow(0px 1px 2px rgba(0, 0, 0, 0.3));\n",
              "      fill: #FFFFFF;\n",
              "    }\n",
              "  </style>\n",
              "\n",
              "      <script>\n",
              "        const buttonEl =\n",
              "          document.querySelector('#df-aac10a05-7b08-426a-a45e-13370f32ef01 button.colab-df-convert');\n",
              "        buttonEl.style.display =\n",
              "          google.colab.kernel.accessAllowed ? 'block' : 'none';\n",
              "\n",
              "        async function convertToInteractive(key) {\n",
              "          const element = document.querySelector('#df-aac10a05-7b08-426a-a45e-13370f32ef01');\n",
              "          const dataTable =\n",
              "            await google.colab.kernel.invokeFunction('convertToInteractive',\n",
              "                                                     [key], {});\n",
              "          if (!dataTable) return;\n",
              "\n",
              "          const docLinkHtml = 'Like what you see? Visit the ' +\n",
              "            '<a target=\"_blank\" href=https://colab.research.google.com/notebooks/data_table.ipynb>data table notebook</a>'\n",
              "            + ' to learn more about interactive tables.';\n",
              "          element.innerHTML = '';\n",
              "          dataTable['output_type'] = 'display_data';\n",
              "          await google.colab.output.renderOutput(dataTable, element);\n",
              "          const docLink = document.createElement('div');\n",
              "          docLink.innerHTML = docLinkHtml;\n",
              "          element.appendChild(docLink);\n",
              "        }\n",
              "      </script>\n",
              "    </div>\n",
              "  </div>\n",
              "  "
            ]
          },
          "metadata": {},
          "execution_count": 34
        }
      ],
      "source": [
        "final_data = trf_data.copy()\n",
        "final_data1 = data_norm.copy()\n",
        "final_data[cat_cols] = data1[cat_cols]\n",
        "final_data1[cat_cols] = data1[cat_cols]\n",
        "final_data['size_category'] = final_data['size_category'].map({'small':0 , 'large':1})\n",
        "final_data1['size_category'] = final_data1['size_category'].map({'small':0 , 'large':1})\n",
        "final_data1.head()"
      ]
    },
    {
      "cell_type": "code",
      "execution_count": 35,
      "id": "aa05b31c",
      "metadata": {
        "colab": {
          "base_uri": "https://localhost:8080/",
          "height": 300
        },
        "id": "aa05b31c",
        "outputId": "e9470a04-c38a-4fe2-ee1c-2b0a3e19cd92"
      },
      "outputs": [
        {
          "output_type": "execute_result",
          "data": {
            "text/plain": [
              "       FFMC       DMC        DC       ISI      temp        RH      wind  \\\n",
              "0 -0.025198 -1.108416 -0.505104 -1.612183 -0.618468 -0.619558 -0.213630   \n",
              "1  0.031885 -1.041676 -0.117694 -1.479946 -0.367844 -1.078007 -1.319427   \n",
              "2  0.031885 -0.985249 -0.098938 -1.479946 -0.460348 -1.078007 -1.192385   \n",
              "3  0.051824 -1.056489 -0.509682 -1.316436 -0.616190  0.062966 -0.606677   \n",
              "4  0.011583 -0.936199 -0.502809 -1.277886 -0.542331  0.085044 -1.055764   \n",
              "\n",
              "       rain      area  dayfri  ...  monthfeb  monthjan  monthjul  monthjun  \\\n",
              "0 -2.302585 -2.302585       1  ...         0         0         0         0   \n",
              "1 -2.302585 -2.302585       0  ...         0         0         0         0   \n",
              "2 -2.302585 -2.302585       0  ...         0         0         0         0   \n",
              "3 -2.030651 -2.302585       1  ...         0         0         0         0   \n",
              "4 -2.302585 -2.302585       0  ...         0         0         0         0   \n",
              "\n",
              "   monthmar  monthmay  monthnov  monthoct  monthsep  size_category  \n",
              "0         1         0         0         0         0              0  \n",
              "1         0         0         0         1         0              0  \n",
              "2         0         0         0         1         0              0  \n",
              "3         1         0         0         0         0              0  \n",
              "4         1         0         0         0         0              0  \n",
              "\n",
              "[5 rows x 29 columns]"
            ],
            "text/html": [
              "\n",
              "  <div id=\"df-5d1d70f3-420d-43ec-82b1-166707d4059c\">\n",
              "    <div class=\"colab-df-container\">\n",
              "      <div>\n",
              "<style scoped>\n",
              "    .dataframe tbody tr th:only-of-type {\n",
              "        vertical-align: middle;\n",
              "    }\n",
              "\n",
              "    .dataframe tbody tr th {\n",
              "        vertical-align: top;\n",
              "    }\n",
              "\n",
              "    .dataframe thead th {\n",
              "        text-align: right;\n",
              "    }\n",
              "</style>\n",
              "<table border=\"1\" class=\"dataframe\">\n",
              "  <thead>\n",
              "    <tr style=\"text-align: right;\">\n",
              "      <th></th>\n",
              "      <th>FFMC</th>\n",
              "      <th>DMC</th>\n",
              "      <th>DC</th>\n",
              "      <th>ISI</th>\n",
              "      <th>temp</th>\n",
              "      <th>RH</th>\n",
              "      <th>wind</th>\n",
              "      <th>rain</th>\n",
              "      <th>area</th>\n",
              "      <th>dayfri</th>\n",
              "      <th>...</th>\n",
              "      <th>monthfeb</th>\n",
              "      <th>monthjan</th>\n",
              "      <th>monthjul</th>\n",
              "      <th>monthjun</th>\n",
              "      <th>monthmar</th>\n",
              "      <th>monthmay</th>\n",
              "      <th>monthnov</th>\n",
              "      <th>monthoct</th>\n",
              "      <th>monthsep</th>\n",
              "      <th>size_category</th>\n",
              "    </tr>\n",
              "  </thead>\n",
              "  <tbody>\n",
              "    <tr>\n",
              "      <th>0</th>\n",
              "      <td>-0.025198</td>\n",
              "      <td>-1.108416</td>\n",
              "      <td>-0.505104</td>\n",
              "      <td>-1.612183</td>\n",
              "      <td>-0.618468</td>\n",
              "      <td>-0.619558</td>\n",
              "      <td>-0.213630</td>\n",
              "      <td>-2.302585</td>\n",
              "      <td>-2.302585</td>\n",
              "      <td>1</td>\n",
              "      <td>...</td>\n",
              "      <td>0</td>\n",
              "      <td>0</td>\n",
              "      <td>0</td>\n",
              "      <td>0</td>\n",
              "      <td>1</td>\n",
              "      <td>0</td>\n",
              "      <td>0</td>\n",
              "      <td>0</td>\n",
              "      <td>0</td>\n",
              "      <td>0</td>\n",
              "    </tr>\n",
              "    <tr>\n",
              "      <th>1</th>\n",
              "      <td>0.031885</td>\n",
              "      <td>-1.041676</td>\n",
              "      <td>-0.117694</td>\n",
              "      <td>-1.479946</td>\n",
              "      <td>-0.367844</td>\n",
              "      <td>-1.078007</td>\n",
              "      <td>-1.319427</td>\n",
              "      <td>-2.302585</td>\n",
              "      <td>-2.302585</td>\n",
              "      <td>0</td>\n",
              "      <td>...</td>\n",
              "      <td>0</td>\n",
              "      <td>0</td>\n",
              "      <td>0</td>\n",
              "      <td>0</td>\n",
              "      <td>0</td>\n",
              "      <td>0</td>\n",
              "      <td>0</td>\n",
              "      <td>1</td>\n",
              "      <td>0</td>\n",
              "      <td>0</td>\n",
              "    </tr>\n",
              "    <tr>\n",
              "      <th>2</th>\n",
              "      <td>0.031885</td>\n",
              "      <td>-0.985249</td>\n",
              "      <td>-0.098938</td>\n",
              "      <td>-1.479946</td>\n",
              "      <td>-0.460348</td>\n",
              "      <td>-1.078007</td>\n",
              "      <td>-1.192385</td>\n",
              "      <td>-2.302585</td>\n",
              "      <td>-2.302585</td>\n",
              "      <td>0</td>\n",
              "      <td>...</td>\n",
              "      <td>0</td>\n",
              "      <td>0</td>\n",
              "      <td>0</td>\n",
              "      <td>0</td>\n",
              "      <td>0</td>\n",
              "      <td>0</td>\n",
              "      <td>0</td>\n",
              "      <td>1</td>\n",
              "      <td>0</td>\n",
              "      <td>0</td>\n",
              "    </tr>\n",
              "    <tr>\n",
              "      <th>3</th>\n",
              "      <td>0.051824</td>\n",
              "      <td>-1.056489</td>\n",
              "      <td>-0.509682</td>\n",
              "      <td>-1.316436</td>\n",
              "      <td>-0.616190</td>\n",
              "      <td>0.062966</td>\n",
              "      <td>-0.606677</td>\n",
              "      <td>-2.030651</td>\n",
              "      <td>-2.302585</td>\n",
              "      <td>1</td>\n",
              "      <td>...</td>\n",
              "      <td>0</td>\n",
              "      <td>0</td>\n",
              "      <td>0</td>\n",
              "      <td>0</td>\n",
              "      <td>1</td>\n",
              "      <td>0</td>\n",
              "      <td>0</td>\n",
              "      <td>0</td>\n",
              "      <td>0</td>\n",
              "      <td>0</td>\n",
              "    </tr>\n",
              "    <tr>\n",
              "      <th>4</th>\n",
              "      <td>0.011583</td>\n",
              "      <td>-0.936199</td>\n",
              "      <td>-0.502809</td>\n",
              "      <td>-1.277886</td>\n",
              "      <td>-0.542331</td>\n",
              "      <td>0.085044</td>\n",
              "      <td>-1.055764</td>\n",
              "      <td>-2.302585</td>\n",
              "      <td>-2.302585</td>\n",
              "      <td>0</td>\n",
              "      <td>...</td>\n",
              "      <td>0</td>\n",
              "      <td>0</td>\n",
              "      <td>0</td>\n",
              "      <td>0</td>\n",
              "      <td>1</td>\n",
              "      <td>0</td>\n",
              "      <td>0</td>\n",
              "      <td>0</td>\n",
              "      <td>0</td>\n",
              "      <td>0</td>\n",
              "    </tr>\n",
              "  </tbody>\n",
              "</table>\n",
              "<p>5 rows × 29 columns</p>\n",
              "</div>\n",
              "      <button class=\"colab-df-convert\" onclick=\"convertToInteractive('df-5d1d70f3-420d-43ec-82b1-166707d4059c')\"\n",
              "              title=\"Convert this dataframe to an interactive table.\"\n",
              "              style=\"display:none;\">\n",
              "        \n",
              "  <svg xmlns=\"http://www.w3.org/2000/svg\" height=\"24px\"viewBox=\"0 0 24 24\"\n",
              "       width=\"24px\">\n",
              "    <path d=\"M0 0h24v24H0V0z\" fill=\"none\"/>\n",
              "    <path d=\"M18.56 5.44l.94 2.06.94-2.06 2.06-.94-2.06-.94-.94-2.06-.94 2.06-2.06.94zm-11 1L8.5 8.5l.94-2.06 2.06-.94-2.06-.94L8.5 2.5l-.94 2.06-2.06.94zm10 10l.94 2.06.94-2.06 2.06-.94-2.06-.94-.94-2.06-.94 2.06-2.06.94z\"/><path d=\"M17.41 7.96l-1.37-1.37c-.4-.4-.92-.59-1.43-.59-.52 0-1.04.2-1.43.59L10.3 9.45l-7.72 7.72c-.78.78-.78 2.05 0 2.83L4 21.41c.39.39.9.59 1.41.59.51 0 1.02-.2 1.41-.59l7.78-7.78 2.81-2.81c.8-.78.8-2.07 0-2.86zM5.41 20L4 18.59l7.72-7.72 1.47 1.35L5.41 20z\"/>\n",
              "  </svg>\n",
              "      </button>\n",
              "      \n",
              "  <style>\n",
              "    .colab-df-container {\n",
              "      display:flex;\n",
              "      flex-wrap:wrap;\n",
              "      gap: 12px;\n",
              "    }\n",
              "\n",
              "    .colab-df-convert {\n",
              "      background-color: #E8F0FE;\n",
              "      border: none;\n",
              "      border-radius: 50%;\n",
              "      cursor: pointer;\n",
              "      display: none;\n",
              "      fill: #1967D2;\n",
              "      height: 32px;\n",
              "      padding: 0 0 0 0;\n",
              "      width: 32px;\n",
              "    }\n",
              "\n",
              "    .colab-df-convert:hover {\n",
              "      background-color: #E2EBFA;\n",
              "      box-shadow: 0px 1px 2px rgba(60, 64, 67, 0.3), 0px 1px 3px 1px rgba(60, 64, 67, 0.15);\n",
              "      fill: #174EA6;\n",
              "    }\n",
              "\n",
              "    [theme=dark] .colab-df-convert {\n",
              "      background-color: #3B4455;\n",
              "      fill: #D2E3FC;\n",
              "    }\n",
              "\n",
              "    [theme=dark] .colab-df-convert:hover {\n",
              "      background-color: #434B5C;\n",
              "      box-shadow: 0px 1px 3px 1px rgba(0, 0, 0, 0.15);\n",
              "      filter: drop-shadow(0px 1px 2px rgba(0, 0, 0, 0.3));\n",
              "      fill: #FFFFFF;\n",
              "    }\n",
              "  </style>\n",
              "\n",
              "      <script>\n",
              "        const buttonEl =\n",
              "          document.querySelector('#df-5d1d70f3-420d-43ec-82b1-166707d4059c button.colab-df-convert');\n",
              "        buttonEl.style.display =\n",
              "          google.colab.kernel.accessAllowed ? 'block' : 'none';\n",
              "\n",
              "        async function convertToInteractive(key) {\n",
              "          const element = document.querySelector('#df-5d1d70f3-420d-43ec-82b1-166707d4059c');\n",
              "          const dataTable =\n",
              "            await google.colab.kernel.invokeFunction('convertToInteractive',\n",
              "                                                     [key], {});\n",
              "          if (!dataTable) return;\n",
              "\n",
              "          const docLinkHtml = 'Like what you see? Visit the ' +\n",
              "            '<a target=\"_blank\" href=https://colab.research.google.com/notebooks/data_table.ipynb>data table notebook</a>'\n",
              "            + ' to learn more about interactive tables.';\n",
              "          element.innerHTML = '';\n",
              "          dataTable['output_type'] = 'display_data';\n",
              "          await google.colab.output.renderOutput(dataTable, element);\n",
              "          const docLink = document.createElement('div');\n",
              "          docLink.innerHTML = docLinkHtml;\n",
              "          element.appendChild(docLink);\n",
              "        }\n",
              "      </script>\n",
              "    </div>\n",
              "  </div>\n",
              "  "
            ]
          },
          "metadata": {},
          "execution_count": 35
        }
      ],
      "source": [
        "data_get_dummies[num_cols] = trf_data\n",
        "data_get_dummies['size_category'] = data_get_dummies['size_category'].map({'small':0 , 'large':1})\n",
        "data_get_dummies.head()"
      ]
    },
    {
      "cell_type": "markdown",
      "id": "bc9ad875",
      "metadata": {
        "id": "bc9ad875"
      },
      "source": [
        "### Encoded using Target Encoder"
      ]
    },
    {
      "cell_type": "code",
      "execution_count": 36,
      "id": "c4e6451f",
      "metadata": {
        "colab": {
          "base_uri": "https://localhost:8080/",
          "height": 206
        },
        "id": "c4e6451f",
        "outputId": "5464993d-044c-4c52-8c4a-413c8490d3b9"
      },
      "outputs": [
        {
          "output_type": "execute_result",
          "data": {
            "text/plain": [
              "       FFMC       DMC        DC       ISI      temp        RH      wind  \\\n",
              "0 -0.025198 -1.108416 -0.505104 -1.612183 -0.618468 -0.619558 -0.213630   \n",
              "1  0.031885 -1.041676 -0.117694 -1.479946 -0.367844 -1.078007 -1.319427   \n",
              "2  0.031885 -0.985249 -0.098938 -1.479946 -0.460348 -1.078007 -1.192385   \n",
              "3  0.051824 -1.056489 -0.509682 -1.316436 -0.616190  0.062966 -0.606677   \n",
              "4  0.011583 -0.936199 -0.502809 -1.277886 -0.542331  0.085044 -1.055764   \n",
              "\n",
              "       rain      area month  day  size_category  \n",
              "0 -2.302585 -2.302585   mar  fri            0.0  \n",
              "1 -2.302585 -2.302585   oct  tue            0.0  \n",
              "2 -2.302585 -2.302585   oct  sat            0.0  \n",
              "3 -2.030651 -2.302585   mar  fri            0.0  \n",
              "4 -2.302585 -2.302585   mar  sun            0.0  "
            ],
            "text/html": [
              "\n",
              "  <div id=\"df-095afa56-e5b0-4e09-8cdc-e056d90a1563\">\n",
              "    <div class=\"colab-df-container\">\n",
              "      <div>\n",
              "<style scoped>\n",
              "    .dataframe tbody tr th:only-of-type {\n",
              "        vertical-align: middle;\n",
              "    }\n",
              "\n",
              "    .dataframe tbody tr th {\n",
              "        vertical-align: top;\n",
              "    }\n",
              "\n",
              "    .dataframe thead th {\n",
              "        text-align: right;\n",
              "    }\n",
              "</style>\n",
              "<table border=\"1\" class=\"dataframe\">\n",
              "  <thead>\n",
              "    <tr style=\"text-align: right;\">\n",
              "      <th></th>\n",
              "      <th>FFMC</th>\n",
              "      <th>DMC</th>\n",
              "      <th>DC</th>\n",
              "      <th>ISI</th>\n",
              "      <th>temp</th>\n",
              "      <th>RH</th>\n",
              "      <th>wind</th>\n",
              "      <th>rain</th>\n",
              "      <th>area</th>\n",
              "      <th>month</th>\n",
              "      <th>day</th>\n",
              "      <th>size_category</th>\n",
              "    </tr>\n",
              "  </thead>\n",
              "  <tbody>\n",
              "    <tr>\n",
              "      <th>0</th>\n",
              "      <td>-0.025198</td>\n",
              "      <td>-1.108416</td>\n",
              "      <td>-0.505104</td>\n",
              "      <td>-1.612183</td>\n",
              "      <td>-0.618468</td>\n",
              "      <td>-0.619558</td>\n",
              "      <td>-0.213630</td>\n",
              "      <td>-2.302585</td>\n",
              "      <td>-2.302585</td>\n",
              "      <td>mar</td>\n",
              "      <td>fri</td>\n",
              "      <td>0.0</td>\n",
              "    </tr>\n",
              "    <tr>\n",
              "      <th>1</th>\n",
              "      <td>0.031885</td>\n",
              "      <td>-1.041676</td>\n",
              "      <td>-0.117694</td>\n",
              "      <td>-1.479946</td>\n",
              "      <td>-0.367844</td>\n",
              "      <td>-1.078007</td>\n",
              "      <td>-1.319427</td>\n",
              "      <td>-2.302585</td>\n",
              "      <td>-2.302585</td>\n",
              "      <td>oct</td>\n",
              "      <td>tue</td>\n",
              "      <td>0.0</td>\n",
              "    </tr>\n",
              "    <tr>\n",
              "      <th>2</th>\n",
              "      <td>0.031885</td>\n",
              "      <td>-0.985249</td>\n",
              "      <td>-0.098938</td>\n",
              "      <td>-1.479946</td>\n",
              "      <td>-0.460348</td>\n",
              "      <td>-1.078007</td>\n",
              "      <td>-1.192385</td>\n",
              "      <td>-2.302585</td>\n",
              "      <td>-2.302585</td>\n",
              "      <td>oct</td>\n",
              "      <td>sat</td>\n",
              "      <td>0.0</td>\n",
              "    </tr>\n",
              "    <tr>\n",
              "      <th>3</th>\n",
              "      <td>0.051824</td>\n",
              "      <td>-1.056489</td>\n",
              "      <td>-0.509682</td>\n",
              "      <td>-1.316436</td>\n",
              "      <td>-0.616190</td>\n",
              "      <td>0.062966</td>\n",
              "      <td>-0.606677</td>\n",
              "      <td>-2.030651</td>\n",
              "      <td>-2.302585</td>\n",
              "      <td>mar</td>\n",
              "      <td>fri</td>\n",
              "      <td>0.0</td>\n",
              "    </tr>\n",
              "    <tr>\n",
              "      <th>4</th>\n",
              "      <td>0.011583</td>\n",
              "      <td>-0.936199</td>\n",
              "      <td>-0.502809</td>\n",
              "      <td>-1.277886</td>\n",
              "      <td>-0.542331</td>\n",
              "      <td>0.085044</td>\n",
              "      <td>-1.055764</td>\n",
              "      <td>-2.302585</td>\n",
              "      <td>-2.302585</td>\n",
              "      <td>mar</td>\n",
              "      <td>sun</td>\n",
              "      <td>0.0</td>\n",
              "    </tr>\n",
              "  </tbody>\n",
              "</table>\n",
              "</div>\n",
              "      <button class=\"colab-df-convert\" onclick=\"convertToInteractive('df-095afa56-e5b0-4e09-8cdc-e056d90a1563')\"\n",
              "              title=\"Convert this dataframe to an interactive table.\"\n",
              "              style=\"display:none;\">\n",
              "        \n",
              "  <svg xmlns=\"http://www.w3.org/2000/svg\" height=\"24px\"viewBox=\"0 0 24 24\"\n",
              "       width=\"24px\">\n",
              "    <path d=\"M0 0h24v24H0V0z\" fill=\"none\"/>\n",
              "    <path d=\"M18.56 5.44l.94 2.06.94-2.06 2.06-.94-2.06-.94-.94-2.06-.94 2.06-2.06.94zm-11 1L8.5 8.5l.94-2.06 2.06-.94-2.06-.94L8.5 2.5l-.94 2.06-2.06.94zm10 10l.94 2.06.94-2.06 2.06-.94-2.06-.94-.94-2.06-.94 2.06-2.06.94z\"/><path d=\"M17.41 7.96l-1.37-1.37c-.4-.4-.92-.59-1.43-.59-.52 0-1.04.2-1.43.59L10.3 9.45l-7.72 7.72c-.78.78-.78 2.05 0 2.83L4 21.41c.39.39.9.59 1.41.59.51 0 1.02-.2 1.41-.59l7.78-7.78 2.81-2.81c.8-.78.8-2.07 0-2.86zM5.41 20L4 18.59l7.72-7.72 1.47 1.35L5.41 20z\"/>\n",
              "  </svg>\n",
              "      </button>\n",
              "      \n",
              "  <style>\n",
              "    .colab-df-container {\n",
              "      display:flex;\n",
              "      flex-wrap:wrap;\n",
              "      gap: 12px;\n",
              "    }\n",
              "\n",
              "    .colab-df-convert {\n",
              "      background-color: #E8F0FE;\n",
              "      border: none;\n",
              "      border-radius: 50%;\n",
              "      cursor: pointer;\n",
              "      display: none;\n",
              "      fill: #1967D2;\n",
              "      height: 32px;\n",
              "      padding: 0 0 0 0;\n",
              "      width: 32px;\n",
              "    }\n",
              "\n",
              "    .colab-df-convert:hover {\n",
              "      background-color: #E2EBFA;\n",
              "      box-shadow: 0px 1px 2px rgba(60, 64, 67, 0.3), 0px 1px 3px 1px rgba(60, 64, 67, 0.15);\n",
              "      fill: #174EA6;\n",
              "    }\n",
              "\n",
              "    [theme=dark] .colab-df-convert {\n",
              "      background-color: #3B4455;\n",
              "      fill: #D2E3FC;\n",
              "    }\n",
              "\n",
              "    [theme=dark] .colab-df-convert:hover {\n",
              "      background-color: #434B5C;\n",
              "      box-shadow: 0px 1px 3px 1px rgba(0, 0, 0, 0.15);\n",
              "      filter: drop-shadow(0px 1px 2px rgba(0, 0, 0, 0.3));\n",
              "      fill: #FFFFFF;\n",
              "    }\n",
              "  </style>\n",
              "\n",
              "      <script>\n",
              "        const buttonEl =\n",
              "          document.querySelector('#df-095afa56-e5b0-4e09-8cdc-e056d90a1563 button.colab-df-convert');\n",
              "        buttonEl.style.display =\n",
              "          google.colab.kernel.accessAllowed ? 'block' : 'none';\n",
              "\n",
              "        async function convertToInteractive(key) {\n",
              "          const element = document.querySelector('#df-095afa56-e5b0-4e09-8cdc-e056d90a1563');\n",
              "          const dataTable =\n",
              "            await google.colab.kernel.invokeFunction('convertToInteractive',\n",
              "                                                     [key], {});\n",
              "          if (!dataTable) return;\n",
              "\n",
              "          const docLinkHtml = 'Like what you see? Visit the ' +\n",
              "            '<a target=\"_blank\" href=https://colab.research.google.com/notebooks/data_table.ipynb>data table notebook</a>'\n",
              "            + ' to learn more about interactive tables.';\n",
              "          element.innerHTML = '';\n",
              "          dataTable['output_type'] = 'display_data';\n",
              "          await google.colab.output.renderOutput(dataTable, element);\n",
              "          const docLink = document.createElement('div');\n",
              "          docLink.innerHTML = docLinkHtml;\n",
              "          element.appendChild(docLink);\n",
              "        }\n",
              "      </script>\n",
              "    </div>\n",
              "  </div>\n",
              "  "
            ]
          },
          "metadata": {},
          "execution_count": 36
        }
      ],
      "source": [
        "final_data.head()"
      ]
    },
    {
      "cell_type": "code",
      "source": [
        "!pip install category_encoders"
      ],
      "metadata": {
        "colab": {
          "base_uri": "https://localhost:8080/"
        },
        "id": "dHP-cu-YqE-7",
        "outputId": "6bc47841-ea6a-42b9-a5fd-fdfaaceebecb"
      },
      "id": "dHP-cu-YqE-7",
      "execution_count": 37,
      "outputs": [
        {
          "output_type": "stream",
          "name": "stdout",
          "text": [
            "Looking in indexes: https://pypi.org/simple, https://us-python.pkg.dev/colab-wheels/public/simple/\n",
            "Collecting category_encoders\n",
            "  Downloading category_encoders-2.5.0-py2.py3-none-any.whl (69 kB)\n",
            "\u001b[K     |████████████████████████████████| 69 kB 6.5 MB/s \n",
            "\u001b[?25hRequirement already satisfied: scikit-learn>=0.20.0 in /usr/local/lib/python3.7/dist-packages (from category_encoders) (1.0.2)\n",
            "Requirement already satisfied: patsy>=0.5.1 in /usr/local/lib/python3.7/dist-packages (from category_encoders) (0.5.2)\n",
            "Requirement already satisfied: pandas>=1.0.5 in /usr/local/lib/python3.7/dist-packages (from category_encoders) (1.3.5)\n",
            "Requirement already satisfied: scipy>=1.0.0 in /usr/local/lib/python3.7/dist-packages (from category_encoders) (1.4.1)\n",
            "Requirement already satisfied: statsmodels>=0.9.0 in /usr/local/lib/python3.7/dist-packages (from category_encoders) (0.10.2)\n",
            "Requirement already satisfied: numpy>=1.14.0 in /usr/local/lib/python3.7/dist-packages (from category_encoders) (1.21.6)\n",
            "Requirement already satisfied: python-dateutil>=2.7.3 in /usr/local/lib/python3.7/dist-packages (from pandas>=1.0.5->category_encoders) (2.8.2)\n",
            "Requirement already satisfied: pytz>=2017.3 in /usr/local/lib/python3.7/dist-packages (from pandas>=1.0.5->category_encoders) (2022.1)\n",
            "Requirement already satisfied: six in /usr/local/lib/python3.7/dist-packages (from patsy>=0.5.1->category_encoders) (1.15.0)\n",
            "Requirement already satisfied: joblib>=0.11 in /usr/local/lib/python3.7/dist-packages (from scikit-learn>=0.20.0->category_encoders) (1.1.0)\n",
            "Requirement already satisfied: threadpoolctl>=2.0.0 in /usr/local/lib/python3.7/dist-packages (from scikit-learn>=0.20.0->category_encoders) (3.1.0)\n",
            "Installing collected packages: category-encoders\n",
            "Successfully installed category-encoders-2.5.0\n"
          ]
        }
      ]
    },
    {
      "cell_type": "code",
      "execution_count": 38,
      "id": "47f45aff",
      "metadata": {
        "colab": {
          "base_uri": "https://localhost:8080/",
          "height": 330
        },
        "id": "47f45aff",
        "outputId": "ca1cad22-b142-4646-910f-eb2b90a56ee1"
      },
      "outputs": [
        {
          "output_type": "stream",
          "name": "stderr",
          "text": [
            "/usr/local/lib/python3.7/dist-packages/statsmodels/tools/_testing.py:19: FutureWarning: pandas.util.testing is deprecated. Use the functions in the public API at pandas.testing instead.\n",
            "  import pandas.util.testing as tm\n",
            "/usr/local/lib/python3.7/dist-packages/category_encoders/target_encoder.py:94: FutureWarning: Default parameter min_samples_leaf will change in version 2.6.See https://github.com/scikit-learn-contrib/category_encoders/issues/327\n",
            "  category=FutureWarning)\n",
            "/usr/local/lib/python3.7/dist-packages/category_encoders/target_encoder.py:99: FutureWarning: Default parameter smoothing will change in version 2.6.See https://github.com/scikit-learn-contrib/category_encoders/issues/327\n",
            "  category=FutureWarning)\n"
          ]
        },
        {
          "output_type": "execute_result",
          "data": {
            "text/plain": [
              "       FFMC       DMC        DC       ISI      temp        RH      wind  \\\n",
              "0  0.970968  0.186492  0.201325  0.190909  0.292926  0.523529  0.800000   \n",
              "1  1.027742  0.218194  0.875419  0.219430  0.608039  0.311765  0.155556   \n",
              "2  1.027742  0.246795  0.896294  0.219430  0.498714  0.311765  0.200000   \n",
              "3  1.041935  0.210958  0.181623  0.260428  0.296141  1.064706  0.500000   \n",
              "4  1.010968  0.272984  0.210590  0.271123  0.395820  1.088235  0.255556   \n",
              "\n",
              "      rain  area     month       day  size_category  \n",
              "0  0.10000   0.1  0.207547  0.259259            0.0  \n",
              "1  0.10000   0.1  0.266667  0.322581            0.0  \n",
              "2  0.10000   0.1  0.266667  0.308642            0.0  \n",
              "3  0.13125   0.1  0.207547  0.259259            0.0  \n",
              "4  0.10000   0.1  0.207547  0.266667            0.0  "
            ],
            "text/html": [
              "\n",
              "  <div id=\"df-315deee7-67e5-4e3b-af86-9f19e4c20316\">\n",
              "    <div class=\"colab-df-container\">\n",
              "      <div>\n",
              "<style scoped>\n",
              "    .dataframe tbody tr th:only-of-type {\n",
              "        vertical-align: middle;\n",
              "    }\n",
              "\n",
              "    .dataframe tbody tr th {\n",
              "        vertical-align: top;\n",
              "    }\n",
              "\n",
              "    .dataframe thead th {\n",
              "        text-align: right;\n",
              "    }\n",
              "</style>\n",
              "<table border=\"1\" class=\"dataframe\">\n",
              "  <thead>\n",
              "    <tr style=\"text-align: right;\">\n",
              "      <th></th>\n",
              "      <th>FFMC</th>\n",
              "      <th>DMC</th>\n",
              "      <th>DC</th>\n",
              "      <th>ISI</th>\n",
              "      <th>temp</th>\n",
              "      <th>RH</th>\n",
              "      <th>wind</th>\n",
              "      <th>rain</th>\n",
              "      <th>area</th>\n",
              "      <th>month</th>\n",
              "      <th>day</th>\n",
              "      <th>size_category</th>\n",
              "    </tr>\n",
              "  </thead>\n",
              "  <tbody>\n",
              "    <tr>\n",
              "      <th>0</th>\n",
              "      <td>0.970968</td>\n",
              "      <td>0.186492</td>\n",
              "      <td>0.201325</td>\n",
              "      <td>0.190909</td>\n",
              "      <td>0.292926</td>\n",
              "      <td>0.523529</td>\n",
              "      <td>0.800000</td>\n",
              "      <td>0.10000</td>\n",
              "      <td>0.1</td>\n",
              "      <td>0.207547</td>\n",
              "      <td>0.259259</td>\n",
              "      <td>0.0</td>\n",
              "    </tr>\n",
              "    <tr>\n",
              "      <th>1</th>\n",
              "      <td>1.027742</td>\n",
              "      <td>0.218194</td>\n",
              "      <td>0.875419</td>\n",
              "      <td>0.219430</td>\n",
              "      <td>0.608039</td>\n",
              "      <td>0.311765</td>\n",
              "      <td>0.155556</td>\n",
              "      <td>0.10000</td>\n",
              "      <td>0.1</td>\n",
              "      <td>0.266667</td>\n",
              "      <td>0.322581</td>\n",
              "      <td>0.0</td>\n",
              "    </tr>\n",
              "    <tr>\n",
              "      <th>2</th>\n",
              "      <td>1.027742</td>\n",
              "      <td>0.246795</td>\n",
              "      <td>0.896294</td>\n",
              "      <td>0.219430</td>\n",
              "      <td>0.498714</td>\n",
              "      <td>0.311765</td>\n",
              "      <td>0.200000</td>\n",
              "      <td>0.10000</td>\n",
              "      <td>0.1</td>\n",
              "      <td>0.266667</td>\n",
              "      <td>0.308642</td>\n",
              "      <td>0.0</td>\n",
              "    </tr>\n",
              "    <tr>\n",
              "      <th>3</th>\n",
              "      <td>1.041935</td>\n",
              "      <td>0.210958</td>\n",
              "      <td>0.181623</td>\n",
              "      <td>0.260428</td>\n",
              "      <td>0.296141</td>\n",
              "      <td>1.064706</td>\n",
              "      <td>0.500000</td>\n",
              "      <td>0.13125</td>\n",
              "      <td>0.1</td>\n",
              "      <td>0.207547</td>\n",
              "      <td>0.259259</td>\n",
              "      <td>0.0</td>\n",
              "    </tr>\n",
              "    <tr>\n",
              "      <th>4</th>\n",
              "      <td>1.010968</td>\n",
              "      <td>0.272984</td>\n",
              "      <td>0.210590</td>\n",
              "      <td>0.271123</td>\n",
              "      <td>0.395820</td>\n",
              "      <td>1.088235</td>\n",
              "      <td>0.255556</td>\n",
              "      <td>0.10000</td>\n",
              "      <td>0.1</td>\n",
              "      <td>0.207547</td>\n",
              "      <td>0.266667</td>\n",
              "      <td>0.0</td>\n",
              "    </tr>\n",
              "  </tbody>\n",
              "</table>\n",
              "</div>\n",
              "      <button class=\"colab-df-convert\" onclick=\"convertToInteractive('df-315deee7-67e5-4e3b-af86-9f19e4c20316')\"\n",
              "              title=\"Convert this dataframe to an interactive table.\"\n",
              "              style=\"display:none;\">\n",
              "        \n",
              "  <svg xmlns=\"http://www.w3.org/2000/svg\" height=\"24px\"viewBox=\"0 0 24 24\"\n",
              "       width=\"24px\">\n",
              "    <path d=\"M0 0h24v24H0V0z\" fill=\"none\"/>\n",
              "    <path d=\"M18.56 5.44l.94 2.06.94-2.06 2.06-.94-2.06-.94-.94-2.06-.94 2.06-2.06.94zm-11 1L8.5 8.5l.94-2.06 2.06-.94-2.06-.94L8.5 2.5l-.94 2.06-2.06.94zm10 10l.94 2.06.94-2.06 2.06-.94-2.06-.94-.94-2.06-.94 2.06-2.06.94z\"/><path d=\"M17.41 7.96l-1.37-1.37c-.4-.4-.92-.59-1.43-.59-.52 0-1.04.2-1.43.59L10.3 9.45l-7.72 7.72c-.78.78-.78 2.05 0 2.83L4 21.41c.39.39.9.59 1.41.59.51 0 1.02-.2 1.41-.59l7.78-7.78 2.81-2.81c.8-.78.8-2.07 0-2.86zM5.41 20L4 18.59l7.72-7.72 1.47 1.35L5.41 20z\"/>\n",
              "  </svg>\n",
              "      </button>\n",
              "      \n",
              "  <style>\n",
              "    .colab-df-container {\n",
              "      display:flex;\n",
              "      flex-wrap:wrap;\n",
              "      gap: 12px;\n",
              "    }\n",
              "\n",
              "    .colab-df-convert {\n",
              "      background-color: #E8F0FE;\n",
              "      border: none;\n",
              "      border-radius: 50%;\n",
              "      cursor: pointer;\n",
              "      display: none;\n",
              "      fill: #1967D2;\n",
              "      height: 32px;\n",
              "      padding: 0 0 0 0;\n",
              "      width: 32px;\n",
              "    }\n",
              "\n",
              "    .colab-df-convert:hover {\n",
              "      background-color: #E2EBFA;\n",
              "      box-shadow: 0px 1px 2px rgba(60, 64, 67, 0.3), 0px 1px 3px 1px rgba(60, 64, 67, 0.15);\n",
              "      fill: #174EA6;\n",
              "    }\n",
              "\n",
              "    [theme=dark] .colab-df-convert {\n",
              "      background-color: #3B4455;\n",
              "      fill: #D2E3FC;\n",
              "    }\n",
              "\n",
              "    [theme=dark] .colab-df-convert:hover {\n",
              "      background-color: #434B5C;\n",
              "      box-shadow: 0px 1px 3px 1px rgba(0, 0, 0, 0.15);\n",
              "      filter: drop-shadow(0px 1px 2px rgba(0, 0, 0, 0.3));\n",
              "      fill: #FFFFFF;\n",
              "    }\n",
              "  </style>\n",
              "\n",
              "      <script>\n",
              "        const buttonEl =\n",
              "          document.querySelector('#df-315deee7-67e5-4e3b-af86-9f19e4c20316 button.colab-df-convert');\n",
              "        buttonEl.style.display =\n",
              "          google.colab.kernel.accessAllowed ? 'block' : 'none';\n",
              "\n",
              "        async function convertToInteractive(key) {\n",
              "          const element = document.querySelector('#df-315deee7-67e5-4e3b-af86-9f19e4c20316');\n",
              "          const dataTable =\n",
              "            await google.colab.kernel.invokeFunction('convertToInteractive',\n",
              "                                                     [key], {});\n",
              "          if (!dataTable) return;\n",
              "\n",
              "          const docLinkHtml = 'Like what you see? Visit the ' +\n",
              "            '<a target=\"_blank\" href=https://colab.research.google.com/notebooks/data_table.ipynb>data table notebook</a>'\n",
              "            + ' to learn more about interactive tables.';\n",
              "          element.innerHTML = '';\n",
              "          dataTable['output_type'] = 'display_data';\n",
              "          await google.colab.output.renderOutput(dataTable, element);\n",
              "          const docLink = document.createElement('div');\n",
              "          docLink.innerHTML = docLinkHtml;\n",
              "          element.appendChild(docLink);\n",
              "        }\n",
              "      </script>\n",
              "    </div>\n",
              "  </div>\n",
              "  "
            ]
          },
          "metadata": {},
          "execution_count": 38
        }
      ],
      "source": [
        "from category_encoders import TargetEncoder\n",
        "\n",
        "tr = TargetEncoder()\n",
        "\n",
        "final_data.iloc[:,-2] = tr.fit_transform(final_data.iloc[:,-2],final_data.iloc[:,-1])\n",
        "final_data.iloc[:,-3] = tr.fit_transform(final_data.iloc[:,-3],final_data.iloc[:,-1])\n",
        "\n",
        "final_data1.iloc[:,-2] = tr.fit_transform(final_data1.iloc[:,-2],final_data1.iloc[:,-1])\n",
        "final_data1.iloc[:,-3] = tr.fit_transform(final_data1.iloc[:,-3],final_data1.iloc[:,-1])\n",
        "final_data1.head()"
      ]
    },
    {
      "cell_type": "code",
      "execution_count": 39,
      "id": "cec4d4e7",
      "metadata": {
        "colab": {
          "base_uri": "https://localhost:8080/"
        },
        "id": "cec4d4e7",
        "outputId": "cf9181ff-a0a3-4a9b-968e-c293c6bb5a84"
      },
      "outputs": [
        {
          "output_type": "execute_result",
          "data": {
            "text/plain": [
              "FFMC             0\n",
              "DMC              0\n",
              "DC               0\n",
              "ISI              0\n",
              "temp             0\n",
              "RH               0\n",
              "wind             0\n",
              "rain             0\n",
              "area             0\n",
              "month            8\n",
              "day              8\n",
              "size_category    8\n",
              "dtype: int64"
            ]
          },
          "metadata": {},
          "execution_count": 39
        }
      ],
      "source": [
        "final_data.isnull().sum()"
      ]
    },
    {
      "cell_type": "code",
      "execution_count": 40,
      "id": "ae966a89",
      "metadata": {
        "id": "ae966a89"
      },
      "outputs": [],
      "source": [
        "data_get_dummies = data_get_dummies.dropna()"
      ]
    },
    {
      "cell_type": "code",
      "execution_count": 41,
      "id": "87ea1832",
      "metadata": {
        "colab": {
          "base_uri": "https://localhost:8080/",
          "height": 300
        },
        "id": "87ea1832",
        "outputId": "556a26d0-1a58-4605-e163-7238914f3f93"
      },
      "outputs": [
        {
          "output_type": "execute_result",
          "data": {
            "text/plain": [
              "       FFMC       DMC        DC       ISI      temp        RH      wind  \\\n",
              "0 -0.025198 -1.108416 -0.505104 -1.612183 -0.618468 -0.619558 -0.213630   \n",
              "1  0.031885 -1.041676 -0.117694 -1.479946 -0.367844 -1.078007 -1.319427   \n",
              "2  0.031885 -0.985249 -0.098938 -1.479946 -0.460348 -1.078007 -1.192385   \n",
              "3  0.051824 -1.056489 -0.509682 -1.316436 -0.616190  0.062966 -0.606677   \n",
              "4  0.011583 -0.936199 -0.502809 -1.277886 -0.542331  0.085044 -1.055764   \n",
              "\n",
              "       rain      area  dayfri  ...  monthfeb  monthjan  monthjul  monthjun  \\\n",
              "0 -2.302585 -2.302585       1  ...         0         0         0         0   \n",
              "1 -2.302585 -2.302585       0  ...         0         0         0         0   \n",
              "2 -2.302585 -2.302585       0  ...         0         0         0         0   \n",
              "3 -2.030651 -2.302585       1  ...         0         0         0         0   \n",
              "4 -2.302585 -2.302585       0  ...         0         0         0         0   \n",
              "\n",
              "   monthmar  monthmay  monthnov  monthoct  monthsep  size_category  \n",
              "0         1         0         0         0         0              0  \n",
              "1         0         0         0         1         0              0  \n",
              "2         0         0         0         1         0              0  \n",
              "3         1         0         0         0         0              0  \n",
              "4         1         0         0         0         0              0  \n",
              "\n",
              "[5 rows x 29 columns]"
            ],
            "text/html": [
              "\n",
              "  <div id=\"df-64a472ad-3fe6-4218-90c0-81b57d01c83e\">\n",
              "    <div class=\"colab-df-container\">\n",
              "      <div>\n",
              "<style scoped>\n",
              "    .dataframe tbody tr th:only-of-type {\n",
              "        vertical-align: middle;\n",
              "    }\n",
              "\n",
              "    .dataframe tbody tr th {\n",
              "        vertical-align: top;\n",
              "    }\n",
              "\n",
              "    .dataframe thead th {\n",
              "        text-align: right;\n",
              "    }\n",
              "</style>\n",
              "<table border=\"1\" class=\"dataframe\">\n",
              "  <thead>\n",
              "    <tr style=\"text-align: right;\">\n",
              "      <th></th>\n",
              "      <th>FFMC</th>\n",
              "      <th>DMC</th>\n",
              "      <th>DC</th>\n",
              "      <th>ISI</th>\n",
              "      <th>temp</th>\n",
              "      <th>RH</th>\n",
              "      <th>wind</th>\n",
              "      <th>rain</th>\n",
              "      <th>area</th>\n",
              "      <th>dayfri</th>\n",
              "      <th>...</th>\n",
              "      <th>monthfeb</th>\n",
              "      <th>monthjan</th>\n",
              "      <th>monthjul</th>\n",
              "      <th>monthjun</th>\n",
              "      <th>monthmar</th>\n",
              "      <th>monthmay</th>\n",
              "      <th>monthnov</th>\n",
              "      <th>monthoct</th>\n",
              "      <th>monthsep</th>\n",
              "      <th>size_category</th>\n",
              "    </tr>\n",
              "  </thead>\n",
              "  <tbody>\n",
              "    <tr>\n",
              "      <th>0</th>\n",
              "      <td>-0.025198</td>\n",
              "      <td>-1.108416</td>\n",
              "      <td>-0.505104</td>\n",
              "      <td>-1.612183</td>\n",
              "      <td>-0.618468</td>\n",
              "      <td>-0.619558</td>\n",
              "      <td>-0.213630</td>\n",
              "      <td>-2.302585</td>\n",
              "      <td>-2.302585</td>\n",
              "      <td>1</td>\n",
              "      <td>...</td>\n",
              "      <td>0</td>\n",
              "      <td>0</td>\n",
              "      <td>0</td>\n",
              "      <td>0</td>\n",
              "      <td>1</td>\n",
              "      <td>0</td>\n",
              "      <td>0</td>\n",
              "      <td>0</td>\n",
              "      <td>0</td>\n",
              "      <td>0</td>\n",
              "    </tr>\n",
              "    <tr>\n",
              "      <th>1</th>\n",
              "      <td>0.031885</td>\n",
              "      <td>-1.041676</td>\n",
              "      <td>-0.117694</td>\n",
              "      <td>-1.479946</td>\n",
              "      <td>-0.367844</td>\n",
              "      <td>-1.078007</td>\n",
              "      <td>-1.319427</td>\n",
              "      <td>-2.302585</td>\n",
              "      <td>-2.302585</td>\n",
              "      <td>0</td>\n",
              "      <td>...</td>\n",
              "      <td>0</td>\n",
              "      <td>0</td>\n",
              "      <td>0</td>\n",
              "      <td>0</td>\n",
              "      <td>0</td>\n",
              "      <td>0</td>\n",
              "      <td>0</td>\n",
              "      <td>1</td>\n",
              "      <td>0</td>\n",
              "      <td>0</td>\n",
              "    </tr>\n",
              "    <tr>\n",
              "      <th>2</th>\n",
              "      <td>0.031885</td>\n",
              "      <td>-0.985249</td>\n",
              "      <td>-0.098938</td>\n",
              "      <td>-1.479946</td>\n",
              "      <td>-0.460348</td>\n",
              "      <td>-1.078007</td>\n",
              "      <td>-1.192385</td>\n",
              "      <td>-2.302585</td>\n",
              "      <td>-2.302585</td>\n",
              "      <td>0</td>\n",
              "      <td>...</td>\n",
              "      <td>0</td>\n",
              "      <td>0</td>\n",
              "      <td>0</td>\n",
              "      <td>0</td>\n",
              "      <td>0</td>\n",
              "      <td>0</td>\n",
              "      <td>0</td>\n",
              "      <td>1</td>\n",
              "      <td>0</td>\n",
              "      <td>0</td>\n",
              "    </tr>\n",
              "    <tr>\n",
              "      <th>3</th>\n",
              "      <td>0.051824</td>\n",
              "      <td>-1.056489</td>\n",
              "      <td>-0.509682</td>\n",
              "      <td>-1.316436</td>\n",
              "      <td>-0.616190</td>\n",
              "      <td>0.062966</td>\n",
              "      <td>-0.606677</td>\n",
              "      <td>-2.030651</td>\n",
              "      <td>-2.302585</td>\n",
              "      <td>1</td>\n",
              "      <td>...</td>\n",
              "      <td>0</td>\n",
              "      <td>0</td>\n",
              "      <td>0</td>\n",
              "      <td>0</td>\n",
              "      <td>1</td>\n",
              "      <td>0</td>\n",
              "      <td>0</td>\n",
              "      <td>0</td>\n",
              "      <td>0</td>\n",
              "      <td>0</td>\n",
              "    </tr>\n",
              "    <tr>\n",
              "      <th>4</th>\n",
              "      <td>0.011583</td>\n",
              "      <td>-0.936199</td>\n",
              "      <td>-0.502809</td>\n",
              "      <td>-1.277886</td>\n",
              "      <td>-0.542331</td>\n",
              "      <td>0.085044</td>\n",
              "      <td>-1.055764</td>\n",
              "      <td>-2.302585</td>\n",
              "      <td>-2.302585</td>\n",
              "      <td>0</td>\n",
              "      <td>...</td>\n",
              "      <td>0</td>\n",
              "      <td>0</td>\n",
              "      <td>0</td>\n",
              "      <td>0</td>\n",
              "      <td>1</td>\n",
              "      <td>0</td>\n",
              "      <td>0</td>\n",
              "      <td>0</td>\n",
              "      <td>0</td>\n",
              "      <td>0</td>\n",
              "    </tr>\n",
              "  </tbody>\n",
              "</table>\n",
              "<p>5 rows × 29 columns</p>\n",
              "</div>\n",
              "      <button class=\"colab-df-convert\" onclick=\"convertToInteractive('df-64a472ad-3fe6-4218-90c0-81b57d01c83e')\"\n",
              "              title=\"Convert this dataframe to an interactive table.\"\n",
              "              style=\"display:none;\">\n",
              "        \n",
              "  <svg xmlns=\"http://www.w3.org/2000/svg\" height=\"24px\"viewBox=\"0 0 24 24\"\n",
              "       width=\"24px\">\n",
              "    <path d=\"M0 0h24v24H0V0z\" fill=\"none\"/>\n",
              "    <path d=\"M18.56 5.44l.94 2.06.94-2.06 2.06-.94-2.06-.94-.94-2.06-.94 2.06-2.06.94zm-11 1L8.5 8.5l.94-2.06 2.06-.94-2.06-.94L8.5 2.5l-.94 2.06-2.06.94zm10 10l.94 2.06.94-2.06 2.06-.94-2.06-.94-.94-2.06-.94 2.06-2.06.94z\"/><path d=\"M17.41 7.96l-1.37-1.37c-.4-.4-.92-.59-1.43-.59-.52 0-1.04.2-1.43.59L10.3 9.45l-7.72 7.72c-.78.78-.78 2.05 0 2.83L4 21.41c.39.39.9.59 1.41.59.51 0 1.02-.2 1.41-.59l7.78-7.78 2.81-2.81c.8-.78.8-2.07 0-2.86zM5.41 20L4 18.59l7.72-7.72 1.47 1.35L5.41 20z\"/>\n",
              "  </svg>\n",
              "      </button>\n",
              "      \n",
              "  <style>\n",
              "    .colab-df-container {\n",
              "      display:flex;\n",
              "      flex-wrap:wrap;\n",
              "      gap: 12px;\n",
              "    }\n",
              "\n",
              "    .colab-df-convert {\n",
              "      background-color: #E8F0FE;\n",
              "      border: none;\n",
              "      border-radius: 50%;\n",
              "      cursor: pointer;\n",
              "      display: none;\n",
              "      fill: #1967D2;\n",
              "      height: 32px;\n",
              "      padding: 0 0 0 0;\n",
              "      width: 32px;\n",
              "    }\n",
              "\n",
              "    .colab-df-convert:hover {\n",
              "      background-color: #E2EBFA;\n",
              "      box-shadow: 0px 1px 2px rgba(60, 64, 67, 0.3), 0px 1px 3px 1px rgba(60, 64, 67, 0.15);\n",
              "      fill: #174EA6;\n",
              "    }\n",
              "\n",
              "    [theme=dark] .colab-df-convert {\n",
              "      background-color: #3B4455;\n",
              "      fill: #D2E3FC;\n",
              "    }\n",
              "\n",
              "    [theme=dark] .colab-df-convert:hover {\n",
              "      background-color: #434B5C;\n",
              "      box-shadow: 0px 1px 3px 1px rgba(0, 0, 0, 0.15);\n",
              "      filter: drop-shadow(0px 1px 2px rgba(0, 0, 0, 0.3));\n",
              "      fill: #FFFFFF;\n",
              "    }\n",
              "  </style>\n",
              "\n",
              "      <script>\n",
              "        const buttonEl =\n",
              "          document.querySelector('#df-64a472ad-3fe6-4218-90c0-81b57d01c83e button.colab-df-convert');\n",
              "        buttonEl.style.display =\n",
              "          google.colab.kernel.accessAllowed ? 'block' : 'none';\n",
              "\n",
              "        async function convertToInteractive(key) {\n",
              "          const element = document.querySelector('#df-64a472ad-3fe6-4218-90c0-81b57d01c83e');\n",
              "          const dataTable =\n",
              "            await google.colab.kernel.invokeFunction('convertToInteractive',\n",
              "                                                     [key], {});\n",
              "          if (!dataTable) return;\n",
              "\n",
              "          const docLinkHtml = 'Like what you see? Visit the ' +\n",
              "            '<a target=\"_blank\" href=https://colab.research.google.com/notebooks/data_table.ipynb>data table notebook</a>'\n",
              "            + ' to learn more about interactive tables.';\n",
              "          element.innerHTML = '';\n",
              "          dataTable['output_type'] = 'display_data';\n",
              "          await google.colab.output.renderOutput(dataTable, element);\n",
              "          const docLink = document.createElement('div');\n",
              "          docLink.innerHTML = docLinkHtml;\n",
              "          element.appendChild(docLink);\n",
              "        }\n",
              "      </script>\n",
              "    </div>\n",
              "  </div>\n",
              "  "
            ]
          },
          "metadata": {},
          "execution_count": 41
        }
      ],
      "source": [
        "data_get_dummies.head()"
      ]
    },
    {
      "cell_type": "code",
      "execution_count": 42,
      "id": "20ceea77",
      "metadata": {
        "colab": {
          "base_uri": "https://localhost:8080/"
        },
        "id": "20ceea77",
        "outputId": "06086362-a59a-4e44-807e-3762411425ec"
      },
      "outputs": [
        {
          "output_type": "execute_result",
          "data": {
            "text/plain": [
              "FFMC             0\n",
              "DMC              0\n",
              "DC               0\n",
              "ISI              0\n",
              "temp             0\n",
              "RH               0\n",
              "wind             0\n",
              "rain             0\n",
              "area             0\n",
              "dayfri           0\n",
              "daymon           0\n",
              "daysat           0\n",
              "daysun           0\n",
              "daythu           0\n",
              "daytue           0\n",
              "daywed           0\n",
              "monthapr         0\n",
              "monthaug         0\n",
              "monthdec         0\n",
              "monthfeb         0\n",
              "monthjan         0\n",
              "monthjul         0\n",
              "monthjun         0\n",
              "monthmar         0\n",
              "monthmay         0\n",
              "monthnov         0\n",
              "monthoct         0\n",
              "monthsep         0\n",
              "size_category    0\n",
              "dtype: int64"
            ]
          },
          "metadata": {},
          "execution_count": 42
        }
      ],
      "source": [
        "data_get_dummies.isnull().sum()"
      ]
    },
    {
      "cell_type": "code",
      "execution_count": 43,
      "id": "29786191",
      "metadata": {
        "id": "29786191"
      },
      "outputs": [],
      "source": [
        "final_data = final_data.dropna()"
      ]
    },
    {
      "cell_type": "code",
      "execution_count": 44,
      "id": "8ba4d9e9",
      "metadata": {
        "colab": {
          "base_uri": "https://localhost:8080/",
          "height": 424
        },
        "id": "8ba4d9e9",
        "outputId": "289fc2cf-5a7a-47a2-c742-4e3200e70adb"
      },
      "outputs": [
        {
          "output_type": "execute_result",
          "data": {
            "text/plain": [
              "         FFMC       DMC        DC       ISI      temp        RH      wind  \\\n",
              "0   -0.025198 -1.108416 -0.505104 -1.612183 -0.618468 -0.619558 -0.213630   \n",
              "1    0.031885 -1.041676 -0.117694 -1.479946 -0.367844 -1.078007 -1.319427   \n",
              "2    0.031885 -0.985249 -0.098938 -1.479946 -0.460348 -1.078007 -1.192385   \n",
              "3    0.051824 -1.056489 -0.509682 -1.316436 -0.616190  0.062966 -0.606677   \n",
              "4    0.011583 -0.936199 -0.502809 -1.277886 -0.542331  0.085044 -1.055764   \n",
              "..        ...       ...       ...       ...       ...       ...       ...   \n",
              "503 -0.058273 -0.902669 -0.121336 -1.946594 -0.076001 -1.015584 -0.849582   \n",
              "504 -0.058273 -0.902669 -0.121336 -1.946594 -0.076001 -1.110760 -0.849582   \n",
              "505 -0.058273 -0.902669 -0.121336 -1.946594 -0.255823 -0.270882 -0.332782   \n",
              "506 -0.058273 -0.902669 -0.121336 -1.946594 -0.276359 -0.285917 -0.213630   \n",
              "507  0.113744 -0.447896 -0.172589 -1.176160 -0.144403 -0.823375 -0.606677   \n",
              "\n",
              "         rain      area     month       day  size_category  \n",
              "0   -2.302585 -2.302585  0.207547  0.259259            0.0  \n",
              "1   -2.302585 -2.302585  0.266667  0.322581            0.0  \n",
              "2   -2.302585 -2.302585  0.266667  0.308642            0.0  \n",
              "3   -2.030651 -2.302585  0.207547  0.259259            0.0  \n",
              "4   -2.302585 -2.302585  0.207547  0.266667            0.0  \n",
              "..        ...       ...       ...       ...            ...  \n",
              "503 -2.302585 -2.302585  0.233918  0.245283            0.0  \n",
              "504 -2.302585 -2.245225  0.233918  0.245283            1.0  \n",
              "505 -2.302585 -1.898661  0.233918  0.216667            0.0  \n",
              "506 -2.302585 -2.205180  0.233918  0.259259            0.0  \n",
              "507 -2.302585 -2.302585  0.233918  0.259259            0.0  \n",
              "\n",
              "[501 rows x 12 columns]"
            ],
            "text/html": [
              "\n",
              "  <div id=\"df-91904cd0-3a1c-45b0-9f48-8aadf6b78779\">\n",
              "    <div class=\"colab-df-container\">\n",
              "      <div>\n",
              "<style scoped>\n",
              "    .dataframe tbody tr th:only-of-type {\n",
              "        vertical-align: middle;\n",
              "    }\n",
              "\n",
              "    .dataframe tbody tr th {\n",
              "        vertical-align: top;\n",
              "    }\n",
              "\n",
              "    .dataframe thead th {\n",
              "        text-align: right;\n",
              "    }\n",
              "</style>\n",
              "<table border=\"1\" class=\"dataframe\">\n",
              "  <thead>\n",
              "    <tr style=\"text-align: right;\">\n",
              "      <th></th>\n",
              "      <th>FFMC</th>\n",
              "      <th>DMC</th>\n",
              "      <th>DC</th>\n",
              "      <th>ISI</th>\n",
              "      <th>temp</th>\n",
              "      <th>RH</th>\n",
              "      <th>wind</th>\n",
              "      <th>rain</th>\n",
              "      <th>area</th>\n",
              "      <th>month</th>\n",
              "      <th>day</th>\n",
              "      <th>size_category</th>\n",
              "    </tr>\n",
              "  </thead>\n",
              "  <tbody>\n",
              "    <tr>\n",
              "      <th>0</th>\n",
              "      <td>-0.025198</td>\n",
              "      <td>-1.108416</td>\n",
              "      <td>-0.505104</td>\n",
              "      <td>-1.612183</td>\n",
              "      <td>-0.618468</td>\n",
              "      <td>-0.619558</td>\n",
              "      <td>-0.213630</td>\n",
              "      <td>-2.302585</td>\n",
              "      <td>-2.302585</td>\n",
              "      <td>0.207547</td>\n",
              "      <td>0.259259</td>\n",
              "      <td>0.0</td>\n",
              "    </tr>\n",
              "    <tr>\n",
              "      <th>1</th>\n",
              "      <td>0.031885</td>\n",
              "      <td>-1.041676</td>\n",
              "      <td>-0.117694</td>\n",
              "      <td>-1.479946</td>\n",
              "      <td>-0.367844</td>\n",
              "      <td>-1.078007</td>\n",
              "      <td>-1.319427</td>\n",
              "      <td>-2.302585</td>\n",
              "      <td>-2.302585</td>\n",
              "      <td>0.266667</td>\n",
              "      <td>0.322581</td>\n",
              "      <td>0.0</td>\n",
              "    </tr>\n",
              "    <tr>\n",
              "      <th>2</th>\n",
              "      <td>0.031885</td>\n",
              "      <td>-0.985249</td>\n",
              "      <td>-0.098938</td>\n",
              "      <td>-1.479946</td>\n",
              "      <td>-0.460348</td>\n",
              "      <td>-1.078007</td>\n",
              "      <td>-1.192385</td>\n",
              "      <td>-2.302585</td>\n",
              "      <td>-2.302585</td>\n",
              "      <td>0.266667</td>\n",
              "      <td>0.308642</td>\n",
              "      <td>0.0</td>\n",
              "    </tr>\n",
              "    <tr>\n",
              "      <th>3</th>\n",
              "      <td>0.051824</td>\n",
              "      <td>-1.056489</td>\n",
              "      <td>-0.509682</td>\n",
              "      <td>-1.316436</td>\n",
              "      <td>-0.616190</td>\n",
              "      <td>0.062966</td>\n",
              "      <td>-0.606677</td>\n",
              "      <td>-2.030651</td>\n",
              "      <td>-2.302585</td>\n",
              "      <td>0.207547</td>\n",
              "      <td>0.259259</td>\n",
              "      <td>0.0</td>\n",
              "    </tr>\n",
              "    <tr>\n",
              "      <th>4</th>\n",
              "      <td>0.011583</td>\n",
              "      <td>-0.936199</td>\n",
              "      <td>-0.502809</td>\n",
              "      <td>-1.277886</td>\n",
              "      <td>-0.542331</td>\n",
              "      <td>0.085044</td>\n",
              "      <td>-1.055764</td>\n",
              "      <td>-2.302585</td>\n",
              "      <td>-2.302585</td>\n",
              "      <td>0.207547</td>\n",
              "      <td>0.266667</td>\n",
              "      <td>0.0</td>\n",
              "    </tr>\n",
              "    <tr>\n",
              "      <th>...</th>\n",
              "      <td>...</td>\n",
              "      <td>...</td>\n",
              "      <td>...</td>\n",
              "      <td>...</td>\n",
              "      <td>...</td>\n",
              "      <td>...</td>\n",
              "      <td>...</td>\n",
              "      <td>...</td>\n",
              "      <td>...</td>\n",
              "      <td>...</td>\n",
              "      <td>...</td>\n",
              "      <td>...</td>\n",
              "    </tr>\n",
              "    <tr>\n",
              "      <th>503</th>\n",
              "      <td>-0.058273</td>\n",
              "      <td>-0.902669</td>\n",
              "      <td>-0.121336</td>\n",
              "      <td>-1.946594</td>\n",
              "      <td>-0.076001</td>\n",
              "      <td>-1.015584</td>\n",
              "      <td>-0.849582</td>\n",
              "      <td>-2.302585</td>\n",
              "      <td>-2.302585</td>\n",
              "      <td>0.233918</td>\n",
              "      <td>0.245283</td>\n",
              "      <td>0.0</td>\n",
              "    </tr>\n",
              "    <tr>\n",
              "      <th>504</th>\n",
              "      <td>-0.058273</td>\n",
              "      <td>-0.902669</td>\n",
              "      <td>-0.121336</td>\n",
              "      <td>-1.946594</td>\n",
              "      <td>-0.076001</td>\n",
              "      <td>-1.110760</td>\n",
              "      <td>-0.849582</td>\n",
              "      <td>-2.302585</td>\n",
              "      <td>-2.245225</td>\n",
              "      <td>0.233918</td>\n",
              "      <td>0.245283</td>\n",
              "      <td>1.0</td>\n",
              "    </tr>\n",
              "    <tr>\n",
              "      <th>505</th>\n",
              "      <td>-0.058273</td>\n",
              "      <td>-0.902669</td>\n",
              "      <td>-0.121336</td>\n",
              "      <td>-1.946594</td>\n",
              "      <td>-0.255823</td>\n",
              "      <td>-0.270882</td>\n",
              "      <td>-0.332782</td>\n",
              "      <td>-2.302585</td>\n",
              "      <td>-1.898661</td>\n",
              "      <td>0.233918</td>\n",
              "      <td>0.216667</td>\n",
              "      <td>0.0</td>\n",
              "    </tr>\n",
              "    <tr>\n",
              "      <th>506</th>\n",
              "      <td>-0.058273</td>\n",
              "      <td>-0.902669</td>\n",
              "      <td>-0.121336</td>\n",
              "      <td>-1.946594</td>\n",
              "      <td>-0.276359</td>\n",
              "      <td>-0.285917</td>\n",
              "      <td>-0.213630</td>\n",
              "      <td>-2.302585</td>\n",
              "      <td>-2.205180</td>\n",
              "      <td>0.233918</td>\n",
              "      <td>0.259259</td>\n",
              "      <td>0.0</td>\n",
              "    </tr>\n",
              "    <tr>\n",
              "      <th>507</th>\n",
              "      <td>0.113744</td>\n",
              "      <td>-0.447896</td>\n",
              "      <td>-0.172589</td>\n",
              "      <td>-1.176160</td>\n",
              "      <td>-0.144403</td>\n",
              "      <td>-0.823375</td>\n",
              "      <td>-0.606677</td>\n",
              "      <td>-2.302585</td>\n",
              "      <td>-2.302585</td>\n",
              "      <td>0.233918</td>\n",
              "      <td>0.259259</td>\n",
              "      <td>0.0</td>\n",
              "    </tr>\n",
              "  </tbody>\n",
              "</table>\n",
              "<p>501 rows × 12 columns</p>\n",
              "</div>\n",
              "      <button class=\"colab-df-convert\" onclick=\"convertToInteractive('df-91904cd0-3a1c-45b0-9f48-8aadf6b78779')\"\n",
              "              title=\"Convert this dataframe to an interactive table.\"\n",
              "              style=\"display:none;\">\n",
              "        \n",
              "  <svg xmlns=\"http://www.w3.org/2000/svg\" height=\"24px\"viewBox=\"0 0 24 24\"\n",
              "       width=\"24px\">\n",
              "    <path d=\"M0 0h24v24H0V0z\" fill=\"none\"/>\n",
              "    <path d=\"M18.56 5.44l.94 2.06.94-2.06 2.06-.94-2.06-.94-.94-2.06-.94 2.06-2.06.94zm-11 1L8.5 8.5l.94-2.06 2.06-.94-2.06-.94L8.5 2.5l-.94 2.06-2.06.94zm10 10l.94 2.06.94-2.06 2.06-.94-2.06-.94-.94-2.06-.94 2.06-2.06.94z\"/><path d=\"M17.41 7.96l-1.37-1.37c-.4-.4-.92-.59-1.43-.59-.52 0-1.04.2-1.43.59L10.3 9.45l-7.72 7.72c-.78.78-.78 2.05 0 2.83L4 21.41c.39.39.9.59 1.41.59.51 0 1.02-.2 1.41-.59l7.78-7.78 2.81-2.81c.8-.78.8-2.07 0-2.86zM5.41 20L4 18.59l7.72-7.72 1.47 1.35L5.41 20z\"/>\n",
              "  </svg>\n",
              "      </button>\n",
              "      \n",
              "  <style>\n",
              "    .colab-df-container {\n",
              "      display:flex;\n",
              "      flex-wrap:wrap;\n",
              "      gap: 12px;\n",
              "    }\n",
              "\n",
              "    .colab-df-convert {\n",
              "      background-color: #E8F0FE;\n",
              "      border: none;\n",
              "      border-radius: 50%;\n",
              "      cursor: pointer;\n",
              "      display: none;\n",
              "      fill: #1967D2;\n",
              "      height: 32px;\n",
              "      padding: 0 0 0 0;\n",
              "      width: 32px;\n",
              "    }\n",
              "\n",
              "    .colab-df-convert:hover {\n",
              "      background-color: #E2EBFA;\n",
              "      box-shadow: 0px 1px 2px rgba(60, 64, 67, 0.3), 0px 1px 3px 1px rgba(60, 64, 67, 0.15);\n",
              "      fill: #174EA6;\n",
              "    }\n",
              "\n",
              "    [theme=dark] .colab-df-convert {\n",
              "      background-color: #3B4455;\n",
              "      fill: #D2E3FC;\n",
              "    }\n",
              "\n",
              "    [theme=dark] .colab-df-convert:hover {\n",
              "      background-color: #434B5C;\n",
              "      box-shadow: 0px 1px 3px 1px rgba(0, 0, 0, 0.15);\n",
              "      filter: drop-shadow(0px 1px 2px rgba(0, 0, 0, 0.3));\n",
              "      fill: #FFFFFF;\n",
              "    }\n",
              "  </style>\n",
              "\n",
              "      <script>\n",
              "        const buttonEl =\n",
              "          document.querySelector('#df-91904cd0-3a1c-45b0-9f48-8aadf6b78779 button.colab-df-convert');\n",
              "        buttonEl.style.display =\n",
              "          google.colab.kernel.accessAllowed ? 'block' : 'none';\n",
              "\n",
              "        async function convertToInteractive(key) {\n",
              "          const element = document.querySelector('#df-91904cd0-3a1c-45b0-9f48-8aadf6b78779');\n",
              "          const dataTable =\n",
              "            await google.colab.kernel.invokeFunction('convertToInteractive',\n",
              "                                                     [key], {});\n",
              "          if (!dataTable) return;\n",
              "\n",
              "          const docLinkHtml = 'Like what you see? Visit the ' +\n",
              "            '<a target=\"_blank\" href=https://colab.research.google.com/notebooks/data_table.ipynb>data table notebook</a>'\n",
              "            + ' to learn more about interactive tables.';\n",
              "          element.innerHTML = '';\n",
              "          dataTable['output_type'] = 'display_data';\n",
              "          await google.colab.output.renderOutput(dataTable, element);\n",
              "          const docLink = document.createElement('div');\n",
              "          docLink.innerHTML = docLinkHtml;\n",
              "          element.appendChild(docLink);\n",
              "        }\n",
              "      </script>\n",
              "    </div>\n",
              "  </div>\n",
              "  "
            ]
          },
          "metadata": {},
          "execution_count": 44
        }
      ],
      "source": [
        "final_data"
      ]
    },
    {
      "cell_type": "code",
      "execution_count": 45,
      "id": "fdb2ad9a",
      "metadata": {
        "colab": {
          "base_uri": "https://localhost:8080/"
        },
        "id": "fdb2ad9a",
        "outputId": "03488237-5049-4f03-ef9c-b24d4037d000"
      },
      "outputs": [
        {
          "output_type": "execute_result",
          "data": {
            "text/plain": [
              "FFMC             0\n",
              "DMC              0\n",
              "DC               0\n",
              "ISI              0\n",
              "temp             0\n",
              "RH               0\n",
              "wind             0\n",
              "rain             0\n",
              "area             0\n",
              "month            0\n",
              "day              0\n",
              "size_category    0\n",
              "dtype: int64"
            ]
          },
          "metadata": {},
          "execution_count": 45
        }
      ],
      "source": [
        "final_data.isnull().sum()"
      ]
    },
    {
      "cell_type": "markdown",
      "id": "4568c231",
      "metadata": {
        "id": "4568c231"
      },
      "source": [
        "### Feature Engineering"
      ]
    },
    {
      "cell_type": "code",
      "execution_count": 46,
      "id": "8f37354c",
      "metadata": {
        "id": "8f37354c"
      },
      "outputs": [],
      "source": [
        "from sklearn.tree import  DecisionTreeClassifier"
      ]
    },
    {
      "cell_type": "code",
      "execution_count": 47,
      "id": "6e23a7aa",
      "metadata": {
        "id": "6e23a7aa"
      },
      "outputs": [],
      "source": [
        "# Spliting into X and y\n",
        "X = final_data.iloc[:,:-1]\n",
        "y = final_data.iloc[:,-1]"
      ]
    },
    {
      "cell_type": "code",
      "execution_count": 48,
      "id": "8e3db56d",
      "metadata": {
        "colab": {
          "base_uri": "https://localhost:8080/"
        },
        "id": "8e3db56d",
        "outputId": "db5d4c4e-4963-4027-b740-6b96a1a221fd"
      },
      "outputs": [
        {
          "output_type": "execute_result",
          "data": {
            "text/plain": [
              "DecisionTreeClassifier()"
            ]
          },
          "metadata": {},
          "execution_count": 48
        }
      ],
      "source": [
        "#Feature Extraction \n",
        "feature_model = DecisionTreeClassifier()\n",
        "feature_model.fit(X,y)"
      ]
    },
    {
      "cell_type": "code",
      "execution_count": 49,
      "id": "0cb743ab",
      "metadata": {
        "colab": {
          "base_uri": "https://localhost:8080/"
        },
        "id": "0cb743ab",
        "outputId": "545be1ea-cb30-49f2-868d-822d3c3f10a2"
      },
      "outputs": [
        {
          "output_type": "stream",
          "name": "stdout",
          "text": [
            "[0.041 0.113 0.112 0.065 0.086 0.102 0.053 0.009 0.318 0.042 0.06 ]\n"
          ]
        }
      ],
      "source": [
        "np.set_printoptions(precision=3)\n",
        "print(feature_model.feature_importances_)"
      ]
    },
    {
      "cell_type": "code",
      "execution_count": 50,
      "id": "7d0b9db2",
      "metadata": {
        "colab": {
          "base_uri": "https://localhost:8080/",
          "height": 356
        },
        "id": "7d0b9db2",
        "outputId": "d5471d49-fc1b-42d0-b592-af34c58aacca"
      },
      "outputs": [
        {
          "output_type": "display_data",
          "data": {
            "text/plain": [
              "<Figure size 432x288 with 1 Axes>"
            ],
            "image/png": "[encoded data removed]"
          },
          "metadata": {}
        }
      ],
      "source": [
        "# Set the style\n",
        "plt.style.use('fivethirtyeight')\n",
        "\n",
        "importances = feature_model.feature_importances_\n",
        "feature_list = list(X.columns)\n",
        "\n",
        "# list of x locations for plotting\n",
        "X_values = list(range(len(importances)))\n",
        "# Make a bar chart\n",
        "plt.bar(X_values, importances, orientation = 'vertical')\n",
        "# Tick labels for x axis\n",
        "plt.xticks(X_values, feature_list, rotation='vertical')\n",
        "# Axis labels and title\n",
        "plt.ylabel('Importance'); plt.xlabel('Variable'); plt.title('Variable Importances');"
      ]
    },
    {
      "cell_type": "markdown",
      "id": "4750c801",
      "metadata": {
        "id": "4750c801"
      },
      "source": [
        "### Ploting data in 2D using t-SNE"
      ]
    },
    {
      "cell_type": "code",
      "execution_count": 51,
      "id": "bb27bf4a",
      "metadata": {
        "id": "bb27bf4a"
      },
      "outputs": [],
      "source": [
        "from sklearn.manifold import TSNE"
      ]
    },
    {
      "cell_type": "code",
      "execution_count": 52,
      "id": "a026bb1d",
      "metadata": {
        "id": "a026bb1d"
      },
      "outputs": [],
      "source": [
        "# Spliting into X and y\n",
        "X = final_data.iloc[:,:-1]\n",
        "y = final_data.iloc[:,-1]"
      ]
    },
    {
      "cell_type": "code",
      "execution_count": 53,
      "id": "a41c4007",
      "metadata": {
        "colab": {
          "base_uri": "https://localhost:8080/",
          "height": 513
        },
        "id": "a41c4007",
        "outputId": "9a83ebd9-8ad2-4ce1-a8a3-6d9c26afe285"
      },
      "outputs": [
        {
          "output_type": "stream",
          "name": "stderr",
          "text": [
            "/usr/local/lib/python3.7/dist-packages/sklearn/manifold/_t_sne.py:783: FutureWarning: The default initialization in TSNE will change from 'random' to 'pca' in 1.2.\n",
            "  FutureWarning,\n",
            "/usr/local/lib/python3.7/dist-packages/sklearn/manifold/_t_sne.py:793: FutureWarning: The default learning rate in TSNE will change from 200.0 to 'auto' in 1.2.\n",
            "  FutureWarning,\n"
          ]
        },
        {
          "output_type": "execute_result",
          "data": {
            "text/plain": [
              "         tsne1      tsne2    y\n",
              "0   -20.687643   7.501428  0.0\n",
              "1    -9.709032  -6.962574  0.0\n",
              "2    -9.582943  -6.831713  0.0\n",
              "3   -17.331861  16.393307  0.0\n",
              "4   -17.017349  17.482292  0.0\n",
              "..         ...        ...  ...\n",
              "496 -12.185069  -3.319023  0.0\n",
              "497 -12.226528  -3.608840  1.0\n",
              "498 -12.738633  12.227744  1.0\n",
              "499 -13.243546  12.116522  1.0\n",
              "500  13.310113  -1.667141  0.0\n",
              "\n",
              "[501 rows x 3 columns]"
            ],
            "text/html": [
              "\n",
              "  <div id=\"df-8e43124a-3135-4f07-b2b3-6e5082aea7ed\">\n",
              "    <div class=\"colab-df-container\">\n",
              "      <div>\n",
              "<style scoped>\n",
              "    .dataframe tbody tr th:only-of-type {\n",
              "        vertical-align: middle;\n",
              "    }\n",
              "\n",
              "    .dataframe tbody tr th {\n",
              "        vertical-align: top;\n",
              "    }\n",
              "\n",
              "    .dataframe thead th {\n",
              "        text-align: right;\n",
              "    }\n",
              "</style>\n",
              "<table border=\"1\" class=\"dataframe\">\n",
              "  <thead>\n",
              "    <tr style=\"text-align: right;\">\n",
              "      <th></th>\n",
              "      <th>tsne1</th>\n",
              "      <th>tsne2</th>\n",
              "      <th>y</th>\n",
              "    </tr>\n",
              "  </thead>\n",
              "  <tbody>\n",
              "    <tr>\n",
              "      <th>0</th>\n",
              "      <td>-20.687643</td>\n",
              "      <td>7.501428</td>\n",
              "      <td>0.0</td>\n",
              "    </tr>\n",
              "    <tr>\n",
              "      <th>1</th>\n",
              "      <td>-9.709032</td>\n",
              "      <td>-6.962574</td>\n",
              "      <td>0.0</td>\n",
              "    </tr>\n",
              "    <tr>\n",
              "      <th>2</th>\n",
              "      <td>-9.582943</td>\n",
              "      <td>-6.831713</td>\n",
              "      <td>0.0</td>\n",
              "    </tr>\n",
              "    <tr>\n",
              "      <th>3</th>\n",
              "      <td>-17.331861</td>\n",
              "      <td>16.393307</td>\n",
              "      <td>0.0</td>\n",
              "    </tr>\n",
              "    <tr>\n",
              "      <th>4</th>\n",
              "      <td>-17.017349</td>\n",
              "      <td>17.482292</td>\n",
              "      <td>0.0</td>\n",
              "    </tr>\n",
              "    <tr>\n",
              "      <th>...</th>\n",
              "      <td>...</td>\n",
              "      <td>...</td>\n",
              "      <td>...</td>\n",
              "    </tr>\n",
              "    <tr>\n",
              "      <th>496</th>\n",
              "      <td>-12.185069</td>\n",
              "      <td>-3.319023</td>\n",
              "      <td>0.0</td>\n",
              "    </tr>\n",
              "    <tr>\n",
              "      <th>497</th>\n",
              "      <td>-12.226528</td>\n",
              "      <td>-3.608840</td>\n",
              "      <td>1.0</td>\n",
              "    </tr>\n",
              "    <tr>\n",
              "      <th>498</th>\n",
              "      <td>-12.738633</td>\n",
              "      <td>12.227744</td>\n",
              "      <td>1.0</td>\n",
              "    </tr>\n",
              "    <tr>\n",
              "      <th>499</th>\n",
              "      <td>-13.243546</td>\n",
              "      <td>12.116522</td>\n",
              "      <td>1.0</td>\n",
              "    </tr>\n",
              "    <tr>\n",
              "      <th>500</th>\n",
              "      <td>13.310113</td>\n",
              "      <td>-1.667141</td>\n",
              "      <td>0.0</td>\n",
              "    </tr>\n",
              "  </tbody>\n",
              "</table>\n",
              "<p>501 rows × 3 columns</p>\n",
              "</div>\n",
              "      <button class=\"colab-df-convert\" onclick=\"convertToInteractive('df-8e43124a-3135-4f07-b2b3-6e5082aea7ed')\"\n",
              "              title=\"Convert this dataframe to an interactive table.\"\n",
              "              style=\"display:none;\">\n",
              "        \n",
              "  <svg xmlns=\"http://www.w3.org/2000/svg\" height=\"24px\"viewBox=\"0 0 24 24\"\n",
              "       width=\"24px\">\n",
              "    <path d=\"M0 0h24v24H0V0z\" fill=\"none\"/>\n",
              "    <path d=\"M18.56 5.44l.94 2.06.94-2.06 2.06-.94-2.06-.94-.94-2.06-.94 2.06-2.06.94zm-11 1L8.5 8.5l.94-2.06 2.06-.94-2.06-.94L8.5 2.5l-.94 2.06-2.06.94zm10 10l.94 2.06.94-2.06 2.06-.94-2.06-.94-.94-2.06-.94 2.06-2.06.94z\"/><path d=\"M17.41 7.96l-1.37-1.37c-.4-.4-.92-.59-1.43-.59-.52 0-1.04.2-1.43.59L10.3 9.45l-7.72 7.72c-.78.78-.78 2.05 0 2.83L4 21.41c.39.39.9.59 1.41.59.51 0 1.02-.2 1.41-.59l7.78-7.78 2.81-2.81c.8-.78.8-2.07 0-2.86zM5.41 20L4 18.59l7.72-7.72 1.47 1.35L5.41 20z\"/>\n",
              "  </svg>\n",
              "      </button>\n",
              "      \n",
              "  <style>\n",
              "    .colab-df-container {\n",
              "      display:flex;\n",
              "      flex-wrap:wrap;\n",
              "      gap: 12px;\n",
              "    }\n",
              "\n",
              "    .colab-df-convert {\n",
              "      background-color: #E8F0FE;\n",
              "      border: none;\n",
              "      border-radius: 50%;\n",
              "      cursor: pointer;\n",
              "      display: none;\n",
              "      fill: #1967D2;\n",
              "      height: 32px;\n",
              "      padding: 0 0 0 0;\n",
              "      width: 32px;\n",
              "    }\n",
              "\n",
              "    .colab-df-convert:hover {\n",
              "      background-color: #E2EBFA;\n",
              "      box-shadow: 0px 1px 2px rgba(60, 64, 67, 0.3), 0px 1px 3px 1px rgba(60, 64, 67, 0.15);\n",
              "      fill: #174EA6;\n",
              "    }\n",
              "\n",
              "    [theme=dark] .colab-df-convert {\n",
              "      background-color: #3B4455;\n",
              "      fill: #D2E3FC;\n",
              "    }\n",
              "\n",
              "    [theme=dark] .colab-df-convert:hover {\n",
              "      background-color: #434B5C;\n",
              "      box-shadow: 0px 1px 3px 1px rgba(0, 0, 0, 0.15);\n",
              "      filter: drop-shadow(0px 1px 2px rgba(0, 0, 0, 0.3));\n",
              "      fill: #FFFFFF;\n",
              "    }\n",
              "  </style>\n",
              "\n",
              "      <script>\n",
              "        const buttonEl =\n",
              "          document.querySelector('#df-8e43124a-3135-4f07-b2b3-6e5082aea7ed button.colab-df-convert');\n",
              "        buttonEl.style.display =\n",
              "          google.colab.kernel.accessAllowed ? 'block' : 'none';\n",
              "\n",
              "        async function convertToInteractive(key) {\n",
              "          const element = document.querySelector('#df-8e43124a-3135-4f07-b2b3-6e5082aea7ed');\n",
              "          const dataTable =\n",
              "            await google.colab.kernel.invokeFunction('convertToInteractive',\n",
              "                                                     [key], {});\n",
              "          if (!dataTable) return;\n",
              "\n",
              "          const docLinkHtml = 'Like what you see? Visit the ' +\n",
              "            '<a target=\"_blank\" href=https://colab.research.google.com/notebooks/data_table.ipynb>data table notebook</a>'\n",
              "            + ' to learn more about interactive tables.';\n",
              "          element.innerHTML = '';\n",
              "          dataTable['output_type'] = 'display_data';\n",
              "          await google.colab.output.renderOutput(dataTable, element);\n",
              "          const docLink = document.createElement('div');\n",
              "          docLink.innerHTML = docLinkHtml;\n",
              "          element.appendChild(docLink);\n",
              "        }\n",
              "      </script>\n",
              "    </div>\n",
              "  </div>\n",
              "  "
            ]
          },
          "metadata": {},
          "execution_count": 53
        }
      ],
      "source": [
        "data_tsne = TSNE(n_components = 2).fit_transform(X)\n",
        "data_tsne = pd.DataFrame(data_tsne , columns =['tsne1','tsne2'])\n",
        "data_tsne['y'] = y\n",
        "data_tsne"
      ]
    },
    {
      "cell_type": "code",
      "execution_count": 54,
      "id": "a0ccdba8",
      "metadata": {
        "colab": {
          "base_uri": "https://localhost:8080/",
          "height": 304
        },
        "id": "a0ccdba8",
        "outputId": "43c429ed-cafc-4895-f706-db18cee1773f"
      },
      "outputs": [
        {
          "output_type": "display_data",
          "data": {
            "text/plain": [
              "<Figure size 432x288 with 1 Axes>"
            ],
            "image/png": "[encoded data removed]"
          },
          "metadata": {}
        }
      ],
      "source": [
        "sns.scatterplot(x='tsne1', y='tsne2', data=data_tsne , hue = data_tsne.y)\n",
        "plt.show()"
      ]
    },
    {
      "cell_type": "markdown",
      "id": "a41584e6",
      "metadata": {
        "id": "a41584e6"
      },
      "source": [
        "## Model Building"
      ]
    },
    {
      "cell_type": "code",
      "execution_count": 55,
      "id": "819bf7f4",
      "metadata": {
        "id": "819bf7f4"
      },
      "outputs": [],
      "source": [
        "from sklearn.model_selection import train_test_split , GridSearchCV , KFold , cross_val_score ,RandomizedSearchCV  \n",
        "from keras.models import Sequential\n",
        "from keras.layers import Dense , Dropout\n",
        "from keras.wrappers.scikit_learn import KerasClassifier\n",
        "from tensorflow.keras.optimizers import Adam\n",
        "\n",
        "from sklearn.metrics import classification_report , accuracy_score , f1_score"
      ]
    },
    {
      "cell_type": "code",
      "execution_count": 56,
      "id": "a94ba743",
      "metadata": {
        "colab": {
          "base_uri": "https://localhost:8080/",
          "height": 206
        },
        "id": "a94ba743",
        "outputId": "0e309651-ab0d-4445-926a-4b499cd97972"
      },
      "outputs": [
        {
          "output_type": "execute_result",
          "data": {
            "text/plain": [
              "       FFMC       DMC        DC       ISI      temp        RH      wind  \\\n",
              "0 -0.025198 -1.108416 -0.505104 -1.612183 -0.618468 -0.619558 -0.213630   \n",
              "1  0.031885 -1.041676 -0.117694 -1.479946 -0.367844 -1.078007 -1.319427   \n",
              "2  0.031885 -0.985249 -0.098938 -1.479946 -0.460348 -1.078007 -1.192385   \n",
              "3  0.051824 -1.056489 -0.509682 -1.316436 -0.616190  0.062966 -0.606677   \n",
              "4  0.011583 -0.936199 -0.502809 -1.277886 -0.542331  0.085044 -1.055764   \n",
              "\n",
              "       rain      area     month       day  size_category  \n",
              "0 -2.302585 -2.302585  0.207547  0.259259            0.0  \n",
              "1 -2.302585 -2.302585  0.266667  0.322581            0.0  \n",
              "2 -2.302585 -2.302585  0.266667  0.308642            0.0  \n",
              "3 -2.030651 -2.302585  0.207547  0.259259            0.0  \n",
              "4 -2.302585 -2.302585  0.207547  0.266667            0.0  "
            ],
            "text/html": [
              "\n",
              "  <div id=\"df-4172420f-6b66-4adf-90b4-3515c9ff81ae\">\n",
              "    <div class=\"colab-df-container\">\n",
              "      <div>\n",
              "<style scoped>\n",
              "    .dataframe tbody tr th:only-of-type {\n",
              "        vertical-align: middle;\n",
              "    }\n",
              "\n",
              "    .dataframe tbody tr th {\n",
              "        vertical-align: top;\n",
              "    }\n",
              "\n",
              "    .dataframe thead th {\n",
              "        text-align: right;\n",
              "    }\n",
              "</style>\n",
              "<table border=\"1\" class=\"dataframe\">\n",
              "  <thead>\n",
              "    <tr style=\"text-align: right;\">\n",
              "      <th></th>\n",
              "      <th>FFMC</th>\n",
              "      <th>DMC</th>\n",
              "      <th>DC</th>\n",
              "      <th>ISI</th>\n",
              "      <th>temp</th>\n",
              "      <th>RH</th>\n",
              "      <th>wind</th>\n",
              "      <th>rain</th>\n",
              "      <th>area</th>\n",
              "      <th>month</th>\n",
              "      <th>day</th>\n",
              "      <th>size_category</th>\n",
              "    </tr>\n",
              "  </thead>\n",
              "  <tbody>\n",
              "    <tr>\n",
              "      <th>0</th>\n",
              "      <td>-0.025198</td>\n",
              "      <td>-1.108416</td>\n",
              "      <td>-0.505104</td>\n",
              "      <td>-1.612183</td>\n",
              "      <td>-0.618468</td>\n",
              "      <td>-0.619558</td>\n",
              "      <td>-0.213630</td>\n",
              "      <td>-2.302585</td>\n",
              "      <td>-2.302585</td>\n",
              "      <td>0.207547</td>\n",
              "      <td>0.259259</td>\n",
              "      <td>0.0</td>\n",
              "    </tr>\n",
              "    <tr>\n",
              "      <th>1</th>\n",
              "      <td>0.031885</td>\n",
              "      <td>-1.041676</td>\n",
              "      <td>-0.117694</td>\n",
              "      <td>-1.479946</td>\n",
              "      <td>-0.367844</td>\n",
              "      <td>-1.078007</td>\n",
              "      <td>-1.319427</td>\n",
              "      <td>-2.302585</td>\n",
              "      <td>-2.302585</td>\n",
              "      <td>0.266667</td>\n",
              "      <td>0.322581</td>\n",
              "      <td>0.0</td>\n",
              "    </tr>\n",
              "    <tr>\n",
              "      <th>2</th>\n",
              "      <td>0.031885</td>\n",
              "      <td>-0.985249</td>\n",
              "      <td>-0.098938</td>\n",
              "      <td>-1.479946</td>\n",
              "      <td>-0.460348</td>\n",
              "      <td>-1.078007</td>\n",
              "      <td>-1.192385</td>\n",
              "      <td>-2.302585</td>\n",
              "      <td>-2.302585</td>\n",
              "      <td>0.266667</td>\n",
              "      <td>0.308642</td>\n",
              "      <td>0.0</td>\n",
              "    </tr>\n",
              "    <tr>\n",
              "      <th>3</th>\n",
              "      <td>0.051824</td>\n",
              "      <td>-1.056489</td>\n",
              "      <td>-0.509682</td>\n",
              "      <td>-1.316436</td>\n",
              "      <td>-0.616190</td>\n",
              "      <td>0.062966</td>\n",
              "      <td>-0.606677</td>\n",
              "      <td>-2.030651</td>\n",
              "      <td>-2.302585</td>\n",
              "      <td>0.207547</td>\n",
              "      <td>0.259259</td>\n",
              "      <td>0.0</td>\n",
              "    </tr>\n",
              "    <tr>\n",
              "      <th>4</th>\n",
              "      <td>0.011583</td>\n",
              "      <td>-0.936199</td>\n",
              "      <td>-0.502809</td>\n",
              "      <td>-1.277886</td>\n",
              "      <td>-0.542331</td>\n",
              "      <td>0.085044</td>\n",
              "      <td>-1.055764</td>\n",
              "      <td>-2.302585</td>\n",
              "      <td>-2.302585</td>\n",
              "      <td>0.207547</td>\n",
              "      <td>0.266667</td>\n",
              "      <td>0.0</td>\n",
              "    </tr>\n",
              "  </tbody>\n",
              "</table>\n",
              "</div>\n",
              "      <button class=\"colab-df-convert\" onclick=\"convertToInteractive('df-4172420f-6b66-4adf-90b4-3515c9ff81ae')\"\n",
              "              title=\"Convert this dataframe to an interactive table.\"\n",
              "              style=\"display:none;\">\n",
              "        \n",
              "  <svg xmlns=\"http://www.w3.org/2000/svg\" height=\"24px\"viewBox=\"0 0 24 24\"\n",
              "       width=\"24px\">\n",
              "    <path d=\"M0 0h24v24H0V0z\" fill=\"none\"/>\n",
              "    <path d=\"M18.56 5.44l.94 2.06.94-2.06 2.06-.94-2.06-.94-.94-2.06-.94 2.06-2.06.94zm-11 1L8.5 8.5l.94-2.06 2.06-.94-2.06-.94L8.5 2.5l-.94 2.06-2.06.94zm10 10l.94 2.06.94-2.06 2.06-.94-2.06-.94-.94-2.06-.94 2.06-2.06.94z\"/><path d=\"M17.41 7.96l-1.37-1.37c-.4-.4-.92-.59-1.43-.59-.52 0-1.04.2-1.43.59L10.3 9.45l-7.72 7.72c-.78.78-.78 2.05 0 2.83L4 21.41c.39.39.9.59 1.41.59.51 0 1.02-.2 1.41-.59l7.78-7.78 2.81-2.81c.8-.78.8-2.07 0-2.86zM5.41 20L4 18.59l7.72-7.72 1.47 1.35L5.41 20z\"/>\n",
              "  </svg>\n",
              "      </button>\n",
              "      \n",
              "  <style>\n",
              "    .colab-df-container {\n",
              "      display:flex;\n",
              "      flex-wrap:wrap;\n",
              "      gap: 12px;\n",
              "    }\n",
              "\n",
              "    .colab-df-convert {\n",
              "      background-color: #E8F0FE;\n",
              "      border: none;\n",
              "      border-radius: 50%;\n",
              "      cursor: pointer;\n",
              "      display: none;\n",
              "      fill: #1967D2;\n",
              "      height: 32px;\n",
              "      padding: 0 0 0 0;\n",
              "      width: 32px;\n",
              "    }\n",
              "\n",
              "    .colab-df-convert:hover {\n",
              "      background-color: #E2EBFA;\n",
              "      box-shadow: 0px 1px 2px rgba(60, 64, 67, 0.3), 0px 1px 3px 1px rgba(60, 64, 67, 0.15);\n",
              "      fill: #174EA6;\n",
              "    }\n",
              "\n",
              "    [theme=dark] .colab-df-convert {\n",
              "      background-color: #3B4455;\n",
              "      fill: #D2E3FC;\n",
              "    }\n",
              "\n",
              "    [theme=dark] .colab-df-convert:hover {\n",
              "      background-color: #434B5C;\n",
              "      box-shadow: 0px 1px 3px 1px rgba(0, 0, 0, 0.15);\n",
              "      filter: drop-shadow(0px 1px 2px rgba(0, 0, 0, 0.3));\n",
              "      fill: #FFFFFF;\n",
              "    }\n",
              "  </style>\n",
              "\n",
              "      <script>\n",
              "        const buttonEl =\n",
              "          document.querySelector('#df-4172420f-6b66-4adf-90b4-3515c9ff81ae button.colab-df-convert');\n",
              "        buttonEl.style.display =\n",
              "          google.colab.kernel.accessAllowed ? 'block' : 'none';\n",
              "\n",
              "        async function convertToInteractive(key) {\n",
              "          const element = document.querySelector('#df-4172420f-6b66-4adf-90b4-3515c9ff81ae');\n",
              "          const dataTable =\n",
              "            await google.colab.kernel.invokeFunction('convertToInteractive',\n",
              "                                                     [key], {});\n",
              "          if (!dataTable) return;\n",
              "\n",
              "          const docLinkHtml = 'Like what you see? Visit the ' +\n",
              "            '<a target=\"_blank\" href=https://colab.research.google.com/notebooks/data_table.ipynb>data table notebook</a>'\n",
              "            + ' to learn more about interactive tables.';\n",
              "          element.innerHTML = '';\n",
              "          dataTable['output_type'] = 'display_data';\n",
              "          await google.colab.output.renderOutput(dataTable, element);\n",
              "          const docLink = document.createElement('div');\n",
              "          docLink.innerHTML = docLinkHtml;\n",
              "          element.appendChild(docLink);\n",
              "        }\n",
              "      </script>\n",
              "    </div>\n",
              "  </div>\n",
              "  "
            ]
          },
          "metadata": {},
          "execution_count": 56
        }
      ],
      "source": [
        "final_data.head()"
      ]
    },
    {
      "cell_type": "code",
      "execution_count": 57,
      "id": "6f6351a7",
      "metadata": {
        "id": "6f6351a7"
      },
      "outputs": [],
      "source": [
        "# Spliting into X and y\n",
        "X = final_data.iloc[:,:-1]\n",
        "y = final_data.iloc[:,-1]"
      ]
    },
    {
      "cell_type": "code",
      "execution_count": 58,
      "id": "9ba0b81f",
      "metadata": {
        "id": "9ba0b81f"
      },
      "outputs": [],
      "source": [
        "# split X and y into training and testing sets\n",
        "X_train, X_test, y_train, y_test = train_test_split(X, y, test_size = 0.2 ,stratify = y, random_state = 42)"
      ]
    },
    {
      "cell_type": "code",
      "execution_count": 59,
      "id": "19afdfc5",
      "metadata": {
        "colab": {
          "base_uri": "https://localhost:8080/",
          "height": 300
        },
        "id": "19afdfc5",
        "outputId": "a68c7913-1168-420d-fb1a-544345bb1fad"
      },
      "outputs": [
        {
          "output_type": "execute_result",
          "data": {
            "text/plain": [
              "       FFMC       DMC        DC       ISI      temp        RH      wind  \\\n",
              "0 -0.025198 -1.108416 -0.505104 -1.612183 -0.618468 -0.619558 -0.213630   \n",
              "1  0.031885 -1.041676 -0.117694 -1.479946 -0.367844 -1.078007 -1.319427   \n",
              "2  0.031885 -0.985249 -0.098938 -1.479946 -0.460348 -1.078007 -1.192385   \n",
              "3  0.051824 -1.056489 -0.509682 -1.316436 -0.616190  0.062966 -0.606677   \n",
              "4  0.011583 -0.936199 -0.502809 -1.277886 -0.542331  0.085044 -1.055764   \n",
              "\n",
              "       rain      area  dayfri  ...  monthfeb  monthjan  monthjul  monthjun  \\\n",
              "0 -2.302585 -2.302585       1  ...         0         0         0         0   \n",
              "1 -2.302585 -2.302585       0  ...         0         0         0         0   \n",
              "2 -2.302585 -2.302585       0  ...         0         0         0         0   \n",
              "3 -2.030651 -2.302585       1  ...         0         0         0         0   \n",
              "4 -2.302585 -2.302585       0  ...         0         0         0         0   \n",
              "\n",
              "   monthmar  monthmay  monthnov  monthoct  monthsep  size_category  \n",
              "0         1         0         0         0         0              0  \n",
              "1         0         0         0         1         0              0  \n",
              "2         0         0         0         1         0              0  \n",
              "3         1         0         0         0         0              0  \n",
              "4         1         0         0         0         0              0  \n",
              "\n",
              "[5 rows x 29 columns]"
            ],
            "text/html": [
              "\n",
              "  <div id=\"df-65874f85-285a-4a59-9bdc-83c6a464a040\">\n",
              "    <div class=\"colab-df-container\">\n",
              "      <div>\n",
              "<style scoped>\n",
              "    .dataframe tbody tr th:only-of-type {\n",
              "        vertical-align: middle;\n",
              "    }\n",
              "\n",
              "    .dataframe tbody tr th {\n",
              "        vertical-align: top;\n",
              "    }\n",
              "\n",
              "    .dataframe thead th {\n",
              "        text-align: right;\n",
              "    }\n",
              "</style>\n",
              "<table border=\"1\" class=\"dataframe\">\n",
              "  <thead>\n",
              "    <tr style=\"text-align: right;\">\n",
              "      <th></th>\n",
              "      <th>FFMC</th>\n",
              "      <th>DMC</th>\n",
              "      <th>DC</th>\n",
              "      <th>ISI</th>\n",
              "      <th>temp</th>\n",
              "      <th>RH</th>\n",
              "      <th>wind</th>\n",
              "      <th>rain</th>\n",
              "      <th>area</th>\n",
              "      <th>dayfri</th>\n",
              "      <th>...</th>\n",
              "      <th>monthfeb</th>\n",
              "      <th>monthjan</th>\n",
              "      <th>monthjul</th>\n",
              "      <th>monthjun</th>\n",
              "      <th>monthmar</th>\n",
              "      <th>monthmay</th>\n",
              "      <th>monthnov</th>\n",
              "      <th>monthoct</th>\n",
              "      <th>monthsep</th>\n",
              "      <th>size_category</th>\n",
              "    </tr>\n",
              "  </thead>\n",
              "  <tbody>\n",
              "    <tr>\n",
              "      <th>0</th>\n",
              "      <td>-0.025198</td>\n",
              "      <td>-1.108416</td>\n",
              "      <td>-0.505104</td>\n",
              "      <td>-1.612183</td>\n",
              "      <td>-0.618468</td>\n",
              "      <td>-0.619558</td>\n",
              "      <td>-0.213630</td>\n",
              "      <td>-2.302585</td>\n",
              "      <td>-2.302585</td>\n",
              "      <td>1</td>\n",
              "      <td>...</td>\n",
              "      <td>0</td>\n",
              "      <td>0</td>\n",
              "      <td>0</td>\n",
              "      <td>0</td>\n",
              "      <td>1</td>\n",
              "      <td>0</td>\n",
              "      <td>0</td>\n",
              "      <td>0</td>\n",
              "      <td>0</td>\n",
              "      <td>0</td>\n",
              "    </tr>\n",
              "    <tr>\n",
              "      <th>1</th>\n",
              "      <td>0.031885</td>\n",
              "      <td>-1.041676</td>\n",
              "      <td>-0.117694</td>\n",
              "      <td>-1.479946</td>\n",
              "      <td>-0.367844</td>\n",
              "      <td>-1.078007</td>\n",
              "      <td>-1.319427</td>\n",
              "      <td>-2.302585</td>\n",
              "      <td>-2.302585</td>\n",
              "      <td>0</td>\n",
              "      <td>...</td>\n",
              "      <td>0</td>\n",
              "      <td>0</td>\n",
              "      <td>0</td>\n",
              "      <td>0</td>\n",
              "      <td>0</td>\n",
              "      <td>0</td>\n",
              "      <td>0</td>\n",
              "      <td>1</td>\n",
              "      <td>0</td>\n",
              "      <td>0</td>\n",
              "    </tr>\n",
              "    <tr>\n",
              "      <th>2</th>\n",
              "      <td>0.031885</td>\n",
              "      <td>-0.985249</td>\n",
              "      <td>-0.098938</td>\n",
              "      <td>-1.479946</td>\n",
              "      <td>-0.460348</td>\n",
              "      <td>-1.078007</td>\n",
              "      <td>-1.192385</td>\n",
              "      <td>-2.302585</td>\n",
              "      <td>-2.302585</td>\n",
              "      <td>0</td>\n",
              "      <td>...</td>\n",
              "      <td>0</td>\n",
              "      <td>0</td>\n",
              "      <td>0</td>\n",
              "      <td>0</td>\n",
              "      <td>0</td>\n",
              "      <td>0</td>\n",
              "      <td>0</td>\n",
              "      <td>1</td>\n",
              "      <td>0</td>\n",
              "      <td>0</td>\n",
              "    </tr>\n",
              "    <tr>\n",
              "      <th>3</th>\n",
              "      <td>0.051824</td>\n",
              "      <td>-1.056489</td>\n",
              "      <td>-0.509682</td>\n",
              "      <td>-1.316436</td>\n",
              "      <td>-0.616190</td>\n",
              "      <td>0.062966</td>\n",
              "      <td>-0.606677</td>\n",
              "      <td>-2.030651</td>\n",
              "      <td>-2.302585</td>\n",
              "      <td>1</td>\n",
              "      <td>...</td>\n",
              "      <td>0</td>\n",
              "      <td>0</td>\n",
              "      <td>0</td>\n",
              "      <td>0</td>\n",
              "      <td>1</td>\n",
              "      <td>0</td>\n",
              "      <td>0</td>\n",
              "      <td>0</td>\n",
              "      <td>0</td>\n",
              "      <td>0</td>\n",
              "    </tr>\n",
              "    <tr>\n",
              "      <th>4</th>\n",
              "      <td>0.011583</td>\n",
              "      <td>-0.936199</td>\n",
              "      <td>-0.502809</td>\n",
              "      <td>-1.277886</td>\n",
              "      <td>-0.542331</td>\n",
              "      <td>0.085044</td>\n",
              "      <td>-1.055764</td>\n",
              "      <td>-2.302585</td>\n",
              "      <td>-2.302585</td>\n",
              "      <td>0</td>\n",
              "      <td>...</td>\n",
              "      <td>0</td>\n",
              "      <td>0</td>\n",
              "      <td>0</td>\n",
              "      <td>0</td>\n",
              "      <td>1</td>\n",
              "      <td>0</td>\n",
              "      <td>0</td>\n",
              "      <td>0</td>\n",
              "      <td>0</td>\n",
              "      <td>0</td>\n",
              "    </tr>\n",
              "  </tbody>\n",
              "</table>\n",
              "<p>5 rows × 29 columns</p>\n",
              "</div>\n",
              "      <button class=\"colab-df-convert\" onclick=\"convertToInteractive('df-65874f85-285a-4a59-9bdc-83c6a464a040')\"\n",
              "              title=\"Convert this dataframe to an interactive table.\"\n",
              "              style=\"display:none;\">\n",
              "        \n",
              "  <svg xmlns=\"http://www.w3.org/2000/svg\" height=\"24px\"viewBox=\"0 0 24 24\"\n",
              "       width=\"24px\">\n",
              "    <path d=\"M0 0h24v24H0V0z\" fill=\"none\"/>\n",
              "    <path d=\"M18.56 5.44l.94 2.06.94-2.06 2.06-.94-2.06-.94-.94-2.06-.94 2.06-2.06.94zm-11 1L8.5 8.5l.94-2.06 2.06-.94-2.06-.94L8.5 2.5l-.94 2.06-2.06.94zm10 10l.94 2.06.94-2.06 2.06-.94-2.06-.94-.94-2.06-.94 2.06-2.06.94z\"/><path d=\"M17.41 7.96l-1.37-1.37c-.4-.4-.92-.59-1.43-.59-.52 0-1.04.2-1.43.59L10.3 9.45l-7.72 7.72c-.78.78-.78 2.05 0 2.83L4 21.41c.39.39.9.59 1.41.59.51 0 1.02-.2 1.41-.59l7.78-7.78 2.81-2.81c.8-.78.8-2.07 0-2.86zM5.41 20L4 18.59l7.72-7.72 1.47 1.35L5.41 20z\"/>\n",
              "  </svg>\n",
              "      </button>\n",
              "      \n",
              "  <style>\n",
              "    .colab-df-container {\n",
              "      display:flex;\n",
              "      flex-wrap:wrap;\n",
              "      gap: 12px;\n",
              "    }\n",
              "\n",
              "    .colab-df-convert {\n",
              "      background-color: #E8F0FE;\n",
              "      border: none;\n",
              "      border-radius: 50%;\n",
              "      cursor: pointer;\n",
              "      display: none;\n",
              "      fill: #1967D2;\n",
              "      height: 32px;\n",
              "      padding: 0 0 0 0;\n",
              "      width: 32px;\n",
              "    }\n",
              "\n",
              "    .colab-df-convert:hover {\n",
              "      background-color: #E2EBFA;\n",
              "      box-shadow: 0px 1px 2px rgba(60, 64, 67, 0.3), 0px 1px 3px 1px rgba(60, 64, 67, 0.15);\n",
              "      fill: #174EA6;\n",
              "    }\n",
              "\n",
              "    [theme=dark] .colab-df-convert {\n",
              "      background-color: #3B4455;\n",
              "      fill: #D2E3FC;\n",
              "    }\n",
              "\n",
              "    [theme=dark] .colab-df-convert:hover {\n",
              "      background-color: #434B5C;\n",
              "      box-shadow: 0px 1px 3px 1px rgba(0, 0, 0, 0.15);\n",
              "      filter: drop-shadow(0px 1px 2px rgba(0, 0, 0, 0.3));\n",
              "      fill: #FFFFFF;\n",
              "    }\n",
              "  </style>\n",
              "\n",
              "      <script>\n",
              "        const buttonEl =\n",
              "          document.querySelector('#df-65874f85-285a-4a59-9bdc-83c6a464a040 button.colab-df-convert');\n",
              "        buttonEl.style.display =\n",
              "          google.colab.kernel.accessAllowed ? 'block' : 'none';\n",
              "\n",
              "        async function convertToInteractive(key) {\n",
              "          const element = document.querySelector('#df-65874f85-285a-4a59-9bdc-83c6a464a040');\n",
              "          const dataTable =\n",
              "            await google.colab.kernel.invokeFunction('convertToInteractive',\n",
              "                                                     [key], {});\n",
              "          if (!dataTable) return;\n",
              "\n",
              "          const docLinkHtml = 'Like what you see? Visit the ' +\n",
              "            '<a target=\"_blank\" href=https://colab.research.google.com/notebooks/data_table.ipynb>data table notebook</a>'\n",
              "            + ' to learn more about interactive tables.';\n",
              "          element.innerHTML = '';\n",
              "          dataTable['output_type'] = 'display_data';\n",
              "          await google.colab.output.renderOutput(dataTable, element);\n",
              "          const docLink = document.createElement('div');\n",
              "          docLink.innerHTML = docLinkHtml;\n",
              "          element.appendChild(docLink);\n",
              "        }\n",
              "      </script>\n",
              "    </div>\n",
              "  </div>\n",
              "  "
            ]
          },
          "metadata": {},
          "execution_count": 59
        }
      ],
      "source": [
        "data_get_dummies.head()"
      ]
    },
    {
      "cell_type": "code",
      "execution_count": 60,
      "id": "6fb435d8",
      "metadata": {
        "id": "6fb435d8"
      },
      "outputs": [],
      "source": [
        "# Spliting into X and y\n",
        "X_gd = data_get_dummies.iloc[:,:-1]\n",
        "y_gd = data_get_dummies.iloc[:,-1]"
      ]
    },
    {
      "cell_type": "code",
      "execution_count": 61,
      "id": "908ad962",
      "metadata": {
        "id": "908ad962"
      },
      "outputs": [],
      "source": [
        "# split X and y into training and testing sets\n",
        "X_gd_train, X_gd_test, y_gd_train, y_gd_test = train_test_split(X_gd, y_gd, test_size = 0.2 ,stratify = y, random_state = 42)"
      ]
    },
    {
      "cell_type": "code",
      "source": [
        "X_train.shape , X_gd_train.shape"
      ],
      "metadata": {
        "colab": {
          "base_uri": "https://localhost:8080/"
        },
        "id": "XoZUB-JRrGza",
        "outputId": "2736a715-17fc-49b4-eee2-4909fa91611a"
      },
      "id": "XoZUB-JRrGza",
      "execution_count": 62,
      "outputs": [
        {
          "output_type": "execute_result",
          "data": {
            "text/plain": [
              "((400, 11), (400, 28))"
            ]
          },
          "metadata": {},
          "execution_count": 62
        }
      ]
    },
    {
      "cell_type": "code",
      "source": [
        "# create model\n",
        "model = Sequential()\n",
        "model.add(Dense(12, input_dim=11,  activation='relu'))\n",
        "\n",
        "model.add(Dense(8,  activation='relu'))\n",
        "model.add(Dense(1, activation='sigmoid'))"
      ],
      "metadata": {
        "id": "fq_1v6-_rUne"
      },
      "id": "fq_1v6-_rUne",
      "execution_count": 63,
      "outputs": []
    },
    {
      "cell_type": "code",
      "source": [
        "# Compile model\n",
        "model.compile(loss='binary_crossentropy', optimizer='adam', metrics=['accuracy'])"
      ],
      "metadata": {
        "id": "1lepYBYjrWLe"
      },
      "id": "1lepYBYjrWLe",
      "execution_count": 64,
      "outputs": []
    },
    {
      "cell_type": "code",
      "source": [
        "# Fit the model\n",
        "result = model.fit(X, y, validation_split=0.20, epochs=200, batch_size=50)"
      ],
      "metadata": {
        "colab": {
          "base_uri": "https://localhost:8080/"
        },
        "id": "5hSzf5VNs8PX",
        "outputId": "26c6a588-518c-43c4-9c17-b0d06a2bded4"
      },
      "id": "5hSzf5VNs8PX",
      "execution_count": 65,
      "outputs": [
        {
          "output_type": "stream",
          "name": "stdout",
          "text": [
            "Epoch 1/200\n",
            "8/8 [==============================] - 3s 72ms/step - loss: 1.2620 - accuracy: 0.2625 - val_loss: 1.1371 - val_accuracy: 0.2970\n",
            "Epoch 2/200\n",
            "8/8 [==============================] - 0s 5ms/step - loss: 1.1741 - accuracy: 0.2625 - val_loss: 1.0646 - val_accuracy: 0.2970\n",
            "Epoch 3/200\n",
            "8/8 [==============================] - 0s 5ms/step - loss: 1.0947 - accuracy: 0.2625 - val_loss: 0.9974 - val_accuracy: 0.2970\n",
            "Epoch 4/200\n",
            "8/8 [==============================] - 0s 10ms/step - loss: 1.0192 - accuracy: 0.2625 - val_loss: 0.9369 - val_accuracy: 0.2970\n",
            "Epoch 5/200\n",
            "8/8 [==============================] - 0s 13ms/step - loss: 0.9523 - accuracy: 0.2625 - val_loss: 0.8822 - val_accuracy: 0.2970\n",
            "Epoch 6/200\n",
            "8/8 [==============================] - 0s 10ms/step - loss: 0.8911 - accuracy: 0.2625 - val_loss: 0.8337 - val_accuracy: 0.2970\n",
            "Epoch 7/200\n",
            "8/8 [==============================] - 0s 9ms/step - loss: 0.8364 - accuracy: 0.2625 - val_loss: 0.7912 - val_accuracy: 0.2970\n",
            "Epoch 8/200\n",
            "8/8 [==============================] - 0s 8ms/step - loss: 0.7881 - accuracy: 0.2625 - val_loss: 0.7552 - val_accuracy: 0.2970\n",
            "Epoch 9/200\n",
            "8/8 [==============================] - 0s 12ms/step - loss: 0.7469 - accuracy: 0.2625 - val_loss: 0.7245 - val_accuracy: 0.3267\n",
            "Epoch 10/200\n",
            "8/8 [==============================] - 0s 10ms/step - loss: 0.7133 - accuracy: 0.3225 - val_loss: 0.6980 - val_accuracy: 0.4455\n",
            "Epoch 11/200\n",
            "8/8 [==============================] - 0s 13ms/step - loss: 0.6833 - accuracy: 0.6250 - val_loss: 0.6770 - val_accuracy: 0.6634\n",
            "Epoch 12/200\n",
            "8/8 [==============================] - 0s 13ms/step - loss: 0.6611 - accuracy: 0.7350 - val_loss: 0.6590 - val_accuracy: 0.7030\n",
            "Epoch 13/200\n",
            "8/8 [==============================] - 0s 10ms/step - loss: 0.6400 - accuracy: 0.7400 - val_loss: 0.6453 - val_accuracy: 0.7030\n",
            "Epoch 14/200\n",
            "8/8 [==============================] - 0s 14ms/step - loss: 0.6241 - accuracy: 0.7375 - val_loss: 0.6348 - val_accuracy: 0.7030\n",
            "Epoch 15/200\n",
            "8/8 [==============================] - 0s 12ms/step - loss: 0.6113 - accuracy: 0.7375 - val_loss: 0.6270 - val_accuracy: 0.7030\n",
            "Epoch 16/200\n",
            "8/8 [==============================] - 0s 10ms/step - loss: 0.6021 - accuracy: 0.7375 - val_loss: 0.6210 - val_accuracy: 0.7030\n",
            "Epoch 17/200\n",
            "8/8 [==============================] - 0s 9ms/step - loss: 0.5961 - accuracy: 0.7375 - val_loss: 0.6169 - val_accuracy: 0.7030\n",
            "Epoch 18/200\n",
            "8/8 [==============================] - 0s 18ms/step - loss: 0.5914 - accuracy: 0.7375 - val_loss: 0.6142 - val_accuracy: 0.7030\n",
            "Epoch 19/200\n",
            "8/8 [==============================] - 0s 19ms/step - loss: 0.5873 - accuracy: 0.7400 - val_loss: 0.6121 - val_accuracy: 0.7030\n",
            "Epoch 20/200\n",
            "8/8 [==============================] - 0s 12ms/step - loss: 0.5838 - accuracy: 0.7400 - val_loss: 0.6109 - val_accuracy: 0.7030\n",
            "Epoch 21/200\n",
            "8/8 [==============================] - 0s 17ms/step - loss: 0.5798 - accuracy: 0.7400 - val_loss: 0.6104 - val_accuracy: 0.7030\n",
            "Epoch 22/200\n",
            "8/8 [==============================] - 0s 12ms/step - loss: 0.5756 - accuracy: 0.7400 - val_loss: 0.6112 - val_accuracy: 0.6931\n",
            "Epoch 23/200\n",
            "8/8 [==============================] - 0s 9ms/step - loss: 0.5717 - accuracy: 0.7400 - val_loss: 0.6101 - val_accuracy: 0.6931\n",
            "Epoch 24/200\n",
            "8/8 [==============================] - 0s 11ms/step - loss: 0.5678 - accuracy: 0.7400 - val_loss: 0.6103 - val_accuracy: 0.6931\n",
            "Epoch 25/200\n",
            "8/8 [==============================] - 0s 13ms/step - loss: 0.5642 - accuracy: 0.7400 - val_loss: 0.6113 - val_accuracy: 0.6931\n",
            "Epoch 26/200\n",
            "8/8 [==============================] - 0s 12ms/step - loss: 0.5612 - accuracy: 0.7400 - val_loss: 0.6116 - val_accuracy: 0.6931\n",
            "Epoch 27/200\n",
            "8/8 [==============================] - 0s 13ms/step - loss: 0.5584 - accuracy: 0.7425 - val_loss: 0.6118 - val_accuracy: 0.6931\n",
            "Epoch 28/200\n",
            "8/8 [==============================] - 0s 11ms/step - loss: 0.5559 - accuracy: 0.7450 - val_loss: 0.6122 - val_accuracy: 0.7030\n",
            "Epoch 29/200\n",
            "8/8 [==============================] - 0s 17ms/step - loss: 0.5535 - accuracy: 0.7450 - val_loss: 0.6119 - val_accuracy: 0.7030\n",
            "Epoch 30/200\n",
            "8/8 [==============================] - 0s 10ms/step - loss: 0.5514 - accuracy: 0.7450 - val_loss: 0.6126 - val_accuracy: 0.7030\n",
            "Epoch 31/200\n",
            "8/8 [==============================] - 0s 15ms/step - loss: 0.5494 - accuracy: 0.7475 - val_loss: 0.6137 - val_accuracy: 0.7030\n",
            "Epoch 32/200\n",
            "8/8 [==============================] - 0s 14ms/step - loss: 0.5480 - accuracy: 0.7500 - val_loss: 0.6148 - val_accuracy: 0.7030\n",
            "Epoch 33/200\n",
            "8/8 [==============================] - 0s 12ms/step - loss: 0.5459 - accuracy: 0.7500 - val_loss: 0.6157 - val_accuracy: 0.7030\n",
            "Epoch 34/200\n",
            "8/8 [==============================] - 0s 11ms/step - loss: 0.5450 - accuracy: 0.7500 - val_loss: 0.6164 - val_accuracy: 0.7030\n",
            "Epoch 35/200\n",
            "8/8 [==============================] - 0s 11ms/step - loss: 0.5429 - accuracy: 0.7500 - val_loss: 0.6181 - val_accuracy: 0.7030\n",
            "Epoch 36/200\n",
            "8/8 [==============================] - 0s 10ms/step - loss: 0.5417 - accuracy: 0.7550 - val_loss: 0.6193 - val_accuracy: 0.7030\n",
            "Epoch 37/200\n",
            "8/8 [==============================] - 0s 18ms/step - loss: 0.5412 - accuracy: 0.7500 - val_loss: 0.6194 - val_accuracy: 0.7030\n",
            "Epoch 38/200\n",
            "8/8 [==============================] - 0s 21ms/step - loss: 0.5390 - accuracy: 0.7525 - val_loss: 0.6212 - val_accuracy: 0.7030\n",
            "Epoch 39/200\n",
            "8/8 [==============================] - 0s 10ms/step - loss: 0.5377 - accuracy: 0.7550 - val_loss: 0.6222 - val_accuracy: 0.7030\n",
            "Epoch 40/200\n",
            "8/8 [==============================] - 0s 11ms/step - loss: 0.5369 - accuracy: 0.7600 - val_loss: 0.6232 - val_accuracy: 0.7030\n",
            "Epoch 41/200\n",
            "8/8 [==============================] - 0s 11ms/step - loss: 0.5356 - accuracy: 0.7550 - val_loss: 0.6234 - val_accuracy: 0.7030\n",
            "Epoch 42/200\n",
            "8/8 [==============================] - 0s 9ms/step - loss: 0.5356 - accuracy: 0.7550 - val_loss: 0.6245 - val_accuracy: 0.7030\n",
            "Epoch 43/200\n",
            "8/8 [==============================] - 0s 15ms/step - loss: 0.5332 - accuracy: 0.7575 - val_loss: 0.6262 - val_accuracy: 0.7030\n",
            "Epoch 44/200\n",
            "8/8 [==============================] - 0s 10ms/step - loss: 0.5323 - accuracy: 0.7650 - val_loss: 0.6274 - val_accuracy: 0.7030\n",
            "Epoch 45/200\n",
            "8/8 [==============================] - 0s 9ms/step - loss: 0.5313 - accuracy: 0.7650 - val_loss: 0.6282 - val_accuracy: 0.7030\n",
            "Epoch 46/200\n",
            "8/8 [==============================] - 0s 12ms/step - loss: 0.5301 - accuracy: 0.7650 - val_loss: 0.6286 - val_accuracy: 0.7030\n",
            "Epoch 47/200\n",
            "8/8 [==============================] - 0s 11ms/step - loss: 0.5292 - accuracy: 0.7650 - val_loss: 0.6300 - val_accuracy: 0.7030\n",
            "Epoch 48/200\n",
            "8/8 [==============================] - 0s 17ms/step - loss: 0.5281 - accuracy: 0.7650 - val_loss: 0.6306 - val_accuracy: 0.7030\n",
            "Epoch 49/200\n",
            "8/8 [==============================] - 0s 13ms/step - loss: 0.5271 - accuracy: 0.7675 - val_loss: 0.6317 - val_accuracy: 0.7030\n",
            "Epoch 50/200\n",
            "8/8 [==============================] - 0s 13ms/step - loss: 0.5265 - accuracy: 0.7675 - val_loss: 0.6329 - val_accuracy: 0.7030\n",
            "Epoch 51/200\n",
            "8/8 [==============================] - 0s 10ms/step - loss: 0.5258 - accuracy: 0.7675 - val_loss: 0.6331 - val_accuracy: 0.7030\n",
            "Epoch 52/200\n",
            "8/8 [==============================] - 0s 16ms/step - loss: 0.5244 - accuracy: 0.7675 - val_loss: 0.6346 - val_accuracy: 0.7030\n",
            "Epoch 53/200\n",
            "8/8 [==============================] - 0s 14ms/step - loss: 0.5231 - accuracy: 0.7700 - val_loss: 0.6362 - val_accuracy: 0.7129\n",
            "Epoch 54/200\n",
            "8/8 [==============================] - 0s 9ms/step - loss: 0.5227 - accuracy: 0.7725 - val_loss: 0.6368 - val_accuracy: 0.7129\n",
            "Epoch 55/200\n",
            "8/8 [==============================] - 0s 9ms/step - loss: 0.5229 - accuracy: 0.7700 - val_loss: 0.6372 - val_accuracy: 0.7030\n",
            "Epoch 56/200\n",
            "8/8 [==============================] - 0s 20ms/step - loss: 0.5203 - accuracy: 0.7700 - val_loss: 0.6386 - val_accuracy: 0.7129\n",
            "Epoch 57/200\n",
            "8/8 [==============================] - 0s 12ms/step - loss: 0.5216 - accuracy: 0.7725 - val_loss: 0.6406 - val_accuracy: 0.7030\n",
            "Epoch 58/200\n",
            "8/8 [==============================] - 0s 9ms/step - loss: 0.5195 - accuracy: 0.7750 - val_loss: 0.6400 - val_accuracy: 0.7129\n",
            "Epoch 59/200\n",
            "8/8 [==============================] - 0s 10ms/step - loss: 0.5190 - accuracy: 0.7725 - val_loss: 0.6412 - val_accuracy: 0.7129\n",
            "Epoch 60/200\n",
            "8/8 [==============================] - 0s 11ms/step - loss: 0.5178 - accuracy: 0.7725 - val_loss: 0.6430 - val_accuracy: 0.7129\n",
            "Epoch 61/200\n",
            "8/8 [==============================] - 0s 24ms/step - loss: 0.5161 - accuracy: 0.7750 - val_loss: 0.6430 - val_accuracy: 0.7129\n",
            "Epoch 62/200\n",
            "8/8 [==============================] - 0s 11ms/step - loss: 0.5167 - accuracy: 0.7725 - val_loss: 0.6433 - val_accuracy: 0.7129\n",
            "Epoch 63/200\n",
            "8/8 [==============================] - 0s 21ms/step - loss: 0.5146 - accuracy: 0.7725 - val_loss: 0.6447 - val_accuracy: 0.7129\n",
            "Epoch 64/200\n",
            "8/8 [==============================] - 0s 14ms/step - loss: 0.5149 - accuracy: 0.7775 - val_loss: 0.6473 - val_accuracy: 0.7030\n",
            "Epoch 65/200\n",
            "8/8 [==============================] - 0s 11ms/step - loss: 0.5132 - accuracy: 0.7750 - val_loss: 0.6466 - val_accuracy: 0.7129\n",
            "Epoch 66/200\n",
            "8/8 [==============================] - 0s 14ms/step - loss: 0.5121 - accuracy: 0.7750 - val_loss: 0.6475 - val_accuracy: 0.7129\n",
            "Epoch 67/200\n",
            "8/8 [==============================] - 0s 20ms/step - loss: 0.5112 - accuracy: 0.7750 - val_loss: 0.6481 - val_accuracy: 0.7129\n",
            "Epoch 68/200\n",
            "8/8 [==============================] - 0s 13ms/step - loss: 0.5108 - accuracy: 0.7750 - val_loss: 0.6499 - val_accuracy: 0.7129\n",
            "Epoch 69/200\n",
            "8/8 [==============================] - 0s 18ms/step - loss: 0.5092 - accuracy: 0.7750 - val_loss: 0.6504 - val_accuracy: 0.7129\n",
            "Epoch 70/200\n",
            "8/8 [==============================] - 0s 10ms/step - loss: 0.5084 - accuracy: 0.7750 - val_loss: 0.6510 - val_accuracy: 0.7129\n",
            "Epoch 71/200\n",
            "8/8 [==============================] - 0s 12ms/step - loss: 0.5078 - accuracy: 0.7750 - val_loss: 0.6521 - val_accuracy: 0.7129\n",
            "Epoch 72/200\n",
            "8/8 [==============================] - 0s 10ms/step - loss: 0.5065 - accuracy: 0.7750 - val_loss: 0.6536 - val_accuracy: 0.7129\n",
            "Epoch 73/200\n",
            "8/8 [==============================] - 0s 11ms/step - loss: 0.5064 - accuracy: 0.7775 - val_loss: 0.6542 - val_accuracy: 0.7129\n",
            "Epoch 74/200\n",
            "8/8 [==============================] - 0s 11ms/step - loss: 0.5057 - accuracy: 0.7775 - val_loss: 0.6552 - val_accuracy: 0.7129\n",
            "Epoch 75/200\n",
            "8/8 [==============================] - 0s 14ms/step - loss: 0.5068 - accuracy: 0.7750 - val_loss: 0.6556 - val_accuracy: 0.7129\n",
            "Epoch 76/200\n",
            "8/8 [==============================] - 0s 9ms/step - loss: 0.5046 - accuracy: 0.7775 - val_loss: 0.6573 - val_accuracy: 0.6931\n",
            "Epoch 77/200\n",
            "8/8 [==============================] - 0s 10ms/step - loss: 0.5031 - accuracy: 0.7775 - val_loss: 0.6583 - val_accuracy: 0.7030\n",
            "Epoch 78/200\n",
            "8/8 [==============================] - 0s 11ms/step - loss: 0.5017 - accuracy: 0.7775 - val_loss: 0.6588 - val_accuracy: 0.7129\n",
            "Epoch 79/200\n",
            "8/8 [==============================] - 0s 23ms/step - loss: 0.5013 - accuracy: 0.7775 - val_loss: 0.6600 - val_accuracy: 0.7129\n",
            "Epoch 80/200\n",
            "8/8 [==============================] - 0s 11ms/step - loss: 0.5003 - accuracy: 0.7775 - val_loss: 0.6610 - val_accuracy: 0.7129\n",
            "Epoch 81/200\n",
            "8/8 [==============================] - 0s 11ms/step - loss: 0.5006 - accuracy: 0.7775 - val_loss: 0.6622 - val_accuracy: 0.7030\n",
            "Epoch 82/200\n",
            "8/8 [==============================] - 0s 9ms/step - loss: 0.5008 - accuracy: 0.7775 - val_loss: 0.6626 - val_accuracy: 0.7129\n",
            "Epoch 83/200\n",
            "8/8 [==============================] - 0s 10ms/step - loss: 0.4982 - accuracy: 0.7775 - val_loss: 0.6632 - val_accuracy: 0.7129\n",
            "Epoch 84/200\n",
            "8/8 [==============================] - 0s 11ms/step - loss: 0.4986 - accuracy: 0.7775 - val_loss: 0.6651 - val_accuracy: 0.6931\n",
            "Epoch 85/200\n",
            "8/8 [==============================] - 0s 16ms/step - loss: 0.4970 - accuracy: 0.7775 - val_loss: 0.6653 - val_accuracy: 0.7129\n",
            "Epoch 86/200\n",
            "8/8 [==============================] - 0s 14ms/step - loss: 0.4967 - accuracy: 0.7775 - val_loss: 0.6665 - val_accuracy: 0.7129\n",
            "Epoch 87/200\n",
            "8/8 [==============================] - 0s 17ms/step - loss: 0.4956 - accuracy: 0.7775 - val_loss: 0.6672 - val_accuracy: 0.7129\n",
            "Epoch 88/200\n",
            "8/8 [==============================] - 0s 12ms/step - loss: 0.4942 - accuracy: 0.7775 - val_loss: 0.6681 - val_accuracy: 0.7030\n",
            "Epoch 89/200\n",
            "8/8 [==============================] - 0s 12ms/step - loss: 0.4938 - accuracy: 0.7775 - val_loss: 0.6692 - val_accuracy: 0.6931\n",
            "Epoch 90/200\n",
            "8/8 [==============================] - 0s 17ms/step - loss: 0.4932 - accuracy: 0.7775 - val_loss: 0.6699 - val_accuracy: 0.7129\n",
            "Epoch 91/200\n",
            "8/8 [==============================] - 0s 19ms/step - loss: 0.4920 - accuracy: 0.7775 - val_loss: 0.6710 - val_accuracy: 0.7129\n",
            "Epoch 92/200\n",
            "8/8 [==============================] - 0s 16ms/step - loss: 0.4935 - accuracy: 0.7850 - val_loss: 0.6722 - val_accuracy: 0.6931\n",
            "Epoch 93/200\n",
            "8/8 [==============================] - 0s 22ms/step - loss: 0.4914 - accuracy: 0.7800 - val_loss: 0.6733 - val_accuracy: 0.7129\n",
            "Epoch 94/200\n",
            "8/8 [==============================] - 0s 11ms/step - loss: 0.4903 - accuracy: 0.7775 - val_loss: 0.6743 - val_accuracy: 0.7129\n",
            "Epoch 95/200\n",
            "8/8 [==============================] - 0s 16ms/step - loss: 0.4884 - accuracy: 0.7800 - val_loss: 0.6753 - val_accuracy: 0.6931\n",
            "Epoch 96/200\n",
            "8/8 [==============================] - 0s 25ms/step - loss: 0.4901 - accuracy: 0.7850 - val_loss: 0.6758 - val_accuracy: 0.6931\n",
            "Epoch 97/200\n",
            "8/8 [==============================] - 0s 19ms/step - loss: 0.4862 - accuracy: 0.7825 - val_loss: 0.6760 - val_accuracy: 0.7129\n",
            "Epoch 98/200\n",
            "8/8 [==============================] - 0s 23ms/step - loss: 0.4869 - accuracy: 0.7800 - val_loss: 0.6776 - val_accuracy: 0.7129\n",
            "Epoch 99/200\n",
            "8/8 [==============================] - 0s 15ms/step - loss: 0.4869 - accuracy: 0.7825 - val_loss: 0.6788 - val_accuracy: 0.7030\n",
            "Epoch 100/200\n",
            "8/8 [==============================] - 0s 21ms/step - loss: 0.4849 - accuracy: 0.7825 - val_loss: 0.6794 - val_accuracy: 0.7129\n",
            "Epoch 101/200\n",
            "8/8 [==============================] - 0s 18ms/step - loss: 0.4856 - accuracy: 0.7825 - val_loss: 0.6801 - val_accuracy: 0.6832\n",
            "Epoch 102/200\n",
            "8/8 [==============================] - 0s 20ms/step - loss: 0.4829 - accuracy: 0.7825 - val_loss: 0.6809 - val_accuracy: 0.7129\n",
            "Epoch 103/200\n",
            "8/8 [==============================] - 0s 10ms/step - loss: 0.4839 - accuracy: 0.7825 - val_loss: 0.6823 - val_accuracy: 0.7129\n",
            "Epoch 104/200\n",
            "8/8 [==============================] - 0s 9ms/step - loss: 0.4820 - accuracy: 0.7850 - val_loss: 0.6834 - val_accuracy: 0.6931\n",
            "Epoch 105/200\n",
            "8/8 [==============================] - 0s 12ms/step - loss: 0.4815 - accuracy: 0.7825 - val_loss: 0.6845 - val_accuracy: 0.6931\n",
            "Epoch 106/200\n",
            "8/8 [==============================] - 0s 14ms/step - loss: 0.4821 - accuracy: 0.7825 - val_loss: 0.6852 - val_accuracy: 0.7129\n",
            "Epoch 107/200\n",
            "8/8 [==============================] - 0s 20ms/step - loss: 0.4803 - accuracy: 0.7825 - val_loss: 0.6855 - val_accuracy: 0.6832\n",
            "Epoch 108/200\n",
            "8/8 [==============================] - 0s 14ms/step - loss: 0.4811 - accuracy: 0.7850 - val_loss: 0.6871 - val_accuracy: 0.6931\n",
            "Epoch 109/200\n",
            "8/8 [==============================] - 0s 9ms/step - loss: 0.4808 - accuracy: 0.7800 - val_loss: 0.6886 - val_accuracy: 0.7129\n",
            "Epoch 110/200\n",
            "8/8 [==============================] - 0s 14ms/step - loss: 0.4784 - accuracy: 0.7825 - val_loss: 0.6891 - val_accuracy: 0.6931\n",
            "Epoch 111/200\n",
            "8/8 [==============================] - 0s 8ms/step - loss: 0.4795 - accuracy: 0.7825 - val_loss: 0.6896 - val_accuracy: 0.6931\n",
            "Epoch 112/200\n",
            "8/8 [==============================] - 0s 17ms/step - loss: 0.4779 - accuracy: 0.7800 - val_loss: 0.6909 - val_accuracy: 0.7030\n",
            "Epoch 113/200\n",
            "8/8 [==============================] - 0s 25ms/step - loss: 0.4773 - accuracy: 0.7825 - val_loss: 0.6915 - val_accuracy: 0.6931\n",
            "Epoch 114/200\n",
            "8/8 [==============================] - 0s 15ms/step - loss: 0.4784 - accuracy: 0.7875 - val_loss: 0.6919 - val_accuracy: 0.6733\n",
            "Epoch 115/200\n",
            "8/8 [==============================] - 0s 11ms/step - loss: 0.4800 - accuracy: 0.7800 - val_loss: 0.6937 - val_accuracy: 0.7030\n",
            "Epoch 116/200\n",
            "8/8 [==============================] - 0s 16ms/step - loss: 0.4769 - accuracy: 0.7825 - val_loss: 0.6931 - val_accuracy: 0.6733\n",
            "Epoch 117/200\n",
            "8/8 [==============================] - 0s 17ms/step - loss: 0.4770 - accuracy: 0.7925 - val_loss: 0.6950 - val_accuracy: 0.6931\n",
            "Epoch 118/200\n",
            "8/8 [==============================] - 0s 25ms/step - loss: 0.4747 - accuracy: 0.7800 - val_loss: 0.6963 - val_accuracy: 0.7030\n",
            "Epoch 119/200\n",
            "8/8 [==============================] - 0s 11ms/step - loss: 0.4747 - accuracy: 0.7800 - val_loss: 0.6976 - val_accuracy: 0.7030\n",
            "Epoch 120/200\n",
            "8/8 [==============================] - 0s 11ms/step - loss: 0.4734 - accuracy: 0.7925 - val_loss: 0.6966 - val_accuracy: 0.6733\n",
            "Epoch 121/200\n",
            "8/8 [==============================] - 0s 12ms/step - loss: 0.4747 - accuracy: 0.7925 - val_loss: 0.6976 - val_accuracy: 0.6832\n",
            "Epoch 122/200\n",
            "8/8 [==============================] - 0s 11ms/step - loss: 0.4725 - accuracy: 0.7850 - val_loss: 0.6997 - val_accuracy: 0.7129\n",
            "Epoch 123/200\n",
            "8/8 [==============================] - 0s 16ms/step - loss: 0.4731 - accuracy: 0.7825 - val_loss: 0.6994 - val_accuracy: 0.6832\n",
            "Epoch 124/200\n",
            "8/8 [==============================] - 0s 15ms/step - loss: 0.4721 - accuracy: 0.7925 - val_loss: 0.7000 - val_accuracy: 0.6733\n",
            "Epoch 125/200\n",
            "8/8 [==============================] - 0s 13ms/step - loss: 0.4729 - accuracy: 0.7825 - val_loss: 0.7025 - val_accuracy: 0.7030\n",
            "Epoch 126/200\n",
            "8/8 [==============================] - 0s 9ms/step - loss: 0.4719 - accuracy: 0.7925 - val_loss: 0.7016 - val_accuracy: 0.6733\n",
            "Epoch 127/200\n",
            "8/8 [==============================] - 0s 10ms/step - loss: 0.4710 - accuracy: 0.7900 - val_loss: 0.7034 - val_accuracy: 0.6931\n",
            "Epoch 128/200\n",
            "8/8 [==============================] - 0s 9ms/step - loss: 0.4712 - accuracy: 0.7900 - val_loss: 0.7033 - val_accuracy: 0.6832\n",
            "Epoch 129/200\n",
            "8/8 [==============================] - 0s 11ms/step - loss: 0.4689 - accuracy: 0.7900 - val_loss: 0.7046 - val_accuracy: 0.6931\n",
            "Epoch 130/200\n",
            "8/8 [==============================] - 0s 19ms/step - loss: 0.4695 - accuracy: 0.7775 - val_loss: 0.7059 - val_accuracy: 0.6931\n",
            "Epoch 131/200\n",
            "8/8 [==============================] - 0s 11ms/step - loss: 0.4678 - accuracy: 0.7825 - val_loss: 0.7060 - val_accuracy: 0.6832\n",
            "Epoch 132/200\n",
            "8/8 [==============================] - 0s 11ms/step - loss: 0.4701 - accuracy: 0.8000 - val_loss: 0.7065 - val_accuracy: 0.6832\n",
            "Epoch 133/200\n",
            "8/8 [==============================] - 0s 19ms/step - loss: 0.4675 - accuracy: 0.7900 - val_loss: 0.7085 - val_accuracy: 0.7030\n",
            "Epoch 134/200\n",
            "8/8 [==============================] - 0s 10ms/step - loss: 0.4669 - accuracy: 0.7900 - val_loss: 0.7085 - val_accuracy: 0.6832\n",
            "Epoch 135/200\n",
            "8/8 [==============================] - 0s 15ms/step - loss: 0.4668 - accuracy: 0.7975 - val_loss: 0.7090 - val_accuracy: 0.6832\n",
            "Epoch 136/200\n",
            "8/8 [==============================] - 0s 10ms/step - loss: 0.4662 - accuracy: 0.7975 - val_loss: 0.7105 - val_accuracy: 0.6832\n",
            "Epoch 137/200\n",
            "8/8 [==============================] - 0s 17ms/step - loss: 0.4663 - accuracy: 0.7850 - val_loss: 0.7119 - val_accuracy: 0.6931\n",
            "Epoch 138/200\n",
            "8/8 [==============================] - 0s 16ms/step - loss: 0.4655 - accuracy: 0.8000 - val_loss: 0.7109 - val_accuracy: 0.6832\n",
            "Epoch 139/200\n",
            "8/8 [==============================] - 0s 10ms/step - loss: 0.4653 - accuracy: 0.8000 - val_loss: 0.7122 - val_accuracy: 0.6832\n",
            "Epoch 140/200\n",
            "8/8 [==============================] - 0s 11ms/step - loss: 0.4642 - accuracy: 0.8000 - val_loss: 0.7137 - val_accuracy: 0.6832\n",
            "Epoch 141/200\n",
            "8/8 [==============================] - 0s 11ms/step - loss: 0.4639 - accuracy: 0.8025 - val_loss: 0.7138 - val_accuracy: 0.6832\n",
            "Epoch 142/200\n",
            "8/8 [==============================] - 0s 13ms/step - loss: 0.4634 - accuracy: 0.8025 - val_loss: 0.7154 - val_accuracy: 0.6832\n",
            "Epoch 143/200\n",
            "8/8 [==============================] - 0s 9ms/step - loss: 0.4636 - accuracy: 0.7975 - val_loss: 0.7166 - val_accuracy: 0.6931\n",
            "Epoch 144/200\n",
            "8/8 [==============================] - 0s 16ms/step - loss: 0.4638 - accuracy: 0.8050 - val_loss: 0.7157 - val_accuracy: 0.6832\n",
            "Epoch 145/200\n",
            "8/8 [==============================] - 0s 13ms/step - loss: 0.4644 - accuracy: 0.8050 - val_loss: 0.7164 - val_accuracy: 0.6832\n",
            "Epoch 146/200\n",
            "8/8 [==============================] - 0s 26ms/step - loss: 0.4610 - accuracy: 0.8000 - val_loss: 0.7203 - val_accuracy: 0.7030\n",
            "Epoch 147/200\n",
            "8/8 [==============================] - 0s 26ms/step - loss: 0.4635 - accuracy: 0.7950 - val_loss: 0.7179 - val_accuracy: 0.6832\n",
            "Epoch 148/200\n",
            "8/8 [==============================] - 0s 17ms/step - loss: 0.4626 - accuracy: 0.8050 - val_loss: 0.7181 - val_accuracy: 0.6832\n",
            "Epoch 149/200\n",
            "8/8 [==============================] - 0s 12ms/step - loss: 0.4602 - accuracy: 0.8050 - val_loss: 0.7215 - val_accuracy: 0.6931\n",
            "Epoch 150/200\n",
            "8/8 [==============================] - 0s 15ms/step - loss: 0.4610 - accuracy: 0.8000 - val_loss: 0.7224 - val_accuracy: 0.6931\n",
            "Epoch 151/200\n",
            "8/8 [==============================] - 0s 12ms/step - loss: 0.4599 - accuracy: 0.8000 - val_loss: 0.7219 - val_accuracy: 0.6832\n",
            "Epoch 152/200\n",
            "8/8 [==============================] - 0s 13ms/step - loss: 0.4601 - accuracy: 0.8050 - val_loss: 0.7226 - val_accuracy: 0.6931\n",
            "Epoch 153/200\n",
            "8/8 [==============================] - 0s 8ms/step - loss: 0.4591 - accuracy: 0.8050 - val_loss: 0.7228 - val_accuracy: 0.6832\n",
            "Epoch 154/200\n",
            "8/8 [==============================] - 0s 10ms/step - loss: 0.4599 - accuracy: 0.8025 - val_loss: 0.7238 - val_accuracy: 0.6931\n",
            "Epoch 155/200\n",
            "8/8 [==============================] - 0s 10ms/step - loss: 0.4596 - accuracy: 0.8050 - val_loss: 0.7238 - val_accuracy: 0.6832\n",
            "Epoch 156/200\n",
            "8/8 [==============================] - 0s 17ms/step - loss: 0.4591 - accuracy: 0.8025 - val_loss: 0.7269 - val_accuracy: 0.6931\n",
            "Epoch 157/200\n",
            "8/8 [==============================] - 0s 16ms/step - loss: 0.4594 - accuracy: 0.8025 - val_loss: 0.7277 - val_accuracy: 0.6931\n",
            "Epoch 158/200\n",
            "8/8 [==============================] - 0s 15ms/step - loss: 0.4605 - accuracy: 0.8025 - val_loss: 0.7252 - val_accuracy: 0.6832\n",
            "Epoch 159/200\n",
            "8/8 [==============================] - 0s 15ms/step - loss: 0.4588 - accuracy: 0.8050 - val_loss: 0.7296 - val_accuracy: 0.6931\n",
            "Epoch 160/200\n",
            "8/8 [==============================] - 0s 11ms/step - loss: 0.4572 - accuracy: 0.8050 - val_loss: 0.7287 - val_accuracy: 0.6931\n",
            "Epoch 161/200\n",
            "8/8 [==============================] - 0s 7ms/step - loss: 0.4576 - accuracy: 0.8025 - val_loss: 0.7284 - val_accuracy: 0.6832\n",
            "Epoch 162/200\n",
            "8/8 [==============================] - 0s 12ms/step - loss: 0.4562 - accuracy: 0.8025 - val_loss: 0.7302 - val_accuracy: 0.6931\n",
            "Epoch 163/200\n",
            "8/8 [==============================] - 0s 17ms/step - loss: 0.4559 - accuracy: 0.8000 - val_loss: 0.7314 - val_accuracy: 0.6931\n",
            "Epoch 164/200\n",
            "8/8 [==============================] - 0s 18ms/step - loss: 0.4564 - accuracy: 0.8025 - val_loss: 0.7320 - val_accuracy: 0.6931\n",
            "Epoch 165/200\n",
            "8/8 [==============================] - 0s 11ms/step - loss: 0.4552 - accuracy: 0.8025 - val_loss: 0.7335 - val_accuracy: 0.6931\n",
            "Epoch 166/200\n",
            "8/8 [==============================] - 0s 18ms/step - loss: 0.4552 - accuracy: 0.8000 - val_loss: 0.7333 - val_accuracy: 0.6931\n",
            "Epoch 167/200\n",
            "8/8 [==============================] - 0s 18ms/step - loss: 0.4561 - accuracy: 0.8025 - val_loss: 0.7349 - val_accuracy: 0.6931\n",
            "Epoch 168/200\n",
            "8/8 [==============================] - 0s 11ms/step - loss: 0.4587 - accuracy: 0.7975 - val_loss: 0.7330 - val_accuracy: 0.6832\n",
            "Epoch 169/200\n",
            "8/8 [==============================] - 0s 13ms/step - loss: 0.4575 - accuracy: 0.8025 - val_loss: 0.7399 - val_accuracy: 0.6931\n",
            "Epoch 170/200\n",
            "8/8 [==============================] - 0s 10ms/step - loss: 0.4546 - accuracy: 0.8025 - val_loss: 0.7372 - val_accuracy: 0.6931\n",
            "Epoch 171/200\n",
            "8/8 [==============================] - 0s 12ms/step - loss: 0.4535 - accuracy: 0.8050 - val_loss: 0.7364 - val_accuracy: 0.6832\n",
            "Epoch 172/200\n",
            "8/8 [==============================] - 0s 16ms/step - loss: 0.4552 - accuracy: 0.8000 - val_loss: 0.7404 - val_accuracy: 0.6931\n",
            "Epoch 173/200\n",
            "8/8 [==============================] - 0s 10ms/step - loss: 0.4530 - accuracy: 0.8000 - val_loss: 0.7384 - val_accuracy: 0.6931\n",
            "Epoch 174/200\n",
            "8/8 [==============================] - 0s 12ms/step - loss: 0.4530 - accuracy: 0.8050 - val_loss: 0.7384 - val_accuracy: 0.6832\n",
            "Epoch 175/200\n",
            "8/8 [==============================] - 0s 18ms/step - loss: 0.4555 - accuracy: 0.8025 - val_loss: 0.7415 - val_accuracy: 0.6931\n",
            "Epoch 176/200\n",
            "8/8 [==============================] - 0s 9ms/step - loss: 0.4547 - accuracy: 0.8000 - val_loss: 0.7416 - val_accuracy: 0.6832\n",
            "Epoch 177/200\n",
            "8/8 [==============================] - 0s 19ms/step - loss: 0.4521 - accuracy: 0.8050 - val_loss: 0.7427 - val_accuracy: 0.6931\n",
            "Epoch 178/200\n",
            "8/8 [==============================] - 0s 15ms/step - loss: 0.4519 - accuracy: 0.8000 - val_loss: 0.7459 - val_accuracy: 0.6931\n",
            "Epoch 179/200\n",
            "8/8 [==============================] - 0s 12ms/step - loss: 0.4522 - accuracy: 0.8025 - val_loss: 0.7455 - val_accuracy: 0.6931\n",
            "Epoch 180/200\n",
            "8/8 [==============================] - 0s 15ms/step - loss: 0.4590 - accuracy: 0.8125 - val_loss: 0.7433 - val_accuracy: 0.6832\n",
            "Epoch 181/200\n",
            "8/8 [==============================] - 0s 14ms/step - loss: 0.4496 - accuracy: 0.8025 - val_loss: 0.7497 - val_accuracy: 0.6931\n",
            "Epoch 182/200\n",
            "8/8 [==============================] - 0s 17ms/step - loss: 0.4529 - accuracy: 0.8025 - val_loss: 0.7474 - val_accuracy: 0.6931\n",
            "Epoch 183/200\n",
            "8/8 [==============================] - 0s 12ms/step - loss: 0.4510 - accuracy: 0.8025 - val_loss: 0.7487 - val_accuracy: 0.6931\n",
            "Epoch 184/200\n",
            "8/8 [==============================] - 0s 8ms/step - loss: 0.4510 - accuracy: 0.8050 - val_loss: 0.7477 - val_accuracy: 0.6832\n",
            "Epoch 185/200\n",
            "8/8 [==============================] - 0s 13ms/step - loss: 0.4520 - accuracy: 0.8050 - val_loss: 0.7476 - val_accuracy: 0.6931\n",
            "Epoch 186/200\n",
            "8/8 [==============================] - 0s 14ms/step - loss: 0.4499 - accuracy: 0.8025 - val_loss: 0.7509 - val_accuracy: 0.6931\n",
            "Epoch 187/200\n",
            "8/8 [==============================] - 0s 14ms/step - loss: 0.4510 - accuracy: 0.8000 - val_loss: 0.7496 - val_accuracy: 0.6832\n",
            "Epoch 188/200\n",
            "8/8 [==============================] - 0s 10ms/step - loss: 0.4500 - accuracy: 0.8050 - val_loss: 0.7518 - val_accuracy: 0.6931\n",
            "Epoch 189/200\n",
            "8/8 [==============================] - 0s 10ms/step - loss: 0.4502 - accuracy: 0.8000 - val_loss: 0.7519 - val_accuracy: 0.6931\n",
            "Epoch 190/200\n",
            "8/8 [==============================] - 0s 18ms/step - loss: 0.4507 - accuracy: 0.8000 - val_loss: 0.7575 - val_accuracy: 0.6931\n",
            "Epoch 191/200\n",
            "8/8 [==============================] - 0s 11ms/step - loss: 0.4502 - accuracy: 0.8050 - val_loss: 0.7527 - val_accuracy: 0.6832\n",
            "Epoch 192/200\n",
            "8/8 [==============================] - 0s 12ms/step - loss: 0.4502 - accuracy: 0.8075 - val_loss: 0.7554 - val_accuracy: 0.6931\n",
            "Epoch 193/200\n",
            "8/8 [==============================] - 0s 14ms/step - loss: 0.4493 - accuracy: 0.8025 - val_loss: 0.7569 - val_accuracy: 0.6931\n",
            "Epoch 194/200\n",
            "8/8 [==============================] - 0s 13ms/step - loss: 0.4486 - accuracy: 0.8050 - val_loss: 0.7557 - val_accuracy: 0.6832\n",
            "Epoch 195/200\n",
            "8/8 [==============================] - 0s 11ms/step - loss: 0.4491 - accuracy: 0.8025 - val_loss: 0.7595 - val_accuracy: 0.6931\n",
            "Epoch 196/200\n",
            "8/8 [==============================] - 0s 16ms/step - loss: 0.4489 - accuracy: 0.8025 - val_loss: 0.7581 - val_accuracy: 0.6832\n",
            "Epoch 197/200\n",
            "8/8 [==============================] - 0s 13ms/step - loss: 0.4525 - accuracy: 0.8025 - val_loss: 0.7618 - val_accuracy: 0.6931\n",
            "Epoch 198/200\n",
            "8/8 [==============================] - 0s 11ms/step - loss: 0.4468 - accuracy: 0.8050 - val_loss: 0.7580 - val_accuracy: 0.6832\n",
            "Epoch 199/200\n",
            "8/8 [==============================] - 0s 15ms/step - loss: 0.4485 - accuracy: 0.8075 - val_loss: 0.7624 - val_accuracy: 0.6931\n",
            "Epoch 200/200\n",
            "8/8 [==============================] - 0s 17ms/step - loss: 0.4477 - accuracy: 0.8075 - val_loss: 0.7597 - val_accuracy: 0.6931\n"
          ]
        }
      ]
    },
    {
      "cell_type": "code",
      "source": [
        "# evaluate the model\n",
        "scores = model.evaluate(X, y)\n",
        "print(\"%s: %.2f%%\" % (model.metrics_names[1], scores[1]*100))"
      ],
      "metadata": {
        "colab": {
          "base_uri": "https://localhost:8080/"
        },
        "id": "Kvdg4kObt8WI",
        "outputId": "76b69407-6b38-4f8f-f558-48c30381d99e"
      },
      "id": "Kvdg4kObt8WI",
      "execution_count": 66,
      "outputs": [
        {
          "output_type": "stream",
          "name": "stdout",
          "text": [
            "16/16 [==============================] - 0s 4ms/step - loss: 0.5094 - accuracy: 0.7844\n",
            "accuracy: 78.44%\n"
          ]
        }
      ]
    },
    {
      "cell_type": "code",
      "source": [
        "# Visualize training history\n",
        "\n",
        "# list all data in history\n",
        "result.history.keys()"
      ],
      "metadata": {
        "colab": {
          "base_uri": "https://localhost:8080/"
        },
        "id": "44gMUwpUuOwl",
        "outputId": "04dfa0b2-dcb5-412f-dc93-046d213f049e"
      },
      "id": "44gMUwpUuOwl",
      "execution_count": 67,
      "outputs": [
        {
          "output_type": "execute_result",
          "data": {
            "text/plain": [
              "dict_keys(['loss', 'accuracy', 'val_loss', 'val_accuracy'])"
            ]
          },
          "metadata": {},
          "execution_count": 67
        }
      ]
    },
    {
      "cell_type": "code",
      "source": [
        "# summarize history for accuracy\n",
        "plt.plot(result.history['accuracy'])\n",
        "plt.plot(result.history['val_accuracy'])\n",
        "plt.title('model accuracy')\n",
        "plt.ylabel('accuracy')\n",
        "plt.xlabel('epoch')\n",
        "plt.legend(['train', 'test'], loc='upper left')\n",
        "plt.show()\n",
        "# summarize history for loss\n",
        "plt.plot(result.history['loss'])\n",
        "plt.plot(result.history['val_loss'])\n",
        "plt.title('model loss')\n",
        "plt.ylabel('loss')\n",
        "plt.xlabel('epoch')\n",
        "plt.legend(['train', 'test'], loc='upper left')\n",
        "plt.show()"
      ],
      "metadata": {
        "colab": {
          "base_uri": "https://localhost:8080/",
          "height": 633
        },
        "id": "Q1Cy8lRHuRwX",
        "outputId": "7ee41df1-d940-45d4-82b1-47a3cde34771"
      },
      "id": "Q1Cy8lRHuRwX",
      "execution_count": 68,
      "outputs": [
        {
          "output_type": "display_data",
          "data": {
            "text/plain": [
              "<Figure size 432x288 with 1 Axes>"
            ],
            "image/png": "[encoded data removed]"
          },
          "metadata": {}
        },
        {
          "output_type": "display_data",
          "data": {
            "text/plain": [
              "<Figure size 432x288 with 1 Axes>"
            ],
            "image/png": "[encoded data removed]"
          },
          "metadata": {}
        }
      ]
    },
    {
      "cell_type": "markdown",
      "id": "e43bf1b3",
      "metadata": {
        "id": "e43bf1b3"
      },
      "source": [
        "### Hyperparameter Tunning"
      ]
    },
    {
      "cell_type": "markdown",
      "source": [
        "#### Tuning of Hyperparameters :- Batch Size and Epochs"
      ],
      "metadata": {
        "id": "If0x6lLtxKfG"
      },
      "id": "If0x6lLtxKfG"
    },
    {
      "cell_type": "code",
      "execution_count": 69,
      "id": "457b90fe",
      "metadata": {
        "id": "457b90fe"
      },
      "outputs": [],
      "source": [
        "# create model\n",
        "def create_model():\n",
        "    model = Sequential()\n",
        "    model.add(Dense(12, input_dim=11, kernel_initializer='normal', activation='relu'))\n",
        "    model.add(Dense(8, kernel_initializer='normal', activation='relu'))\n",
        "    model.add(Dense(1, kernel_initializer='normal', activation='sigmoid'))\n",
        "    \n",
        "    adam=Adam(learning_rate=0.01)\n",
        "    model.compile(loss='binary_crossentropy', optimizer=adam, metrics=['accuracy'])\n",
        "    return model"
      ]
    },
    {
      "cell_type": "code",
      "source": [
        "# Create the model\n",
        "model = KerasClassifier(build_fn = create_model,verbose = 0,)\n",
        "\n",
        "# Define the grid search parameters\n",
        "batch_size = [10,20,40,50]\n",
        "epochs = [50,100,200,500]\n",
        "\n",
        "# Make a dictionary of the grid search parameters\n",
        "param_grid = dict(batch_size = batch_size,epochs = epochs)\n",
        "\n",
        "kfold = KFold(n_splits=5,shuffle=True, random_state=42)\n",
        "\n",
        "# Build and fit the GridSearchCV\n",
        "grid = GridSearchCV(estimator = model,param_grid = param_grid,cv = kfold ,verbose = 10)\n",
        "\n",
        "grid_result = grid.fit(X,y)"
      ],
      "metadata": {
        "colab": {
          "base_uri": "https://localhost:8080/"
        },
        "id": "bwBANgxVyK7Q",
        "outputId": "ef99e36a-2ffa-4fa7-b561-419fa5fbf027"
      },
      "id": "bwBANgxVyK7Q",
      "execution_count": 70,
      "outputs": [
        {
          "output_type": "stream",
          "name": "stderr",
          "text": [
            "/usr/local/lib/python3.7/dist-packages/ipykernel_launcher.py:2: DeprecationWarning: KerasClassifier is deprecated, use Sci-Keras (https://github.com/adriangb/scikeras) instead. See https://www.adriangb.com/scikeras/stable/migration.html for help migrating.\n",
            "  \n"
          ]
        },
        {
          "output_type": "stream",
          "name": "stdout",
          "text": [
            "Fitting 5 folds for each of 16 candidates, totalling 80 fits\n",
            "[CV 1/5; 1/16] START batch_size=10, epochs=50...................................\n",
            "[CV 1/5; 1/16] END ....batch_size=10, epochs=50;, score=0.743 total time=  11.6s\n",
            "[CV 2/5; 1/16] START batch_size=10, epochs=50...................................\n",
            "[CV 2/5; 1/16] END ....batch_size=10, epochs=50;, score=0.780 total time=   5.8s\n",
            "[CV 3/5; 1/16] START batch_size=10, epochs=50...................................\n",
            "[CV 3/5; 1/16] END ....batch_size=10, epochs=50;, score=0.750 total time=   5.9s\n",
            "[CV 4/5; 1/16] START batch_size=10, epochs=50...................................\n",
            "[CV 4/5; 1/16] END ....batch_size=10, epochs=50;, score=0.770 total time=   5.7s\n",
            "[CV 5/5; 1/16] START batch_size=10, epochs=50...................................\n",
            "[CV 5/5; 1/16] END ....batch_size=10, epochs=50;, score=0.800 total time=   5.1s\n",
            "[CV 1/5; 2/16] START batch_size=10, epochs=100..................................\n",
            "[CV 1/5; 2/16] END ...batch_size=10, epochs=100;, score=0.762 total time=   7.5s\n",
            "[CV 2/5; 2/16] START batch_size=10, epochs=100..................................\n",
            "[CV 2/5; 2/16] END ...batch_size=10, epochs=100;, score=0.790 total time=   9.8s\n",
            "[CV 3/5; 2/16] START batch_size=10, epochs=100..................................\n",
            "[CV 3/5; 2/16] END ...batch_size=10, epochs=100;, score=0.750 total time=   9.4s\n",
            "[CV 4/5; 2/16] START batch_size=10, epochs=100..................................\n",
            "[CV 4/5; 2/16] END ...batch_size=10, epochs=100;, score=0.770 total time=   9.6s\n",
            "[CV 5/5; 2/16] START batch_size=10, epochs=100..................................\n",
            "[CV 5/5; 2/16] END ...batch_size=10, epochs=100;, score=0.800 total time=  11.4s\n",
            "[CV 1/5; 3/16] START batch_size=10, epochs=200..................................\n",
            "[CV 1/5; 3/16] END ...batch_size=10, epochs=200;, score=0.743 total time=  21.2s\n",
            "[CV 2/5; 3/16] START batch_size=10, epochs=200..................................\n",
            "[CV 2/5; 3/16] END ...batch_size=10, epochs=200;, score=0.790 total time=  21.1s\n",
            "[CV 3/5; 3/16] START batch_size=10, epochs=200..................................\n",
            "[CV 3/5; 3/16] END ...batch_size=10, epochs=200;, score=0.780 total time=  21.2s\n",
            "[CV 4/5; 3/16] START batch_size=10, epochs=200..................................\n",
            "[CV 4/5; 3/16] END ...batch_size=10, epochs=200;, score=0.750 total time=  21.1s\n",
            "[CV 5/5; 3/16] START batch_size=10, epochs=200..................................\n",
            "[CV 5/5; 3/16] END ...batch_size=10, epochs=200;, score=0.830 total time=  21.5s\n",
            "[CV 1/5; 4/16] START batch_size=10, epochs=500..................................\n",
            "[CV 1/5; 4/16] END ...batch_size=10, epochs=500;, score=0.713 total time=  41.6s\n",
            "[CV 2/5; 4/16] START batch_size=10, epochs=500..................................\n",
            "[CV 2/5; 4/16] END ...batch_size=10, epochs=500;, score=0.800 total time= 1.4min\n",
            "[CV 3/5; 4/16] START batch_size=10, epochs=500..................................\n",
            "[CV 3/5; 4/16] END ...batch_size=10, epochs=500;, score=0.750 total time=  46.0s\n",
            "[CV 4/5; 4/16] START batch_size=10, epochs=500..................................\n",
            "[CV 4/5; 4/16] END ...batch_size=10, epochs=500;, score=0.790 total time= 1.4min\n",
            "[CV 5/5; 4/16] START batch_size=10, epochs=500..................................\n",
            "[CV 5/5; 4/16] END ...batch_size=10, epochs=500;, score=0.830 total time=  45.4s\n",
            "[CV 1/5; 5/16] START batch_size=20, epochs=50...................................\n",
            "[CV 1/5; 5/16] END ....batch_size=20, epochs=50;, score=0.762 total time=   2.4s\n",
            "[CV 2/5; 5/16] START batch_size=20, epochs=50...................................\n",
            "[CV 2/5; 5/16] END ....batch_size=20, epochs=50;, score=0.720 total time=   3.3s\n",
            "[CV 3/5; 5/16] START batch_size=20, epochs=50...................................\n",
            "[CV 3/5; 5/16] END ....batch_size=20, epochs=50;, score=0.750 total time=   6.0s\n",
            "[CV 4/5; 5/16] START batch_size=20, epochs=50...................................\n",
            "[CV 4/5; 5/16] END ....batch_size=20, epochs=50;, score=0.740 total time=   3.0s\n",
            "[CV 5/5; 5/16] START batch_size=20, epochs=50...................................\n",
            "[CV 5/5; 5/16] END ....batch_size=20, epochs=50;, score=0.750 total time=   3.1s\n",
            "[CV 1/5; 6/16] START batch_size=20, epochs=100..................................\n",
            "[CV 1/5; 6/16] END ...batch_size=20, epochs=100;, score=0.743 total time=   5.7s\n",
            "[CV 2/5; 6/16] START batch_size=20, epochs=100..................................\n",
            "[CV 2/5; 6/16] END ...batch_size=20, epochs=100;, score=0.780 total time=   5.8s\n",
            "[CV 3/5; 6/16] START batch_size=20, epochs=100..................................\n",
            "[CV 3/5; 6/16] END ...batch_size=20, epochs=100;, score=0.760 total time=   5.4s\n",
            "[CV 4/5; 6/16] START batch_size=20, epochs=100..................................\n",
            "[CV 4/5; 6/16] END ...batch_size=20, epochs=100;, score=0.750 total time=   5.4s\n",
            "[CV 5/5; 6/16] START batch_size=20, epochs=100..................................\n",
            "[CV 5/5; 6/16] END ...batch_size=20, epochs=100;, score=0.800 total time=   5.4s\n",
            "[CV 1/5; 7/16] START batch_size=20, epochs=200..................................\n",
            "[CV 1/5; 7/16] END ...batch_size=20, epochs=200;, score=0.743 total time=  10.8s\n",
            "[CV 2/5; 7/16] START batch_size=20, epochs=200..................................\n",
            "[CV 2/5; 7/16] END ...batch_size=20, epochs=200;, score=0.790 total time=  10.0s\n",
            "[CV 3/5; 7/16] START batch_size=20, epochs=200..................................\n",
            "[CV 3/5; 7/16] END ...batch_size=20, epochs=200;, score=0.770 total time=  10.9s\n",
            "[CV 4/5; 7/16] START batch_size=20, epochs=200..................................\n",
            "[CV 4/5; 7/16] END ...batch_size=20, epochs=200;, score=0.710 total time=  10.9s\n",
            "[CV 5/5; 7/16] START batch_size=20, epochs=200..................................\n",
            "[CV 5/5; 7/16] END ...batch_size=20, epochs=200;, score=0.810 total time=  10.9s\n",
            "[CV 1/5; 8/16] START batch_size=20, epochs=500..................................\n",
            "[CV 1/5; 8/16] END ...batch_size=20, epochs=500;, score=0.743 total time=  21.1s\n",
            "[CV 2/5; 8/16] START batch_size=20, epochs=500..................................\n",
            "[CV 2/5; 8/16] END ...batch_size=20, epochs=500;, score=0.780 total time=  24.3s\n",
            "[CV 3/5; 8/16] START batch_size=20, epochs=500..................................\n",
            "[CV 3/5; 8/16] END ...batch_size=20, epochs=500;, score=0.760 total time=  41.6s\n",
            "[CV 4/5; 8/16] START batch_size=20, epochs=500..................................\n",
            "[CV 4/5; 8/16] END ...batch_size=20, epochs=500;, score=0.800 total time=  24.7s\n",
            "[CV 5/5; 8/16] START batch_size=20, epochs=500..................................\n",
            "[CV 5/5; 8/16] END ...batch_size=20, epochs=500;, score=0.820 total time=  41.6s\n",
            "[CV 1/5; 9/16] START batch_size=40, epochs=50...................................\n",
            "[CV 1/5; 9/16] END ....batch_size=40, epochs=50;, score=0.723 total time=   1.5s\n",
            "[CV 2/5; 9/16] START batch_size=40, epochs=50...................................\n",
            "[CV 2/5; 9/16] END ....batch_size=40, epochs=50;, score=0.720 total time=   3.2s\n",
            "[CV 3/5; 9/16] START batch_size=40, epochs=50...................................\n",
            "[CV 3/5; 9/16] END ....batch_size=40, epochs=50;, score=0.740 total time=   3.2s\n",
            "[CV 4/5; 9/16] START batch_size=40, epochs=50...................................\n",
            "WARNING:tensorflow:5 out of the last 15 calls to <function Model.make_test_function.<locals>.test_function at 0x7f2af6cf8710> triggered tf.function retracing. Tracing is expensive and the excessive number of tracings could be due to (1) creating @tf.function repeatedly in a loop, (2) passing tensors with different shapes, (3) passing Python objects instead of tensors. For (1), please define your @tf.function outside of the loop. For (2), @tf.function has experimental_relax_shapes=True option that relaxes argument shapes that can avoid unnecessary retracing. For (3), please refer to https://www.tensorflow.org/guide/function#controlling_retracing and https://www.tensorflow.org/api_docs/python/tf/function for  more details.\n",
            "[CV 4/5; 9/16] END ....batch_size=40, epochs=50;, score=0.710 total time=   1.9s\n",
            "[CV 5/5; 9/16] START batch_size=40, epochs=50...................................\n",
            "WARNING:tensorflow:5 out of the last 13 calls to <function Model.make_test_function.<locals>.test_function at 0x7f2af7188680> triggered tf.function retracing. Tracing is expensive and the excessive number of tracings could be due to (1) creating @tf.function repeatedly in a loop, (2) passing tensors with different shapes, (3) passing Python objects instead of tensors. For (1), please define your @tf.function outside of the loop. For (2), @tf.function has experimental_relax_shapes=True option that relaxes argument shapes that can avoid unnecessary retracing. For (3), please refer to https://www.tensorflow.org/guide/function#controlling_retracing and https://www.tensorflow.org/api_docs/python/tf/function for  more details.\n",
            "[CV 5/5; 9/16] END ....batch_size=40, epochs=50;, score=0.750 total time=   3.2s\n",
            "[CV 1/5; 10/16] START batch_size=40, epochs=100.................................\n",
            "[CV 1/5; 10/16] END ..batch_size=40, epochs=100;, score=0.733 total time=   2.5s\n",
            "[CV 2/5; 10/16] START batch_size=40, epochs=100.................................\n",
            "[CV 2/5; 10/16] END ..batch_size=40, epochs=100;, score=0.760 total time=   5.7s\n",
            "[CV 3/5; 10/16] START batch_size=40, epochs=100.................................\n",
            "[CV 3/5; 10/16] END ..batch_size=40, epochs=100;, score=0.750 total time=   3.2s\n",
            "[CV 4/5; 10/16] START batch_size=40, epochs=100.................................\n",
            "[CV 4/5; 10/16] END ..batch_size=40, epochs=100;, score=0.740 total time=   3.2s\n",
            "[CV 5/5; 10/16] START batch_size=40, epochs=100.................................\n",
            "[CV 5/5; 10/16] END ..batch_size=40, epochs=100;, score=0.830 total time=   3.2s\n",
            "[CV 1/5; 11/16] START batch_size=40, epochs=200.................................\n",
            "[CV 1/5; 11/16] END ..batch_size=40, epochs=200;, score=0.743 total time=   4.6s\n",
            "[CV 2/5; 11/16] START batch_size=40, epochs=200.................................\n",
            "[CV 2/5; 11/16] END ..batch_size=40, epochs=200;, score=0.780 total time=   5.9s\n",
            "[CV 3/5; 11/16] START batch_size=40, epochs=200.................................\n",
            "[CV 3/5; 11/16] END ..batch_size=40, epochs=200;, score=0.730 total time=  10.9s\n",
            "[CV 4/5; 11/16] START batch_size=40, epochs=200.................................\n",
            "[CV 4/5; 11/16] END ..batch_size=40, epochs=200;, score=0.760 total time=   5.8s\n",
            "[CV 5/5; 11/16] START batch_size=40, epochs=200.................................\n",
            "[CV 5/5; 11/16] END ..batch_size=40, epochs=200;, score=0.800 total time=   5.8s\n",
            "[CV 1/5; 12/16] START batch_size=40, epochs=500.................................\n",
            "[CV 1/5; 12/16] END ..batch_size=40, epochs=500;, score=0.752 total time=  10.8s\n",
            "[CV 2/5; 12/16] START batch_size=40, epochs=500.................................\n",
            "[CV 2/5; 12/16] END ..batch_size=40, epochs=500;, score=0.790 total time=  21.1s\n",
            "[CV 3/5; 12/16] START batch_size=40, epochs=500.................................\n",
            "[CV 3/5; 12/16] END ..batch_size=40, epochs=500;, score=0.760 total time=  13.5s\n",
            "[CV 4/5; 12/16] START batch_size=40, epochs=500.................................\n",
            "[CV 4/5; 12/16] END ..batch_size=40, epochs=500;, score=0.770 total time=  21.1s\n",
            "[CV 5/5; 12/16] START batch_size=40, epochs=500.................................\n",
            "[CV 5/5; 12/16] END ..batch_size=40, epochs=500;, score=0.830 total time=  21.1s\n",
            "[CV 1/5; 13/16] START batch_size=50, epochs=50..................................\n",
            "[CV 1/5; 13/16] END ...batch_size=50, epochs=50;, score=0.733 total time=   1.4s\n",
            "[CV 2/5; 13/16] START batch_size=50, epochs=50..................................\n",
            "[CV 2/5; 13/16] END ...batch_size=50, epochs=50;, score=0.720 total time=   1.9s\n",
            "[CV 3/5; 13/16] START batch_size=50, epochs=50..................................\n",
            "[CV 3/5; 13/16] END ...batch_size=50, epochs=50;, score=0.740 total time=   2.2s\n",
            "[CV 4/5; 13/16] START batch_size=50, epochs=50..................................\n",
            "[CV 4/5; 13/16] END ...batch_size=50, epochs=50;, score=0.710 total time=   1.8s\n",
            "[CV 5/5; 13/16] START batch_size=50, epochs=50..................................\n",
            "[CV 5/5; 13/16] END ...batch_size=50, epochs=50;, score=0.750 total time=   1.7s\n",
            "[CV 1/5; 14/16] START batch_size=50, epochs=100.................................\n",
            "[CV 1/5; 14/16] END ..batch_size=50, epochs=100;, score=0.762 total time=   3.1s\n",
            "[CV 2/5; 14/16] START batch_size=50, epochs=100.................................\n",
            "[CV 2/5; 14/16] END ..batch_size=50, epochs=100;, score=0.770 total time=   3.2s\n",
            "[CV 3/5; 14/16] START batch_size=50, epochs=100.................................\n",
            "[CV 3/5; 14/16] END ..batch_size=50, epochs=100;, score=0.750 total time=   3.2s\n",
            "[CV 4/5; 14/16] START batch_size=50, epochs=100.................................\n",
            "[CV 4/5; 14/16] END ..batch_size=50, epochs=100;, score=0.710 total time=   3.2s\n",
            "[CV 5/5; 14/16] START batch_size=50, epochs=100.................................\n",
            "[CV 5/5; 14/16] END ..batch_size=50, epochs=100;, score=0.780 total time=   2.8s\n",
            "[CV 1/5; 15/16] START batch_size=50, epochs=200.................................\n",
            "[CV 1/5; 15/16] END ..batch_size=50, epochs=200;, score=0.693 total time=   5.7s\n",
            "[CV 2/5; 15/16] START batch_size=50, epochs=200.................................\n",
            "[CV 2/5; 15/16] END ..batch_size=50, epochs=200;, score=0.770 total time=   5.7s\n",
            "[CV 3/5; 15/16] START batch_size=50, epochs=200.................................\n",
            "[CV 3/5; 15/16] END ..batch_size=50, epochs=200;, score=0.750 total time=   4.9s\n",
            "[CV 4/5; 15/16] START batch_size=50, epochs=200.................................\n",
            "[CV 4/5; 15/16] END ..batch_size=50, epochs=200;, score=0.710 total time=   5.7s\n",
            "[CV 5/5; 15/16] START batch_size=50, epochs=200.................................\n",
            "[CV 5/5; 15/16] END ..batch_size=50, epochs=200;, score=0.770 total time=   5.4s\n",
            "[CV 1/5; 16/16] START batch_size=50, epochs=500.................................\n",
            "[CV 1/5; 16/16] END ..batch_size=50, epochs=500;, score=0.733 total time=  10.8s\n",
            "[CV 2/5; 16/16] START batch_size=50, epochs=500.................................\n",
            "[CV 2/5; 16/16] END ..batch_size=50, epochs=500;, score=0.790 total time=  21.1s\n",
            "[CV 3/5; 16/16] START batch_size=50, epochs=500.................................\n",
            "[CV 3/5; 16/16] END ..batch_size=50, epochs=500;, score=0.750 total time=  21.1s\n",
            "[CV 4/5; 16/16] START batch_size=50, epochs=500.................................\n",
            "[CV 4/5; 16/16] END ..batch_size=50, epochs=500;, score=0.760 total time=  11.3s\n",
            "[CV 5/5; 16/16] START batch_size=50, epochs=500.................................\n",
            "[CV 5/5; 16/16] END ..batch_size=50, epochs=500;, score=0.830 total time=  11.2s\n"
          ]
        }
      ]
    },
    {
      "cell_type": "code",
      "source": [
        "# Summarize the results\n",
        "batch_epoch = grid_result.best_params_\n",
        "print('Best : {}, using {}'.format(grid_result.best_score_,grid_result.best_params_))\n",
        "means = grid_result.cv_results_['mean_test_score']\n",
        "stds = grid_result.cv_results_['std_test_score']\n",
        "params = grid_result.cv_results_['params']\n",
        "for mean, stdev, param in zip(means, stds, params):\n",
        "  print('{},{} with: {}'.format(mean, stdev, param))"
      ],
      "metadata": {
        "colab": {
          "base_uri": "https://localhost:8080/"
        },
        "id": "oVm0zA7e5ep_",
        "outputId": "83468a31-a0b3-4673-b0ba-5be422f5ed8c"
      },
      "id": "oVm0zA7e5ep_",
      "execution_count": 71,
      "outputs": [
        {
          "output_type": "stream",
          "name": "stdout",
          "text": [
            "Best : 0.7805148482322692, using {'batch_size': 20, 'epochs': 500}\n",
            "0.7685148477554321,0.020693681036079194 with: {'batch_size': 10, 'epochs': 50}\n",
            "0.7744752526283264,0.018209798049015145 with: {'batch_size': 10, 'epochs': 100}\n",
            "0.778514850139618,0.031271889408531754 with: {'batch_size': 10, 'epochs': 200}\n",
            "0.7765742659568786,0.04085971506011144 with: {'batch_size': 10, 'epochs': 500}\n",
            "0.744475257396698,0.014146064638279951 with: {'batch_size': 20, 'epochs': 50}\n",
            "0.7665148496627807,0.02093532606114429 with: {'batch_size': 20, 'epochs': 100}\n",
            "0.7645148515701294,0.03521857400431001 with: {'batch_size': 20, 'epochs': 200}\n",
            "0.7805148482322692,0.02756577540648282 with: {'batch_size': 20, 'epochs': 500}\n",
            "0.7285544633865356,0.014434626701831097 with: {'batch_size': 40, 'epochs': 50}\n",
            "0.7625346541404724,0.03497034213715461 with: {'batch_size': 40, 'epochs': 100}\n",
            "0.762514853477478,0.02518742596058826 with: {'batch_size': 40, 'epochs': 200}\n",
            "0.7804950475692749,0.027771875636391923 with: {'batch_size': 40, 'epochs': 500}\n",
            "0.7305346608161927,0.014182507756917262 with: {'batch_size': 50, 'epochs': 50}\n",
            "0.7544752359390259,0.024302395309005416 with: {'batch_size': 50, 'epochs': 100}\n",
            "0.7386138439178467,0.03160026712103826 with: {'batch_size': 50, 'epochs': 200}\n",
            "0.7725346565246582,0.03423787406362131 with: {'batch_size': 50, 'epochs': 500}\n"
          ]
        }
      ]
    },
    {
      "cell_type": "markdown",
      "source": [
        "#### Tuning of Hyperparameters:- Learning rate and Drop out rate"
      ],
      "metadata": {
        "id": "YwDUAfhT55Bs"
      },
      "id": "YwDUAfhT55Bs"
    },
    {
      "cell_type": "code",
      "source": [
        "# Defining the model\n",
        "\n",
        "def create_model(learning_rate,dropout_rate):\n",
        "    model = Sequential()\n",
        "    model.add(Dense(12,input_dim = 11,kernel_initializer = 'normal',activation = 'relu'))\n",
        "    model.add(Dropout(dropout_rate))\n",
        "    model.add(Dense(8,input_dim = 12,kernel_initializer = 'normal',activation = 'relu'))\n",
        "    model.add(Dropout(dropout_rate))\n",
        "    model.add(Dense(1,kernel_initializer = 'normal', activation = 'sigmoid'))\n",
        "\n",
        "\n",
        "    adam = Adam(lr = learning_rate)\n",
        "    model.compile(loss = 'binary_crossentropy',optimizer = adam,metrics = ['accuracy'])\n",
        "    return model"
      ],
      "metadata": {
        "id": "U3HfloX_5sN6"
      },
      "id": "U3HfloX_5sN6",
      "execution_count": 72,
      "outputs": []
    },
    {
      "cell_type": "code",
      "source": [
        "# Create the model\n",
        "model = KerasClassifier(build_fn = create_model,verbose = 0,batch_size = 10,epochs = 100)\n",
        "\n",
        "# Define the grid search parameters\n",
        "learning_rate = [0.001,0.01,0.1]\n",
        "dropout_rate = [0.0,0.1,0.2]\n",
        "\n",
        "# Make a dictionary of the grid search parameters\n",
        "param_grids = dict(learning_rate = learning_rate,dropout_rate = dropout_rate)\n",
        "\n",
        "kfold = KFold(n_splits=5,shuffle=True, random_state=42)\n",
        "\n",
        "# Build and fit the GridSearchCV\n",
        "grid = GridSearchCV(estimator = model,param_grid = param_grids,cv = kfold,verbose = 10)\n",
        "grid_result = grid.fit(X,y)"
      ],
      "metadata": {
        "colab": {
          "base_uri": "https://localhost:8080/"
        },
        "id": "vfPEzRTv6tG-",
        "outputId": "54500b5f-78da-49b2-e29e-6d867fa306a9"
      },
      "id": "vfPEzRTv6tG-",
      "execution_count": 73,
      "outputs": [
        {
          "output_type": "stream",
          "name": "stdout",
          "text": [
            "Fitting 5 folds for each of 9 candidates, totalling 45 fits\n",
            "[CV 1/5; 1/9] START dropout_rate=0.0, learning_rate=0.001.......................\n"
          ]
        },
        {
          "output_type": "stream",
          "name": "stderr",
          "text": [
            "/usr/local/lib/python3.7/dist-packages/ipykernel_launcher.py:2: DeprecationWarning: KerasClassifier is deprecated, use Sci-Keras (https://github.com/adriangb/scikeras) instead. See https://www.adriangb.com/scikeras/stable/migration.html for help migrating.\n",
            "  \n",
            "/usr/local/lib/python3.7/dist-packages/keras/optimizer_v2/adam.py:105: UserWarning: The `lr` argument is deprecated, use `learning_rate` instead.\n",
            "  super(Adam, self).__init__(name, **kwargs)\n"
          ]
        },
        {
          "output_type": "stream",
          "name": "stdout",
          "text": [
            "[CV 1/5; 1/9] END dropout_rate=0.0, learning_rate=0.001;, score=0.743 total time=   7.6s\n",
            "[CV 2/5; 1/9] START dropout_rate=0.0, learning_rate=0.001.......................\n"
          ]
        },
        {
          "output_type": "stream",
          "name": "stderr",
          "text": [
            "/usr/local/lib/python3.7/dist-packages/keras/optimizer_v2/adam.py:105: UserWarning: The `lr` argument is deprecated, use `learning_rate` instead.\n",
            "  super(Adam, self).__init__(name, **kwargs)\n"
          ]
        },
        {
          "output_type": "stream",
          "name": "stdout",
          "text": [
            "[CV 2/5; 1/9] END dropout_rate=0.0, learning_rate=0.001;, score=0.760 total time=   9.8s\n",
            "[CV 3/5; 1/9] START dropout_rate=0.0, learning_rate=0.001.......................\n"
          ]
        },
        {
          "output_type": "stream",
          "name": "stderr",
          "text": [
            "/usr/local/lib/python3.7/dist-packages/keras/optimizer_v2/adam.py:105: UserWarning: The `lr` argument is deprecated, use `learning_rate` instead.\n",
            "  super(Adam, self).__init__(name, **kwargs)\n"
          ]
        },
        {
          "output_type": "stream",
          "name": "stdout",
          "text": [
            "[CV 3/5; 1/9] END dropout_rate=0.0, learning_rate=0.001;, score=0.750 total time=  10.9s\n",
            "[CV 4/5; 1/9] START dropout_rate=0.0, learning_rate=0.001.......................\n"
          ]
        },
        {
          "output_type": "stream",
          "name": "stderr",
          "text": [
            "/usr/local/lib/python3.7/dist-packages/keras/optimizer_v2/adam.py:105: UserWarning: The `lr` argument is deprecated, use `learning_rate` instead.\n",
            "  super(Adam, self).__init__(name, **kwargs)\n"
          ]
        },
        {
          "output_type": "stream",
          "name": "stdout",
          "text": [
            "[CV 4/5; 1/9] END dropout_rate=0.0, learning_rate=0.001;, score=0.710 total time=  10.9s\n",
            "[CV 5/5; 1/9] START dropout_rate=0.0, learning_rate=0.001.......................\n"
          ]
        },
        {
          "output_type": "stream",
          "name": "stderr",
          "text": [
            "/usr/local/lib/python3.7/dist-packages/keras/optimizer_v2/adam.py:105: UserWarning: The `lr` argument is deprecated, use `learning_rate` instead.\n",
            "  super(Adam, self).__init__(name, **kwargs)\n"
          ]
        },
        {
          "output_type": "stream",
          "name": "stdout",
          "text": [
            "[CV 5/5; 1/9] END dropout_rate=0.0, learning_rate=0.001;, score=0.750 total time=   9.7s\n",
            "[CV 1/5; 2/9] START dropout_rate=0.0, learning_rate=0.01........................\n"
          ]
        },
        {
          "output_type": "stream",
          "name": "stderr",
          "text": [
            "/usr/local/lib/python3.7/dist-packages/keras/optimizer_v2/adam.py:105: UserWarning: The `lr` argument is deprecated, use `learning_rate` instead.\n",
            "  super(Adam, self).__init__(name, **kwargs)\n"
          ]
        },
        {
          "output_type": "stream",
          "name": "stdout",
          "text": [
            "[CV 1/5; 2/9] END dropout_rate=0.0, learning_rate=0.01;, score=0.723 total time=   7.5s\n",
            "[CV 2/5; 2/9] START dropout_rate=0.0, learning_rate=0.01........................\n"
          ]
        },
        {
          "output_type": "stream",
          "name": "stderr",
          "text": [
            "/usr/local/lib/python3.7/dist-packages/keras/optimizer_v2/adam.py:105: UserWarning: The `lr` argument is deprecated, use `learning_rate` instead.\n",
            "  super(Adam, self).__init__(name, **kwargs)\n"
          ]
        },
        {
          "output_type": "stream",
          "name": "stdout",
          "text": [
            "[CV 2/5; 2/9] END dropout_rate=0.0, learning_rate=0.01;, score=0.790 total time=   9.9s\n",
            "[CV 3/5; 2/9] START dropout_rate=0.0, learning_rate=0.01........................\n"
          ]
        },
        {
          "output_type": "stream",
          "name": "stderr",
          "text": [
            "/usr/local/lib/python3.7/dist-packages/keras/optimizer_v2/adam.py:105: UserWarning: The `lr` argument is deprecated, use `learning_rate` instead.\n",
            "  super(Adam, self).__init__(name, **kwargs)\n"
          ]
        },
        {
          "output_type": "stream",
          "name": "stdout",
          "text": [
            "[CV 3/5; 2/9] END dropout_rate=0.0, learning_rate=0.01;, score=0.760 total time=   9.7s\n",
            "[CV 4/5; 2/9] START dropout_rate=0.0, learning_rate=0.01........................\n"
          ]
        },
        {
          "output_type": "stream",
          "name": "stderr",
          "text": [
            "/usr/local/lib/python3.7/dist-packages/keras/optimizer_v2/adam.py:105: UserWarning: The `lr` argument is deprecated, use `learning_rate` instead.\n",
            "  super(Adam, self).__init__(name, **kwargs)\n"
          ]
        },
        {
          "output_type": "stream",
          "name": "stdout",
          "text": [
            "[CV 4/5; 2/9] END dropout_rate=0.0, learning_rate=0.01;, score=0.770 total time=   9.7s\n",
            "[CV 5/5; 2/9] START dropout_rate=0.0, learning_rate=0.01........................\n"
          ]
        },
        {
          "output_type": "stream",
          "name": "stderr",
          "text": [
            "/usr/local/lib/python3.7/dist-packages/keras/optimizer_v2/adam.py:105: UserWarning: The `lr` argument is deprecated, use `learning_rate` instead.\n",
            "  super(Adam, self).__init__(name, **kwargs)\n"
          ]
        },
        {
          "output_type": "stream",
          "name": "stdout",
          "text": [
            "[CV 5/5; 2/9] END dropout_rate=0.0, learning_rate=0.01;, score=0.830 total time=  10.9s\n",
            "[CV 1/5; 3/9] START dropout_rate=0.0, learning_rate=0.1.........................\n"
          ]
        },
        {
          "output_type": "stream",
          "name": "stderr",
          "text": [
            "/usr/local/lib/python3.7/dist-packages/keras/optimizer_v2/adam.py:105: UserWarning: The `lr` argument is deprecated, use `learning_rate` instead.\n",
            "  super(Adam, self).__init__(name, **kwargs)\n"
          ]
        },
        {
          "output_type": "stream",
          "name": "stdout",
          "text": [
            "[CV 1/5; 3/9] END dropout_rate=0.0, learning_rate=0.1;, score=0.733 total time=  10.9s\n",
            "[CV 2/5; 3/9] START dropout_rate=0.0, learning_rate=0.1.........................\n"
          ]
        },
        {
          "output_type": "stream",
          "name": "stderr",
          "text": [
            "/usr/local/lib/python3.7/dist-packages/keras/optimizer_v2/adam.py:105: UserWarning: The `lr` argument is deprecated, use `learning_rate` instead.\n",
            "  super(Adam, self).__init__(name, **kwargs)\n"
          ]
        },
        {
          "output_type": "stream",
          "name": "stdout",
          "text": [
            "[CV 2/5; 3/9] END dropout_rate=0.0, learning_rate=0.1;, score=0.720 total time=   9.6s\n",
            "[CV 3/5; 3/9] START dropout_rate=0.0, learning_rate=0.1.........................\n"
          ]
        },
        {
          "output_type": "stream",
          "name": "stderr",
          "text": [
            "/usr/local/lib/python3.7/dist-packages/keras/optimizer_v2/adam.py:105: UserWarning: The `lr` argument is deprecated, use `learning_rate` instead.\n",
            "  super(Adam, self).__init__(name, **kwargs)\n"
          ]
        },
        {
          "output_type": "stream",
          "name": "stdout",
          "text": [
            "[CV 3/5; 3/9] END dropout_rate=0.0, learning_rate=0.1;, score=0.740 total time=  10.9s\n",
            "[CV 4/5; 3/9] START dropout_rate=0.0, learning_rate=0.1.........................\n"
          ]
        },
        {
          "output_type": "stream",
          "name": "stderr",
          "text": [
            "/usr/local/lib/python3.7/dist-packages/keras/optimizer_v2/adam.py:105: UserWarning: The `lr` argument is deprecated, use `learning_rate` instead.\n",
            "  super(Adam, self).__init__(name, **kwargs)\n"
          ]
        },
        {
          "output_type": "stream",
          "name": "stdout",
          "text": [
            "[CV 4/5; 3/9] END dropout_rate=0.0, learning_rate=0.1;, score=0.710 total time=   9.7s\n",
            "[CV 5/5; 3/9] START dropout_rate=0.0, learning_rate=0.1.........................\n"
          ]
        },
        {
          "output_type": "stream",
          "name": "stderr",
          "text": [
            "/usr/local/lib/python3.7/dist-packages/keras/optimizer_v2/adam.py:105: UserWarning: The `lr` argument is deprecated, use `learning_rate` instead.\n",
            "  super(Adam, self).__init__(name, **kwargs)\n"
          ]
        },
        {
          "output_type": "stream",
          "name": "stdout",
          "text": [
            "[CV 5/5; 3/9] END dropout_rate=0.0, learning_rate=0.1;, score=0.750 total time=   9.6s\n",
            "[CV 1/5; 4/9] START dropout_rate=0.1, learning_rate=0.001.......................\n"
          ]
        },
        {
          "output_type": "stream",
          "name": "stderr",
          "text": [
            "/usr/local/lib/python3.7/dist-packages/keras/optimizer_v2/adam.py:105: UserWarning: The `lr` argument is deprecated, use `learning_rate` instead.\n",
            "  super(Adam, self).__init__(name, **kwargs)\n"
          ]
        },
        {
          "output_type": "stream",
          "name": "stdout",
          "text": [
            "[CV 1/5; 4/9] END dropout_rate=0.1, learning_rate=0.001;, score=0.743 total time=  10.8s\n",
            "[CV 2/5; 4/9] START dropout_rate=0.1, learning_rate=0.001.......................\n"
          ]
        },
        {
          "output_type": "stream",
          "name": "stderr",
          "text": [
            "/usr/local/lib/python3.7/dist-packages/keras/optimizer_v2/adam.py:105: UserWarning: The `lr` argument is deprecated, use `learning_rate` instead.\n",
            "  super(Adam, self).__init__(name, **kwargs)\n"
          ]
        },
        {
          "output_type": "stream",
          "name": "stdout",
          "text": [
            "[CV 2/5; 4/9] END dropout_rate=0.1, learning_rate=0.001;, score=0.720 total time=  10.9s\n",
            "[CV 3/5; 4/9] START dropout_rate=0.1, learning_rate=0.001.......................\n"
          ]
        },
        {
          "output_type": "stream",
          "name": "stderr",
          "text": [
            "/usr/local/lib/python3.7/dist-packages/keras/optimizer_v2/adam.py:105: UserWarning: The `lr` argument is deprecated, use `learning_rate` instead.\n",
            "  super(Adam, self).__init__(name, **kwargs)\n"
          ]
        },
        {
          "output_type": "stream",
          "name": "stdout",
          "text": [
            "[CV 3/5; 4/9] END dropout_rate=0.1, learning_rate=0.001;, score=0.740 total time=  11.3s\n",
            "[CV 4/5; 4/9] START dropout_rate=0.1, learning_rate=0.001.......................\n"
          ]
        },
        {
          "output_type": "stream",
          "name": "stderr",
          "text": [
            "/usr/local/lib/python3.7/dist-packages/keras/optimizer_v2/adam.py:105: UserWarning: The `lr` argument is deprecated, use `learning_rate` instead.\n",
            "  super(Adam, self).__init__(name, **kwargs)\n"
          ]
        },
        {
          "output_type": "stream",
          "name": "stdout",
          "text": [
            "[CV 4/5; 4/9] END dropout_rate=0.1, learning_rate=0.001;, score=0.710 total time=  11.2s\n",
            "[CV 5/5; 4/9] START dropout_rate=0.1, learning_rate=0.001.......................\n"
          ]
        },
        {
          "output_type": "stream",
          "name": "stderr",
          "text": [
            "/usr/local/lib/python3.7/dist-packages/keras/optimizer_v2/adam.py:105: UserWarning: The `lr` argument is deprecated, use `learning_rate` instead.\n",
            "  super(Adam, self).__init__(name, **kwargs)\n"
          ]
        },
        {
          "output_type": "stream",
          "name": "stdout",
          "text": [
            "[CV 5/5; 4/9] END dropout_rate=0.1, learning_rate=0.001;, score=0.790 total time=  10.2s\n",
            "[CV 1/5; 5/9] START dropout_rate=0.1, learning_rate=0.01........................\n"
          ]
        },
        {
          "output_type": "stream",
          "name": "stderr",
          "text": [
            "/usr/local/lib/python3.7/dist-packages/keras/optimizer_v2/adam.py:105: UserWarning: The `lr` argument is deprecated, use `learning_rate` instead.\n",
            "  super(Adam, self).__init__(name, **kwargs)\n"
          ]
        },
        {
          "output_type": "stream",
          "name": "stdout",
          "text": [
            "[CV 1/5; 5/9] END dropout_rate=0.1, learning_rate=0.01;, score=0.743 total time=   8.1s\n",
            "[CV 2/5; 5/9] START dropout_rate=0.1, learning_rate=0.01........................\n"
          ]
        },
        {
          "output_type": "stream",
          "name": "stderr",
          "text": [
            "/usr/local/lib/python3.7/dist-packages/keras/optimizer_v2/adam.py:105: UserWarning: The `lr` argument is deprecated, use `learning_rate` instead.\n",
            "  super(Adam, self).__init__(name, **kwargs)\n"
          ]
        },
        {
          "output_type": "stream",
          "name": "stdout",
          "text": [
            "[CV 2/5; 5/9] END dropout_rate=0.1, learning_rate=0.01;, score=0.720 total time=  10.9s\n",
            "[CV 3/5; 5/9] START dropout_rate=0.1, learning_rate=0.01........................\n"
          ]
        },
        {
          "output_type": "stream",
          "name": "stderr",
          "text": [
            "/usr/local/lib/python3.7/dist-packages/keras/optimizer_v2/adam.py:105: UserWarning: The `lr` argument is deprecated, use `learning_rate` instead.\n",
            "  super(Adam, self).__init__(name, **kwargs)\n"
          ]
        },
        {
          "output_type": "stream",
          "name": "stdout",
          "text": [
            "[CV 3/5; 5/9] END dropout_rate=0.1, learning_rate=0.01;, score=0.740 total time=  10.9s\n",
            "[CV 4/5; 5/9] START dropout_rate=0.1, learning_rate=0.01........................\n"
          ]
        },
        {
          "output_type": "stream",
          "name": "stderr",
          "text": [
            "/usr/local/lib/python3.7/dist-packages/keras/optimizer_v2/adam.py:105: UserWarning: The `lr` argument is deprecated, use `learning_rate` instead.\n",
            "  super(Adam, self).__init__(name, **kwargs)\n"
          ]
        },
        {
          "output_type": "stream",
          "name": "stdout",
          "text": [
            "[CV 4/5; 5/9] END dropout_rate=0.1, learning_rate=0.01;, score=0.710 total time=  10.9s\n",
            "[CV 5/5; 5/9] START dropout_rate=0.1, learning_rate=0.01........................\n"
          ]
        },
        {
          "output_type": "stream",
          "name": "stderr",
          "text": [
            "/usr/local/lib/python3.7/dist-packages/keras/optimizer_v2/adam.py:105: UserWarning: The `lr` argument is deprecated, use `learning_rate` instead.\n",
            "  super(Adam, self).__init__(name, **kwargs)\n"
          ]
        },
        {
          "output_type": "stream",
          "name": "stdout",
          "text": [
            "[CV 5/5; 5/9] END dropout_rate=0.1, learning_rate=0.01;, score=0.800 total time=  10.1s\n",
            "[CV 1/5; 6/9] START dropout_rate=0.1, learning_rate=0.1.........................\n"
          ]
        },
        {
          "output_type": "stream",
          "name": "stderr",
          "text": [
            "/usr/local/lib/python3.7/dist-packages/keras/optimizer_v2/adam.py:105: UserWarning: The `lr` argument is deprecated, use `learning_rate` instead.\n",
            "  super(Adam, self).__init__(name, **kwargs)\n"
          ]
        },
        {
          "output_type": "stream",
          "name": "stdout",
          "text": [
            "[CV 1/5; 6/9] END dropout_rate=0.1, learning_rate=0.1;, score=0.733 total time=  10.8s\n",
            "[CV 2/5; 6/9] START dropout_rate=0.1, learning_rate=0.1.........................\n"
          ]
        },
        {
          "output_type": "stream",
          "name": "stderr",
          "text": [
            "/usr/local/lib/python3.7/dist-packages/keras/optimizer_v2/adam.py:105: UserWarning: The `lr` argument is deprecated, use `learning_rate` instead.\n",
            "  super(Adam, self).__init__(name, **kwargs)\n"
          ]
        },
        {
          "output_type": "stream",
          "name": "stdout",
          "text": [
            "[CV 2/5; 6/9] END dropout_rate=0.1, learning_rate=0.1;, score=0.720 total time=  10.1s\n",
            "[CV 3/5; 6/9] START dropout_rate=0.1, learning_rate=0.1.........................\n"
          ]
        },
        {
          "output_type": "stream",
          "name": "stderr",
          "text": [
            "/usr/local/lib/python3.7/dist-packages/keras/optimizer_v2/adam.py:105: UserWarning: The `lr` argument is deprecated, use `learning_rate` instead.\n",
            "  super(Adam, self).__init__(name, **kwargs)\n"
          ]
        },
        {
          "output_type": "stream",
          "name": "stdout",
          "text": [
            "[CV 3/5; 6/9] END dropout_rate=0.1, learning_rate=0.1;, score=0.740 total time=  10.9s\n",
            "[CV 4/5; 6/9] START dropout_rate=0.1, learning_rate=0.1.........................\n"
          ]
        },
        {
          "output_type": "stream",
          "name": "stderr",
          "text": [
            "/usr/local/lib/python3.7/dist-packages/keras/optimizer_v2/adam.py:105: UserWarning: The `lr` argument is deprecated, use `learning_rate` instead.\n",
            "  super(Adam, self).__init__(name, **kwargs)\n"
          ]
        },
        {
          "output_type": "stream",
          "name": "stdout",
          "text": [
            "[CV 4/5; 6/9] END dropout_rate=0.1, learning_rate=0.1;, score=0.710 total time=  10.4s\n",
            "[CV 5/5; 6/9] START dropout_rate=0.1, learning_rate=0.1.........................\n"
          ]
        },
        {
          "output_type": "stream",
          "name": "stderr",
          "text": [
            "/usr/local/lib/python3.7/dist-packages/keras/optimizer_v2/adam.py:105: UserWarning: The `lr` argument is deprecated, use `learning_rate` instead.\n",
            "  super(Adam, self).__init__(name, **kwargs)\n"
          ]
        },
        {
          "output_type": "stream",
          "name": "stdout",
          "text": [
            "[CV 5/5; 6/9] END dropout_rate=0.1, learning_rate=0.1;, score=0.750 total time=  10.9s\n",
            "[CV 1/5; 7/9] START dropout_rate=0.2, learning_rate=0.001.......................\n"
          ]
        },
        {
          "output_type": "stream",
          "name": "stderr",
          "text": [
            "/usr/local/lib/python3.7/dist-packages/keras/optimizer_v2/adam.py:105: UserWarning: The `lr` argument is deprecated, use `learning_rate` instead.\n",
            "  super(Adam, self).__init__(name, **kwargs)\n"
          ]
        },
        {
          "output_type": "stream",
          "name": "stdout",
          "text": [
            "[CV 1/5; 7/9] END dropout_rate=0.2, learning_rate=0.001;, score=0.733 total time=  10.9s\n",
            "[CV 2/5; 7/9] START dropout_rate=0.2, learning_rate=0.001.......................\n"
          ]
        },
        {
          "output_type": "stream",
          "name": "stderr",
          "text": [
            "/usr/local/lib/python3.7/dist-packages/keras/optimizer_v2/adam.py:105: UserWarning: The `lr` argument is deprecated, use `learning_rate` instead.\n",
            "  super(Adam, self).__init__(name, **kwargs)\n"
          ]
        },
        {
          "output_type": "stream",
          "name": "stdout",
          "text": [
            "[CV 2/5; 7/9] END dropout_rate=0.2, learning_rate=0.001;, score=0.720 total time=  10.1s\n",
            "[CV 3/5; 7/9] START dropout_rate=0.2, learning_rate=0.001.......................\n"
          ]
        },
        {
          "output_type": "stream",
          "name": "stderr",
          "text": [
            "/usr/local/lib/python3.7/dist-packages/keras/optimizer_v2/adam.py:105: UserWarning: The `lr` argument is deprecated, use `learning_rate` instead.\n",
            "  super(Adam, self).__init__(name, **kwargs)\n"
          ]
        },
        {
          "output_type": "stream",
          "name": "stdout",
          "text": [
            "[CV 3/5; 7/9] END dropout_rate=0.2, learning_rate=0.001;, score=0.760 total time=  10.1s\n",
            "[CV 4/5; 7/9] START dropout_rate=0.2, learning_rate=0.001.......................\n"
          ]
        },
        {
          "output_type": "stream",
          "name": "stderr",
          "text": [
            "/usr/local/lib/python3.7/dist-packages/keras/optimizer_v2/adam.py:105: UserWarning: The `lr` argument is deprecated, use `learning_rate` instead.\n",
            "  super(Adam, self).__init__(name, **kwargs)\n"
          ]
        },
        {
          "output_type": "stream",
          "name": "stdout",
          "text": [
            "[CV 4/5; 7/9] END dropout_rate=0.2, learning_rate=0.001;, score=0.710 total time=  10.9s\n",
            "[CV 5/5; 7/9] START dropout_rate=0.2, learning_rate=0.001.......................\n"
          ]
        },
        {
          "output_type": "stream",
          "name": "stderr",
          "text": [
            "/usr/local/lib/python3.7/dist-packages/keras/optimizer_v2/adam.py:105: UserWarning: The `lr` argument is deprecated, use `learning_rate` instead.\n",
            "  super(Adam, self).__init__(name, **kwargs)\n"
          ]
        },
        {
          "output_type": "stream",
          "name": "stdout",
          "text": [
            "[CV 5/5; 7/9] END dropout_rate=0.2, learning_rate=0.001;, score=0.790 total time=  10.9s\n",
            "[CV 1/5; 8/9] START dropout_rate=0.2, learning_rate=0.01........................\n"
          ]
        },
        {
          "output_type": "stream",
          "name": "stderr",
          "text": [
            "/usr/local/lib/python3.7/dist-packages/keras/optimizer_v2/adam.py:105: UserWarning: The `lr` argument is deprecated, use `learning_rate` instead.\n",
            "  super(Adam, self).__init__(name, **kwargs)\n"
          ]
        },
        {
          "output_type": "stream",
          "name": "stdout",
          "text": [
            "[CV 1/5; 8/9] END dropout_rate=0.2, learning_rate=0.01;, score=0.733 total time=   7.9s\n",
            "[CV 2/5; 8/9] START dropout_rate=0.2, learning_rate=0.01........................\n"
          ]
        },
        {
          "output_type": "stream",
          "name": "stderr",
          "text": [
            "/usr/local/lib/python3.7/dist-packages/keras/optimizer_v2/adam.py:105: UserWarning: The `lr` argument is deprecated, use `learning_rate` instead.\n",
            "  super(Adam, self).__init__(name, **kwargs)\n"
          ]
        },
        {
          "output_type": "stream",
          "name": "stdout",
          "text": [
            "[CV 2/5; 8/9] END dropout_rate=0.2, learning_rate=0.01;, score=0.720 total time=  10.9s\n",
            "[CV 3/5; 8/9] START dropout_rate=0.2, learning_rate=0.01........................\n"
          ]
        },
        {
          "output_type": "stream",
          "name": "stderr",
          "text": [
            "/usr/local/lib/python3.7/dist-packages/keras/optimizer_v2/adam.py:105: UserWarning: The `lr` argument is deprecated, use `learning_rate` instead.\n",
            "  super(Adam, self).__init__(name, **kwargs)\n"
          ]
        },
        {
          "output_type": "stream",
          "name": "stdout",
          "text": [
            "[CV 3/5; 8/9] END dropout_rate=0.2, learning_rate=0.01;, score=0.740 total time=  10.1s\n",
            "[CV 4/5; 8/9] START dropout_rate=0.2, learning_rate=0.01........................\n"
          ]
        },
        {
          "output_type": "stream",
          "name": "stderr",
          "text": [
            "/usr/local/lib/python3.7/dist-packages/keras/optimizer_v2/adam.py:105: UserWarning: The `lr` argument is deprecated, use `learning_rate` instead.\n",
            "  super(Adam, self).__init__(name, **kwargs)\n"
          ]
        },
        {
          "output_type": "stream",
          "name": "stdout",
          "text": [
            "[CV 4/5; 8/9] END dropout_rate=0.2, learning_rate=0.01;, score=0.710 total time=  10.9s\n",
            "[CV 5/5; 8/9] START dropout_rate=0.2, learning_rate=0.01........................\n"
          ]
        },
        {
          "output_type": "stream",
          "name": "stderr",
          "text": [
            "/usr/local/lib/python3.7/dist-packages/keras/optimizer_v2/adam.py:105: UserWarning: The `lr` argument is deprecated, use `learning_rate` instead.\n",
            "  super(Adam, self).__init__(name, **kwargs)\n"
          ]
        },
        {
          "output_type": "stream",
          "name": "stdout",
          "text": [
            "[CV 5/5; 8/9] END dropout_rate=0.2, learning_rate=0.01;, score=0.750 total time=  10.1s\n",
            "[CV 1/5; 9/9] START dropout_rate=0.2, learning_rate=0.1.........................\n"
          ]
        },
        {
          "output_type": "stream",
          "name": "stderr",
          "text": [
            "/usr/local/lib/python3.7/dist-packages/keras/optimizer_v2/adam.py:105: UserWarning: The `lr` argument is deprecated, use `learning_rate` instead.\n",
            "  super(Adam, self).__init__(name, **kwargs)\n"
          ]
        },
        {
          "output_type": "stream",
          "name": "stdout",
          "text": [
            "[CV 1/5; 9/9] END dropout_rate=0.2, learning_rate=0.1;, score=0.733 total time=   8.4s\n",
            "[CV 2/5; 9/9] START dropout_rate=0.2, learning_rate=0.1.........................\n"
          ]
        },
        {
          "output_type": "stream",
          "name": "stderr",
          "text": [
            "/usr/local/lib/python3.7/dist-packages/keras/optimizer_v2/adam.py:105: UserWarning: The `lr` argument is deprecated, use `learning_rate` instead.\n",
            "  super(Adam, self).__init__(name, **kwargs)\n"
          ]
        },
        {
          "output_type": "stream",
          "name": "stdout",
          "text": [
            "[CV 2/5; 9/9] END dropout_rate=0.2, learning_rate=0.1;, score=0.720 total time=  11.0s\n",
            "[CV 3/5; 9/9] START dropout_rate=0.2, learning_rate=0.1.........................\n"
          ]
        },
        {
          "output_type": "stream",
          "name": "stderr",
          "text": [
            "/usr/local/lib/python3.7/dist-packages/keras/optimizer_v2/adam.py:105: UserWarning: The `lr` argument is deprecated, use `learning_rate` instead.\n",
            "  super(Adam, self).__init__(name, **kwargs)\n"
          ]
        },
        {
          "output_type": "stream",
          "name": "stdout",
          "text": [
            "[CV 3/5; 9/9] END dropout_rate=0.2, learning_rate=0.1;, score=0.740 total time=  11.1s\n",
            "[CV 4/5; 9/9] START dropout_rate=0.2, learning_rate=0.1.........................\n"
          ]
        },
        {
          "output_type": "stream",
          "name": "stderr",
          "text": [
            "/usr/local/lib/python3.7/dist-packages/keras/optimizer_v2/adam.py:105: UserWarning: The `lr` argument is deprecated, use `learning_rate` instead.\n",
            "  super(Adam, self).__init__(name, **kwargs)\n"
          ]
        },
        {
          "output_type": "stream",
          "name": "stdout",
          "text": [
            "[CV 4/5; 9/9] END dropout_rate=0.2, learning_rate=0.1;, score=0.710 total time=  10.4s\n",
            "[CV 5/5; 9/9] START dropout_rate=0.2, learning_rate=0.1.........................\n"
          ]
        },
        {
          "output_type": "stream",
          "name": "stderr",
          "text": [
            "/usr/local/lib/python3.7/dist-packages/keras/optimizer_v2/adam.py:105: UserWarning: The `lr` argument is deprecated, use `learning_rate` instead.\n",
            "  super(Adam, self).__init__(name, **kwargs)\n"
          ]
        },
        {
          "output_type": "stream",
          "name": "stdout",
          "text": [
            "[CV 5/5; 9/9] END dropout_rate=0.2, learning_rate=0.1;, score=0.750 total time=  11.0s\n"
          ]
        },
        {
          "output_type": "stream",
          "name": "stderr",
          "text": [
            "/usr/local/lib/python3.7/dist-packages/keras/optimizer_v2/adam.py:105: UserWarning: The `lr` argument is deprecated, use `learning_rate` instead.\n",
            "  super(Adam, self).__init__(name, **kwargs)\n"
          ]
        }
      ]
    },
    {
      "cell_type": "code",
      "source": [
        "# Summarize the results\n",
        "lrn_drop_rate = grid_result.best_params_\n",
        "print('Best : {}, using {}'.format(grid_result.best_score_,grid_result.best_params_))\n",
        "means = grid_result.cv_results_['mean_test_score']\n",
        "stds = grid_result.cv_results_['std_test_score']\n",
        "params = grid_result.cv_results_['params']\n",
        "for mean, stdev, param in zip(means, stds, params):\n",
        "  print('{},{} with: {}'.format(mean, stdev, param))"
      ],
      "metadata": {
        "colab": {
          "base_uri": "https://localhost:8080/"
        },
        "id": "vB01u3eEI2u2",
        "outputId": "77e58ef4-f016-45fd-f14a-6492d6ba2c86"
      },
      "id": "vB01u3eEI2u2",
      "execution_count": 74,
      "outputs": [
        {
          "output_type": "stream",
          "name": "stdout",
          "text": [
            "Best : 0.774554455280304, using {'dropout_rate': 0.0, 'learning_rate': 0.01}\n",
            "0.7425148487091064,0.017175595915424315 with: {'dropout_rate': 0.0, 'learning_rate': 0.001}\n",
            "0.774554455280304,0.03528948669540859 with: {'dropout_rate': 0.0, 'learning_rate': 0.01}\n",
            "0.7305346608161927,0.014182507756917262 with: {'dropout_rate': 0.0, 'learning_rate': 0.1}\n",
            "0.7405148625373841,0.02758732955929299 with: {'dropout_rate': 0.1, 'learning_rate': 0.001}\n",
            "0.7425148606300354,0.031225008704654177 with: {'dropout_rate': 0.1, 'learning_rate': 0.01}\n",
            "0.7305346608161927,0.014182507756917262 with: {'dropout_rate': 0.1, 'learning_rate': 0.1}\n",
            "0.7425346612930298,0.02905704763269564 with: {'dropout_rate': 0.2, 'learning_rate': 0.001}\n",
            "0.7305346608161927,0.014182507756917262 with: {'dropout_rate': 0.2, 'learning_rate': 0.01}\n",
            "0.7305346608161927,0.014182507756917262 with: {'dropout_rate': 0.2, 'learning_rate': 0.1}\n"
          ]
        }
      ]
    },
    {
      "cell_type": "markdown",
      "source": [
        "#### Tuning of Hyperparameters:- Activation Function and Kernel Initializer"
      ],
      "metadata": {
        "id": "wZZlpoMeLg8k"
      },
      "id": "wZZlpoMeLg8k"
    },
    {
      "cell_type": "code",
      "source": [
        "# Defining the model\n",
        "\n",
        "def create_model(activation_function,init):\n",
        "    model = Sequential()\n",
        "    model.add(Dense(12,input_dim = 11,kernel_initializer = init,activation = activation_function))\n",
        "    model.add(Dropout(0.0))\n",
        "    model.add(Dense(8,input_dim = 12,kernel_initializer = init,activation = activation_function))\n",
        "    model.add(Dropout(0.0))\n",
        "    model.add(Dense(1,kernel_initializer = init , activation = 'sigmoid'))\n",
        "    \n",
        "    adam = Adam(lr = 0.01)\n",
        "    model.compile(loss = 'binary_crossentropy',optimizer = adam,metrics = ['accuracy'])\n",
        "    return model"
      ],
      "metadata": {
        "id": "BN0RUz1mJBO0"
      },
      "id": "BN0RUz1mJBO0",
      "execution_count": 75,
      "outputs": []
    },
    {
      "cell_type": "code",
      "source": [
        "# Create the model\n",
        "model = KerasClassifier(build_fn = create_model,verbose = 0,batch_size = 10,epochs = 100)\n",
        "\n",
        "# Define the grid search parameters\n",
        "activation_function = ['softmax','relu','tanh','linear']\n",
        "init = ['uniform','normal','zero']\n",
        "\n",
        "# Make a dictionary of the grid search parameters\n",
        "param_grids = dict(activation_function = activation_function,init = init)\n",
        "\n",
        "kfold = KFold(n_splits=5,shuffle=True, random_state=42)\n",
        "\n",
        "# Build and fit the GridSearchCV\n",
        "grid = GridSearchCV(estimator = model,param_grid = param_grids,cv = kfold ,verbose = 10)\n",
        "grid_result = grid.fit(X,y)"
      ],
      "metadata": {
        "colab": {
          "base_uri": "https://localhost:8080/"
        },
        "id": "de5MvviiMRHv",
        "outputId": "d73c4ad1-6668-4fac-df57-1c5cae4171da"
      },
      "id": "de5MvviiMRHv",
      "execution_count": 76,
      "outputs": [
        {
          "output_type": "stream",
          "name": "stdout",
          "text": [
            "Fitting 5 folds for each of 12 candidates, totalling 60 fits\n",
            "[CV 1/5; 1/12] START activation_function=softmax, init=uniform..................\n"
          ]
        },
        {
          "output_type": "stream",
          "name": "stderr",
          "text": [
            "/usr/local/lib/python3.7/dist-packages/ipykernel_launcher.py:2: DeprecationWarning: KerasClassifier is deprecated, use Sci-Keras (https://github.com/adriangb/scikeras) instead. See https://www.adriangb.com/scikeras/stable/migration.html for help migrating.\n",
            "  \n",
            "/usr/local/lib/python3.7/dist-packages/keras/optimizer_v2/adam.py:105: UserWarning: The `lr` argument is deprecated, use `learning_rate` instead.\n",
            "  super(Adam, self).__init__(name, **kwargs)\n"
          ]
        },
        {
          "output_type": "stream",
          "name": "stdout",
          "text": [
            "[CV 1/5; 1/12] END activation_function=softmax, init=uniform;, score=0.733 total time=  10.8s\n",
            "[CV 2/5; 1/12] START activation_function=softmax, init=uniform..................\n"
          ]
        },
        {
          "output_type": "stream",
          "name": "stderr",
          "text": [
            "/usr/local/lib/python3.7/dist-packages/keras/optimizer_v2/adam.py:105: UserWarning: The `lr` argument is deprecated, use `learning_rate` instead.\n",
            "  super(Adam, self).__init__(name, **kwargs)\n"
          ]
        },
        {
          "output_type": "stream",
          "name": "stdout",
          "text": [
            "[CV 2/5; 1/12] END activation_function=softmax, init=uniform;, score=0.770 total time=  10.0s\n",
            "[CV 3/5; 1/12] START activation_function=softmax, init=uniform..................\n"
          ]
        },
        {
          "output_type": "stream",
          "name": "stderr",
          "text": [
            "/usr/local/lib/python3.7/dist-packages/keras/optimizer_v2/adam.py:105: UserWarning: The `lr` argument is deprecated, use `learning_rate` instead.\n",
            "  super(Adam, self).__init__(name, **kwargs)\n"
          ]
        },
        {
          "output_type": "stream",
          "name": "stdout",
          "text": [
            "[CV 3/5; 1/12] END activation_function=softmax, init=uniform;, score=0.760 total time=   9.8s\n",
            "[CV 4/5; 1/12] START activation_function=softmax, init=uniform..................\n"
          ]
        },
        {
          "output_type": "stream",
          "name": "stderr",
          "text": [
            "/usr/local/lib/python3.7/dist-packages/keras/optimizer_v2/adam.py:105: UserWarning: The `lr` argument is deprecated, use `learning_rate` instead.\n",
            "  super(Adam, self).__init__(name, **kwargs)\n"
          ]
        },
        {
          "output_type": "stream",
          "name": "stdout",
          "text": [
            "[CV 4/5; 1/12] END activation_function=softmax, init=uniform;, score=0.810 total time=  10.9s\n",
            "[CV 5/5; 1/12] START activation_function=softmax, init=uniform..................\n"
          ]
        },
        {
          "output_type": "stream",
          "name": "stderr",
          "text": [
            "/usr/local/lib/python3.7/dist-packages/keras/optimizer_v2/adam.py:105: UserWarning: The `lr` argument is deprecated, use `learning_rate` instead.\n",
            "  super(Adam, self).__init__(name, **kwargs)\n"
          ]
        },
        {
          "output_type": "stream",
          "name": "stdout",
          "text": [
            "[CV 5/5; 1/12] END activation_function=softmax, init=uniform;, score=0.810 total time=  10.1s\n",
            "[CV 1/5; 2/12] START activation_function=softmax, init=normal...................\n"
          ]
        },
        {
          "output_type": "stream",
          "name": "stderr",
          "text": [
            "/usr/local/lib/python3.7/dist-packages/keras/optimizer_v2/adam.py:105: UserWarning: The `lr` argument is deprecated, use `learning_rate` instead.\n",
            "  super(Adam, self).__init__(name, **kwargs)\n"
          ]
        },
        {
          "output_type": "stream",
          "name": "stdout",
          "text": [
            "[CV 1/5; 2/12] END activation_function=softmax, init=normal;, score=0.733 total time=  11.2s\n",
            "[CV 2/5; 2/12] START activation_function=softmax, init=normal...................\n"
          ]
        },
        {
          "output_type": "stream",
          "name": "stderr",
          "text": [
            "/usr/local/lib/python3.7/dist-packages/keras/optimizer_v2/adam.py:105: UserWarning: The `lr` argument is deprecated, use `learning_rate` instead.\n",
            "  super(Adam, self).__init__(name, **kwargs)\n"
          ]
        },
        {
          "output_type": "stream",
          "name": "stdout",
          "text": [
            "[CV 2/5; 2/12] END activation_function=softmax, init=normal;, score=0.770 total time=   9.9s\n",
            "[CV 3/5; 2/12] START activation_function=softmax, init=normal...................\n"
          ]
        },
        {
          "output_type": "stream",
          "name": "stderr",
          "text": [
            "/usr/local/lib/python3.7/dist-packages/keras/optimizer_v2/adam.py:105: UserWarning: The `lr` argument is deprecated, use `learning_rate` instead.\n",
            "  super(Adam, self).__init__(name, **kwargs)\n"
          ]
        },
        {
          "output_type": "stream",
          "name": "stdout",
          "text": [
            "[CV 3/5; 2/12] END activation_function=softmax, init=normal;, score=0.770 total time=   9.8s\n",
            "[CV 4/5; 2/12] START activation_function=softmax, init=normal...................\n"
          ]
        },
        {
          "output_type": "stream",
          "name": "stderr",
          "text": [
            "/usr/local/lib/python3.7/dist-packages/keras/optimizer_v2/adam.py:105: UserWarning: The `lr` argument is deprecated, use `learning_rate` instead.\n",
            "  super(Adam, self).__init__(name, **kwargs)\n"
          ]
        },
        {
          "output_type": "stream",
          "name": "stdout",
          "text": [
            "[CV 4/5; 2/12] END activation_function=softmax, init=normal;, score=0.770 total time=   9.9s\n",
            "[CV 5/5; 2/12] START activation_function=softmax, init=normal...................\n"
          ]
        },
        {
          "output_type": "stream",
          "name": "stderr",
          "text": [
            "/usr/local/lib/python3.7/dist-packages/keras/optimizer_v2/adam.py:105: UserWarning: The `lr` argument is deprecated, use `learning_rate` instead.\n",
            "  super(Adam, self).__init__(name, **kwargs)\n"
          ]
        },
        {
          "output_type": "stream",
          "name": "stdout",
          "text": [
            "[CV 5/5; 2/12] END activation_function=softmax, init=normal;, score=0.810 total time=  10.9s\n",
            "[CV 1/5; 3/12] START activation_function=softmax, init=zero.....................\n"
          ]
        },
        {
          "output_type": "stream",
          "name": "stderr",
          "text": [
            "/usr/local/lib/python3.7/dist-packages/keras/optimizer_v2/adam.py:105: UserWarning: The `lr` argument is deprecated, use `learning_rate` instead.\n",
            "  super(Adam, self).__init__(name, **kwargs)\n"
          ]
        },
        {
          "output_type": "stream",
          "name": "stdout",
          "text": [
            "[CV 1/5; 3/12] END activation_function=softmax, init=zero;, score=0.733 total time=   7.8s\n",
            "[CV 2/5; 3/12] START activation_function=softmax, init=zero.....................\n"
          ]
        },
        {
          "output_type": "stream",
          "name": "stderr",
          "text": [
            "/usr/local/lib/python3.7/dist-packages/keras/optimizer_v2/adam.py:105: UserWarning: The `lr` argument is deprecated, use `learning_rate` instead.\n",
            "  super(Adam, self).__init__(name, **kwargs)\n"
          ]
        },
        {
          "output_type": "stream",
          "name": "stdout",
          "text": [
            "[CV 2/5; 3/12] END activation_function=softmax, init=zero;, score=0.720 total time=  10.0s\n",
            "[CV 3/5; 3/12] START activation_function=softmax, init=zero.....................\n"
          ]
        },
        {
          "output_type": "stream",
          "name": "stderr",
          "text": [
            "/usr/local/lib/python3.7/dist-packages/keras/optimizer_v2/adam.py:105: UserWarning: The `lr` argument is deprecated, use `learning_rate` instead.\n",
            "  super(Adam, self).__init__(name, **kwargs)\n"
          ]
        },
        {
          "output_type": "stream",
          "name": "stdout",
          "text": [
            "[CV 3/5; 3/12] END activation_function=softmax, init=zero;, score=0.740 total time=  10.9s\n",
            "[CV 4/5; 3/12] START activation_function=softmax, init=zero.....................\n"
          ]
        },
        {
          "output_type": "stream",
          "name": "stderr",
          "text": [
            "/usr/local/lib/python3.7/dist-packages/keras/optimizer_v2/adam.py:105: UserWarning: The `lr` argument is deprecated, use `learning_rate` instead.\n",
            "  super(Adam, self).__init__(name, **kwargs)\n"
          ]
        },
        {
          "output_type": "stream",
          "name": "stdout",
          "text": [
            "[CV 4/5; 3/12] END activation_function=softmax, init=zero;, score=0.710 total time=  10.9s\n",
            "[CV 5/5; 3/12] START activation_function=softmax, init=zero.....................\n"
          ]
        },
        {
          "output_type": "stream",
          "name": "stderr",
          "text": [
            "/usr/local/lib/python3.7/dist-packages/keras/optimizer_v2/adam.py:105: UserWarning: The `lr` argument is deprecated, use `learning_rate` instead.\n",
            "  super(Adam, self).__init__(name, **kwargs)\n"
          ]
        },
        {
          "output_type": "stream",
          "name": "stdout",
          "text": [
            "[CV 5/5; 3/12] END activation_function=softmax, init=zero;, score=0.750 total time=  10.9s\n",
            "[CV 1/5; 4/12] START activation_function=relu, init=uniform.....................\n"
          ]
        },
        {
          "output_type": "stream",
          "name": "stderr",
          "text": [
            "/usr/local/lib/python3.7/dist-packages/keras/optimizer_v2/adam.py:105: UserWarning: The `lr` argument is deprecated, use `learning_rate` instead.\n",
            "  super(Adam, self).__init__(name, **kwargs)\n"
          ]
        },
        {
          "output_type": "stream",
          "name": "stdout",
          "text": [
            "[CV 1/5; 4/12] END activation_function=relu, init=uniform;, score=0.733 total time=   7.4s\n",
            "[CV 2/5; 4/12] START activation_function=relu, init=uniform.....................\n"
          ]
        },
        {
          "output_type": "stream",
          "name": "stderr",
          "text": [
            "/usr/local/lib/python3.7/dist-packages/keras/optimizer_v2/adam.py:105: UserWarning: The `lr` argument is deprecated, use `learning_rate` instead.\n",
            "  super(Adam, self).__init__(name, **kwargs)\n"
          ]
        },
        {
          "output_type": "stream",
          "name": "stdout",
          "text": [
            "[CV 2/5; 4/12] END activation_function=relu, init=uniform;, score=0.800 total time=   9.6s\n",
            "[CV 3/5; 4/12] START activation_function=relu, init=uniform.....................\n"
          ]
        },
        {
          "output_type": "stream",
          "name": "stderr",
          "text": [
            "/usr/local/lib/python3.7/dist-packages/keras/optimizer_v2/adam.py:105: UserWarning: The `lr` argument is deprecated, use `learning_rate` instead.\n",
            "  super(Adam, self).__init__(name, **kwargs)\n"
          ]
        },
        {
          "output_type": "stream",
          "name": "stdout",
          "text": [
            "[CV 3/5; 4/12] END activation_function=relu, init=uniform;, score=0.760 total time=   9.9s\n",
            "[CV 4/5; 4/12] START activation_function=relu, init=uniform.....................\n"
          ]
        },
        {
          "output_type": "stream",
          "name": "stderr",
          "text": [
            "/usr/local/lib/python3.7/dist-packages/keras/optimizer_v2/adam.py:105: UserWarning: The `lr` argument is deprecated, use `learning_rate` instead.\n",
            "  super(Adam, self).__init__(name, **kwargs)\n"
          ]
        },
        {
          "output_type": "stream",
          "name": "stdout",
          "text": [
            "[CV 4/5; 4/12] END activation_function=relu, init=uniform;, score=0.770 total time=   9.6s\n",
            "[CV 5/5; 4/12] START activation_function=relu, init=uniform.....................\n"
          ]
        },
        {
          "output_type": "stream",
          "name": "stderr",
          "text": [
            "/usr/local/lib/python3.7/dist-packages/keras/optimizer_v2/adam.py:105: UserWarning: The `lr` argument is deprecated, use `learning_rate` instead.\n",
            "  super(Adam, self).__init__(name, **kwargs)\n"
          ]
        },
        {
          "output_type": "stream",
          "name": "stdout",
          "text": [
            "[CV 5/5; 4/12] END activation_function=relu, init=uniform;, score=0.830 total time=  10.9s\n",
            "[CV 1/5; 5/12] START activation_function=relu, init=normal......................\n"
          ]
        },
        {
          "output_type": "stream",
          "name": "stderr",
          "text": [
            "/usr/local/lib/python3.7/dist-packages/keras/optimizer_v2/adam.py:105: UserWarning: The `lr` argument is deprecated, use `learning_rate` instead.\n",
            "  super(Adam, self).__init__(name, **kwargs)\n"
          ]
        },
        {
          "output_type": "stream",
          "name": "stdout",
          "text": [
            "[CV 1/5; 5/12] END activation_function=relu, init=normal;, score=0.743 total time=  10.9s\n",
            "[CV 2/5; 5/12] START activation_function=relu, init=normal......................\n"
          ]
        },
        {
          "output_type": "stream",
          "name": "stderr",
          "text": [
            "/usr/local/lib/python3.7/dist-packages/keras/optimizer_v2/adam.py:105: UserWarning: The `lr` argument is deprecated, use `learning_rate` instead.\n",
            "  super(Adam, self).__init__(name, **kwargs)\n"
          ]
        },
        {
          "output_type": "stream",
          "name": "stdout",
          "text": [
            "[CV 2/5; 5/12] END activation_function=relu, init=normal;, score=0.800 total time=  10.5s\n",
            "[CV 3/5; 5/12] START activation_function=relu, init=normal......................\n"
          ]
        },
        {
          "output_type": "stream",
          "name": "stderr",
          "text": [
            "/usr/local/lib/python3.7/dist-packages/keras/optimizer_v2/adam.py:105: UserWarning: The `lr` argument is deprecated, use `learning_rate` instead.\n",
            "  super(Adam, self).__init__(name, **kwargs)\n"
          ]
        },
        {
          "output_type": "stream",
          "name": "stdout",
          "text": [
            "[CV 3/5; 5/12] END activation_function=relu, init=normal;, score=0.760 total time=   9.6s\n",
            "[CV 4/5; 5/12] START activation_function=relu, init=normal......................\n"
          ]
        },
        {
          "output_type": "stream",
          "name": "stderr",
          "text": [
            "/usr/local/lib/python3.7/dist-packages/keras/optimizer_v2/adam.py:105: UserWarning: The `lr` argument is deprecated, use `learning_rate` instead.\n",
            "  super(Adam, self).__init__(name, **kwargs)\n"
          ]
        },
        {
          "output_type": "stream",
          "name": "stdout",
          "text": [
            "[CV 4/5; 5/12] END activation_function=relu, init=normal;, score=0.770 total time=   9.4s\n",
            "[CV 5/5; 5/12] START activation_function=relu, init=normal......................\n"
          ]
        },
        {
          "output_type": "stream",
          "name": "stderr",
          "text": [
            "/usr/local/lib/python3.7/dist-packages/keras/optimizer_v2/adam.py:105: UserWarning: The `lr` argument is deprecated, use `learning_rate` instead.\n",
            "  super(Adam, self).__init__(name, **kwargs)\n"
          ]
        },
        {
          "output_type": "stream",
          "name": "stdout",
          "text": [
            "[CV 5/5; 5/12] END activation_function=relu, init=normal;, score=0.800 total time=   9.6s\n",
            "[CV 1/5; 6/12] START activation_function=relu, init=zero........................\n"
          ]
        },
        {
          "output_type": "stream",
          "name": "stderr",
          "text": [
            "/usr/local/lib/python3.7/dist-packages/keras/optimizer_v2/adam.py:105: UserWarning: The `lr` argument is deprecated, use `learning_rate` instead.\n",
            "  super(Adam, self).__init__(name, **kwargs)\n"
          ]
        },
        {
          "output_type": "stream",
          "name": "stdout",
          "text": [
            "[CV 1/5; 6/12] END activation_function=relu, init=zero;, score=0.733 total time=  10.9s\n",
            "[CV 2/5; 6/12] START activation_function=relu, init=zero........................\n"
          ]
        },
        {
          "output_type": "stream",
          "name": "stderr",
          "text": [
            "/usr/local/lib/python3.7/dist-packages/keras/optimizer_v2/adam.py:105: UserWarning: The `lr` argument is deprecated, use `learning_rate` instead.\n",
            "  super(Adam, self).__init__(name, **kwargs)\n"
          ]
        },
        {
          "output_type": "stream",
          "name": "stdout",
          "text": [
            "[CV 2/5; 6/12] END activation_function=relu, init=zero;, score=0.720 total time=   9.6s\n",
            "[CV 3/5; 6/12] START activation_function=relu, init=zero........................\n"
          ]
        },
        {
          "output_type": "stream",
          "name": "stderr",
          "text": [
            "/usr/local/lib/python3.7/dist-packages/keras/optimizer_v2/adam.py:105: UserWarning: The `lr` argument is deprecated, use `learning_rate` instead.\n",
            "  super(Adam, self).__init__(name, **kwargs)\n"
          ]
        },
        {
          "output_type": "stream",
          "name": "stdout",
          "text": [
            "[CV 3/5; 6/12] END activation_function=relu, init=zero;, score=0.740 total time=   9.6s\n",
            "[CV 4/5; 6/12] START activation_function=relu, init=zero........................\n"
          ]
        },
        {
          "output_type": "stream",
          "name": "stderr",
          "text": [
            "/usr/local/lib/python3.7/dist-packages/keras/optimizer_v2/adam.py:105: UserWarning: The `lr` argument is deprecated, use `learning_rate` instead.\n",
            "  super(Adam, self).__init__(name, **kwargs)\n"
          ]
        },
        {
          "output_type": "stream",
          "name": "stdout",
          "text": [
            "[CV 4/5; 6/12] END activation_function=relu, init=zero;, score=0.710 total time=   9.5s\n",
            "[CV 5/5; 6/12] START activation_function=relu, init=zero........................\n"
          ]
        },
        {
          "output_type": "stream",
          "name": "stderr",
          "text": [
            "/usr/local/lib/python3.7/dist-packages/keras/optimizer_v2/adam.py:105: UserWarning: The `lr` argument is deprecated, use `learning_rate` instead.\n",
            "  super(Adam, self).__init__(name, **kwargs)\n"
          ]
        },
        {
          "output_type": "stream",
          "name": "stdout",
          "text": [
            "[CV 5/5; 6/12] END activation_function=relu, init=zero;, score=0.750 total time=  11.3s\n",
            "[CV 1/5; 7/12] START activation_function=tanh, init=uniform.....................\n"
          ]
        },
        {
          "output_type": "stream",
          "name": "stderr",
          "text": [
            "/usr/local/lib/python3.7/dist-packages/keras/optimizer_v2/adam.py:105: UserWarning: The `lr` argument is deprecated, use `learning_rate` instead.\n",
            "  super(Adam, self).__init__(name, **kwargs)\n"
          ]
        },
        {
          "output_type": "stream",
          "name": "stdout",
          "text": [
            "[CV 1/5; 7/12] END activation_function=tanh, init=uniform;, score=0.713 total time=   7.5s\n",
            "[CV 2/5; 7/12] START activation_function=tanh, init=uniform.....................\n"
          ]
        },
        {
          "output_type": "stream",
          "name": "stderr",
          "text": [
            "/usr/local/lib/python3.7/dist-packages/keras/optimizer_v2/adam.py:105: UserWarning: The `lr` argument is deprecated, use `learning_rate` instead.\n",
            "  super(Adam, self).__init__(name, **kwargs)\n"
          ]
        },
        {
          "output_type": "stream",
          "name": "stdout",
          "text": [
            "[CV 2/5; 7/12] END activation_function=tanh, init=uniform;, score=0.790 total time=  10.9s\n",
            "[CV 3/5; 7/12] START activation_function=tanh, init=uniform.....................\n"
          ]
        },
        {
          "output_type": "stream",
          "name": "stderr",
          "text": [
            "/usr/local/lib/python3.7/dist-packages/keras/optimizer_v2/adam.py:105: UserWarning: The `lr` argument is deprecated, use `learning_rate` instead.\n",
            "  super(Adam, self).__init__(name, **kwargs)\n"
          ]
        },
        {
          "output_type": "stream",
          "name": "stdout",
          "text": [
            "[CV 3/5; 7/12] END activation_function=tanh, init=uniform;, score=0.760 total time=  10.9s\n",
            "[CV 4/5; 7/12] START activation_function=tanh, init=uniform.....................\n"
          ]
        },
        {
          "output_type": "stream",
          "name": "stderr",
          "text": [
            "/usr/local/lib/python3.7/dist-packages/keras/optimizer_v2/adam.py:105: UserWarning: The `lr` argument is deprecated, use `learning_rate` instead.\n",
            "  super(Adam, self).__init__(name, **kwargs)\n"
          ]
        },
        {
          "output_type": "stream",
          "name": "stdout",
          "text": [
            "[CV 4/5; 7/12] END activation_function=tanh, init=uniform;, score=0.790 total time=   9.5s\n",
            "[CV 5/5; 7/12] START activation_function=tanh, init=uniform.....................\n"
          ]
        },
        {
          "output_type": "stream",
          "name": "stderr",
          "text": [
            "/usr/local/lib/python3.7/dist-packages/keras/optimizer_v2/adam.py:105: UserWarning: The `lr` argument is deprecated, use `learning_rate` instead.\n",
            "  super(Adam, self).__init__(name, **kwargs)\n"
          ]
        },
        {
          "output_type": "stream",
          "name": "stdout",
          "text": [
            "[CV 5/5; 7/12] END activation_function=tanh, init=uniform;, score=0.810 total time=  10.9s\n",
            "[CV 1/5; 8/12] START activation_function=tanh, init=normal......................\n"
          ]
        },
        {
          "output_type": "stream",
          "name": "stderr",
          "text": [
            "/usr/local/lib/python3.7/dist-packages/keras/optimizer_v2/adam.py:105: UserWarning: The `lr` argument is deprecated, use `learning_rate` instead.\n",
            "  super(Adam, self).__init__(name, **kwargs)\n"
          ]
        },
        {
          "output_type": "stream",
          "name": "stdout",
          "text": [
            "[CV 1/5; 8/12] END activation_function=tanh, init=normal;, score=0.743 total time=  10.8s\n",
            "[CV 2/5; 8/12] START activation_function=tanh, init=normal......................\n"
          ]
        },
        {
          "output_type": "stream",
          "name": "stderr",
          "text": [
            "/usr/local/lib/python3.7/dist-packages/keras/optimizer_v2/adam.py:105: UserWarning: The `lr` argument is deprecated, use `learning_rate` instead.\n",
            "  super(Adam, self).__init__(name, **kwargs)\n"
          ]
        },
        {
          "output_type": "stream",
          "name": "stdout",
          "text": [
            "[CV 2/5; 8/12] END activation_function=tanh, init=normal;, score=0.790 total time=  10.9s\n",
            "[CV 3/5; 8/12] START activation_function=tanh, init=normal......................\n"
          ]
        },
        {
          "output_type": "stream",
          "name": "stderr",
          "text": [
            "/usr/local/lib/python3.7/dist-packages/keras/optimizer_v2/adam.py:105: UserWarning: The `lr` argument is deprecated, use `learning_rate` instead.\n",
            "  super(Adam, self).__init__(name, **kwargs)\n"
          ]
        },
        {
          "output_type": "stream",
          "name": "stdout",
          "text": [
            "[CV 3/5; 8/12] END activation_function=tanh, init=normal;, score=0.760 total time=  10.9s\n",
            "[CV 4/5; 8/12] START activation_function=tanh, init=normal......................\n"
          ]
        },
        {
          "output_type": "stream",
          "name": "stderr",
          "text": [
            "/usr/local/lib/python3.7/dist-packages/keras/optimizer_v2/adam.py:105: UserWarning: The `lr` argument is deprecated, use `learning_rate` instead.\n",
            "  super(Adam, self).__init__(name, **kwargs)\n"
          ]
        },
        {
          "output_type": "stream",
          "name": "stdout",
          "text": [
            "[CV 4/5; 8/12] END activation_function=tanh, init=normal;, score=0.770 total time=  10.9s\n",
            "[CV 5/5; 8/12] START activation_function=tanh, init=normal......................\n"
          ]
        },
        {
          "output_type": "stream",
          "name": "stderr",
          "text": [
            "/usr/local/lib/python3.7/dist-packages/keras/optimizer_v2/adam.py:105: UserWarning: The `lr` argument is deprecated, use `learning_rate` instead.\n",
            "  super(Adam, self).__init__(name, **kwargs)\n"
          ]
        },
        {
          "output_type": "stream",
          "name": "stdout",
          "text": [
            "[CV 5/5; 8/12] END activation_function=tanh, init=normal;, score=0.830 total time=  10.9s\n",
            "[CV 1/5; 9/12] START activation_function=tanh, init=zero........................\n"
          ]
        },
        {
          "output_type": "stream",
          "name": "stderr",
          "text": [
            "/usr/local/lib/python3.7/dist-packages/keras/optimizer_v2/adam.py:105: UserWarning: The `lr` argument is deprecated, use `learning_rate` instead.\n",
            "  super(Adam, self).__init__(name, **kwargs)\n"
          ]
        },
        {
          "output_type": "stream",
          "name": "stdout",
          "text": [
            "[CV 1/5; 9/12] END activation_function=tanh, init=zero;, score=0.733 total time=   7.5s\n",
            "[CV 2/5; 9/12] START activation_function=tanh, init=zero........................\n"
          ]
        },
        {
          "output_type": "stream",
          "name": "stderr",
          "text": [
            "/usr/local/lib/python3.7/dist-packages/keras/optimizer_v2/adam.py:105: UserWarning: The `lr` argument is deprecated, use `learning_rate` instead.\n",
            "  super(Adam, self).__init__(name, **kwargs)\n"
          ]
        },
        {
          "output_type": "stream",
          "name": "stdout",
          "text": [
            "[CV 2/5; 9/12] END activation_function=tanh, init=zero;, score=0.720 total time=  11.3s\n",
            "[CV 3/5; 9/12] START activation_function=tanh, init=zero........................\n"
          ]
        },
        {
          "output_type": "stream",
          "name": "stderr",
          "text": [
            "/usr/local/lib/python3.7/dist-packages/keras/optimizer_v2/adam.py:105: UserWarning: The `lr` argument is deprecated, use `learning_rate` instead.\n",
            "  super(Adam, self).__init__(name, **kwargs)\n"
          ]
        },
        {
          "output_type": "stream",
          "name": "stdout",
          "text": [
            "[CV 3/5; 9/12] END activation_function=tanh, init=zero;, score=0.740 total time=   9.6s\n",
            "[CV 4/5; 9/12] START activation_function=tanh, init=zero........................\n"
          ]
        },
        {
          "output_type": "stream",
          "name": "stderr",
          "text": [
            "/usr/local/lib/python3.7/dist-packages/keras/optimizer_v2/adam.py:105: UserWarning: The `lr` argument is deprecated, use `learning_rate` instead.\n",
            "  super(Adam, self).__init__(name, **kwargs)\n"
          ]
        },
        {
          "output_type": "stream",
          "name": "stdout",
          "text": [
            "[CV 4/5; 9/12] END activation_function=tanh, init=zero;, score=0.710 total time=   9.6s\n",
            "[CV 5/5; 9/12] START activation_function=tanh, init=zero........................\n"
          ]
        },
        {
          "output_type": "stream",
          "name": "stderr",
          "text": [
            "/usr/local/lib/python3.7/dist-packages/keras/optimizer_v2/adam.py:105: UserWarning: The `lr` argument is deprecated, use `learning_rate` instead.\n",
            "  super(Adam, self).__init__(name, **kwargs)\n"
          ]
        },
        {
          "output_type": "stream",
          "name": "stdout",
          "text": [
            "[CV 5/5; 9/12] END activation_function=tanh, init=zero;, score=0.750 total time=  10.8s\n",
            "[CV 1/5; 10/12] START activation_function=linear, init=uniform..................\n"
          ]
        },
        {
          "output_type": "stream",
          "name": "stderr",
          "text": [
            "/usr/local/lib/python3.7/dist-packages/keras/optimizer_v2/adam.py:105: UserWarning: The `lr` argument is deprecated, use `learning_rate` instead.\n",
            "  super(Adam, self).__init__(name, **kwargs)\n"
          ]
        },
        {
          "output_type": "stream",
          "name": "stdout",
          "text": [
            "[CV 1/5; 10/12] END activation_function=linear, init=uniform;, score=0.743 total time=   7.3s\n",
            "[CV 2/5; 10/12] START activation_function=linear, init=uniform..................\n"
          ]
        },
        {
          "output_type": "stream",
          "name": "stderr",
          "text": [
            "/usr/local/lib/python3.7/dist-packages/keras/optimizer_v2/adam.py:105: UserWarning: The `lr` argument is deprecated, use `learning_rate` instead.\n",
            "  super(Adam, self).__init__(name, **kwargs)\n"
          ]
        },
        {
          "output_type": "stream",
          "name": "stdout",
          "text": [
            "[CV 2/5; 10/12] END activation_function=linear, init=uniform;, score=0.760 total time=   9.4s\n",
            "[CV 3/5; 10/12] START activation_function=linear, init=uniform..................\n"
          ]
        },
        {
          "output_type": "stream",
          "name": "stderr",
          "text": [
            "/usr/local/lib/python3.7/dist-packages/keras/optimizer_v2/adam.py:105: UserWarning: The `lr` argument is deprecated, use `learning_rate` instead.\n",
            "  super(Adam, self).__init__(name, **kwargs)\n"
          ]
        },
        {
          "output_type": "stream",
          "name": "stdout",
          "text": [
            "[CV 3/5; 10/12] END activation_function=linear, init=uniform;, score=0.770 total time=  10.3s\n",
            "[CV 4/5; 10/12] START activation_function=linear, init=uniform..................\n"
          ]
        },
        {
          "output_type": "stream",
          "name": "stderr",
          "text": [
            "/usr/local/lib/python3.7/dist-packages/keras/optimizer_v2/adam.py:105: UserWarning: The `lr` argument is deprecated, use `learning_rate` instead.\n",
            "  super(Adam, self).__init__(name, **kwargs)\n"
          ]
        },
        {
          "output_type": "stream",
          "name": "stdout",
          "text": [
            "[CV 4/5; 10/12] END activation_function=linear, init=uniform;, score=0.750 total time=  10.8s\n",
            "[CV 5/5; 10/12] START activation_function=linear, init=uniform..................\n"
          ]
        },
        {
          "output_type": "stream",
          "name": "stderr",
          "text": [
            "/usr/local/lib/python3.7/dist-packages/keras/optimizer_v2/adam.py:105: UserWarning: The `lr` argument is deprecated, use `learning_rate` instead.\n",
            "  super(Adam, self).__init__(name, **kwargs)\n"
          ]
        },
        {
          "output_type": "stream",
          "name": "stdout",
          "text": [
            "[CV 5/5; 10/12] END activation_function=linear, init=uniform;, score=0.790 total time=  10.9s\n",
            "[CV 1/5; 11/12] START activation_function=linear, init=normal...................\n"
          ]
        },
        {
          "output_type": "stream",
          "name": "stderr",
          "text": [
            "/usr/local/lib/python3.7/dist-packages/keras/optimizer_v2/adam.py:105: UserWarning: The `lr` argument is deprecated, use `learning_rate` instead.\n",
            "  super(Adam, self).__init__(name, **kwargs)\n"
          ]
        },
        {
          "output_type": "stream",
          "name": "stdout",
          "text": [
            "[CV 1/5; 11/12] END activation_function=linear, init=normal;, score=0.762 total time=   7.5s\n",
            "[CV 2/5; 11/12] START activation_function=linear, init=normal...................\n"
          ]
        },
        {
          "output_type": "stream",
          "name": "stderr",
          "text": [
            "/usr/local/lib/python3.7/dist-packages/keras/optimizer_v2/adam.py:105: UserWarning: The `lr` argument is deprecated, use `learning_rate` instead.\n",
            "  super(Adam, self).__init__(name, **kwargs)\n"
          ]
        },
        {
          "output_type": "stream",
          "name": "stdout",
          "text": [
            "[CV 2/5; 11/12] END activation_function=linear, init=normal;, score=0.760 total time=   9.4s\n",
            "[CV 3/5; 11/12] START activation_function=linear, init=normal...................\n"
          ]
        },
        {
          "output_type": "stream",
          "name": "stderr",
          "text": [
            "/usr/local/lib/python3.7/dist-packages/keras/optimizer_v2/adam.py:105: UserWarning: The `lr` argument is deprecated, use `learning_rate` instead.\n",
            "  super(Adam, self).__init__(name, **kwargs)\n"
          ]
        },
        {
          "output_type": "stream",
          "name": "stdout",
          "text": [
            "[CV 3/5; 11/12] END activation_function=linear, init=normal;, score=0.740 total time=   9.8s\n",
            "[CV 4/5; 11/12] START activation_function=linear, init=normal...................\n"
          ]
        },
        {
          "output_type": "stream",
          "name": "stderr",
          "text": [
            "/usr/local/lib/python3.7/dist-packages/keras/optimizer_v2/adam.py:105: UserWarning: The `lr` argument is deprecated, use `learning_rate` instead.\n",
            "  super(Adam, self).__init__(name, **kwargs)\n"
          ]
        },
        {
          "output_type": "stream",
          "name": "stdout",
          "text": [
            "[CV 4/5; 11/12] END activation_function=linear, init=normal;, score=0.740 total time=   9.5s\n",
            "[CV 5/5; 11/12] START activation_function=linear, init=normal...................\n"
          ]
        },
        {
          "output_type": "stream",
          "name": "stderr",
          "text": [
            "/usr/local/lib/python3.7/dist-packages/keras/optimizer_v2/adam.py:105: UserWarning: The `lr` argument is deprecated, use `learning_rate` instead.\n",
            "  super(Adam, self).__init__(name, **kwargs)\n"
          ]
        },
        {
          "output_type": "stream",
          "name": "stdout",
          "text": [
            "[CV 5/5; 11/12] END activation_function=linear, init=normal;, score=0.790 total time=  10.9s\n",
            "[CV 1/5; 12/12] START activation_function=linear, init=zero.....................\n"
          ]
        },
        {
          "output_type": "stream",
          "name": "stderr",
          "text": [
            "/usr/local/lib/python3.7/dist-packages/keras/optimizer_v2/adam.py:105: UserWarning: The `lr` argument is deprecated, use `learning_rate` instead.\n",
            "  super(Adam, self).__init__(name, **kwargs)\n"
          ]
        },
        {
          "output_type": "stream",
          "name": "stdout",
          "text": [
            "[CV 1/5; 12/12] END activation_function=linear, init=zero;, score=0.733 total time=  10.8s\n",
            "[CV 2/5; 12/12] START activation_function=linear, init=zero.....................\n"
          ]
        },
        {
          "output_type": "stream",
          "name": "stderr",
          "text": [
            "/usr/local/lib/python3.7/dist-packages/keras/optimizer_v2/adam.py:105: UserWarning: The `lr` argument is deprecated, use `learning_rate` instead.\n",
            "  super(Adam, self).__init__(name, **kwargs)\n"
          ]
        },
        {
          "output_type": "stream",
          "name": "stdout",
          "text": [
            "[CV 2/5; 12/12] END activation_function=linear, init=zero;, score=0.720 total time=   9.5s\n",
            "[CV 3/5; 12/12] START activation_function=linear, init=zero.....................\n"
          ]
        },
        {
          "output_type": "stream",
          "name": "stderr",
          "text": [
            "/usr/local/lib/python3.7/dist-packages/keras/optimizer_v2/adam.py:105: UserWarning: The `lr` argument is deprecated, use `learning_rate` instead.\n",
            "  super(Adam, self).__init__(name, **kwargs)\n"
          ]
        },
        {
          "output_type": "stream",
          "name": "stdout",
          "text": [
            "[CV 3/5; 12/12] END activation_function=linear, init=zero;, score=0.740 total time=   9.5s\n",
            "[CV 4/5; 12/12] START activation_function=linear, init=zero.....................\n"
          ]
        },
        {
          "output_type": "stream",
          "name": "stderr",
          "text": [
            "/usr/local/lib/python3.7/dist-packages/keras/optimizer_v2/adam.py:105: UserWarning: The `lr` argument is deprecated, use `learning_rate` instead.\n",
            "  super(Adam, self).__init__(name, **kwargs)\n"
          ]
        },
        {
          "output_type": "stream",
          "name": "stdout",
          "text": [
            "[CV 4/5; 12/12] END activation_function=linear, init=zero;, score=0.710 total time=  10.9s\n",
            "[CV 5/5; 12/12] START activation_function=linear, init=zero.....................\n"
          ]
        },
        {
          "output_type": "stream",
          "name": "stderr",
          "text": [
            "/usr/local/lib/python3.7/dist-packages/keras/optimizer_v2/adam.py:105: UserWarning: The `lr` argument is deprecated, use `learning_rate` instead.\n",
            "  super(Adam, self).__init__(name, **kwargs)\n"
          ]
        },
        {
          "output_type": "stream",
          "name": "stdout",
          "text": [
            "[CV 5/5; 12/12] END activation_function=linear, init=zero;, score=0.750 total time=   9.6s\n"
          ]
        },
        {
          "output_type": "stream",
          "name": "stderr",
          "text": [
            "/usr/local/lib/python3.7/dist-packages/keras/optimizer_v2/adam.py:105: UserWarning: The `lr` argument is deprecated, use `learning_rate` instead.\n",
            "  super(Adam, self).__init__(name, **kwargs)\n"
          ]
        }
      ]
    },
    {
      "cell_type": "code",
      "source": [
        "# Summarize the results\n",
        "act_fun_kernel = grid_result.best_params_\n",
        "print('Best : {}, using {}'.format(grid_result.best_score_,grid_result.best_params_))\n",
        "means = grid_result.cv_results_['mean_test_score']\n",
        "stds = grid_result.cv_results_['std_test_score']\n",
        "params = grid_result.cv_results_['params']\n",
        "for mean, stdev, param in zip(means, stds, params):\n",
        "  print('{},{} with: {}'.format(mean, stdev, param))"
      ],
      "metadata": {
        "colab": {
          "base_uri": "https://localhost:8080/"
        },
        "id": "z-xUGy8oUPWs",
        "outputId": "fcb58978-f4c5-4646-9002-6b2b3f994c95"
      },
      "id": "z-xUGy8oUPWs",
      "execution_count": 77,
      "outputs": [
        {
          "output_type": "stream",
          "name": "stdout",
          "text": [
            "Best : 0.7785346508026123, using {'activation_function': 'relu', 'init': 'uniform'}\n",
            "0.7765346527099609,0.02993250947097978 with: {'activation_function': 'softmax', 'init': 'uniform'}\n",
            "0.7705346465110778,0.02446162067575383 with: {'activation_function': 'softmax', 'init': 'normal'}\n",
            "0.7305346608161927,0.014182507756917262 with: {'activation_function': 'softmax', 'init': 'zero'}\n",
            "0.7785346508026123,0.033553184813987995 with: {'activation_function': 'relu', 'init': 'uniform'}\n",
            "0.7745148539543152,0.022584297673885152 with: {'activation_function': 'relu', 'init': 'normal'}\n",
            "0.7305346608161927,0.014182507756917262 with: {'activation_function': 'relu', 'init': 'zero'}\n",
            "0.772574269771576,0.033854260119752094 with: {'activation_function': 'tanh', 'init': 'uniform'}\n",
            "0.778514850139618,0.029965500492520704 with: {'activation_function': 'tanh', 'init': 'normal'}\n",
            "0.7305346608161927,0.014182507756917262 with: {'activation_function': 'tanh', 'init': 'zero'}\n",
            "0.762514853477478,0.016565230899294587 with: {'activation_function': 'linear', 'init': 'uniform'}\n",
            "0.7584752559661865,0.01840664478503026 with: {'activation_function': 'linear', 'init': 'normal'}\n",
            "0.7305346608161927,0.014182507756917262 with: {'activation_function': 'linear', 'init': 'zero'}\n"
          ]
        }
      ]
    },
    {
      "cell_type": "markdown",
      "source": [
        "#### Tuning of Hyperparameter :-Number of Neurons in activation layer"
      ],
      "metadata": {
        "id": "oXve3Pj8XRji"
      },
      "id": "oXve3Pj8XRji"
    },
    {
      "cell_type": "code",
      "source": [
        "# Defining the model\n",
        "\n",
        "def create_model(neuron1,neuron2):\n",
        "    model = Sequential()\n",
        "    model.add(Dense(neuron1,input_dim = 11,kernel_initializer = 'normal',activation = 'softmax'))\n",
        "    model.add(Dropout(0.0))\n",
        "    model.add(Dense(neuron2,input_dim = neuron1,kernel_initializer = 'normal',activation = 'softmax'))\n",
        "    model.add(Dropout(0.0))\n",
        "    model.add(Dense(1,kernel_initializer = 'normal',activation = 'sigmoid'))\n",
        "    \n",
        "    adam = Adam(lr = 0.01)\n",
        "    model.compile(loss = 'binary_crossentropy',optimizer = adam,metrics = ['accuracy'])\n",
        "    return model"
      ],
      "metadata": {
        "id": "mHTdwgEbUcjO"
      },
      "id": "mHTdwgEbUcjO",
      "execution_count": 78,
      "outputs": []
    },
    {
      "cell_type": "code",
      "source": [
        "# Create the model\n",
        "model = KerasClassifier(build_fn = create_model,verbose = 0,batch_size = 10,epochs = 100)\n",
        "\n",
        "# Define the grid search parameters\n",
        "neuron1 = [4,8,12,16]\n",
        "neuron2 = [2,4,8,10]\n",
        "\n",
        "# Make a dictionary of the grid search parameters\n",
        "param_grids = dict(neuron1 = neuron1,neuron2 = neuron2)\n",
        "\n",
        "kfold = KFold(n_splits=5,shuffle=True, random_state=42)\n",
        "\n",
        "# Build and fit the GridSearchCV\n",
        "grid = GridSearchCV(estimator = model,param_grid = param_grids,cv = kfold ,verbose = 10)\n",
        "grid_result = grid.fit(X,y)"
      ],
      "metadata": {
        "colab": {
          "base_uri": "https://localhost:8080/"
        },
        "id": "1jY4WErtYWk4",
        "outputId": "2f112a88-a525-4356-96fe-c18d0361f3bc"
      },
      "id": "1jY4WErtYWk4",
      "execution_count": 79,
      "outputs": [
        {
          "output_type": "stream",
          "name": "stdout",
          "text": [
            "Fitting 5 folds for each of 16 candidates, totalling 80 fits\n",
            "[CV 1/5; 1/16] START neuron1=4, neuron2=2.......................................\n"
          ]
        },
        {
          "output_type": "stream",
          "name": "stderr",
          "text": [
            "/usr/local/lib/python3.7/dist-packages/ipykernel_launcher.py:2: DeprecationWarning: KerasClassifier is deprecated, use Sci-Keras (https://github.com/adriangb/scikeras) instead. See https://www.adriangb.com/scikeras/stable/migration.html for help migrating.\n",
            "  \n",
            "/usr/local/lib/python3.7/dist-packages/keras/optimizer_v2/adam.py:105: UserWarning: The `lr` argument is deprecated, use `learning_rate` instead.\n",
            "  super(Adam, self).__init__(name, **kwargs)\n"
          ]
        },
        {
          "output_type": "stream",
          "name": "stdout",
          "text": [
            "[CV 1/5; 1/16] END ........neuron1=4, neuron2=2;, score=0.743 total time=   7.7s\n",
            "[CV 2/5; 1/16] START neuron1=4, neuron2=2.......................................\n"
          ]
        },
        {
          "output_type": "stream",
          "name": "stderr",
          "text": [
            "/usr/local/lib/python3.7/dist-packages/keras/optimizer_v2/adam.py:105: UserWarning: The `lr` argument is deprecated, use `learning_rate` instead.\n",
            "  super(Adam, self).__init__(name, **kwargs)\n"
          ]
        },
        {
          "output_type": "stream",
          "name": "stdout",
          "text": [
            "[CV 2/5; 1/16] END ........neuron1=4, neuron2=2;, score=0.790 total time=   9.9s\n",
            "[CV 3/5; 1/16] START neuron1=4, neuron2=2.......................................\n"
          ]
        },
        {
          "output_type": "stream",
          "name": "stderr",
          "text": [
            "/usr/local/lib/python3.7/dist-packages/keras/optimizer_v2/adam.py:105: UserWarning: The `lr` argument is deprecated, use `learning_rate` instead.\n",
            "  super(Adam, self).__init__(name, **kwargs)\n"
          ]
        },
        {
          "output_type": "stream",
          "name": "stdout",
          "text": [
            "[CV 3/5; 1/16] END ........neuron1=4, neuron2=2;, score=0.730 total time=  10.9s\n",
            "[CV 4/5; 1/16] START neuron1=4, neuron2=2.......................................\n"
          ]
        },
        {
          "output_type": "stream",
          "name": "stderr",
          "text": [
            "/usr/local/lib/python3.7/dist-packages/keras/optimizer_v2/adam.py:105: UserWarning: The `lr` argument is deprecated, use `learning_rate` instead.\n",
            "  super(Adam, self).__init__(name, **kwargs)\n"
          ]
        },
        {
          "output_type": "stream",
          "name": "stdout",
          "text": [
            "[CV 4/5; 1/16] END ........neuron1=4, neuron2=2;, score=0.790 total time=  10.2s\n",
            "[CV 5/5; 1/16] START neuron1=4, neuron2=2.......................................\n"
          ]
        },
        {
          "output_type": "stream",
          "name": "stderr",
          "text": [
            "/usr/local/lib/python3.7/dist-packages/keras/optimizer_v2/adam.py:105: UserWarning: The `lr` argument is deprecated, use `learning_rate` instead.\n",
            "  super(Adam, self).__init__(name, **kwargs)\n"
          ]
        },
        {
          "output_type": "stream",
          "name": "stdout",
          "text": [
            "[CV 5/5; 1/16] END ........neuron1=4, neuron2=2;, score=0.800 total time=  10.0s\n",
            "[CV 1/5; 2/16] START neuron1=4, neuron2=4.......................................\n"
          ]
        },
        {
          "output_type": "stream",
          "name": "stderr",
          "text": [
            "/usr/local/lib/python3.7/dist-packages/keras/optimizer_v2/adam.py:105: UserWarning: The `lr` argument is deprecated, use `learning_rate` instead.\n",
            "  super(Adam, self).__init__(name, **kwargs)\n"
          ]
        },
        {
          "output_type": "stream",
          "name": "stdout",
          "text": [
            "[CV 1/5; 2/16] END ........neuron1=4, neuron2=4;, score=0.743 total time=   8.2s\n",
            "[CV 2/5; 2/16] START neuron1=4, neuron2=4.......................................\n"
          ]
        },
        {
          "output_type": "stream",
          "name": "stderr",
          "text": [
            "/usr/local/lib/python3.7/dist-packages/keras/optimizer_v2/adam.py:105: UserWarning: The `lr` argument is deprecated, use `learning_rate` instead.\n",
            "  super(Adam, self).__init__(name, **kwargs)\n"
          ]
        },
        {
          "output_type": "stream",
          "name": "stdout",
          "text": [
            "[CV 2/5; 2/16] END ........neuron1=4, neuron2=4;, score=0.770 total time=  16.1s\n",
            "[CV 3/5; 2/16] START neuron1=4, neuron2=4.......................................\n"
          ]
        },
        {
          "output_type": "stream",
          "name": "stderr",
          "text": [
            "/usr/local/lib/python3.7/dist-packages/keras/optimizer_v2/adam.py:105: UserWarning: The `lr` argument is deprecated, use `learning_rate` instead.\n",
            "  super(Adam, self).__init__(name, **kwargs)\n"
          ]
        },
        {
          "output_type": "stream",
          "name": "stdout",
          "text": [
            "[CV 3/5; 2/16] END ........neuron1=4, neuron2=4;, score=0.760 total time=  10.9s\n",
            "[CV 4/5; 2/16] START neuron1=4, neuron2=4.......................................\n"
          ]
        },
        {
          "output_type": "stream",
          "name": "stderr",
          "text": [
            "/usr/local/lib/python3.7/dist-packages/keras/optimizer_v2/adam.py:105: UserWarning: The `lr` argument is deprecated, use `learning_rate` instead.\n",
            "  super(Adam, self).__init__(name, **kwargs)\n"
          ]
        },
        {
          "output_type": "stream",
          "name": "stdout",
          "text": [
            "[CV 4/5; 2/16] END ........neuron1=4, neuron2=4;, score=0.780 total time=  10.9s\n",
            "[CV 5/5; 2/16] START neuron1=4, neuron2=4.......................................\n"
          ]
        },
        {
          "output_type": "stream",
          "name": "stderr",
          "text": [
            "/usr/local/lib/python3.7/dist-packages/keras/optimizer_v2/adam.py:105: UserWarning: The `lr` argument is deprecated, use `learning_rate` instead.\n",
            "  super(Adam, self).__init__(name, **kwargs)\n"
          ]
        },
        {
          "output_type": "stream",
          "name": "stdout",
          "text": [
            "[CV 5/5; 2/16] END ........neuron1=4, neuron2=4;, score=0.810 total time=  10.9s\n",
            "[CV 1/5; 3/16] START neuron1=4, neuron2=8.......................................\n"
          ]
        },
        {
          "output_type": "stream",
          "name": "stderr",
          "text": [
            "/usr/local/lib/python3.7/dist-packages/keras/optimizer_v2/adam.py:105: UserWarning: The `lr` argument is deprecated, use `learning_rate` instead.\n",
            "  super(Adam, self).__init__(name, **kwargs)\n"
          ]
        },
        {
          "output_type": "stream",
          "name": "stdout",
          "text": [
            "[CV 1/5; 3/16] END ........neuron1=4, neuron2=8;, score=0.733 total time=   8.1s\n",
            "[CV 2/5; 3/16] START neuron1=4, neuron2=8.......................................\n"
          ]
        },
        {
          "output_type": "stream",
          "name": "stderr",
          "text": [
            "/usr/local/lib/python3.7/dist-packages/keras/optimizer_v2/adam.py:105: UserWarning: The `lr` argument is deprecated, use `learning_rate` instead.\n",
            "  super(Adam, self).__init__(name, **kwargs)\n"
          ]
        },
        {
          "output_type": "stream",
          "name": "stdout",
          "text": [
            "[CV 2/5; 3/16] END ........neuron1=4, neuron2=8;, score=0.790 total time=  11.6s\n",
            "[CV 3/5; 3/16] START neuron1=4, neuron2=8.......................................\n"
          ]
        },
        {
          "output_type": "stream",
          "name": "stderr",
          "text": [
            "/usr/local/lib/python3.7/dist-packages/keras/optimizer_v2/adam.py:105: UserWarning: The `lr` argument is deprecated, use `learning_rate` instead.\n",
            "  super(Adam, self).__init__(name, **kwargs)\n"
          ]
        },
        {
          "output_type": "stream",
          "name": "stdout",
          "text": [
            "[CV 3/5; 3/16] END ........neuron1=4, neuron2=8;, score=0.770 total time=  10.0s\n",
            "[CV 4/5; 3/16] START neuron1=4, neuron2=8.......................................\n"
          ]
        },
        {
          "output_type": "stream",
          "name": "stderr",
          "text": [
            "/usr/local/lib/python3.7/dist-packages/keras/optimizer_v2/adam.py:105: UserWarning: The `lr` argument is deprecated, use `learning_rate` instead.\n",
            "  super(Adam, self).__init__(name, **kwargs)\n"
          ]
        },
        {
          "output_type": "stream",
          "name": "stdout",
          "text": [
            "[CV 4/5; 3/16] END ........neuron1=4, neuron2=8;, score=0.810 total time=  10.0s\n",
            "[CV 5/5; 3/16] START neuron1=4, neuron2=8.......................................\n"
          ]
        },
        {
          "output_type": "stream",
          "name": "stderr",
          "text": [
            "/usr/local/lib/python3.7/dist-packages/keras/optimizer_v2/adam.py:105: UserWarning: The `lr` argument is deprecated, use `learning_rate` instead.\n",
            "  super(Adam, self).__init__(name, **kwargs)\n"
          ]
        },
        {
          "output_type": "stream",
          "name": "stdout",
          "text": [
            "[CV 5/5; 3/16] END ........neuron1=4, neuron2=8;, score=0.690 total time=  10.9s\n",
            "[CV 1/5; 4/16] START neuron1=4, neuron2=10......................................\n"
          ]
        },
        {
          "output_type": "stream",
          "name": "stderr",
          "text": [
            "/usr/local/lib/python3.7/dist-packages/keras/optimizer_v2/adam.py:105: UserWarning: The `lr` argument is deprecated, use `learning_rate` instead.\n",
            "  super(Adam, self).__init__(name, **kwargs)\n"
          ]
        },
        {
          "output_type": "stream",
          "name": "stdout",
          "text": [
            "[CV 1/5; 4/16] END .......neuron1=4, neuron2=10;, score=0.743 total time=   8.1s\n",
            "[CV 2/5; 4/16] START neuron1=4, neuron2=10......................................\n"
          ]
        },
        {
          "output_type": "stream",
          "name": "stderr",
          "text": [
            "/usr/local/lib/python3.7/dist-packages/keras/optimizer_v2/adam.py:105: UserWarning: The `lr` argument is deprecated, use `learning_rate` instead.\n",
            "  super(Adam, self).__init__(name, **kwargs)\n"
          ]
        },
        {
          "output_type": "stream",
          "name": "stdout",
          "text": [
            "[CV 2/5; 4/16] END .......neuron1=4, neuron2=10;, score=0.790 total time=  10.9s\n",
            "[CV 3/5; 4/16] START neuron1=4, neuron2=10......................................\n"
          ]
        },
        {
          "output_type": "stream",
          "name": "stderr",
          "text": [
            "/usr/local/lib/python3.7/dist-packages/keras/optimizer_v2/adam.py:105: UserWarning: The `lr` argument is deprecated, use `learning_rate` instead.\n",
            "  super(Adam, self).__init__(name, **kwargs)\n"
          ]
        },
        {
          "output_type": "stream",
          "name": "stdout",
          "text": [
            "[CV 3/5; 4/16] END .......neuron1=4, neuron2=10;, score=0.750 total time=  10.0s\n",
            "[CV 4/5; 4/16] START neuron1=4, neuron2=10......................................\n"
          ]
        },
        {
          "output_type": "stream",
          "name": "stderr",
          "text": [
            "/usr/local/lib/python3.7/dist-packages/keras/optimizer_v2/adam.py:105: UserWarning: The `lr` argument is deprecated, use `learning_rate` instead.\n",
            "  super(Adam, self).__init__(name, **kwargs)\n"
          ]
        },
        {
          "output_type": "stream",
          "name": "stdout",
          "text": [
            "[CV 4/5; 4/16] END .......neuron1=4, neuron2=10;, score=0.760 total time=  10.9s\n",
            "[CV 5/5; 4/16] START neuron1=4, neuron2=10......................................\n"
          ]
        },
        {
          "output_type": "stream",
          "name": "stderr",
          "text": [
            "/usr/local/lib/python3.7/dist-packages/keras/optimizer_v2/adam.py:105: UserWarning: The `lr` argument is deprecated, use `learning_rate` instead.\n",
            "  super(Adam, self).__init__(name, **kwargs)\n"
          ]
        },
        {
          "output_type": "stream",
          "name": "stdout",
          "text": [
            "[CV 5/5; 4/16] END .......neuron1=4, neuron2=10;, score=0.810 total time=  10.9s\n",
            "[CV 1/5; 5/16] START neuron1=8, neuron2=2.......................................\n"
          ]
        },
        {
          "output_type": "stream",
          "name": "stderr",
          "text": [
            "/usr/local/lib/python3.7/dist-packages/keras/optimizer_v2/adam.py:105: UserWarning: The `lr` argument is deprecated, use `learning_rate` instead.\n",
            "  super(Adam, self).__init__(name, **kwargs)\n"
          ]
        },
        {
          "output_type": "stream",
          "name": "stdout",
          "text": [
            "[CV 1/5; 5/16] END ........neuron1=8, neuron2=2;, score=0.743 total time=  10.9s\n",
            "[CV 2/5; 5/16] START neuron1=8, neuron2=2.......................................\n"
          ]
        },
        {
          "output_type": "stream",
          "name": "stderr",
          "text": [
            "/usr/local/lib/python3.7/dist-packages/keras/optimizer_v2/adam.py:105: UserWarning: The `lr` argument is deprecated, use `learning_rate` instead.\n",
            "  super(Adam, self).__init__(name, **kwargs)\n"
          ]
        },
        {
          "output_type": "stream",
          "name": "stdout",
          "text": [
            "[CV 2/5; 5/16] END ........neuron1=8, neuron2=2;, score=0.780 total time=  10.9s\n",
            "[CV 3/5; 5/16] START neuron1=8, neuron2=2.......................................\n"
          ]
        },
        {
          "output_type": "stream",
          "name": "stderr",
          "text": [
            "/usr/local/lib/python3.7/dist-packages/keras/optimizer_v2/adam.py:105: UserWarning: The `lr` argument is deprecated, use `learning_rate` instead.\n",
            "  super(Adam, self).__init__(name, **kwargs)\n"
          ]
        },
        {
          "output_type": "stream",
          "name": "stdout",
          "text": [
            "[CV 3/5; 5/16] END ........neuron1=8, neuron2=2;, score=0.760 total time=  10.9s\n",
            "[CV 4/5; 5/16] START neuron1=8, neuron2=2.......................................\n"
          ]
        },
        {
          "output_type": "stream",
          "name": "stderr",
          "text": [
            "/usr/local/lib/python3.7/dist-packages/keras/optimizer_v2/adam.py:105: UserWarning: The `lr` argument is deprecated, use `learning_rate` instead.\n",
            "  super(Adam, self).__init__(name, **kwargs)\n"
          ]
        },
        {
          "output_type": "stream",
          "name": "stdout",
          "text": [
            "[CV 4/5; 5/16] END ........neuron1=8, neuron2=2;, score=0.740 total time=   9.9s\n",
            "[CV 5/5; 5/16] START neuron1=8, neuron2=2.......................................\n"
          ]
        },
        {
          "output_type": "stream",
          "name": "stderr",
          "text": [
            "/usr/local/lib/python3.7/dist-packages/keras/optimizer_v2/adam.py:105: UserWarning: The `lr` argument is deprecated, use `learning_rate` instead.\n",
            "  super(Adam, self).__init__(name, **kwargs)\n"
          ]
        },
        {
          "output_type": "stream",
          "name": "stdout",
          "text": [
            "[CV 5/5; 5/16] END ........neuron1=8, neuron2=2;, score=0.800 total time=  10.9s\n",
            "[CV 1/5; 6/16] START neuron1=8, neuron2=4.......................................\n"
          ]
        },
        {
          "output_type": "stream",
          "name": "stderr",
          "text": [
            "/usr/local/lib/python3.7/dist-packages/keras/optimizer_v2/adam.py:105: UserWarning: The `lr` argument is deprecated, use `learning_rate` instead.\n",
            "  super(Adam, self).__init__(name, **kwargs)\n"
          ]
        },
        {
          "output_type": "stream",
          "name": "stdout",
          "text": [
            "[CV 1/5; 6/16] END ........neuron1=8, neuron2=4;, score=0.723 total time=   7.6s\n",
            "[CV 2/5; 6/16] START neuron1=8, neuron2=4.......................................\n"
          ]
        },
        {
          "output_type": "stream",
          "name": "stderr",
          "text": [
            "/usr/local/lib/python3.7/dist-packages/keras/optimizer_v2/adam.py:105: UserWarning: The `lr` argument is deprecated, use `learning_rate` instead.\n",
            "  super(Adam, self).__init__(name, **kwargs)\n"
          ]
        },
        {
          "output_type": "stream",
          "name": "stdout",
          "text": [
            "[CV 2/5; 6/16] END ........neuron1=8, neuron2=4;, score=0.790 total time=  10.9s\n",
            "[CV 3/5; 6/16] START neuron1=8, neuron2=4.......................................\n"
          ]
        },
        {
          "output_type": "stream",
          "name": "stderr",
          "text": [
            "/usr/local/lib/python3.7/dist-packages/keras/optimizer_v2/adam.py:105: UserWarning: The `lr` argument is deprecated, use `learning_rate` instead.\n",
            "  super(Adam, self).__init__(name, **kwargs)\n"
          ]
        },
        {
          "output_type": "stream",
          "name": "stdout",
          "text": [
            "[CV 3/5; 6/16] END ........neuron1=8, neuron2=4;, score=0.760 total time=  10.4s\n",
            "[CV 4/5; 6/16] START neuron1=8, neuron2=4.......................................\n"
          ]
        },
        {
          "output_type": "stream",
          "name": "stderr",
          "text": [
            "/usr/local/lib/python3.7/dist-packages/keras/optimizer_v2/adam.py:105: UserWarning: The `lr` argument is deprecated, use `learning_rate` instead.\n",
            "  super(Adam, self).__init__(name, **kwargs)\n"
          ]
        },
        {
          "output_type": "stream",
          "name": "stdout",
          "text": [
            "[CV 4/5; 6/16] END ........neuron1=8, neuron2=4;, score=0.760 total time=  10.9s\n",
            "[CV 5/5; 6/16] START neuron1=8, neuron2=4.......................................\n"
          ]
        },
        {
          "output_type": "stream",
          "name": "stderr",
          "text": [
            "/usr/local/lib/python3.7/dist-packages/keras/optimizer_v2/adam.py:105: UserWarning: The `lr` argument is deprecated, use `learning_rate` instead.\n",
            "  super(Adam, self).__init__(name, **kwargs)\n"
          ]
        },
        {
          "output_type": "stream",
          "name": "stdout",
          "text": [
            "[CV 5/5; 6/16] END ........neuron1=8, neuron2=4;, score=0.820 total time=  10.9s\n",
            "[CV 1/5; 7/16] START neuron1=8, neuron2=8.......................................\n"
          ]
        },
        {
          "output_type": "stream",
          "name": "stderr",
          "text": [
            "/usr/local/lib/python3.7/dist-packages/keras/optimizer_v2/adam.py:105: UserWarning: The `lr` argument is deprecated, use `learning_rate` instead.\n",
            "  super(Adam, self).__init__(name, **kwargs)\n"
          ]
        },
        {
          "output_type": "stream",
          "name": "stdout",
          "text": [
            "[CV 1/5; 7/16] END ........neuron1=8, neuron2=8;, score=0.743 total time=  10.8s\n",
            "[CV 2/5; 7/16] START neuron1=8, neuron2=8.......................................\n"
          ]
        },
        {
          "output_type": "stream",
          "name": "stderr",
          "text": [
            "/usr/local/lib/python3.7/dist-packages/keras/optimizer_v2/adam.py:105: UserWarning: The `lr` argument is deprecated, use `learning_rate` instead.\n",
            "  super(Adam, self).__init__(name, **kwargs)\n"
          ]
        },
        {
          "output_type": "stream",
          "name": "stdout",
          "text": [
            "[CV 2/5; 7/16] END ........neuron1=8, neuron2=8;, score=0.790 total time=  10.9s\n",
            "[CV 3/5; 7/16] START neuron1=8, neuron2=8.......................................\n"
          ]
        },
        {
          "output_type": "stream",
          "name": "stderr",
          "text": [
            "/usr/local/lib/python3.7/dist-packages/keras/optimizer_v2/adam.py:105: UserWarning: The `lr` argument is deprecated, use `learning_rate` instead.\n",
            "  super(Adam, self).__init__(name, **kwargs)\n"
          ]
        },
        {
          "output_type": "stream",
          "name": "stdout",
          "text": [
            "[CV 3/5; 7/16] END ........neuron1=8, neuron2=8;, score=0.770 total time=  10.9s\n",
            "[CV 4/5; 7/16] START neuron1=8, neuron2=8.......................................\n"
          ]
        },
        {
          "output_type": "stream",
          "name": "stderr",
          "text": [
            "/usr/local/lib/python3.7/dist-packages/keras/optimizer_v2/adam.py:105: UserWarning: The `lr` argument is deprecated, use `learning_rate` instead.\n",
            "  super(Adam, self).__init__(name, **kwargs)\n"
          ]
        },
        {
          "output_type": "stream",
          "name": "stdout",
          "text": [
            "[CV 4/5; 7/16] END ........neuron1=8, neuron2=8;, score=0.800 total time=  10.9s\n",
            "[CV 5/5; 7/16] START neuron1=8, neuron2=8.......................................\n"
          ]
        },
        {
          "output_type": "stream",
          "name": "stderr",
          "text": [
            "/usr/local/lib/python3.7/dist-packages/keras/optimizer_v2/adam.py:105: UserWarning: The `lr` argument is deprecated, use `learning_rate` instead.\n",
            "  super(Adam, self).__init__(name, **kwargs)\n"
          ]
        },
        {
          "output_type": "stream",
          "name": "stdout",
          "text": [
            "[CV 5/5; 7/16] END ........neuron1=8, neuron2=8;, score=0.810 total time=  10.2s\n",
            "[CV 1/5; 8/16] START neuron1=8, neuron2=10......................................\n"
          ]
        },
        {
          "output_type": "stream",
          "name": "stderr",
          "text": [
            "/usr/local/lib/python3.7/dist-packages/keras/optimizer_v2/adam.py:105: UserWarning: The `lr` argument is deprecated, use `learning_rate` instead.\n",
            "  super(Adam, self).__init__(name, **kwargs)\n"
          ]
        },
        {
          "output_type": "stream",
          "name": "stdout",
          "text": [
            "[CV 1/5; 8/16] END .......neuron1=8, neuron2=10;, score=0.683 total time=  10.9s\n",
            "[CV 2/5; 8/16] START neuron1=8, neuron2=10......................................\n"
          ]
        },
        {
          "output_type": "stream",
          "name": "stderr",
          "text": [
            "/usr/local/lib/python3.7/dist-packages/keras/optimizer_v2/adam.py:105: UserWarning: The `lr` argument is deprecated, use `learning_rate` instead.\n",
            "  super(Adam, self).__init__(name, **kwargs)\n"
          ]
        },
        {
          "output_type": "stream",
          "name": "stdout",
          "text": [
            "[CV 2/5; 8/16] END .......neuron1=8, neuron2=10;, score=0.760 total time=  10.9s\n",
            "[CV 3/5; 8/16] START neuron1=8, neuron2=10......................................\n"
          ]
        },
        {
          "output_type": "stream",
          "name": "stderr",
          "text": [
            "/usr/local/lib/python3.7/dist-packages/keras/optimizer_v2/adam.py:105: UserWarning: The `lr` argument is deprecated, use `learning_rate` instead.\n",
            "  super(Adam, self).__init__(name, **kwargs)\n"
          ]
        },
        {
          "output_type": "stream",
          "name": "stdout",
          "text": [
            "[CV 3/5; 8/16] END .......neuron1=8, neuron2=10;, score=0.750 total time=  10.9s\n",
            "[CV 4/5; 8/16] START neuron1=8, neuron2=10......................................\n"
          ]
        },
        {
          "output_type": "stream",
          "name": "stderr",
          "text": [
            "/usr/local/lib/python3.7/dist-packages/keras/optimizer_v2/adam.py:105: UserWarning: The `lr` argument is deprecated, use `learning_rate` instead.\n",
            "  super(Adam, self).__init__(name, **kwargs)\n"
          ]
        },
        {
          "output_type": "stream",
          "name": "stdout",
          "text": [
            "[CV 4/5; 8/16] END .......neuron1=8, neuron2=10;, score=0.760 total time=  11.2s\n",
            "[CV 5/5; 8/16] START neuron1=8, neuron2=10......................................\n"
          ]
        },
        {
          "output_type": "stream",
          "name": "stderr",
          "text": [
            "/usr/local/lib/python3.7/dist-packages/keras/optimizer_v2/adam.py:105: UserWarning: The `lr` argument is deprecated, use `learning_rate` instead.\n",
            "  super(Adam, self).__init__(name, **kwargs)\n"
          ]
        },
        {
          "output_type": "stream",
          "name": "stdout",
          "text": [
            "[CV 5/5; 8/16] END .......neuron1=8, neuron2=10;, score=0.770 total time=  10.9s\n",
            "[CV 1/5; 9/16] START neuron1=12, neuron2=2......................................\n"
          ]
        },
        {
          "output_type": "stream",
          "name": "stderr",
          "text": [
            "/usr/local/lib/python3.7/dist-packages/keras/optimizer_v2/adam.py:105: UserWarning: The `lr` argument is deprecated, use `learning_rate` instead.\n",
            "  super(Adam, self).__init__(name, **kwargs)\n"
          ]
        },
        {
          "output_type": "stream",
          "name": "stdout",
          "text": [
            "[CV 1/5; 9/16] END .......neuron1=12, neuron2=2;, score=0.743 total time=   7.7s\n",
            "[CV 2/5; 9/16] START neuron1=12, neuron2=2......................................\n"
          ]
        },
        {
          "output_type": "stream",
          "name": "stderr",
          "text": [
            "/usr/local/lib/python3.7/dist-packages/keras/optimizer_v2/adam.py:105: UserWarning: The `lr` argument is deprecated, use `learning_rate` instead.\n",
            "  super(Adam, self).__init__(name, **kwargs)\n"
          ]
        },
        {
          "output_type": "stream",
          "name": "stdout",
          "text": [
            "[CV 2/5; 9/16] END .......neuron1=12, neuron2=2;, score=0.790 total time=   9.8s\n",
            "[CV 3/5; 9/16] START neuron1=12, neuron2=2......................................\n"
          ]
        },
        {
          "output_type": "stream",
          "name": "stderr",
          "text": [
            "/usr/local/lib/python3.7/dist-packages/keras/optimizer_v2/adam.py:105: UserWarning: The `lr` argument is deprecated, use `learning_rate` instead.\n",
            "  super(Adam, self).__init__(name, **kwargs)\n"
          ]
        },
        {
          "output_type": "stream",
          "name": "stdout",
          "text": [
            "[CV 3/5; 9/16] END .......neuron1=12, neuron2=2;, score=0.740 total time=  10.9s\n",
            "[CV 4/5; 9/16] START neuron1=12, neuron2=2......................................\n"
          ]
        },
        {
          "output_type": "stream",
          "name": "stderr",
          "text": [
            "/usr/local/lib/python3.7/dist-packages/keras/optimizer_v2/adam.py:105: UserWarning: The `lr` argument is deprecated, use `learning_rate` instead.\n",
            "  super(Adam, self).__init__(name, **kwargs)\n"
          ]
        },
        {
          "output_type": "stream",
          "name": "stdout",
          "text": [
            "[CV 4/5; 9/16] END .......neuron1=12, neuron2=2;, score=0.770 total time=   9.9s\n",
            "[CV 5/5; 9/16] START neuron1=12, neuron2=2......................................\n"
          ]
        },
        {
          "output_type": "stream",
          "name": "stderr",
          "text": [
            "/usr/local/lib/python3.7/dist-packages/keras/optimizer_v2/adam.py:105: UserWarning: The `lr` argument is deprecated, use `learning_rate` instead.\n",
            "  super(Adam, self).__init__(name, **kwargs)\n"
          ]
        },
        {
          "output_type": "stream",
          "name": "stdout",
          "text": [
            "[CV 5/5; 9/16] END .......neuron1=12, neuron2=2;, score=0.820 total time=   9.9s\n",
            "[CV 1/5; 10/16] START neuron1=12, neuron2=4.....................................\n"
          ]
        },
        {
          "output_type": "stream",
          "name": "stderr",
          "text": [
            "/usr/local/lib/python3.7/dist-packages/keras/optimizer_v2/adam.py:105: UserWarning: The `lr` argument is deprecated, use `learning_rate` instead.\n",
            "  super(Adam, self).__init__(name, **kwargs)\n"
          ]
        },
        {
          "output_type": "stream",
          "name": "stdout",
          "text": [
            "[CV 1/5; 10/16] END ......neuron1=12, neuron2=4;, score=0.743 total time=   7.7s\n",
            "[CV 2/5; 10/16] START neuron1=12, neuron2=4.....................................\n"
          ]
        },
        {
          "output_type": "stream",
          "name": "stderr",
          "text": [
            "/usr/local/lib/python3.7/dist-packages/keras/optimizer_v2/adam.py:105: UserWarning: The `lr` argument is deprecated, use `learning_rate` instead.\n",
            "  super(Adam, self).__init__(name, **kwargs)\n"
          ]
        },
        {
          "output_type": "stream",
          "name": "stdout",
          "text": [
            "[CV 2/5; 10/16] END ......neuron1=12, neuron2=4;, score=0.790 total time=  10.9s\n",
            "[CV 3/5; 10/16] START neuron1=12, neuron2=4.....................................\n"
          ]
        },
        {
          "output_type": "stream",
          "name": "stderr",
          "text": [
            "/usr/local/lib/python3.7/dist-packages/keras/optimizer_v2/adam.py:105: UserWarning: The `lr` argument is deprecated, use `learning_rate` instead.\n",
            "  super(Adam, self).__init__(name, **kwargs)\n"
          ]
        },
        {
          "output_type": "stream",
          "name": "stdout",
          "text": [
            "[CV 3/5; 10/16] END ......neuron1=12, neuron2=4;, score=0.760 total time=   9.9s\n",
            "[CV 4/5; 10/16] START neuron1=12, neuron2=4.....................................\n"
          ]
        },
        {
          "output_type": "stream",
          "name": "stderr",
          "text": [
            "/usr/local/lib/python3.7/dist-packages/keras/optimizer_v2/adam.py:105: UserWarning: The `lr` argument is deprecated, use `learning_rate` instead.\n",
            "  super(Adam, self).__init__(name, **kwargs)\n"
          ]
        },
        {
          "output_type": "stream",
          "name": "stdout",
          "text": [
            "[CV 4/5; 10/16] END ......neuron1=12, neuron2=4;, score=0.770 total time=   9.8s\n",
            "[CV 5/5; 10/16] START neuron1=12, neuron2=4.....................................\n"
          ]
        },
        {
          "output_type": "stream",
          "name": "stderr",
          "text": [
            "/usr/local/lib/python3.7/dist-packages/keras/optimizer_v2/adam.py:105: UserWarning: The `lr` argument is deprecated, use `learning_rate` instead.\n",
            "  super(Adam, self).__init__(name, **kwargs)\n"
          ]
        },
        {
          "output_type": "stream",
          "name": "stdout",
          "text": [
            "[CV 5/5; 10/16] END ......neuron1=12, neuron2=4;, score=0.810 total time=  10.9s\n",
            "[CV 1/5; 11/16] START neuron1=12, neuron2=8.....................................\n"
          ]
        },
        {
          "output_type": "stream",
          "name": "stderr",
          "text": [
            "/usr/local/lib/python3.7/dist-packages/keras/optimizer_v2/adam.py:105: UserWarning: The `lr` argument is deprecated, use `learning_rate` instead.\n",
            "  super(Adam, self).__init__(name, **kwargs)\n"
          ]
        },
        {
          "output_type": "stream",
          "name": "stdout",
          "text": [
            "[CV 1/5; 11/16] END ......neuron1=12, neuron2=8;, score=0.713 total time=  11.3s\n",
            "[CV 2/5; 11/16] START neuron1=12, neuron2=8.....................................\n"
          ]
        },
        {
          "output_type": "stream",
          "name": "stderr",
          "text": [
            "/usr/local/lib/python3.7/dist-packages/keras/optimizer_v2/adam.py:105: UserWarning: The `lr` argument is deprecated, use `learning_rate` instead.\n",
            "  super(Adam, self).__init__(name, **kwargs)\n"
          ]
        },
        {
          "output_type": "stream",
          "name": "stdout",
          "text": [
            "[CV 2/5; 11/16] END ......neuron1=12, neuron2=8;, score=0.790 total time=  10.9s\n",
            "[CV 3/5; 11/16] START neuron1=12, neuron2=8.....................................\n"
          ]
        },
        {
          "output_type": "stream",
          "name": "stderr",
          "text": [
            "/usr/local/lib/python3.7/dist-packages/keras/optimizer_v2/adam.py:105: UserWarning: The `lr` argument is deprecated, use `learning_rate` instead.\n",
            "  super(Adam, self).__init__(name, **kwargs)\n"
          ]
        },
        {
          "output_type": "stream",
          "name": "stdout",
          "text": [
            "[CV 3/5; 11/16] END ......neuron1=12, neuron2=8;, score=0.760 total time=   9.9s\n",
            "[CV 4/5; 11/16] START neuron1=12, neuron2=8.....................................\n"
          ]
        },
        {
          "output_type": "stream",
          "name": "stderr",
          "text": [
            "/usr/local/lib/python3.7/dist-packages/keras/optimizer_v2/adam.py:105: UserWarning: The `lr` argument is deprecated, use `learning_rate` instead.\n",
            "  super(Adam, self).__init__(name, **kwargs)\n"
          ]
        },
        {
          "output_type": "stream",
          "name": "stdout",
          "text": [
            "[CV 4/5; 11/16] END ......neuron1=12, neuron2=8;, score=0.790 total time=  10.9s\n",
            "[CV 5/5; 11/16] START neuron1=12, neuron2=8.....................................\n"
          ]
        },
        {
          "output_type": "stream",
          "name": "stderr",
          "text": [
            "/usr/local/lib/python3.7/dist-packages/keras/optimizer_v2/adam.py:105: UserWarning: The `lr` argument is deprecated, use `learning_rate` instead.\n",
            "  super(Adam, self).__init__(name, **kwargs)\n"
          ]
        },
        {
          "output_type": "stream",
          "name": "stdout",
          "text": [
            "[CV 5/5; 11/16] END ......neuron1=12, neuron2=8;, score=0.800 total time=   9.9s\n",
            "[CV 1/5; 12/16] START neuron1=12, neuron2=10....................................\n"
          ]
        },
        {
          "output_type": "stream",
          "name": "stderr",
          "text": [
            "/usr/local/lib/python3.7/dist-packages/keras/optimizer_v2/adam.py:105: UserWarning: The `lr` argument is deprecated, use `learning_rate` instead.\n",
            "  super(Adam, self).__init__(name, **kwargs)\n"
          ]
        },
        {
          "output_type": "stream",
          "name": "stdout",
          "text": [
            "[CV 1/5; 12/16] END .....neuron1=12, neuron2=10;, score=0.713 total time=  10.9s\n",
            "[CV 2/5; 12/16] START neuron1=12, neuron2=10....................................\n"
          ]
        },
        {
          "output_type": "stream",
          "name": "stderr",
          "text": [
            "/usr/local/lib/python3.7/dist-packages/keras/optimizer_v2/adam.py:105: UserWarning: The `lr` argument is deprecated, use `learning_rate` instead.\n",
            "  super(Adam, self).__init__(name, **kwargs)\n"
          ]
        },
        {
          "output_type": "stream",
          "name": "stdout",
          "text": [
            "[CV 2/5; 12/16] END .....neuron1=12, neuron2=10;, score=0.780 total time=   9.9s\n",
            "[CV 3/5; 12/16] START neuron1=12, neuron2=10....................................\n"
          ]
        },
        {
          "output_type": "stream",
          "name": "stderr",
          "text": [
            "/usr/local/lib/python3.7/dist-packages/keras/optimizer_v2/adam.py:105: UserWarning: The `lr` argument is deprecated, use `learning_rate` instead.\n",
            "  super(Adam, self).__init__(name, **kwargs)\n"
          ]
        },
        {
          "output_type": "stream",
          "name": "stdout",
          "text": [
            "[CV 3/5; 12/16] END .....neuron1=12, neuron2=10;, score=0.750 total time=   9.8s\n",
            "[CV 4/5; 12/16] START neuron1=12, neuron2=10....................................\n"
          ]
        },
        {
          "output_type": "stream",
          "name": "stderr",
          "text": [
            "/usr/local/lib/python3.7/dist-packages/keras/optimizer_v2/adam.py:105: UserWarning: The `lr` argument is deprecated, use `learning_rate` instead.\n",
            "  super(Adam, self).__init__(name, **kwargs)\n"
          ]
        },
        {
          "output_type": "stream",
          "name": "stdout",
          "text": [
            "[CV 4/5; 12/16] END .....neuron1=12, neuron2=10;, score=0.750 total time=   9.9s\n",
            "[CV 5/5; 12/16] START neuron1=12, neuron2=10....................................\n"
          ]
        },
        {
          "output_type": "stream",
          "name": "stderr",
          "text": [
            "/usr/local/lib/python3.7/dist-packages/keras/optimizer_v2/adam.py:105: UserWarning: The `lr` argument is deprecated, use `learning_rate` instead.\n",
            "  super(Adam, self).__init__(name, **kwargs)\n"
          ]
        },
        {
          "output_type": "stream",
          "name": "stdout",
          "text": [
            "[CV 5/5; 12/16] END .....neuron1=12, neuron2=10;, score=0.800 total time=  10.7s\n",
            "[CV 1/5; 13/16] START neuron1=16, neuron2=2.....................................\n"
          ]
        },
        {
          "output_type": "stream",
          "name": "stderr",
          "text": [
            "/usr/local/lib/python3.7/dist-packages/keras/optimizer_v2/adam.py:105: UserWarning: The `lr` argument is deprecated, use `learning_rate` instead.\n",
            "  super(Adam, self).__init__(name, **kwargs)\n"
          ]
        },
        {
          "output_type": "stream",
          "name": "stdout",
          "text": [
            "[CV 1/5; 13/16] END ......neuron1=16, neuron2=2;, score=0.733 total time=  11.0s\n",
            "[CV 2/5; 13/16] START neuron1=16, neuron2=2.....................................\n"
          ]
        },
        {
          "output_type": "stream",
          "name": "stderr",
          "text": [
            "/usr/local/lib/python3.7/dist-packages/keras/optimizer_v2/adam.py:105: UserWarning: The `lr` argument is deprecated, use `learning_rate` instead.\n",
            "  super(Adam, self).__init__(name, **kwargs)\n"
          ]
        },
        {
          "output_type": "stream",
          "name": "stdout",
          "text": [
            "[CV 2/5; 13/16] END ......neuron1=16, neuron2=2;, score=0.760 total time=   9.8s\n",
            "[CV 3/5; 13/16] START neuron1=16, neuron2=2.....................................\n"
          ]
        },
        {
          "output_type": "stream",
          "name": "stderr",
          "text": [
            "/usr/local/lib/python3.7/dist-packages/keras/optimizer_v2/adam.py:105: UserWarning: The `lr` argument is deprecated, use `learning_rate` instead.\n",
            "  super(Adam, self).__init__(name, **kwargs)\n"
          ]
        },
        {
          "output_type": "stream",
          "name": "stdout",
          "text": [
            "[CV 3/5; 13/16] END ......neuron1=16, neuron2=2;, score=0.740 total time=  10.3s\n",
            "[CV 4/5; 13/16] START neuron1=16, neuron2=2.....................................\n"
          ]
        },
        {
          "output_type": "stream",
          "name": "stderr",
          "text": [
            "/usr/local/lib/python3.7/dist-packages/keras/optimizer_v2/adam.py:105: UserWarning: The `lr` argument is deprecated, use `learning_rate` instead.\n",
            "  super(Adam, self).__init__(name, **kwargs)\n"
          ]
        },
        {
          "output_type": "stream",
          "name": "stdout",
          "text": [
            "[CV 4/5; 13/16] END ......neuron1=16, neuron2=2;, score=0.770 total time=  10.9s\n",
            "[CV 5/5; 13/16] START neuron1=16, neuron2=2.....................................\n"
          ]
        },
        {
          "output_type": "stream",
          "name": "stderr",
          "text": [
            "/usr/local/lib/python3.7/dist-packages/keras/optimizer_v2/adam.py:105: UserWarning: The `lr` argument is deprecated, use `learning_rate` instead.\n",
            "  super(Adam, self).__init__(name, **kwargs)\n"
          ]
        },
        {
          "output_type": "stream",
          "name": "stdout",
          "text": [
            "[CV 5/5; 13/16] END ......neuron1=16, neuron2=2;, score=0.820 total time=  10.0s\n",
            "[CV 1/5; 14/16] START neuron1=16, neuron2=4.....................................\n"
          ]
        },
        {
          "output_type": "stream",
          "name": "stderr",
          "text": [
            "/usr/local/lib/python3.7/dist-packages/keras/optimizer_v2/adam.py:105: UserWarning: The `lr` argument is deprecated, use `learning_rate` instead.\n",
            "  super(Adam, self).__init__(name, **kwargs)\n"
          ]
        },
        {
          "output_type": "stream",
          "name": "stdout",
          "text": [
            "[CV 1/5; 14/16] END ......neuron1=16, neuron2=4;, score=0.733 total time=   7.8s\n",
            "[CV 2/5; 14/16] START neuron1=16, neuron2=4.....................................\n"
          ]
        },
        {
          "output_type": "stream",
          "name": "stderr",
          "text": [
            "/usr/local/lib/python3.7/dist-packages/keras/optimizer_v2/adam.py:105: UserWarning: The `lr` argument is deprecated, use `learning_rate` instead.\n",
            "  super(Adam, self).__init__(name, **kwargs)\n"
          ]
        },
        {
          "output_type": "stream",
          "name": "stdout",
          "text": [
            "[CV 2/5; 14/16] END ......neuron1=16, neuron2=4;, score=0.780 total time=   9.9s\n",
            "[CV 3/5; 14/16] START neuron1=16, neuron2=4.....................................\n"
          ]
        },
        {
          "output_type": "stream",
          "name": "stderr",
          "text": [
            "/usr/local/lib/python3.7/dist-packages/keras/optimizer_v2/adam.py:105: UserWarning: The `lr` argument is deprecated, use `learning_rate` instead.\n",
            "  super(Adam, self).__init__(name, **kwargs)\n"
          ]
        },
        {
          "output_type": "stream",
          "name": "stdout",
          "text": [
            "[CV 3/5; 14/16] END ......neuron1=16, neuron2=4;, score=0.770 total time=   9.9s\n",
            "[CV 4/5; 14/16] START neuron1=16, neuron2=4.....................................\n"
          ]
        },
        {
          "output_type": "stream",
          "name": "stderr",
          "text": [
            "/usr/local/lib/python3.7/dist-packages/keras/optimizer_v2/adam.py:105: UserWarning: The `lr` argument is deprecated, use `learning_rate` instead.\n",
            "  super(Adam, self).__init__(name, **kwargs)\n"
          ]
        },
        {
          "output_type": "stream",
          "name": "stdout",
          "text": [
            "[CV 4/5; 14/16] END ......neuron1=16, neuron2=4;, score=0.790 total time=   9.8s\n",
            "[CV 5/5; 14/16] START neuron1=16, neuron2=4.....................................\n"
          ]
        },
        {
          "output_type": "stream",
          "name": "stderr",
          "text": [
            "/usr/local/lib/python3.7/dist-packages/keras/optimizer_v2/adam.py:105: UserWarning: The `lr` argument is deprecated, use `learning_rate` instead.\n",
            "  super(Adam, self).__init__(name, **kwargs)\n"
          ]
        },
        {
          "output_type": "stream",
          "name": "stdout",
          "text": [
            "[CV 5/5; 14/16] END ......neuron1=16, neuron2=4;, score=0.810 total time=   9.8s\n",
            "[CV 1/5; 15/16] START neuron1=16, neuron2=8.....................................\n"
          ]
        },
        {
          "output_type": "stream",
          "name": "stderr",
          "text": [
            "/usr/local/lib/python3.7/dist-packages/keras/optimizer_v2/adam.py:105: UserWarning: The `lr` argument is deprecated, use `learning_rate` instead.\n",
            "  super(Adam, self).__init__(name, **kwargs)\n"
          ]
        },
        {
          "output_type": "stream",
          "name": "stdout",
          "text": [
            "[CV 1/5; 15/16] END ......neuron1=16, neuron2=8;, score=0.723 total time=  10.9s\n",
            "[CV 2/5; 15/16] START neuron1=16, neuron2=8.....................................\n"
          ]
        },
        {
          "output_type": "stream",
          "name": "stderr",
          "text": [
            "/usr/local/lib/python3.7/dist-packages/keras/optimizer_v2/adam.py:105: UserWarning: The `lr` argument is deprecated, use `learning_rate` instead.\n",
            "  super(Adam, self).__init__(name, **kwargs)\n"
          ]
        },
        {
          "output_type": "stream",
          "name": "stdout",
          "text": [
            "[CV 2/5; 15/16] END ......neuron1=16, neuron2=8;, score=0.780 total time=  10.0s\n",
            "[CV 3/5; 15/16] START neuron1=16, neuron2=8.....................................\n"
          ]
        },
        {
          "output_type": "stream",
          "name": "stderr",
          "text": [
            "/usr/local/lib/python3.7/dist-packages/keras/optimizer_v2/adam.py:105: UserWarning: The `lr` argument is deprecated, use `learning_rate` instead.\n",
            "  super(Adam, self).__init__(name, **kwargs)\n"
          ]
        },
        {
          "output_type": "stream",
          "name": "stdout",
          "text": [
            "[CV 3/5; 15/16] END ......neuron1=16, neuron2=8;, score=0.770 total time=   9.8s\n",
            "[CV 4/5; 15/16] START neuron1=16, neuron2=8.....................................\n"
          ]
        },
        {
          "output_type": "stream",
          "name": "stderr",
          "text": [
            "/usr/local/lib/python3.7/dist-packages/keras/optimizer_v2/adam.py:105: UserWarning: The `lr` argument is deprecated, use `learning_rate` instead.\n",
            "  super(Adam, self).__init__(name, **kwargs)\n"
          ]
        },
        {
          "output_type": "stream",
          "name": "stdout",
          "text": [
            "[CV 4/5; 15/16] END ......neuron1=16, neuron2=8;, score=0.770 total time=   9.7s\n",
            "[CV 5/5; 15/16] START neuron1=16, neuron2=8.....................................\n"
          ]
        },
        {
          "output_type": "stream",
          "name": "stderr",
          "text": [
            "/usr/local/lib/python3.7/dist-packages/keras/optimizer_v2/adam.py:105: UserWarning: The `lr` argument is deprecated, use `learning_rate` instead.\n",
            "  super(Adam, self).__init__(name, **kwargs)\n"
          ]
        },
        {
          "output_type": "stream",
          "name": "stdout",
          "text": [
            "[CV 5/5; 15/16] END ......neuron1=16, neuron2=8;, score=0.810 total time=   9.8s\n",
            "[CV 1/5; 16/16] START neuron1=16, neuron2=10....................................\n"
          ]
        },
        {
          "output_type": "stream",
          "name": "stderr",
          "text": [
            "/usr/local/lib/python3.7/dist-packages/keras/optimizer_v2/adam.py:105: UserWarning: The `lr` argument is deprecated, use `learning_rate` instead.\n",
            "  super(Adam, self).__init__(name, **kwargs)\n"
          ]
        },
        {
          "output_type": "stream",
          "name": "stdout",
          "text": [
            "[CV 1/5; 16/16] END .....neuron1=16, neuron2=10;, score=0.733 total time=   8.0s\n",
            "[CV 2/5; 16/16] START neuron1=16, neuron2=10....................................\n"
          ]
        },
        {
          "output_type": "stream",
          "name": "stderr",
          "text": [
            "/usr/local/lib/python3.7/dist-packages/keras/optimizer_v2/adam.py:105: UserWarning: The `lr` argument is deprecated, use `learning_rate` instead.\n",
            "  super(Adam, self).__init__(name, **kwargs)\n"
          ]
        },
        {
          "output_type": "stream",
          "name": "stdout",
          "text": [
            "[CV 2/5; 16/16] END .....neuron1=16, neuron2=10;, score=0.800 total time=  10.9s\n",
            "[CV 3/5; 16/16] START neuron1=16, neuron2=10....................................\n"
          ]
        },
        {
          "output_type": "stream",
          "name": "stderr",
          "text": [
            "/usr/local/lib/python3.7/dist-packages/keras/optimizer_v2/adam.py:105: UserWarning: The `lr` argument is deprecated, use `learning_rate` instead.\n",
            "  super(Adam, self).__init__(name, **kwargs)\n"
          ]
        },
        {
          "output_type": "stream",
          "name": "stdout",
          "text": [
            "[CV 3/5; 16/16] END .....neuron1=16, neuron2=10;, score=0.760 total time=   9.9s\n",
            "[CV 4/5; 16/16] START neuron1=16, neuron2=10....................................\n"
          ]
        },
        {
          "output_type": "stream",
          "name": "stderr",
          "text": [
            "/usr/local/lib/python3.7/dist-packages/keras/optimizer_v2/adam.py:105: UserWarning: The `lr` argument is deprecated, use `learning_rate` instead.\n",
            "  super(Adam, self).__init__(name, **kwargs)\n"
          ]
        },
        {
          "output_type": "stream",
          "name": "stdout",
          "text": [
            "[CV 4/5; 16/16] END .....neuron1=16, neuron2=10;, score=0.800 total time=  10.9s\n",
            "[CV 5/5; 16/16] START neuron1=16, neuron2=10....................................\n"
          ]
        },
        {
          "output_type": "stream",
          "name": "stderr",
          "text": [
            "/usr/local/lib/python3.7/dist-packages/keras/optimizer_v2/adam.py:105: UserWarning: The `lr` argument is deprecated, use `learning_rate` instead.\n",
            "  super(Adam, self).__init__(name, **kwargs)\n"
          ]
        },
        {
          "output_type": "stream",
          "name": "stdout",
          "text": [
            "[CV 5/5; 16/16] END .....neuron1=16, neuron2=10;, score=0.800 total time=   9.8s\n"
          ]
        },
        {
          "output_type": "stream",
          "name": "stderr",
          "text": [
            "/usr/local/lib/python3.7/dist-packages/keras/optimizer_v2/adam.py:105: UserWarning: The `lr` argument is deprecated, use `learning_rate` instead.\n",
            "  super(Adam, self).__init__(name, **kwargs)\n"
          ]
        }
      ]
    },
    {
      "cell_type": "code",
      "source": [
        "# Summarize the results\n",
        "neu1_neu2 = grid_result.best_params_\n",
        "print('Best : {}, using {}'.format(grid_result.best_score_,grid_result.best_params_))\n",
        "means = grid_result.cv_results_['mean_test_score']\n",
        "stds = grid_result.cv_results_['std_test_score']\n",
        "params = grid_result.cv_results_['params']\n",
        "for mean, stdev, param in zip(means, stds, params):\n",
        "  print('{},{} with: {}'.format(mean, stdev, param))"
      ],
      "metadata": {
        "colab": {
          "base_uri": "https://localhost:8080/"
        },
        "id": "x9LsB_wwdklE",
        "outputId": "f360c25e-4c37-4e13-c6e0-735ad05a20de"
      },
      "id": "x9LsB_wwdklE",
      "execution_count": 80,
      "outputs": [
        {
          "output_type": "stream",
          "name": "stdout",
          "text": [
            "Best : 0.7825148582458497, using {'neuron1': 8, 'neuron2': 8}\n",
            "0.7705148696899414,0.028463470867109996 with: {'neuron1': 4, 'neuron2': 2}\n",
            "0.7725148439407349,0.022452385289965664 with: {'neuron1': 4, 'neuron2': 4}\n",
            "0.7585346579551697,0.04274579409399937 with: {'neuron1': 4, 'neuron2': 8}\n",
            "0.7705148577690124,0.025498416673102577 with: {'neuron1': 4, 'neuron2': 10}\n",
            "0.7645148515701294,0.022811119709931712 with: {'neuron1': 8, 'neuron2': 2}\n",
            "0.7705544590950012,0.032646344433590366 with: {'neuron1': 8, 'neuron2': 4}\n",
            "0.7825148582458497,0.023954389145791545 with: {'neuron1': 8, 'neuron2': 8}\n",
            "0.7446336507797241,0.03137670321727475 with: {'neuron1': 8, 'neuron2': 10}\n",
            "0.7725148558616638,0.030068413619055365 with: {'neuron1': 12, 'neuron2': 2}\n",
            "0.7745148539543152,0.023453153841834263 with: {'neuron1': 12, 'neuron2': 4}\n",
            "0.7705742716789246,0.03181836120946008 with: {'neuron1': 12, 'neuron2': 8}\n",
            "0.7585742592811584,0.029701680947919626 with: {'neuron1': 12, 'neuron2': 10}\n",
            "0.7645346522331238,0.03080237733148548 with: {'neuron1': 16, 'neuron2': 2}\n",
            "0.7765346527099609,0.02561162049064925 with: {'neuron1': 16, 'neuron2': 4}\n",
            "0.7705544471740723,0.02803183256403086 with: {'neuron1': 16, 'neuron2': 8}\n",
            "0.7785346627235412,0.027673393256429483 with: {'neuron1': 16, 'neuron2': 10}\n"
          ]
        }
      ]
    },
    {
      "cell_type": "markdown",
      "source": [
        "## Training model with optimum values of Hyperparameters"
      ],
      "metadata": {
        "id": "S89jn0_cdyRE"
      },
      "id": "S89jn0_cdyRE"
    },
    {
      "cell_type": "code",
      "source": [
        "# Defining the model\n",
        "\n",
        "def create_model():\n",
        "    model = Sequential()\n",
        "    model.add(Dense(16,input_dim = 11,kernel_initializer = 'normal',activation = 'softmax'))\n",
        "    model.add(Dropout(0.0))\n",
        "    model.add(Dense(8,input_dim = 16,kernel_initializer = 'normal',activation = 'softmax'))\n",
        "    model.add(Dropout(0.0))\n",
        "    model.add(Dense(1,kernel_initializer = 'normal',activation = 'sigmoid'))\n",
        "    \n",
        "    adam = Adam(lr = 0.01)\n",
        "    model.compile(loss = 'binary_crossentropy',optimizer = adam,metrics = ['accuracy'])\n",
        "    return model"
      ],
      "metadata": {
        "id": "uIWnmoE3dxda"
      },
      "id": "uIWnmoE3dxda",
      "execution_count": 81,
      "outputs": []
    },
    {
      "cell_type": "code",
      "source": [
        "# Create the model\n",
        "model = KerasClassifier(build_fn = create_model,verbose = 0,batch_size = 10,epochs = 100)\n",
        "\n",
        "# Fitting the model\n",
        "model.fit(X_train,y_train)\n",
        "\n",
        "# Predicting using trained model\n",
        "\n",
        "y_train_predict = model.predict(X_train)\n",
        "y_test_predict = model.predict(X_test)\n",
        "\n",
        "# Printing the metrics\n",
        "print(accuracy_score(y_train,y_train_predict))\n",
        "print(accuracy_score(y_test,y_test_predict))"
      ],
      "metadata": {
        "colab": {
          "base_uri": "https://localhost:8080/"
        },
        "id": "ShxE8d2Cf4Z9",
        "outputId": "bb5362d4-9569-4bfa-a869-aa3450eaed38"
      },
      "id": "ShxE8d2Cf4Z9",
      "execution_count": 82,
      "outputs": [
        {
          "output_type": "stream",
          "name": "stderr",
          "text": [
            "/usr/local/lib/python3.7/dist-packages/ipykernel_launcher.py:2: DeprecationWarning: KerasClassifier is deprecated, use Sci-Keras (https://github.com/adriangb/scikeras) instead. See https://www.adriangb.com/scikeras/stable/migration.html for help migrating.\n",
            "  \n",
            "/usr/local/lib/python3.7/dist-packages/keras/optimizer_v2/adam.py:105: UserWarning: The `lr` argument is deprecated, use `learning_rate` instead.\n",
            "  super(Adam, self).__init__(name, **kwargs)\n"
          ]
        },
        {
          "output_type": "stream",
          "name": "stdout",
          "text": [
            "0.78\n",
            "0.8217821782178217\n"
          ]
        }
      ]
    }
  ],
  "metadata": {
    "kernelspec": {
      "display_name": "Python 3 (ipykernel)",
      "language": "python",
      "name": "python3"
    },
    "language_info": {
      "codemirror_mode": {
        "name": "ipython",
        "version": 3
      },
      "file_extension": ".py",
      "mimetype": "text/x-python",
      "name": "python",
      "nbconvert_exporter": "python",
      "pygments_lexer": "ipython3",
      "version": "3.9.7"
    },
    "colab": {
      "name": "forestfires.ipynb",
      "provenance": [],
      "collapsed_sections": []
    },
    "accelerator": "GPU",
    "gpuClass": "standard"
  },
  "nbformat": 4,
  "nbformat_minor": 5
}